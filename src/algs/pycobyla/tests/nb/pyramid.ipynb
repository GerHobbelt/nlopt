{
 "cells": [
  {
   "cell_type": "code",
   "execution_count": 1,
   "id": "cbac58b3",
   "metadata": {},
   "outputs": [
    {
     "data": {
      "application/vnd.jupyter.widget-view+json": {
       "model_id": "4b9895993b3b4161bc5630b799f66b6f",
       "version_major": 2,
       "version_minor": 0
      },
      "text/plain": [
       "Canvas(toolbar=Toolbar(toolitems=[('Home', 'Reset original view', 'home', 'home'), ('Back', 'Back to previous …"
      ]
     },
     "metadata": {},
     "output_type": "display_data"
    }
   ],
   "source": [
    "%matplotlib widget\n",
    "#%matplotlib notebook\n",
    "import itertools\n",
    "\n",
    "from mpl_toolkits.mplot3d import Axes3D\n",
    "import matplotlib.pyplot as plt\n",
    "from matplotlib import cm\n",
    "from matplotlib.ticker import LinearLocator, FormatStrFormatter\n",
    "import numpy as np\n",
    "\n",
    "import tests.test_custom as tc\n",
    "\n",
    "\n",
    "plt.close('all')\n",
    "fig = plt.figure()\n",
    "ax = fig.gca(projection='3d')\n",
    "    \n",
    "X = np.linspace(-2, 2, 200)\n",
    "xv, yv = np.meshgrid(X, X)\n",
    "zv = np.array(tuple(tc.pyramid(xy, center=np.array((0, 0)), width=2, height=2) for xy in itertools.product(X, X)))\n",
    "zv = zv.reshape(xv.shape)\n",
    "\n",
    "# Plot the surface.\n",
    "surf = ax.plot_surface(xv, yv, zv, cmap=cm.inferno, linewidth=0, antialiased=True)\n",
    "\n",
    "# Customize the z axis.\n",
    "ax.zaxis.set_major_locator(LinearLocator(10))\n",
    "ax.zaxis.set_major_formatter(FormatStrFormatter('%.02f'))\n",
    "\n",
    "plt.show()"
   ]
  },
  {
   "cell_type": "code",
   "execution_count": 2,
   "id": "f3e4923c",
   "metadata": {},
   "outputs": [
    {
     "data": {
      "application/vnd.jupyter.widget-view+json": {
       "model_id": "6c1f50f8b7c44628b3955cb08c901cdb",
       "version_major": 2,
       "version_minor": 0
      },
      "text/plain": [
       "Canvas(toolbar=Toolbar(toolitems=[('Home', 'Reset original view', 'home', 'home'), ('Back', 'Back to previous …"
      ]
     },
     "metadata": {},
     "output_type": "display_data"
    }
   ],
   "source": [
    "import yaml\n",
    "\n",
    "import matplotlib.pyplot as plt\n",
    "from matplotlib.patches import Rectangle\n",
    "\n",
    "with open('../pyramid.yaml', 'r') as fp:\n",
    "    data = yaml.load(fp, Loader=yaml.SafeLoader)\n",
    "\n",
    "plt.close('all')\n",
    "fig, ax = plt.subplots(figsize=(6, 6))\n",
    "ax.axis('equal')\n",
    "\n",
    "side = 2\n",
    "pyramid_base = plt.Rectangle((-1, -1), side, side, color='y', fill=False)\n",
    "\n",
    "ax.add_patch(pyramid_base)\n",
    "\n",
    "c_data = np.array(data['c'])\n",
    "p_data = np.array(data['python'])\n",
    "\n",
    "ax.plot(c_data[:, 0], c_data[:, 1], 'o')\n",
    "ax.plot(p_data[:, 0], p_data[:, 1], 'x')\n",
    "ax.plot(np.array((-1, 1)), np.array((1, -1)), linestyle='-.')\n",
    "_ = ax.plot(np.array((-1, 1)), np.array((-1, 1)), linestyle='-.')"
   ]
  },
  {
   "cell_type": "code",
   "execution_count": 3,
   "id": "41784e60",
   "metadata": {},
   "outputs": [
    {
     "data": {
      "application/vnd.jupyter.widget-view+json": {
       "model_id": "aa61b7f7b14d44ebafec6d43ece576c8",
       "version_major": 2,
       "version_minor": 0
      },
      "text/plain": [
       "Canvas(toolbar=Toolbar(toolitems=[('Home', 'Reset original view', 'home', 'home'), ('Back', 'Back to previous …"
      ]
     },
     "metadata": {},
     "output_type": "display_data"
    }
   ],
   "source": [
    "%matplotlib widget\n",
    "#%matplotlib notebook\n",
    "import itertools\n",
    "\n",
    "from mpl_toolkits.mplot3d import Axes3D\n",
    "import matplotlib.pyplot as plt\n",
    "from matplotlib import cm\n",
    "from matplotlib.ticker import LinearLocator, FormatStrFormatter\n",
    "import numpy as np\n",
    "\n",
    "import tests.test_custom as tc\n",
    "\n",
    "\n",
    "plt.close('all')\n",
    "fig = plt.figure()\n",
    "ax = fig.gca(projection='3d')\n",
    "    \n",
    "X = np.linspace(-2, 2, 200)\n",
    "xv, yv = np.meshgrid(X, X)\n",
    "zv = np.array(tuple(tc.pyramid_faces(xy, center=(0, 0), radius=2, height=1, faces=4) for xy in itertools.product(X, X)))\n",
    "zv = zv.reshape(xv.shape)\n",
    "\n",
    "# Plot the surface.\n",
    "surf = ax.plot_surface(xv, yv, zv, cmap=cm.inferno, linewidth=0, antialiased=True)\n",
    "\n",
    "# Customize the z axis.\n",
    "ax.zaxis.set_major_locator(LinearLocator(10))\n",
    "ax.zaxis.set_major_formatter(FormatStrFormatter('%.02f'))\n",
    "\n",
    "plt.show()"
   ]
  },
  {
   "cell_type": "code",
   "execution_count": null,
   "id": "e48d6631",
   "metadata": {},
   "outputs": [],
   "source": []
  }
 ],
 "metadata": {
  "kernelspec": {
   "display_name": "Python 3",
   "language": "python",
   "name": "python3"
  },
  "language_info": {
   "codemirror_mode": {
    "name": "ipython",
    "version": 3
   },
   "file_extension": ".py",
   "mimetype": "text/x-python",
   "name": "python",
   "nbconvert_exporter": "python",
   "pygments_lexer": "ipython3",
   "version": "3.8.3"
  }
 },
 "nbformat": 4,
 "nbformat_minor": 5
}
