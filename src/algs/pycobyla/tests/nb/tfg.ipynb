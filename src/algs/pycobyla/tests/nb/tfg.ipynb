{
 "cells": [
  {
   "cell_type": "code",
   "execution_count": null,
   "id": "3d5832af",
   "metadata": {},
   "outputs": [],
   "source": [
    "TRUST_REGION_COLOR = 'gold'\n",
    "OPTIMAL_VERTEX_COLOR = 'limegreen'\n",
    "DROP_VERTEX_COLOR = 'red'\n",
    "OTHER_VERTEX_COLOR = 'blue'\n",
    "TRACK_COLOR = 'darkred'"
   ]
  },
  {
   "cell_type": "markdown",
   "id": "65557555",
   "metadata": {},
   "source": [
    "# Delta branch"
   ]
  },
  {
   "cell_type": "code",
   "execution_count": 314,
   "id": "4a4f49bb",
   "metadata": {},
   "outputs": [],
   "source": [
    "%matplotlib widget\n",
    "import numpy as np\n",
    "import matplotlib.pyplot as plt\n",
    "import matplotlib.tri as tri\n",
    "\n",
    "def ax_plot_simplex(ax, optimal_vertex, sim, jdrop, rho):\n",
    "    simplex = np.array((optimal_vertex, *(sim + optimal_vertex), optimal_vertex))\n",
    "    ax.plot(simplex[...,0], simplex[...,1], '-', color='lightsteelblue', lw=2)\n",
    "    ax.plot(simplex[1:-1,0], simplex[1:-1,1], '.', color='blue', marker='o')\n",
    "    ax.plot(simplex[jdrop+1,0], simplex[jdrop+1,1], '.', color='red', marker='o')\n",
    "    ax.plot(*optimal_vertex, color='limegreen', marker='D')\n",
    "    \n",
    "    beta = 2.1\n",
    "    beta_region = plt.Circle(optimal_vertex, beta * rho, color='lemonchiffon', fill=True, alpha=0.5)\n",
    "    trust_region = plt.Circle(optimal_vertex, rho, color='gold', fill=True, alpha=0.5)\n",
    "    ax.add_patch(beta_region)\n",
    "    ax.add_patch(trust_region)"
   ]
  },
  {
   "cell_type": "code",
   "execution_count": 324,
   "id": "224eb726",
   "metadata": {},
   "outputs": [
    {
     "data": {
      "application/vnd.jupyter.widget-view+json": {
       "model_id": "c3823bf45a6a4114ae12a2ef4b18b720",
       "version_major": 2,
       "version_minor": 0
      },
      "text/plain": [
       "Canvas(toolbar=Toolbar(toolitems=[('Home', 'Reset original view', 'home', 'home'), ('Back', 'Back to previous …"
      ]
     },
     "metadata": {},
     "output_type": "display_data"
    }
   ],
   "source": [
    "# eta case\n",
    "plt.close('all')\n",
    "jdrop = 0\n",
    "rho = 0.0625\n",
    "optimal_vertex = np.array([0.047873700624370373047, 0.03301727499567987112])\n",
    "old_sim = np.array([[-0.13019926157022278929, -0.059595187823573939068], [-0.05055567780160368646, 0.036747427692566961288]])\n",
    "new_sim = np.array([[0.018373713846283478442, 0.025277838900801840201], [-0.05055567780160368646, 0.036747427692566961288]])\n",
    "old_eta = [0.14319020261581568261, 0.062500000000000007495]\n",
    "new_eta = [0.03125, 0.062500000000000007495]\n",
    "old_vsig = [0.12475780902899252224, 0.054454585033534948986]\n",
    "new_vsig = [0.031249999999999999998, 0.06250000000000000749]\n",
    "\n",
    "coords = np.array((*old_sim, *new_sim)) + optimal_vertex\n",
    "x_coords = coords[:, 0]\n",
    "y_coords = coords[:, 1]\n",
    "\n",
    "plt.close('all')\n",
    "fig, (ax1, ax2) = plt.subplots(1, 2, figsize=(12, 6))\n",
    "xmin = min(x_coords)\n",
    "xmax = max(x_coords)\n",
    "ymin = min(y_coords)\n",
    "ymax = max(y_coords)\n",
    "margin = 1e-2\n",
    "\n",
    "#_ = ax1.set(xlim=(xmin - margin, xmax + margin), ylim=(ymin - margin, ymax + margin))\n",
    "#_ = ax2.set(xlim=(xmin - margin, xmax + margin), ylim=(ymin - margin, ymax + margin))\n",
    "ax1.set_aspect('equal')\n",
    "ax2.set_aspect('equal')\n",
    "\n",
    "ax_plot_simplex(ax1, optimal_vertex, old_sim, jdrop, rho=rho)\n",
    "ax_plot_simplex(ax2, optimal_vertex, new_sim, jdrop, rho=rho)\n",
    "plt.savefig('mem/rsc/delta-eta.png', dpi=120, bbox_inches='tight')"
   ]
  },
  {
   "cell_type": "code",
   "execution_count": 323,
   "id": "948d0bf3",
   "metadata": {},
   "outputs": [
    {
     "data": {
      "application/vnd.jupyter.widget-view+json": {
       "model_id": "9c0ed3c8eef742f5bd0e75fc4958bb40",
       "version_major": 2,
       "version_minor": 0
      },
      "text/plain": [
       "Canvas(toolbar=Toolbar(toolitems=[('Home', 'Reset original view', 'home', 'home'), ('Back', 'Back to previous …"
      ]
     },
     "metadata": {},
     "output_type": "display_data"
    }
   ],
   "source": [
    "# sigma case\n",
    "plt.close('all')\n",
    "jdrop = 1\n",
    "rho = 6.103515625e-05\n",
    "optimal_vertex = np.array([0.12322095602324728612, 0.7876477600799215061])\n",
    "old_sim = np.array([[0.00010609379901699572403, -5.758107655831259315e-05], [4.8716293255678108707e-05, -3.676973034832708352e-05]])\n",
    "new_sim = np.array([[0.00010609379901699572403, -5.758107655831259315e-05], [-1.4557208222393858973e-05, -2.6821824385849429767e-05]])\n",
    "old_veta = [0.00012071236294378856573, 6.103515625000000053e-05]\n",
    "new_eta = [0.00012071236294378856573, 3.0517578125e-05]\n",
    "old_vsig = [1.7955287365912709351e-05, 9.078637375381810534e-06]\n",
    "new_vsig = [0.00012071236294378856568, 3.0517578124999999998e-05]\n",
    "\n",
    "coords = np.array((*old_sim, *new_sim)) + optimal_vertex\n",
    "x_coords = coords[:, 0]\n",
    "y_coords = coords[:, 1]\n",
    "\n",
    "plt.close('all')\n",
    "fig, (ax1, ax2) = plt.subplots(1, 2, figsize=(12, 6))\n",
    "xmin = min(x_coords)\n",
    "xmax = max(x_coords)\n",
    "ymin = min(y_coords)\n",
    "ymax = max(y_coords)\n",
    "margin = 6e-5\n",
    "\n",
    "#_ = ax1.set(xlim=(xmin - margin, xmax + margin), ylim=(ymin - margin, ymax + margin))\n",
    "#_ = ax2.set(xlim=(xmin - margin, xmax + margin), ylim=(ymin - margin, ymax + margin))\n",
    "ax1.set_aspect('equal')\n",
    "ax2.set_aspect('equal')\n",
    "\n",
    "ax_plot_simplex(ax1, optimal_vertex, old_sim, jdrop, rho=rho)\n",
    "ax_plot_simplex(ax2, optimal_vertex, new_sim, jdrop, rho=rho)\n",
    "plt.savefig('mem/rsc/delta-sigma.png', dpi=120, bbox_inches='tight')"
   ]
  },
  {
   "cell_type": "markdown",
   "id": "4a438817",
   "metadata": {},
   "source": [
    "# Examples"
   ]
  },
  {
   "cell_type": "code",
   "execution_count": 338,
   "id": "806cda48",
   "metadata": {},
   "outputs": [],
   "source": [
    "import functools\n",
    "import itertools\n",
    "\n",
    "import numpy as np\n",
    "\n",
    "from pycobyla.gcobyla import GCobyla\n",
    "\n",
    "import tests.test_custom as tc\n",
    "from tests.nb import utils"
   ]
  },
  {
   "cell_type": "code",
   "execution_count": 415,
   "id": "844fb2ab",
   "metadata": {},
   "outputs": [],
   "source": [
    "%matplotlib widget\n",
    "\n",
    "import matplotlib.pyplot as plt\n",
    "from matplotlib import cm\n",
    "\n",
    "def ax_plot_simplex(ax, optimal_vertex, sim):\n",
    "    simplex = np.array((optimal_vertex, *(sim + optimal_vertex), optimal_vertex))\n",
    "    ax.plot(*optimal_vertex, color='limegreen', marker='o')\n",
    "    ax.plot(simplex[1:-1,0], simplex[1:-1,1], '.', color='blue', marker='o')\n",
    "    ax.plot(simplex[...,0], simplex[...,1], '-.', color='gray', lw=2)\n",
    "    \n",
    "\n",
    "def ax_plot_track(opt, ax, target, from_points=0, to_points=-1, plot_simplex=False, plot_trure=False, aspect=False, track_color=None, track_alpha=1):\n",
    "    track = opt.track[from_points:to_points]\n",
    "    ax.plot(track[:, 0], track[:, 1], linestyle='-', color=track_color, alpha=track_alpha, marker='o')\n",
    "\n",
    "    link_best = np.array((track[-1], target))\n",
    "    ax.plot(link_best[:, 0], link_best[:, 1], linestyle=':', color=track_color)\n",
    "    ax.plot(target[0], target[1], color='limegreen', marker='*')\n",
    "        \n",
    "    if plot_simplex:\n",
    "        #simplex = np.array((opt.optimal_vertex, *(opt.sim + opt.optimal_vertex), opt.optimal_vertex))\n",
    "        ax_plot_simplex(ax, opt.optimal_vertex, opt.sim)\n",
    "            \n",
    "    if plot_trure:\n",
    "        trust_region = plt.Circle(opt.optimal_vertex, opt.rho, color='khaki', fill=True, alpha=0.5)\n",
    "        ax.add_patch(trust_region)\n",
    "        \n",
    "    if aspect:\n",
    "        ax.set_aspect('equal')\n",
    "        \n",
    "def ax_plot_map(fig, ax, opt, border, nsamples=100):\n",
    "    X = np.linspace(-border, border, nsamples)\n",
    "    xv, yv = np.meshgrid(X, X)\n",
    "    zv = np.array(tuple(-opt.F(xy) for xy in itertools.product(X, X)))\n",
    "    zv = zv.reshape(xv.shape)\n",
    "    \n",
    "    cs = ax.contourf(xv, yv, zv, cmap=cm.magma)\n",
    "    #cbar = fig.colorbar(cs)\n",
    "    \n",
    "    #ax.plot(np.array((-border, border)), np.array((0, 0)), linestyle='-.', color='royalblue')\n",
    "    #ax.plot(np.array((0, 0)), np.array((-border, border)), linestyle='-.', color='royalblue')\n"
   ]
  },
  {
   "cell_type": "code",
   "execution_count": 416,
   "id": "8f150eed",
   "metadata": {},
   "outputs": [],
   "source": [
    "def gaussian_optimizer(start_x, mu=None, sig=None, A=-1):\n",
    "    mu = np.zeros(2) if mu is None else mu\n",
    "    sig = np.ones(2) if sig is None else sig\n",
    "    \n",
    "    F = functools.partial(tc.gaussian, mu=mu, sig=sig, A=A)\n",
    "    C = ()\n",
    "    \n",
    "    opt = GCobyla(start_x, F, C, rhobeg=0.5, rhoend=1e-12)\n",
    "    return opt"
   ]
  },
  {
   "cell_type": "code",
   "execution_count": 418,
   "id": "9d1aa1e5",
   "metadata": {},
   "outputs": [
    {
     "data": {
      "application/vnd.jupyter.widget-view+json": {
       "model_id": "9bbf1819bbdb42b490fd4c16c28e889b",
       "version_major": 2,
       "version_minor": 0
      },
      "text/plain": [
       "Canvas(toolbar=Toolbar(toolitems=[('Home', 'Reset original view', 'home', 'home'), ('Back', 'Back to previous …"
      ]
     },
     "metadata": {},
     "output_type": "display_data"
    }
   ],
   "source": [
    "plt.close('all')\n",
    "fig, axes = plt.subplots(2, 3, figsize=(12, 9))\n",
    "mu = (0, 0)\n",
    "\n",
    "gg = functools.partial(gaussian_optimizer, mu=mu, A=-1)\n",
    "\n",
    "rsc = {\n",
    "    axes[0,0]: ((.5**.5,.5**.5),'a)'),\n",
    "    axes[0,1]: ((0,1), 'b)'),\n",
    "    axes[0,2]: ((-.5**.5,.5**.5), 'c)'),\n",
    "    axes[1,0]: ((-.5**.5,-.5**.5), 'd)'),\n",
    "    axes[1,1]: ((0,-1), 'e)'),\n",
    "    axes[1,2]: ((.5**.5,-.5**.5),'f)'),\n",
    "}\n",
    "    \n",
    "\n",
    "for ax, data in rsc.items():\n",
    "    start_x, caption = data\n",
    "    opt = gg(start_x=start_x)\n",
    "    for _ in opt.g_run(): pass\n",
    "\n",
    "    ax.set_xlabel(f'{caption} start x at ({start_x[0]:.2f}, {start_x[1]:.2f})')\n",
    "    ax_plot_track(opt, ax, mu,  aspect=True, track_color='darkred')\n",
    "    ax_plot_map(fig, ax, opt, border=2, nsamples=50)\n",
    "    \n",
    "plt.savefig('mem/rsc/ex1-1.png', dpi=120, bbox_inches='tight')"
   ]
  },
  {
   "cell_type": "markdown",
   "id": "64176f40",
   "metadata": {
    "tags": []
   },
   "source": [
    "# Una normal amb restriccions"
   ]
  },
  {
   "cell_type": "code",
   "execution_count": 420,
   "id": "f5ac2896",
   "metadata": {},
   "outputs": [],
   "source": [
    "def gaussian_optimizer(start_x, border=1, mu=None, sig=None, A=-1):\n",
    "    mu = np.zeros(2) if mu is None else mu\n",
    "    sig = np.ones(2) if sig is None else sig\n",
    "    \n",
    "    F = functools.partial(tc.gaussian, mu=mu, sig=sig, A=A)\n",
    "    c1 = lambda x: border - x[0]\n",
    "    c2 = lambda x: border + x[0]\n",
    "    c3 = lambda x: border - x[1]\n",
    "    c4 = lambda x: border + x[1]\n",
    "    C = (c1, c2, c3, c4)\n",
    "    \n",
    "    opt = GCobyla(start_x, F, C, rhobeg=0.5, rhoend=1e-12)\n",
    "    return opt"
   ]
  },
  {
   "cell_type": "code",
   "execution_count": 421,
   "id": "0caccccb",
   "metadata": {},
   "outputs": [
    {
     "data": {
      "application/vnd.jupyter.widget-view+json": {
       "model_id": "deffd5f826824b8e8d45aa5a29911210",
       "version_major": 2,
       "version_minor": 0
      },
      "text/plain": [
       "Canvas(toolbar=Toolbar(toolitems=[('Home', 'Reset original view', 'home', 'home'), ('Back', 'Back to previous …"
      ]
     },
     "metadata": {},
     "output_type": "display_data"
    }
   ],
   "source": [
    "plt.close('all')\n",
    "fig, axes = plt.subplots(2, 3, figsize=(12, 9))\n",
    "border = .5\n",
    "mu = (0, 0)\n",
    "\n",
    "gg = functools.partial(gaussian_optimizer, border=border, mu=mu, A=-1)\n",
    "\n",
    "rsc = {\n",
    "    axes[0,0]: ((.5**.5,.5**.5),'a)'),\n",
    "    axes[0,1]: ((0,1), 'b)'),\n",
    "    axes[0,2]: ((-.5**.5,.5**.5), 'c)'),\n",
    "    axes[1,0]: ((-.5**.5,-.5**.5), 'd)'),\n",
    "    axes[1,1]: ((0,-1), 'e)'),\n",
    "    axes[1,2]: ((.5**.5,-.5**.5),'f)'),\n",
    "}\n",
    "    \n",
    "\n",
    "for ax, data in rsc.items():\n",
    "    start_x, caption = data\n",
    "    opt = gg(start_x=start_x)\n",
    "    for _ in opt.g_run(): pass\n",
    "\n",
    "    ax.set_xlabel(f'{caption} start x at ({start_x[0]:.2f}, {start_x[1]:.2f})')\n",
    "    ax_plot_track(opt, ax, mu,  aspect=True, track_color='darkred')\n",
    "    ax_plot_map(fig, ax, opt, border=2, nsamples=50)\n",
    "    \n",
    "    region = np.array(((border, border), (-border,border), (-border, -border), (border, -border), (border, border)))\n",
    "    ax.plot(region[..., 0], region[..., 1], linestyle='-.', color='black')\n",
    "    ax.fill(region[..., 0], region[..., 1], color='limegreen', alpha=.35)\n",
    "    \n",
    "plt.savefig('mem/rsc/ex1-2.png', dpi=120, bbox_inches='tight')"
   ]
  },
  {
   "cell_type": "code",
   "execution_count": 423,
   "id": "ae4523bf",
   "metadata": {},
   "outputs": [
    {
     "data": {
      "application/vnd.jupyter.widget-view+json": {
       "model_id": "6d7f901d9b4d46da8752251337d5b76b",
       "version_major": 2,
       "version_minor": 0
      },
      "text/plain": [
       "Canvas(toolbar=Toolbar(toolitems=[('Home', 'Reset original view', 'home', 'home'), ('Back', 'Back to previous …"
      ]
     },
     "metadata": {},
     "output_type": "display_data"
    }
   ],
   "source": [
    "plt.close('all')\n",
    "fig, axes = plt.subplots(2, 3, figsize=(12, 9))\n",
    "mu = (0, 0)\n",
    "border = 1\n",
    "\n",
    "gg = functools.partial(gaussian_optimizer, mu=mu, A=-1)\n",
    "\n",
    "start_x = (.5**.5, .5**.5)\n",
    "rsc = {\n",
    "    axes[0,0]: (start_x, 'a)'),\n",
    "    axes[0,1]: (start_x, 'b)'),\n",
    "    axes[0,2]: (start_x, 'c)'),\n",
    "    axes[1,0]: (start_x, 'd)'),\n",
    "    axes[1,1]: (start_x, 'e)'),\n",
    "    axes[1,2]: (start_x, 'f)'),\n",
    "}\n",
    "    \n",
    "\n",
    "for ax, data in rsc.items():\n",
    "    start_x, caption = data\n",
    "    opt = gg(start_x=start_x, border=border)\n",
    "    for _ in opt.g_run(): pass\n",
    "\n",
    "    ax.set_xlabel(f'{caption} start x at ({start_x[0]:.2f}, {start_x[1]:.2f}), length side {2*border:.2f}')\n",
    "    ax_plot_track(opt, ax, mu,  aspect=True, track_color='darkred')\n",
    "    ax_plot_map(fig, ax, opt, border=2, nsamples=50)\n",
    "    \n",
    "    region = np.array(((border, border), (-border,border), (-border, -border), (border, -border), (border, border)))\n",
    "    ax.plot(region[..., 0], region[..., 1], linestyle='-.', color='black')\n",
    "    ax.fill(region[..., 0], region[..., 1], color='limegreen', alpha=.35)\n",
    "    border *= .5\n",
    "plt.savefig('mem/rsc/ex1-3.png', dpi=120, bbox_inches='tight')"
   ]
  },
  {
   "cell_type": "markdown",
   "id": "344c8fba",
   "metadata": {},
   "source": [
    "# Normal amb regió delimitada per dues rectes. x inicial fora de la regió especial"
   ]
  },
  {
   "cell_type": "code",
   "execution_count": 424,
   "id": "e338919e",
   "metadata": {},
   "outputs": [],
   "source": [
    "def gaussian_optimizer(start_x, mu=None, sig=None, A=-1):\n",
    "    mu = np.zeros(2) if mu is None else mu\n",
    "    sig = np.ones(2) if sig is None else sig\n",
    "    \n",
    "    F = functools.partial(tc.gaussian, mu=mu, sig=sig, A=A)\n",
    "    c1 = lambda x: x[0] - x[1] - .5\n",
    "    c2 = lambda x: -(x[0] - x[1] - 1)\n",
    "    C = (c1, c2)\n",
    "    \n",
    "    opt = GCobyla(start_x, F, C, rhobeg=0.5, rhoend=1e-12)\n",
    "    return opt"
   ]
  },
  {
   "cell_type": "code",
   "execution_count": 425,
   "id": "d6db4d2d",
   "metadata": {},
   "outputs": [
    {
     "data": {
      "application/vnd.jupyter.widget-view+json": {
       "model_id": "0e7ec9eeffcd4cc583efc182e8d0054a",
       "version_major": 2,
       "version_minor": 0
      },
      "text/plain": [
       "Canvas(toolbar=Toolbar(toolitems=[('Home', 'Reset original view', 'home', 'home'), ('Back', 'Back to previous …"
      ]
     },
     "metadata": {},
     "output_type": "display_data"
    },
    {
     "name": "stdout",
     "output_type": "stream",
     "text": [
      "[ 0.25 -0.25]\n",
      "[ 0.25 -0.25]\n"
     ]
    }
   ],
   "source": [
    "plt.close('all')\n",
    "fig, axes = plt.subplots(1,2, figsize=(9, 4))\n",
    "mu = (0, 0)\n",
    "\n",
    "gg = functools.partial(gaussian_optimizer, mu=mu, A=-1)\n",
    "\n",
    "rsc = {\n",
    "    axes[0]: ((-1, 0), 'a)'),\n",
    "    axes[1]: ((1.8, 0), 'b)'),\n",
    "}\n",
    "    \n",
    "for ax, data in rsc.items():\n",
    "    start_x, caption = data\n",
    "    opt = gg(start_x=start_x)\n",
    "    for _ in opt.g_run(): pass\n",
    "\n",
    "    ax.set_xlabel(f'{caption} start x at ({start_x[0]:.2f}, {start_x[1]:.2f})')\n",
    "    ax_plot_track(opt, ax, mu,  aspect=True, track_color='darkred')\n",
    "    ax_plot_map(fig, ax, opt, border=2, nsamples=100)\n",
    "    \n",
    "    l1 = lambda x: x - .5\n",
    "    l2 = lambda x: x - 1\n",
    "    c1 = np.array(((-1.5, l1(-1.5)), (2, l1(2))))\n",
    "    c2 = np.array(((-1, l2(-1)), (2, l2(2))))\n",
    "    ax.plot(c1[..., 0], c1[..., 1], linestyle='-.', color='black')\n",
    "    ax.plot(c2[..., 0], c2[..., 1], linestyle='-.', color='black')\n",
    "    \n",
    "    region = np.array(((-1.5, l1(-1.5)), (2, l1(2)), (2, l2(2)), (-1, l2(-1)), (-1.5, l1(-1.5))))\n",
    "    ax.fill(region[..., 0], region[..., 1], color='limegreen', alpha=.35)\n",
    "    print(opt.optimal_vertex)\n",
    "\n",
    "plt.savefig('mem/rsc/ex1-4.png', dpi=120, bbox_inches='tight')"
   ]
  },
  {
   "cell_type": "code",
   "execution_count": 426,
   "id": "4792f585",
   "metadata": {},
   "outputs": [
    {
     "data": {
      "application/vnd.jupyter.widget-view+json": {
       "model_id": "a26b11272cc94f91bb9cb87e89bf42b3",
       "version_major": 2,
       "version_minor": 0
      },
      "text/plain": [
       "Canvas(toolbar=Toolbar(toolitems=[('Home', 'Reset original view', 'home', 'home'), ('Back', 'Back to previous …"
      ]
     },
     "metadata": {},
     "output_type": "display_data"
    }
   ],
   "source": [
    "import matplotlib.cm as cm\n",
    "\n",
    "plt.close('all')\n",
    "fig, ax = plt.subplots(1, figsize=(9, 4))\n",
    "mu = (0, 0)\n",
    "\n",
    "gg = functools.partial(gaussian_optimizer, mu=mu, A=-1)\n",
    "angles = np.arange(start=0, stop=2*np.pi, step=15*(2*np.pi)/360)\n",
    "\n",
    "for angle in angles:\n",
    "    start_x = np.array((np.cos(angle), np.sin(angle)))\n",
    "    opt = gg(start_x=start_x)\n",
    "    for _ in opt.g_run(): pass\n",
    "\n",
    "    ax_plot_track(opt, ax, mu,  aspect=True, track_color=None)\n",
    "    ax_plot_map(fig, ax, opt, border=2, nsamples=100)\n",
    "    \n",
    "    l1 = lambda x: x - .5\n",
    "    l2 = lambda x: x - 1\n",
    "    c1 = np.array(((-1.5, l1(-1.5)), (2, l1(2))))\n",
    "    c2 = np.array(((-1, l2(-1)), (2, l2(2))))\n",
    "    ax.plot(c1[..., 0], c1[..., 1], linestyle='-.', color='black')\n",
    "    ax.plot(c2[..., 0], c2[..., 1], linestyle='-.', color='black')\n",
    "\n",
    "    assert (opt.optimal_vertex.round(9) == np.array((.25, -.25))).all()\n",
    "    #print(opt.optimal_vertex)\n",
    "region = np.array(((-1.5, l1(-1.5)), (2, l1(2)), (2, l2(2)), (-1, l2(-1)), (-1.5, l1(-1.5))))\n",
    "ax.fill(region[..., 0], region[..., 1], color='limegreen', alpha=.35)\n",
    "plt.savefig('mem/rsc/ex1-5.png', dpi=120, bbox_inches='tight')"
   ]
  },
  {
   "cell_type": "markdown",
   "id": "85cc6adb",
   "metadata": {},
   "source": [
    "# Out of circle"
   ]
  },
  {
   "cell_type": "code",
   "execution_count": 454,
   "id": "cf6657b2",
   "metadata": {},
   "outputs": [],
   "source": [
    "def optimization_out_of_the_boundary_circle(inner_radius=1, outer_radius=2, start_x=(0,0)):\n",
    "    assert outer_radius > inner_radius\n",
    "    \n",
    "    sig = np.random.choice((-1, 1))\n",
    "    phi = np.random.uniform(low=0, high=2*np.pi*outer_radius) / outer_radius\n",
    "    x_circle = outer_radius * np.cos(phi)\n",
    "    y_circle = outer_radius * np.sin(phi)\n",
    "    \n",
    "    mu = np.array((x_circle, y_circle))\n",
    "    \n",
    "    G = functools.partial(tc.gaussian, mu=mu, A=-1)\n",
    "    c1 = lambda x: inner_radius - sum(x ** 2)\n",
    "\n",
    "    C = (c1,)\n",
    "\n",
    "    opt = GCobyla(start_x, G, C, rhobeg=3e-1, rhoend=1e-15)\n",
    "    for _ in opt.g_run(): pass\n",
    "    \n",
    "    \n",
    "    return mu, opt"
   ]
  },
  {
   "cell_type": "code",
   "execution_count": 460,
   "id": "03e0804d",
   "metadata": {},
   "outputs": [
    {
     "data": {
      "application/vnd.jupyter.widget-view+json": {
       "model_id": "7bbe711e64844ebdae6a8a123287bd88",
       "version_major": 2,
       "version_minor": 0
      },
      "text/plain": [
       "Canvas(toolbar=Toolbar(toolitems=[('Home', 'Reset original view', 'home', 'home'), ('Back', 'Back to previous …"
      ]
     },
     "metadata": {},
     "output_type": "display_data"
    }
   ],
   "source": [
    "%matplotlib widget\n",
    "import matplotlib.pyplot as plt\n",
    "plt.close('all')\n",
    "\n",
    "#start_x = np.random.uniform(low=-1, high=1, size=2)\n",
    "start_x = np.array((-0.10696211, -0.65293934))\n",
    "inner_radius = 1\n",
    "outer_radius = 2\n",
    "mu, opt = optimization_out_of_the_boundary_circle(inner_radius=inner_radius, outer_radius=outer_radius, start_x=start_x)\n",
    "\n",
    "plt.close('all')\n",
    "fig, ax = plt.subplots(figsize=(6, 6))\n",
    "ax.axis('equal')\n",
    "\n",
    "inner_circle = plt.Circle((0, 0), inner_radius, color='limegreen', fill=True, alpha=.35)  # boundary\n",
    "outer_circle = plt.Circle((0, 0), outer_radius, color='lightgrey', fill=False)\n",
    "ax.add_patch(inner_circle)\n",
    "ax.add_patch(outer_circle)\n",
    "\n",
    "#ax.plot(*start_x, marker='o', color='blue')\n",
    "#ax.plot(*opt.x, marker='o', color='orange')\n",
    "ax_plot_track(opt, ax, mu,  aspect=True, track_color='darkred')\n",
    "#ax.plot(*mu, marker='*', color='limegreen')\n",
    "#ax.plot((opt.x[0], mu[0]), (opt.x[1], mu[1]), linestyle='-.', color='darkred')\n",
    "plt.savefig('mem/rsc/ex1-6.png', dpi=120, bbox_inches='tight')"
   ]
  },
  {
   "cell_type": "code",
   "execution_count": 497,
   "id": "5dc9e756",
   "metadata": {},
   "outputs": [
    {
     "name": "stdout",
     "output_type": "stream",
     "text": [
      "x_opt: [-0.12998324  0.99151619]\n",
      "   mu: [-0.25996647  1.98303238]\n",
      " dist: 5.877132908087334e-11\n"
     ]
    }
   ],
   "source": [
    "print(f\"{'x_opt':>5}: {opt.optimal_vertex}\")\n",
    "print(f\"{'mu':>5}: {mu}\")\n",
    "dist = np.linalg.norm(opt.optimal_vertex - .5*mu)\n",
    "print(f\"{'dist':>5}: {dist}\")\n",
    "assert dist < 1e-10"
   ]
  },
  {
   "cell_type": "code",
   "execution_count": 488,
   "id": "c64d7c5a",
   "metadata": {},
   "outputs": [
    {
     "name": "stdout",
     "output_type": "stream",
     "text": [
      "       array([1, 2])\n"
     ]
    }
   ],
   "source": [
    "print(f'{np.array((1,2))!s:>20}')"
   ]
  },
  {
   "cell_type": "code",
   "execution_count": null,
   "id": "e5df4665",
   "metadata": {},
   "outputs": [],
   "source": []
  }
 ],
 "metadata": {
  "kernelspec": {
   "display_name": "Python 3",
   "language": "python",
   "name": "python3"
  },
  "language_info": {
   "codemirror_mode": {
    "name": "ipython",
    "version": 3
   },
   "file_extension": ".py",
   "mimetype": "text/x-python",
   "name": "python",
   "nbconvert_exporter": "python",
   "pygments_lexer": "ipython3",
   "version": "3.8.3"
  }
 },
 "nbformat": 4,
 "nbformat_minor": 5
}
