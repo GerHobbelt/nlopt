{
 "cells": [
  {
   "cell_type": "code",
   "execution_count": 160,
   "id": "6ffd9c26",
   "metadata": {},
   "outputs": [],
   "source": [
    "import functools\n",
    "import itertools\n",
    "\n",
    "import numpy as np\n",
    "\n",
    "from pycobyla.gcobyla import GCobyla\n",
    "\n",
    "import tests.test_custom as tc\n",
    "from tests.nb import utils"
   ]
  },
  {
   "cell_type": "code",
   "execution_count": 161,
   "id": "f6c17ebe",
   "metadata": {},
   "outputs": [],
   "source": [
    "%matplotlib widget\n",
    "\n",
    "import matplotlib.pyplot as plt\n",
    "from matplotlib import cm\n",
    "\n",
    "def ax_plot_simplex(ax, optimal_vertex, sim):\n",
    "    simplex = np.array((optimal_vertex, *(sim + optimal_vertex), optimal_vertex))\n",
    "    ax.plot(*optimal_vertex, color='limegreen', marker='o')\n",
    "    ax.plot(simplex[1:-1,0], simplex[1:-1,1], '.', color='blue', marker='o')\n",
    "    ax.plot(simplex[...,0], simplex[...,1], '-.', color='gray', lw=2)\n",
    "    \n",
    "\n",
    "def ax_plot_track(opt, ax, target, from_points=0, to_points=-1, plot_simplex=False, plot_trure=False, aspect=False, track_color='red'):\n",
    "    track = opt.track[from_points:to_points]\n",
    "    ax.plot(track[:, 0], track[:, 1], linestyle='-', color=track_color, marker='o')\n",
    "\n",
    "    link_best = np.array((track[-1], target))\n",
    "    ax.plot(link_best[:, 0], link_best[:, 1], linestyle=':', color=track_color)\n",
    "    ax.plot(target[0], target[1], color='limegreen', marker='*')\n",
    "        \n",
    "    if plot_simplex:\n",
    "        #simplex = np.array((opt.optimal_vertex, *(opt.sim + opt.optimal_vertex), opt.optimal_vertex))\n",
    "        ax_plot_simplex(ax, opt.optimal_vertex, opt.sim)\n",
    "            \n",
    "    if plot_trure:\n",
    "        trust_region = plt.Circle(opt.optimal_vertex, opt.rho, color='khaki', fill=True, alpha=0.5)\n",
    "        ax.add_patch(trust_region)\n",
    "        \n",
    "    if aspect:\n",
    "        ax.set_aspect('equal')\n",
    "        \n",
    "def ax_plot_map(fig, ax, opt, border, nsamples=100):\n",
    "    X = np.linspace(-border, border, nsamples)\n",
    "    xv, yv = np.meshgrid(X, X)\n",
    "    zv = np.array(tuple(-opt.F(xy) for xy in itertools.product(X, X)))\n",
    "    zv = zv.reshape(xv.shape)\n",
    "    \n",
    "    cs = ax.contourf(xv, yv, zv, cmap=cm.magma)\n",
    "    #cbar = fig.colorbar(cs)\n",
    "    \n",
    "    #ax.plot(np.array((-border, border)), np.array((0, 0)), linestyle='-.', color='royalblue')\n",
    "    #ax.plot(np.array((0, 0)), np.array((-border, border)), linestyle='-.', color='royalblue')\n"
   ]
  },
  {
   "cell_type": "code",
   "execution_count": 162,
   "id": "b0710833",
   "metadata": {},
   "outputs": [],
   "source": [
    "def gaussian_optimizer(start_x, mu=None, sig=None, A=-1):\n",
    "    mu = np.zeros(2) if mu is None else mu\n",
    "    sig = np.ones(2) if sig is None else sig\n",
    "    \n",
    "    F = functools.partial(tc.gaussian, mu=mu, sig=sig, A=A)\n",
    "    C = ()\n",
    "    \n",
    "    opt = GCobyla(start_x, F, C, rhobeg=0.5, rhoend=1e-12)\n",
    "    return opt"
   ]
  },
  {
   "cell_type": "code",
   "execution_count": 163,
   "id": "890c71ad",
   "metadata": {},
   "outputs": [
    {
     "data": {
      "application/vnd.jupyter.widget-view+json": {
       "model_id": "dc9a367c2f7948538bc3e77808c1656b",
       "version_major": 2,
       "version_minor": 0
      },
      "text/plain": [
       "Canvas(toolbar=Toolbar(toolitems=[('Home', 'Reset original view', 'home', 'home'), ('Back', 'Back to previous …"
      ]
     },
     "metadata": {},
     "output_type": "display_data"
    }
   ],
   "source": [
    "plt.close('all')\n",
    "fig, axes = plt.subplots(2, 3, figsize=(12, 9))\n",
    "mu = (0, 0)\n",
    "\n",
    "gg = functools.partial(gaussian_optimizer, mu=mu, A=-1)\n",
    "\n",
    "rsc = {\n",
    "    axes[0,0]: ((.5**.5,.5**.5),'a)'),\n",
    "    axes[0,1]: ((0,1), 'b)'),\n",
    "    axes[0,2]: ((-.5**.5,.5**.5), 'c)'),\n",
    "    axes[1,0]: ((-.5**.5,-.5**.5), 'd)'),\n",
    "    axes[1,1]: ((0,-1), 'e)'),\n",
    "    axes[1,2]: ((.5**.5,-.5**.5),'f)'),\n",
    "}\n",
    "    \n",
    "\n",
    "for ax, data in rsc.items():\n",
    "    start_x, caption = data\n",
    "    opt = gg(start_x=start_x)\n",
    "    steps_it = (step for step in opt.g_run() if step in {GCobyla.BEFORE_REVIEW_CURRENT_SIMPLEX_CHECKPOINT, GCobyla.BEFORE_GENERATE_X_START_CHECKPOINT})\n",
    "    for _ in steps_it: pass\n",
    "\n",
    "    ax.set_xlabel(f'{caption} start x at ({start_x[0]:.2f}, {start_x[1]:.2f})')\n",
    "    ax_plot_track(opt, ax, mu,  aspect=True, track_color='darkred')\n",
    "    ax_plot_map(fig, ax, opt, border=2, nsamples=50)\n",
    "    \n",
    "plt.savefig('ex1-1.png', dpi=120, bbox_inches='tight')"
   ]
  },
  {
   "cell_type": "markdown",
   "id": "66a035cd",
   "metadata": {
    "tags": []
   },
   "source": [
    "# Una normal amb restriccions"
   ]
  },
  {
   "cell_type": "code",
   "execution_count": 164,
   "id": "b879f5f2",
   "metadata": {},
   "outputs": [],
   "source": [
    "def gaussian_optimizer(start_x, border=1, mu=None, sig=None, A=-1):\n",
    "    mu = np.zeros(2) if mu is None else mu\n",
    "    sig = np.ones(2) if sig is None else sig\n",
    "    \n",
    "    F = functools.partial(tc.gaussian, mu=mu, sig=sig, A=A)\n",
    "    c1 = lambda x: border - x[0]\n",
    "    c2 = lambda x: border + x[0]\n",
    "    c3 = lambda x: border - x[1]\n",
    "    c4 = lambda x: border + x[1]\n",
    "    C = (c1, c2, c3, c4)\n",
    "    \n",
    "    opt = GCobyla(start_x, F, C, rhobeg=0.5, rhoend=1e-12)\n",
    "    return opt"
   ]
  },
  {
   "cell_type": "code",
   "execution_count": 174,
   "id": "2c4ca7a1",
   "metadata": {},
   "outputs": [
    {
     "data": {
      "application/vnd.jupyter.widget-view+json": {
       "model_id": "ea479c6615f54ec4b477b54c18baab0d",
       "version_major": 2,
       "version_minor": 0
      },
      "text/plain": [
       "Canvas(toolbar=Toolbar(toolitems=[('Home', 'Reset original view', 'home', 'home'), ('Back', 'Back to previous …"
      ]
     },
     "metadata": {},
     "output_type": "display_data"
    }
   ],
   "source": [
    "plt.close('all')\n",
    "fig, axes = plt.subplots(2, 3, figsize=(12, 9))\n",
    "border = .5\n",
    "mu = (0, 0)\n",
    "\n",
    "gg = functools.partial(gaussian_optimizer, border=border, mu=mu, A=-1)\n",
    "\n",
    "rsc = {\n",
    "    axes[0,0]: ((.5**.5,.5**.5),'a)'),\n",
    "    axes[0,1]: ((0,1), 'b)'),\n",
    "    axes[0,2]: ((-.5**.5,.5**.5), 'c)'),\n",
    "    axes[1,0]: ((-.5**.5,-.5**.5), 'd)'),\n",
    "    axes[1,1]: ((0,-1), 'e)'),\n",
    "    axes[1,2]: ((.5**.5,-.5**.5),'f)'),\n",
    "}\n",
    "    \n",
    "\n",
    "for ax, data in rsc.items():\n",
    "    start_x, caption = data\n",
    "    opt = gg(start_x=start_x)\n",
    "    steps_it = (step for step in opt.g_run() if step in {GCobyla.BEFORE_REVIEW_CURRENT_SIMPLEX_CHECKPOINT, GCobyla.BEFORE_GENERATE_X_START_CHECKPOINT})\n",
    "    for _ in steps_it: pass\n",
    "\n",
    "    ax.set_xlabel(f'{caption} start x at ({start_x[0]:.2f}, {start_x[1]:.2f})')\n",
    "    ax_plot_track(opt, ax, mu,  aspect=True, track_color='darkred')\n",
    "    ax_plot_map(fig, ax, opt, border=2, nsamples=50)\n",
    "    \n",
    "    region = np.array(((border, border), (-border,border), (-border, -border), (border, -border), (border, border)))\n",
    "    ax.plot(region[..., 0], region[..., 1], linestyle='-.', color='black')\n",
    "    \n",
    "plt.savefig('mem/rsc/ex1-2.png', dpi=120, bbox_inches='tight')"
   ]
  },
  {
   "cell_type": "code",
   "execution_count": 175,
   "id": "7cb2f749",
   "metadata": {},
   "outputs": [
    {
     "data": {
      "application/vnd.jupyter.widget-view+json": {
       "model_id": "58ccba33d71942f799a2dff4f183c5d4",
       "version_major": 2,
       "version_minor": 0
      },
      "text/plain": [
       "Canvas(toolbar=Toolbar(toolitems=[('Home', 'Reset original view', 'home', 'home'), ('Back', 'Back to previous …"
      ]
     },
     "metadata": {},
     "output_type": "display_data"
    }
   ],
   "source": [
    "plt.close('all')\n",
    "fig, axes = plt.subplots(2, 3, figsize=(12, 9))\n",
    "border = 1\n",
    "mu = (0, 0)\n",
    "\n",
    "gg = functools.partial(gaussian_optimizer, mu=mu, A=-1)\n",
    "\n",
    "rsc = {\n",
    "    axes[0,0]: ((.5**.5,.5**.5), 'a)'),\n",
    "    axes[0,1]: ((.5**.5,.5**.5), 'b)'),\n",
    "    axes[0,2]: ((.5**.5,.5**.5), 'c)'),\n",
    "    axes[1,0]: ((.5**.5,.5**.5), 'd)'),\n",
    "    axes[1,1]: ((.5**.5,.5**.5), 'e)'),\n",
    "    axes[1,2]: ((.5**.5,.5**.5), 'f)'),\n",
    "}\n",
    "    \n",
    "\n",
    "for ax, data in rsc.items():\n",
    "    start_x, caption = data\n",
    "    opt = gg(start_x=start_x)\n",
    "    steps_it = (step for step in opt.g_run() if step in {GCobyla.BEFORE_REVIEW_CURRENT_SIMPLEX_CHECKPOINT, GCobyla.BEFORE_GENERATE_X_START_CHECKPOINT})\n",
    "    for _ in steps_it: pass\n",
    "\n",
    "    ax.set_xlabel(f'{caption} start x at ({start_x[0]:.2f}, {start_x[1]:.2f}), length side {2*border:.2f}')\n",
    "    ax_plot_track(opt, ax, mu,  aspect=True, track_color='darkred')\n",
    "    ax_plot_map(fig, ax, opt, border=2, nsamples=50)\n",
    "    \n",
    "    region = np.array(((border, border), (-border,border), (-border, -border), (border, -border), (border, border)))\n",
    "    ax.plot(region[..., 0], region[..., 1], linestyle='-.', color='black')\n",
    "    border /= 2\n",
    "plt.savefig('mem/rsc/ex1-3.png', dpi=120, bbox_inches='tight')"
   ]
  },
  {
   "cell_type": "code",
   "execution_count": null,
   "id": "8f3c157f",
   "metadata": {},
   "outputs": [],
   "source": []
  }
 ],
 "metadata": {
  "kernelspec": {
   "display_name": "Python 3",
   "language": "python",
   "name": "python3"
  },
  "language_info": {
   "codemirror_mode": {
    "name": "ipython",
    "version": 3
   },
   "file_extension": ".py",
   "mimetype": "text/x-python",
   "name": "python",
   "nbconvert_exporter": "python",
   "pygments_lexer": "ipython3",
   "version": "3.8.3"
  }
 },
 "nbformat": 4,
 "nbformat_minor": 5
}
