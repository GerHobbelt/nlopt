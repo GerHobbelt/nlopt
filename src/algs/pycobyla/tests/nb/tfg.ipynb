{
 "cells": [
  {
   "cell_type": "code",
   "execution_count": 1,
   "id": "94c1243d",
   "metadata": {},
   "outputs": [],
   "source": [
    "TRUST_REGION_COLOR = 'gold'\n",
    "OPTIMAL_VERTEX_COLOR = 'limegreen'\n",
    "DROP_VERTEX_COLOR = 'red'\n",
    "OTHER_VERTEX_COLOR = 'blue'\n",
    "TRACK_COLOR = 'darkred'"
   ]
  },
  {
   "cell_type": "markdown",
   "id": "9b08844e",
   "metadata": {},
   "source": [
    "# Delta branch"
   ]
  },
  {
   "cell_type": "code",
   "execution_count": 2,
   "id": "0c47a5ac",
   "metadata": {},
   "outputs": [],
   "source": [
    "%matplotlib widget\n",
    "import numpy as np\n",
    "import matplotlib.pyplot as plt\n",
    "import matplotlib.tri as tri\n",
    "\n",
    "def ax_plot_simplex(ax, optimal_vertex, sim, jdrop, rho):\n",
    "    simplex = np.array((optimal_vertex, *(sim + optimal_vertex), optimal_vertex))\n",
    "    ax.plot(simplex[...,0], simplex[...,1], '-', color='lightsteelblue', lw=2)\n",
    "    ax.plot(simplex[1:-1,0], simplex[1:-1,1], '.', color='blue', marker='o')\n",
    "    ax.plot(simplex[jdrop+1,0], simplex[jdrop+1,1], '.', color='red', marker='o')\n",
    "    ax.plot(*optimal_vertex, color='limegreen', marker='D')\n",
    "    \n",
    "    beta = 2.1\n",
    "    beta_region = plt.Circle(optimal_vertex, beta * rho, color='lemonchiffon', fill=True, alpha=0.5)\n",
    "    trust_region = plt.Circle(optimal_vertex, rho, color='gold', fill=True, alpha=0.5)\n",
    "    ax.add_patch(beta_region)\n",
    "    ax.add_patch(trust_region)"
   ]
  },
  {
   "cell_type": "code",
   "execution_count": 3,
   "id": "08bf6619",
   "metadata": {},
   "outputs": [
    {
     "data": {
      "application/vnd.jupyter.widget-view+json": {
       "model_id": "68fa9995dca144509de70cb555423c04",
       "version_major": 2,
       "version_minor": 0
      },
      "text/plain": [
       "Canvas(toolbar=Toolbar(toolitems=[('Home', 'Reset original view', 'home', 'home'), ('Back', 'Back to previous …"
      ]
     },
     "metadata": {},
     "output_type": "display_data"
    }
   ],
   "source": [
    "# eta case\n",
    "plt.close('all')\n",
    "jdrop = 0\n",
    "rho = 0.0625\n",
    "optimal_vertex = np.array([0.047873700624370373047, 0.03301727499567987112])\n",
    "old_sim = np.array([[-0.13019926157022278929, -0.059595187823573939068], [-0.05055567780160368646, 0.036747427692566961288]])\n",
    "new_sim = np.array([[0.018373713846283478442, 0.025277838900801840201], [-0.05055567780160368646, 0.036747427692566961288]])\n",
    "old_veta = np.array([0.14319020261581568261, 0.062500000000000007495])\n",
    "new_veta = np.array([0.03125, 0.062500000000000007495])\n",
    "old_vsig = np.array([0.12475780902899252224, 0.054454585033534948986])\n",
    "new_vsig = np.array([0.031249999999999999998, 0.06250000000000000749])\n",
    "\n",
    "coords = np.array((*old_sim, *new_sim)) + optimal_vertex\n",
    "x_coords = coords[:, 0]\n",
    "y_coords = coords[:, 1]\n",
    "\n",
    "plt.close('all')\n",
    "fig, (ax1, ax2) = plt.subplots(1, 2, figsize=(12, 6))\n",
    "xmin = min(x_coords)\n",
    "xmax = max(x_coords)\n",
    "ymin = min(y_coords)\n",
    "ymax = max(y_coords)\n",
    "margin = 1e-2\n",
    "\n",
    "#_ = ax1.set(xlim=(xmin - margin, xmax + margin), ylim=(ymin - margin, ymax + margin))\n",
    "#_ = ax2.set(xlim=(xmin - margin, xmax + margin), ylim=(ymin - margin, ymax + margin))\n",
    "ax1.set_aspect('equal')\n",
    "ax2.set_aspect('equal')\n",
    "\n",
    "ax_plot_simplex(ax1, optimal_vertex, old_sim, jdrop, rho=rho)\n",
    "ax_plot_simplex(ax2, optimal_vertex, new_sim, jdrop, rho=rho)\n",
    "plt.savefig('mem/rsc/delta-eta.png', dpi=120, bbox_inches='tight')"
   ]
  },
  {
   "cell_type": "code",
   "execution_count": 4,
   "id": "3987d169",
   "metadata": {},
   "outputs": [
    {
     "data": {
      "application/vnd.jupyter.widget-view+json": {
       "model_id": "0849f0f9c524400e8ab88a0afe00254b",
       "version_major": 2,
       "version_minor": 0
      },
      "text/plain": [
       "Canvas(toolbar=Toolbar(toolitems=[('Home', 'Reset original view', 'home', 'home'), ('Back', 'Back to previous …"
      ]
     },
     "metadata": {},
     "output_type": "display_data"
    }
   ],
   "source": [
    "# sigma case\n",
    "plt.close('all')\n",
    "jdrop = 1\n",
    "rho = 6.103515625e-05\n",
    "optimal_vertex = np.array([0.12322095602324728612, 0.7876477600799215061])\n",
    "old_sim = np.array([[0.00010609379901699572403, -5.758107655831259315e-05], [4.8716293255678108707e-05, -3.676973034832708352e-05]])\n",
    "#new_sim = np.array([[0.00010609379901699572403, -5.758107655831259315e-05], [-1.4557208222393858973e-05, -2.6821824385849429767e-05]])\n",
    "new_sim = np.array([[0.000120651007239389583, -3.0759252172463163382e-05], [1.4557208222393858973e-05, 2.6821824385849429767e-05]])\n",
    "old_veta = np.array([0.00012071236294378856573, 6.103515625000000053e-05])\n",
    "#new_veta = np.array([0.00012071236294378856573, 3.0517578125e-05])\n",
    "new_veta = np.array([0.00012451022906608282922, 3.0517578125e-05])\n",
    "old_vsig = np.array([1.7955287365912709351e-05, 9.078637375381810534e-06])\n",
    "#new_vsig = np.array([0.00012071236294378856568, 3.0517578124999999998e-05])\n",
    "new_vsig = np.array([0.00012071236294378856568, 2.958671744821261666e-05])\n",
    "\n",
    "coords = np.array((*old_sim, *new_sim)) + optimal_vertex\n",
    "x_coords = coords[:, 0]\n",
    "y_coords = coords[:, 1]\n",
    "\n",
    "plt.close('all')\n",
    "fig, (ax1, ax2) = plt.subplots(1, 2, figsize=(12, 6))\n",
    "xmin = min(x_coords)\n",
    "xmax = max(x_coords)\n",
    "ymin = min(y_coords)\n",
    "ymax = max(y_coords)\n",
    "margin = 6e-5\n",
    "\n",
    "#_ = ax1.set(xlim=(xmin - margin, xmax + margin), ylim=(ymin - margin, ymax + margin))\n",
    "#_ = ax2.set(xlim=(xmin - margin, xmax + margin), ylim=(ymin - margin, ymax + margin))\n",
    "ax1.set_aspect('equal')\n",
    "ax2.set_aspect('equal')\n",
    "\n",
    "ax_plot_simplex(ax1, optimal_vertex, old_sim, jdrop, rho=rho)\n",
    "ax_plot_simplex(ax2, optimal_vertex, new_sim, jdrop, rho=rho)\n",
    "plt.savefig('mem/rsc/delta-sigma.png', dpi=120, bbox_inches='tight')"
   ]
  },
  {
   "cell_type": "markdown",
   "id": "d859028c",
   "metadata": {},
   "source": [
    "# Examples"
   ]
  },
  {
   "cell_type": "code",
   "execution_count": 5,
   "id": "ada24e9d",
   "metadata": {},
   "outputs": [],
   "source": [
    "import functools\n",
    "import itertools\n",
    "\n",
    "import numpy as np\n",
    "\n",
    "from pycobyla.gcobyla import GCobyla\n",
    "\n",
    "import tests.test_custom as tc\n",
    "from tests.nb import utils"
   ]
  },
  {
   "cell_type": "code",
   "execution_count": 6,
   "id": "da523fc1",
   "metadata": {},
   "outputs": [],
   "source": [
    "%matplotlib widget\n",
    "\n",
    "import matplotlib.pyplot as plt\n",
    "from matplotlib import cm\n",
    "\n",
    "def ax_plot_simplex(ax, optimal_vertex, sim):\n",
    "    simplex = np.array((optimal_vertex, *(sim + optimal_vertex), optimal_vertex))\n",
    "    ax.plot(*optimal_vertex, color='limegreen', marker='o')\n",
    "    ax.plot(simplex[1:-1,0], simplex[1:-1,1], '.', color='blue', marker='o')\n",
    "    ax.plot(simplex[...,0], simplex[...,1], '-.', color='gray', lw=2)\n",
    "    \n",
    "\n",
    "def ax_plot_track(opt, ax, target, from_points=0, to_points=-1, plot_simplex=False, plot_trure=False, aspect=False, track_color=None, track_alpha=1):\n",
    "    track = opt.track[from_points:to_points]\n",
    "    ax.plot(track[:, 0], track[:, 1], linestyle='-', color=track_color, alpha=track_alpha, marker='o')\n",
    "\n",
    "    link_best = np.array((track[-1], target))\n",
    "    ax.plot(link_best[:, 0], link_best[:, 1], linestyle=':', color=track_color)\n",
    "    ax.plot(target[0], target[1], color='limegreen', marker='*')\n",
    "        \n",
    "    if plot_simplex:\n",
    "        #simplex = np.array((opt.optimal_vertex, *(opt.sim + opt.optimal_vertex), opt.optimal_vertex))\n",
    "        ax_plot_simplex(ax, opt.optimal_vertex, opt.sim)\n",
    "            \n",
    "    if plot_trure:\n",
    "        trust_region = plt.Circle(opt.optimal_vertex, opt.rho, color='khaki', fill=True, alpha=0.5)\n",
    "        ax.add_patch(trust_region)\n",
    "        \n",
    "    if aspect:\n",
    "        ax.set_aspect('equal')\n",
    "        \n",
    "def ax_plot_map(fig, ax, opt, border, nsamples=100):\n",
    "    X = np.linspace(-border, border, nsamples)\n",
    "    xv, yv = np.meshgrid(X, X)\n",
    "    zv = np.array(tuple(-opt.F(xy) for xy in itertools.product(X, X)))\n",
    "    zv = zv.reshape(xv.shape)\n",
    "    \n",
    "    cs = ax.contourf(xv, yv, zv, cmap=cm.magma)\n",
    "    #cbar = fig.colorbar(cs)\n",
    "    \n",
    "    #ax.plot(np.array((-border, border)), np.array((0, 0)), linestyle='-.', color='royalblue')\n",
    "    #ax.plot(np.array((0, 0)), np.array((-border, border)), linestyle='-.', color='royalblue')\n"
   ]
  },
  {
   "cell_type": "code",
   "execution_count": 7,
   "id": "f2b70075",
   "metadata": {},
   "outputs": [],
   "source": [
    "def gaussian_optimizer(start_x, mu=None, sig=None, A=-1):\n",
    "    mu = np.zeros(2) if mu is None else mu\n",
    "    sig = np.ones(2) if sig is None else sig\n",
    "    \n",
    "    F = functools.partial(tc.gaussian, mu=mu, sig=sig, A=A)\n",
    "    C = ()\n",
    "    \n",
    "    opt = GCobyla(start_x, F, C, rhobeg=0.5, rhoend=1e-12)\n",
    "    return opt"
   ]
  },
  {
   "cell_type": "code",
   "execution_count": 8,
   "id": "b4f79f17",
   "metadata": {},
   "outputs": [
    {
     "data": {
      "application/vnd.jupyter.widget-view+json": {
       "model_id": "344a7e67c47246ca8a8cd22c4d7e05a6",
       "version_major": 2,
       "version_minor": 0
      },
      "text/plain": [
       "Canvas(toolbar=Toolbar(toolitems=[('Home', 'Reset original view', 'home', 'home'), ('Back', 'Back to previous …"
      ]
     },
     "metadata": {},
     "output_type": "display_data"
    }
   ],
   "source": [
    "plt.close('all')\n",
    "fig, axes = plt.subplots(2, 3, figsize=(12, 9))\n",
    "mu = (0, 0)\n",
    "\n",
    "gg = functools.partial(gaussian_optimizer, mu=mu, A=-1)\n",
    "\n",
    "rsc = {\n",
    "    axes[0,0]: ((.5**.5,.5**.5),'a)'),\n",
    "    axes[0,1]: ((0,1), 'b)'),\n",
    "    axes[0,2]: ((-.5**.5,.5**.5), 'c)'),\n",
    "    axes[1,0]: ((-.5**.5,-.5**.5), 'd)'),\n",
    "    axes[1,1]: ((0,-1), 'e)'),\n",
    "    axes[1,2]: ((.5**.5,-.5**.5),'f)'),\n",
    "}\n",
    "    \n",
    "\n",
    "for ax, data in rsc.items():\n",
    "    start_x, caption = data\n",
    "    opt = gg(start_x=start_x)\n",
    "    for _ in opt.g_run(): pass\n",
    "\n",
    "    ax.set_xlabel(f'{caption} start x at ({start_x[0]:.2f}, {start_x[1]:.2f})')\n",
    "    ax_plot_track(opt, ax, mu,  aspect=True, track_color='darkred')\n",
    "    ax_plot_map(fig, ax, opt, border=2, nsamples=50)\n",
    "    \n",
    "plt.savefig('mem/rsc/ex1-1.png', dpi=120, bbox_inches='tight')"
   ]
  },
  {
   "cell_type": "markdown",
   "id": "1bf5aa45",
   "metadata": {
    "tags": []
   },
   "source": [
    "# Una normal amb restriccions"
   ]
  },
  {
   "cell_type": "code",
   "execution_count": 9,
   "id": "e84714f2",
   "metadata": {},
   "outputs": [],
   "source": [
    "def gaussian_optimizer(start_x, border=1, mu=None, sig=None, A=-1):\n",
    "    mu = np.zeros(2) if mu is None else mu\n",
    "    sig = np.ones(2) if sig is None else sig\n",
    "    \n",
    "    F = functools.partial(tc.gaussian, mu=mu, sig=sig, A=A)\n",
    "    c1 = lambda x: border - x[0]\n",
    "    c2 = lambda x: border + x[0]\n",
    "    c3 = lambda x: border - x[1]\n",
    "    c4 = lambda x: border + x[1]\n",
    "    C = (c1, c2, c3, c4)\n",
    "    \n",
    "    opt = GCobyla(start_x, F, C, rhobeg=0.5, rhoend=1e-12)\n",
    "    return opt"
   ]
  },
  {
   "cell_type": "code",
   "execution_count": 10,
   "id": "c00aee49",
   "metadata": {},
   "outputs": [
    {
     "data": {
      "application/vnd.jupyter.widget-view+json": {
       "model_id": "e7d0d19239574fe7b9774ce070ab69d9",
       "version_major": 2,
       "version_minor": 0
      },
      "text/plain": [
       "Canvas(toolbar=Toolbar(toolitems=[('Home', 'Reset original view', 'home', 'home'), ('Back', 'Back to previous …"
      ]
     },
     "metadata": {},
     "output_type": "display_data"
    }
   ],
   "source": [
    "plt.close('all')\n",
    "fig, axes = plt.subplots(2, 3, figsize=(12, 9))\n",
    "border = .5\n",
    "mu = (0, 0)\n",
    "\n",
    "gg = functools.partial(gaussian_optimizer, border=border, mu=mu, A=-1)\n",
    "\n",
    "rsc = {\n",
    "    axes[0,0]: ((.5**.5,.5**.5),'a)'),\n",
    "    axes[0,1]: ((0,1), 'b)'),\n",
    "    axes[0,2]: ((-.5**.5,.5**.5), 'c)'),\n",
    "    axes[1,0]: ((-.5**.5,-.5**.5), 'd)'),\n",
    "    axes[1,1]: ((0,-1), 'e)'),\n",
    "    axes[1,2]: ((.5**.5,-.5**.5),'f)'),\n",
    "}\n",
    "    \n",
    "\n",
    "for ax, data in rsc.items():\n",
    "    start_x, caption = data\n",
    "    opt = gg(start_x=start_x)\n",
    "    for _ in opt.g_run(): pass\n",
    "\n",
    "    ax.set_xlabel(f'{caption} start x at ({start_x[0]:.2f}, {start_x[1]:.2f})')\n",
    "    ax_plot_track(opt, ax, mu,  aspect=True, track_color='darkred')\n",
    "    ax_plot_map(fig, ax, opt, border=2, nsamples=50)\n",
    "    \n",
    "    region = np.array(((border, border), (-border,border), (-border, -border), (border, -border), (border, border)))\n",
    "    ax.plot(region[..., 0], region[..., 1], linestyle='-.', color='black')\n",
    "    ax.fill(region[..., 0], region[..., 1], color='limegreen', alpha=.35)\n",
    "    \n",
    "plt.savefig('mem/rsc/ex1-2.png', dpi=120, bbox_inches='tight')"
   ]
  },
  {
   "cell_type": "code",
   "execution_count": 11,
   "id": "1023ad5c",
   "metadata": {},
   "outputs": [
    {
     "data": {
      "application/vnd.jupyter.widget-view+json": {
       "model_id": "df91cfe9747a4200ad232e79e3314967",
       "version_major": 2,
       "version_minor": 0
      },
      "text/plain": [
       "Canvas(toolbar=Toolbar(toolitems=[('Home', 'Reset original view', 'home', 'home'), ('Back', 'Back to previous …"
      ]
     },
     "metadata": {},
     "output_type": "display_data"
    }
   ],
   "source": [
    "plt.close('all')\n",
    "fig, axes = plt.subplots(2, 3, figsize=(12, 9))\n",
    "mu = (0, 0)\n",
    "border = 1\n",
    "\n",
    "gg = functools.partial(gaussian_optimizer, mu=mu, A=-1)\n",
    "\n",
    "start_x = (.5**.5, .5**.5)\n",
    "rsc = {\n",
    "    axes[0,0]: (start_x, 'a)'),\n",
    "    axes[0,1]: (start_x, 'b)'),\n",
    "    axes[0,2]: (start_x, 'c)'),\n",
    "    axes[1,0]: (start_x, 'd)'),\n",
    "    axes[1,1]: (start_x, 'e)'),\n",
    "    axes[1,2]: (start_x, 'f)'),\n",
    "}\n",
    "    \n",
    "\n",
    "for ax, data in rsc.items():\n",
    "    start_x, caption = data\n",
    "    opt = gg(start_x=start_x, border=border)\n",
    "    for _ in opt.g_run(): pass\n",
    "\n",
    "    ax.set_xlabel(f'{caption} start x at ({start_x[0]:.2f}, {start_x[1]:.2f}), length side {2*border:.2f}')\n",
    "    ax_plot_track(opt, ax, mu,  aspect=True, track_color='darkred')\n",
    "    ax_plot_map(fig, ax, opt, border=2, nsamples=50)\n",
    "    \n",
    "    region = np.array(((border, border), (-border,border), (-border, -border), (border, -border), (border, border)))\n",
    "    ax.plot(region[..., 0], region[..., 1], linestyle='-.', color='black')\n",
    "    ax.fill(region[..., 0], region[..., 1], color='limegreen', alpha=.35)\n",
    "    border *= .5\n",
    "plt.savefig('mem/rsc/ex1-3.png', dpi=120, bbox_inches='tight')"
   ]
  },
  {
   "cell_type": "markdown",
   "id": "b2a39799",
   "metadata": {},
   "source": [
    "# Normal amb regió delimitada per dues rectes. x inicial fora de la regió especial"
   ]
  },
  {
   "cell_type": "code",
   "execution_count": 12,
   "id": "65acb454",
   "metadata": {},
   "outputs": [],
   "source": [
    "def gaussian_optimizer(start_x, mu=None, sig=None, A=-1):\n",
    "    mu = np.zeros(2) if mu is None else mu\n",
    "    sig = np.ones(2) if sig is None else sig\n",
    "    \n",
    "    F = functools.partial(tc.gaussian, mu=mu, sig=sig, A=A)\n",
    "    c1 = lambda x: x[0] - x[1] - .5\n",
    "    c2 = lambda x: -(x[0] - x[1] - 1)\n",
    "    C = (c1, c2)\n",
    "    \n",
    "    opt = GCobyla(start_x, F, C, rhobeg=0.5, rhoend=1e-12)\n",
    "    return opt"
   ]
  },
  {
   "cell_type": "code",
   "execution_count": 13,
   "id": "0063f6cc",
   "metadata": {},
   "outputs": [
    {
     "data": {
      "application/vnd.jupyter.widget-view+json": {
       "model_id": "03894d12092c4450a30f524bbabdeda8",
       "version_major": 2,
       "version_minor": 0
      },
      "text/plain": [
       "Canvas(toolbar=Toolbar(toolitems=[('Home', 'Reset original view', 'home', 'home'), ('Back', 'Back to previous …"
      ]
     },
     "metadata": {},
     "output_type": "display_data"
    },
    {
     "name": "stdout",
     "output_type": "stream",
     "text": [
      "[ 0.25 -0.25]\n",
      "[ 0.25 -0.25]\n"
     ]
    }
   ],
   "source": [
    "plt.close('all')\n",
    "fig, axes = plt.subplots(1,2, figsize=(9, 4))\n",
    "mu = (0, 0)\n",
    "\n",
    "gg = functools.partial(gaussian_optimizer, mu=mu, A=-1)\n",
    "\n",
    "rsc = {\n",
    "    axes[0]: ((-1, 0), 'a)'),\n",
    "    axes[1]: ((1.8, 0), 'b)'),\n",
    "}\n",
    "    \n",
    "for ax, data in rsc.items():\n",
    "    start_x, caption = data\n",
    "    opt = gg(start_x=start_x)\n",
    "    for _ in opt.g_run(): pass\n",
    "\n",
    "    ax.set_xlabel(f'{caption} start x at ({start_x[0]:.2f}, {start_x[1]:.2f})')\n",
    "    ax_plot_track(opt, ax, mu,  aspect=True, track_color='darkred')\n",
    "    ax_plot_map(fig, ax, opt, border=2, nsamples=100)\n",
    "    \n",
    "    l1 = lambda x: x - .5\n",
    "    l2 = lambda x: x - 1\n",
    "    c1 = np.array(((-1.5, l1(-1.5)), (2, l1(2))))\n",
    "    c2 = np.array(((-1, l2(-1)), (2, l2(2))))\n",
    "    ax.plot(c1[..., 0], c1[..., 1], linestyle='-.', color='black')\n",
    "    ax.plot(c2[..., 0], c2[..., 1], linestyle='-.', color='black')\n",
    "    \n",
    "    region = np.array(((-1.5, l1(-1.5)), (2, l1(2)), (2, l2(2)), (-1, l2(-1)), (-1.5, l1(-1.5))))\n",
    "    ax.fill(region[..., 0], region[..., 1], color='limegreen', alpha=.35)\n",
    "    print(opt.optimal_vertex)\n",
    "\n",
    "plt.savefig('mem/rsc/ex1-4.png', dpi=120, bbox_inches='tight')"
   ]
  },
  {
   "cell_type": "code",
   "execution_count": 45,
   "id": "19f16b06",
   "metadata": {},
   "outputs": [
    {
     "data": {
      "application/vnd.jupyter.widget-view+json": {
       "model_id": "87911aed6a8245c5b096c97f1ec04a1c",
       "version_major": 2,
       "version_minor": 0
      },
      "text/plain": [
       "Canvas(toolbar=Toolbar(toolitems=[('Home', 'Reset original view', 'home', 'home'), ('Back', 'Back to previous …"
      ]
     },
     "metadata": {},
     "output_type": "display_data"
    }
   ],
   "source": [
    "import matplotlib.cm as cm\n",
    "\n",
    "plt.close('all')\n",
    "fig, ax = plt.subplots(1, figsize=(9, 4))\n",
    "mu = (0, 0)\n",
    "\n",
    "ax1.set_aspect('equal')\n",
    "ax2.set_aspect('equal')\n",
    "\n",
    "gg = functools.partial(gaussian_optimizer, mu=mu, A=-1)\n",
    "angles = np.arange(start=0, stop=2*np.pi, step=15*(2*np.pi)/360)\n",
    "\n",
    "for angle in angles:\n",
    "    start_x = np.array((np.cos(angle), np.sin(angle)))\n",
    "    opt = gg(start_x=start_x)\n",
    "    for _ in opt.g_run(): pass\n",
    "    \n",
    "    ax_plot_track(opt, ax, mu, aspect=True, track_color='darkred',  track_alpha=.3)\n",
    "    ax.plot(start_x[0], start_x[1], 'o', color='darkred')\n",
    "    ax.plot(opt.optimal_vertex[0], opt.optimal_vertex[1], 'o', color='orange')\n",
    "    \n",
    "    l1 = lambda x: x - .5\n",
    "    l2 = lambda x: x - 1\n",
    "    c1 = np.array(((-1.5, l1(-1.5)), (2, l1(2))))\n",
    "    c2 = np.array(((-1, l2(-1)), (2, l2(2))))\n",
    "    \n",
    "\n",
    "    assert (opt.optimal_vertex.round(9) == np.array((.25, -.25))).all()\n",
    "    #print(opt.optimal_vertex)\n",
    "        \n",
    "ax_plot_map(fig, ax, opt, border=2, nsamples=100)\n",
    "ax.plot(c1[..., 0], c1[..., 1], linestyle='-.', color='black')\n",
    "ax.plot(c2[..., 0], c2[..., 1], linestyle='-.', color='black')\n",
    "region = np.array(((-1.5, l1(-1.5)), (2, l1(2)), (2, l2(2)), (-1, l2(-1)), (-1.5, l1(-1.5))))\n",
    "ax.fill(region[..., 0], region[..., 1], color='limegreen', alpha=.35)\n",
    "\n",
    "plt.savefig('mem/rsc/ex1-5.png', dpi=120, bbox_inches='tight')"
   ]
  },
  {
   "cell_type": "markdown",
   "id": "0df5f9c6",
   "metadata": {},
   "source": [
    "# Out of circle"
   ]
  },
  {
   "cell_type": "code",
   "execution_count": 34,
   "id": "dca8bf14",
   "metadata": {},
   "outputs": [],
   "source": [
    "def optimization_out_of_the_boundary_circle(inner_radius=1, outer_radius=2, start_x=(0,0), mu=None):\n",
    "    assert outer_radius > inner_radius\n",
    "    \n",
    "    sig = np.random.choice((-1, 1))\n",
    "    phi = np.random.uniform(low=0, high=2*np.pi*outer_radius) / outer_radius\n",
    "    x_circle = outer_radius * np.cos(phi)\n",
    "    y_circle = outer_radius * np.sin(phi)\n",
    "    \n",
    "    mu = np.array((x_circle, y_circle)) if mu is None else mu\n",
    "    \n",
    "    G = functools.partial(tc.gaussian, mu=mu, A=-1)\n",
    "    c1 = lambda x: inner_radius - sum(x ** 2)\n",
    "\n",
    "    C = (c1,)\n",
    "\n",
    "    opt = GCobyla(start_x, G, C, rhobeg=3e-1, rhoend=1e-15)\n",
    "    for _ in opt.g_run(): pass\n",
    "    \n",
    "    \n",
    "    return mu, opt"
   ]
  },
  {
   "cell_type": "code",
   "execution_count": 35,
   "id": "5a7d2652",
   "metadata": {},
   "outputs": [
    {
     "name": "stdout",
     "output_type": "stream",
     "text": [
      "[0.17174320179775046, 1.9926124240896064]\n"
     ]
    },
    {
     "data": {
      "application/vnd.jupyter.widget-view+json": {
       "model_id": "3e4fb2be3cc1466f937a96f70e2812b9",
       "version_major": 2,
       "version_minor": 0
      },
      "text/plain": [
       "Canvas(toolbar=Toolbar(toolitems=[('Home', 'Reset original view', 'home', 'home'), ('Back', 'Back to previous …"
      ]
     },
     "metadata": {},
     "output_type": "display_data"
    }
   ],
   "source": [
    "%matplotlib widget\n",
    "import matplotlib.pyplot as plt\n",
    "plt.close('all')\n",
    "\n",
    "\n",
    "inner_radius = 1\n",
    "outer_radius = 2\n",
    "start_x = np.array((-0.10696211, -0.65293934))\n",
    "#start_x = np.random.uniform(low=-1, high=1, size=2)\n",
    "mu = np.array([0.17174320179775046, 1.9926124240896064])\n",
    "#mu = None\n",
    "\n",
    "mu, opt = optimization_out_of_the_boundary_circle(\n",
    "    inner_radius=inner_radius, outer_radius=outer_radius, start_x=start_x, mu=mu)\n",
    "print(mu.tolist())\n",
    "\n",
    "plt.close('all')\n",
    "fig, (ax1, ax2) = plt.subplots(1, 2, figsize=(9, 4))\n",
    "ax1.axis('equal')\n",
    "\n",
    "inner_circle = plt.Circle((0, 0), inner_radius, color='limegreen', fill=True, alpha=.35)  # boundary\n",
    "outer_circle = plt.Circle((0, 0), outer_radius, color='lightgrey', fill=False)\n",
    "ax1.add_patch(inner_circle)\n",
    "ax1.add_patch(outer_circle)\n",
    "\n",
    "ax_plot_track(opt, ax1, mu,  aspect=True, track_color='darkred')\n",
    "ax1.plot(*start_x, marker='o', color='blue')\n",
    "ax1.plot(*opt.x, marker='o', color='orange')\n",
    "#ax1.plot(*mu, marker='*', color='limegreen')\n",
    "#ax1.plot((opt.x[0], mu[0]), (opt.x[1], mu[1]), linestyle='-.', color='darkred')\n",
    "\n",
    "ax1.set_xlabel(f'a) mu at ({mu[0]:.2f}, {mu[1]:.2f})')\n",
    "\n",
    "n_targets = 25\n",
    "data = tuple(optimization_out_of_the_boundary_circle(inner_radius=inner_radius, outer_radius=outer_radius, start_x=start_x) \n",
    "             for _ in range(n_targets))\n",
    "\n",
    "v_mu = np.array(tuple(mu for mu, opt in data))\n",
    "v_opt = np.array(tuple(opt.x for mu, opt in data))\n",
    "\n",
    "\n",
    "ax2.axis('equal')\n",
    "\n",
    "inner_circle = plt.Circle((0, 0), inner_radius, color='limegreen', fill=True, alpha=.35)  # boundary\n",
    "outer_circle = plt.Circle((0, 0), outer_radius, color='lightgrey', fill=False)\n",
    "ax2.add_patch(inner_circle)\n",
    "ax2.add_patch(outer_circle)\n",
    "\n",
    "ax2.plot(*start_x, marker='o', color='blue')\n",
    "ax2.plot(v_opt[:, 0], v_opt[:, 1], linestyle='', marker='o', color='orange')\n",
    "ax2.plot(v_mu[:, 0], v_mu[:, 1],  linestyle='', marker='*', color='limegreen')\n",
    "for mu, opt_x in zip(v_mu, v_opt):\n",
    "    ax2.plot((opt_x[0], mu[0]), (opt_x[1], mu[1]), linestyle=':', color='darkred')\n",
    "\n",
    "ax2.set_xlabel(f'b) {n_targets} independent opt.')    \n",
    "plt.savefig('mem/rsc/ex1-6.png', dpi=120, bbox_inches='tight')"
   ]
  },
  {
   "cell_type": "code",
   "execution_count": 672,
   "id": "9ca05c7a",
   "metadata": {},
   "outputs": [
    {
     "data": {
      "application/vnd.jupyter.widget-view+json": {
       "model_id": "fbc7ce67912f4b93b41666b1d69ecb01",
       "version_major": 2,
       "version_minor": 0
      },
      "text/plain": [
       "Canvas(toolbar=Toolbar(toolitems=[('Home', 'Reset original view', 'home', 'home'), ('Back', 'Back to previous …"
      ]
     },
     "metadata": {},
     "output_type": "display_data"
    }
   ],
   "source": [
    "plt.close('all')\n",
    "from matplotlib.patches import Rectangle\n",
    "\n",
    "def optimization_out_of_the_boundary_square(side=1, outer_radius=2, start_x=(0,0), mu=None):\n",
    "    phi = np.random.uniform(low=0, high=2*np.pi*outer_radius) / outer_radius\n",
    "    x_circle = outer_radius * np.cos(phi)\n",
    "    y_circle = outer_radius * np.sin(phi)\n",
    "    \n",
    "    mu = np.array((x_circle, y_circle)) if mu is None  else mu\n",
    "    \n",
    "    G = functools.partial(tc.gaussian, mu=mu, A=-1)\n",
    "    c1 = lambda x: side/2 - x[0]\n",
    "    c2 = lambda x: side/2 + x[0]\n",
    "    c3 = lambda x: side/2 - x[1]\n",
    "    c4 = lambda x: side/2 + x[1]\n",
    "\n",
    "    C = (c1, c2, c3, c4)\n",
    "\n",
    "    opt = GCobyla(start_x, G, C, rhoend=1e-12)\n",
    "    for _ in opt.g_run(): pass\n",
    "    return mu, opt\n",
    "\n",
    "#####\n",
    "side = 2\n",
    "outer_radius = 2\n",
    "start_x = np.array([-1.269592892310348, -1.191539685399302])\n",
    "#start_x = np.random.uniform(low=-1.5, high=1.5, size=2)\n",
    "mu = np.array([1.7503076742188297, 0.9676895398683771])\n",
    "#mu = None\n",
    "\n",
    "mu, opt = optimization_out_of_the_boundary_square(side=side, outer_radius=outer_radius, start_x=start_x, mu=mu)\n",
    "\n",
    "plt.close('all')\n",
    "fig, (ax1, ax2) = plt.subplots(1, 2, figsize=(9, 4))\n",
    "ax1.axis('equal')\n",
    "\n",
    "boundary = plt.Rectangle((-side/2, -side/2), side, side, color='limegreen', fill=True, alpha=.35)\n",
    "outer_circle = plt.Circle((0, 0), outer_radius, color='lightgrey', fill=False)\n",
    "ax1.add_patch(boundary)\n",
    "ax1.add_patch(outer_circle)\n",
    "\n",
    "ax_plot_track(opt, ax1, mu,  aspect=True, track_color='darkred')\n",
    "ax1.plot(*start_x, marker='o', color='blue')\n",
    "ax1.plot(*opt.x, marker='o', color='orange')\n",
    "ax1.plot(*mu, marker='*', color='limegreen')\n",
    "#ax.plot((start_x[0], opt.x[0]), (start_x[1], opt.x[1]), linestyle='-', color='red')\n",
    "ax1.plot((opt.optimal_vertex[0], mu[0]), (opt.optimal_vertex[1], mu[1]), linestyle=':', color='darkred')\n",
    "ax1.set_xlabel(f'a) mu at ({mu[0]:.2f}, {mu[1]:.2f})')\n",
    "\n",
    "\n",
    "n_targets = 25\n",
    "data = tuple(optimization_out_of_the_boundary_square(side=side, outer_radius=outer_radius, start_x=start_x) \n",
    "             for _ in range(n_targets))\n",
    "v_mu = np.array(tuple(mu for mu, opt in data))\n",
    "v_opt = np.array(tuple(opt.x for mu, opt in data))\n",
    "\n",
    "ax2.axis('equal')\n",
    "boundary = plt.Rectangle((-side/2, -side/2), side, side, color='limegreen', fill=True, alpha=.35)\n",
    "outer_circle = plt.Circle((0, 0), outer_radius, color='lightgrey', fill=False)\n",
    "ax2.add_patch(boundary)\n",
    "ax2.add_patch(outer_circle)\n",
    "\n",
    "ax2.plot(*start_x, marker='o', color='blue')\n",
    "ax2.plot(v_opt[:, 0], v_opt[:, 1], linestyle='', marker='o', color='orange')\n",
    "ax2.plot(v_mu[:, 0], v_mu[:, 1],  linestyle='', marker='*', color='limegreen')\n",
    "\n",
    "for mu, opt_x in zip(v_mu, v_opt):\n",
    "    #ax.plot((start_x[0], opt_x[0]), (start_x[1], opt_x[1]), linestyle='-', color='red')\n",
    "    ax2.plot((opt_x[0], mu[0]), (opt_x[1], mu[1]), linestyle=':', color='darkred')\n",
    "    \n",
    "ax2.set_xlabel(f'b) {n_targets} independent opt.') \n",
    "plt.savefig('mem/rsc/ex1-7.png', dpi=120, bbox_inches='tight')"
   ]
  },
  {
   "cell_type": "markdown",
   "id": "610b2bed",
   "metadata": {},
   "source": [
    "# Pyramid Example"
   ]
  },
  {
   "cell_type": "code",
   "execution_count": 61,
   "id": "ec709e46",
   "metadata": {},
   "outputs": [],
   "source": [
    "import functools\n",
    "\n",
    "import tests.test_custom as tc\n",
    "\n",
    "\n",
    "def pyramid_faces_optimizer(start_x, radius=2, faces=4, rhobeg=.5, rhoend=1e-12):\n",
    "    F = functools.partial(tc.pyramid_faces, center=np.zeros(2), radius=radius, height=-1, faces=faces)\n",
    "    c1 = lambda x: 1 - sum(x ** 2)\n",
    "    C = (c1,)\n",
    "    opt = GCobyla(start_x, F, C, rhobeg=rhobeg, rhoend=rhoend)\n",
    "    return opt"
   ]
  },
  {
   "cell_type": "code",
   "execution_count": 219,
   "id": "9d24b4a0",
   "metadata": {},
   "outputs": [
    {
     "data": {
      "application/vnd.jupyter.widget-view+json": {
       "model_id": "8cb080632d454ff2b8f799c9ef74372a",
       "version_major": 2,
       "version_minor": 0
      },
      "text/plain": [
       "Canvas(toolbar=Toolbar(toolitems=[('Home', 'Reset original view', 'home', 'home'), ('Back', 'Back to previous …"
      ]
     },
     "metadata": {},
     "output_type": "display_data"
    }
   ],
   "source": [
    "%matplotlib widget\n",
    "#%matplotlib notebook\n",
    "import itertools\n",
    "\n",
    "import numpy as np\n",
    "\n",
    "from mpl_toolkits.mplot3d import Axes3D\n",
    "import matplotlib.pyplot as plt\n",
    "from matplotlib import cm\n",
    "from matplotlib.ticker import LinearLocator, FormatStrFormatter\n",
    "\n",
    "plt.close('all')\n",
    "fig = plt.figure()\n",
    "ax = fig.add_subplot(1, 1, 1, projection='3d')\n",
    "\n",
    "X = np.linspace(-2, 2, 200)\n",
    "xv, yv = np.meshgrid(X, X)\n",
    "zv = np.array(tuple(tc.pyramid_faces(xy, center=(0, 0), radius=2, height=1, faces=4) for xy in itertools.product(X, X)))\n",
    "zv = zv.reshape(xv.shape)\n",
    "\n",
    "# Plot the surface.\n",
    "surf = ax.plot_surface(xv, yv, zv, cmap=cm.inferno, linewidth=0, antialiased=False)\n",
    "\n",
    "# Customize the z axis.\n",
    "ax.zaxis.set_major_locator(LinearLocator(5))\n",
    "ax.zaxis.set_major_formatter(FormatStrFormatter('%.01f'))\n",
    "\n",
    "plt.savefig('mem/rsc/ex1-8.png', dpi=120, bbox_inches='tight')"
   ]
  },
  {
   "cell_type": "code",
   "execution_count": 218,
   "id": "1bb6dd2e",
   "metadata": {},
   "outputs": [
    {
     "data": {
      "application/vnd.jupyter.widget-view+json": {
       "model_id": "66295d68459840b9bc3bdafadb068abe",
       "version_major": 2,
       "version_minor": 0
      },
      "text/plain": [
       "Canvas(toolbar=Toolbar(toolitems=[('Home', 'Reset original view', 'home', 'home'), ('Back', 'Back to previous …"
      ]
     },
     "metadata": {},
     "output_type": "display_data"
    }
   ],
   "source": [
    "start_x = np.array((0.60522848317453536992616, -0.92243950619371162247262))\n",
    "opt = pyramid_faces_optimizer(start_x=start_x, faces=4, rhobeg=.5)\n",
    "for _ in opt.g_run(): pass\n",
    "\n",
    "plt.close('all')\n",
    "fig, axes = plt.subplots(2, 2, figsize=(10, 9))\n",
    "ax1 = axes[0,0]\n",
    "ax2 = axes[0,1]\n",
    "ax3 = axes[1,0]\n",
    "ax4 = axes[1,1]\n",
    "\n",
    "###\n",
    "#ax1.set_aspect('equal')\n",
    "ax1.axis('equal')\n",
    "\n",
    "ax1.plot(np.array((-4, 4)), np.array((0, 0)), linestyle='-.', color='black')\n",
    "ax1.plot(np.array((0, 0)), np.array((-4, 4)), linestyle='-.', color='black')\n",
    "\n",
    "ax_plot_track(opt, ax1, target=np.zeros(2),  aspect=True, track_color='darkred')\n",
    "ax_plot_map(fig, ax1, opt, border=2, nsamples=200)\n",
    "ax1.set(xlim=(-1, 1), ylim=(-1, 1))\n",
    "ax1.xaxis.set_major_formatter(FormatStrFormatter('%.1f'))\n",
    "ax1.yaxis.set_major_formatter(FormatStrFormatter('%.1f'))\n",
    "\n",
    "###\n",
    "#ax2.set_aspect('equal')\n",
    "ax2.axis('equal')\n",
    "ax2.plot(np.array((-4, 4)), np.array((0, 0)), linestyle='-.', color='black')\n",
    "ax2.plot(np.array((0, 0)), np.array((-4, 4)), linestyle='-.', color='black')\n",
    "\n",
    "ax_plot_track(opt, ax2, target=np.zeros(2),  aspect=True, track_color='darkred')\n",
    "ax_plot_map(fig, ax2, opt, border=1, nsamples=200)\n",
    "margin = 5e-2\n",
    "xmin = min((*opt.track[:, 0], 0))\n",
    "xmax = max((*opt.track[:, 0], 0))\n",
    "ymin = min((*opt.track[:, 1], 0))\n",
    "ymax = max((*opt.track[:, 1], 0))\n",
    "ax2.set(xlim=(xmin - margin, xmax + margin), ylim=(ymin - margin, ymax + margin))\n",
    "ax2.xaxis.set_major_formatter(FormatStrFormatter('%.1f'))\n",
    "ax2.yaxis.set_major_formatter(FormatStrFormatter('%.1f'))\n",
    "\n",
    "###\n",
    "#ax3.set_aspect('equal')\n",
    "ax3.axis('equal')\n",
    "ax3.plot(np.array((-4, 4)), np.array((0, 0)), linestyle='-.', color='black')\n",
    "ax3.plot(np.array((0, 0)), np.array((-4, 4)), linestyle='-.', color='black')\n",
    "ax_plot_track(opt, ax3, target=np.zeros(2),  aspect=True, track_color='darkred')\n",
    "ax_plot_map(fig, ax3, opt, border=1, nsamples=200)\n",
    "ax3.set(xlim=(-.01, .18), ylim=(-1e-3, 1e-3))\n",
    "ax3.xaxis.set_major_formatter(FormatStrFormatter('%.2f'))\n",
    "ax3.yaxis.set_major_formatter(FormatStrFormatter('%.2f'))\n",
    "\n",
    "\n",
    "###\n",
    "#ax4.set_aspect('equal')\n",
    "ax4.axis('equal')\n",
    "ax4.plot(np.array((-4, 4)), np.array((0, 0)), linestyle='-.', color='black')\n",
    "ax4.plot(np.array((0, 0)), np.array((-4, 4)), linestyle='-.', color='black')\n",
    "ax_plot_track(opt, ax4, target=np.zeros(2),  aspect=True, track_color='darkred')\n",
    "ax_plot_map(fig, ax4, opt, border=1, nsamples=200)\n",
    "ax4.set(xlim=(.083, .086), ylim=(-1e-3, 1e-3))\n",
    "ax4.xaxis.set_major_formatter(FormatStrFormatter('%.3f'))\n",
    "ax4.yaxis.set_major_formatter(FormatStrFormatter('%.3f'))\n",
    "\n",
    "\n",
    "###\n",
    "ax1.set_xlabel(f'a)')\n",
    "ax2.set_xlabel(f'b)')\n",
    "ax3.set_xlabel(f'c)')\n",
    "ax4.set_xlabel(f'd)')\n",
    "plt.savefig('mem/rsc/ex1-9.png', dpi=120, bbox_inches='tight')"
   ]
  },
  {
   "cell_type": "code",
   "execution_count": null,
   "id": "cad6dc56",
   "metadata": {},
   "outputs": [],
   "source": []
  }
 ],
 "metadata": {
  "kernelspec": {
   "display_name": "Python 3",
   "language": "python",
   "name": "python3"
  },
  "language_info": {
   "codemirror_mode": {
    "name": "ipython",
    "version": 3
   },
   "file_extension": ".py",
   "mimetype": "text/x-python",
   "name": "python",
   "nbconvert_exporter": "python",
   "pygments_lexer": "ipython3",
   "version": "3.8.3"
  }
 },
 "nbformat": 4,
 "nbformat_minor": 5
}
