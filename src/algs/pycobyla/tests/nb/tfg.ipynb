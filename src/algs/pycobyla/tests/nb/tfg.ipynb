{
 "cells": [
  {
   "cell_type": "markdown",
   "id": "61625dd6",
   "metadata": {},
   "source": [
    "# Delta branch"
   ]
  },
  {
   "cell_type": "code",
   "execution_count": 2,
   "id": "59719c7e",
   "metadata": {},
   "outputs": [],
   "source": [
    "%matplotlib widget\n",
    "import numpy as np\n",
    "import matplotlib.pyplot as plt\n",
    "import matplotlib.tri as tri\n",
    "\n",
    "def ax_plot_simplex(ax, optimal_vertex, sim, jdrop, rho):\n",
    "    simplex = np.array((optimal_vertex, *(sim + optimal_vertex), optimal_vertex))\n",
    "    ax.plot(simplex[...,0], simplex[...,1], '-', color='lightsteelblue', lw=2)\n",
    "    ax.plot(simplex[1:-1,0], simplex[1:-1,1], '.', color='blue', marker='o')\n",
    "    ax.plot(simplex[jdrop+1,0], simplex[jdrop+1,1], '.', color='red', marker='o')\n",
    "    ax.plot(*optimal_vertex, color='limegreen', marker='D')\n",
    "    \n",
    "    beta = 2.1\n",
    "    beta_region = plt.Circle(optimal_vertex, beta * rho, color='lemonchiffon', fill=True, alpha=0.5)\n",
    "    trust_region = plt.Circle(optimal_vertex, rho, color='gold', fill=True, alpha=0.5)\n",
    "    ax.add_patch(beta_region)\n",
    "    ax.add_patch(trust_region)"
   ]
  },
  {
   "cell_type": "code",
   "execution_count": 3,
   "id": "b608eac6",
   "metadata": {},
   "outputs": [
    {
     "data": {
      "application/vnd.jupyter.widget-view+json": {
       "model_id": "6371b5dea73240169f49378d871596ec",
       "version_major": 2,
       "version_minor": 0
      },
      "text/plain": [
       "Canvas(toolbar=Toolbar(toolitems=[('Home', 'Reset original view', 'home', 'home'), ('Back', 'Back to previous …"
      ]
     },
     "metadata": {},
     "output_type": "display_data"
    }
   ],
   "source": [
    "# eta case\n",
    "plt.close('all')\n",
    "jdrop = 0\n",
    "rho = 0.0625\n",
    "optimal_vertex = np.array([0.047873700624370373047, 0.03301727499567987112])\n",
    "old_sim = np.array([[-0.13019926157022278929, -0.059595187823573939068], [-0.05055567780160368646, 0.036747427692566961288]])\n",
    "new_sim = np.array([[0.018373713846283478442, 0.025277838900801840201], [-0.05055567780160368646, 0.036747427692566961288]])\n",
    "old_veta = np.array([0.14319020261581568261, 0.062500000000000007495])\n",
    "new_veta = np.array([0.03125, 0.062500000000000007495])\n",
    "old_vsig = np.array([0.12475780902899252224, 0.054454585033534948986])\n",
    "new_vsig = np.array([0.031249999999999999998, 0.06250000000000000749])\n",
    "\n",
    "coords = np.array((*old_sim, *new_sim)) + optimal_vertex\n",
    "x_coords = coords[:, 0]\n",
    "y_coords = coords[:, 1]\n",
    "\n",
    "plt.close('all')\n",
    "fig, (ax1, ax2) = plt.subplots(1, 2, figsize=(12, 6))\n",
    "xmin = min(x_coords)\n",
    "xmax = max(x_coords)\n",
    "ymin = min(y_coords)\n",
    "ymax = max(y_coords)\n",
    "margin = 1e-2\n",
    "\n",
    "#_ = ax1.set(xlim=(xmin - margin, xmax + margin), ylim=(ymin - margin, ymax + margin))\n",
    "#_ = ax2.set(xlim=(xmin - margin, xmax + margin), ylim=(ymin - margin, ymax + margin))\n",
    "ax1.set_aspect('equal')\n",
    "ax2.set_aspect('equal')\n",
    "\n",
    "ax_plot_simplex(ax1, optimal_vertex, old_sim, jdrop, rho=rho)\n",
    "ax_plot_simplex(ax2, optimal_vertex, new_sim, jdrop, rho=rho)\n",
    "plt.savefig('mem/rsc/delta-eta.png', dpi=120, bbox_inches='tight')"
   ]
  },
  {
   "cell_type": "code",
   "execution_count": 4,
   "id": "5b824984",
   "metadata": {},
   "outputs": [
    {
     "data": {
      "application/vnd.jupyter.widget-view+json": {
       "model_id": "623ca3403fdd493e8295eba9c1e19261",
       "version_major": 2,
       "version_minor": 0
      },
      "text/plain": [
       "Canvas(toolbar=Toolbar(toolitems=[('Home', 'Reset original view', 'home', 'home'), ('Back', 'Back to previous …"
      ]
     },
     "metadata": {},
     "output_type": "display_data"
    }
   ],
   "source": [
    "# sigma case\n",
    "plt.close('all')\n",
    "jdrop = 1\n",
    "rho = 6.103515625e-05\n",
    "optimal_vertex = np.array([0.12322095602324728612, 0.7876477600799215061])\n",
    "old_sim = np.array([[0.00010609379901699572403, -5.758107655831259315e-05], [4.8716293255678108707e-05, -3.676973034832708352e-05]])\n",
    "#new_sim = np.array([[0.00010609379901699572403, -5.758107655831259315e-05], [-1.4557208222393858973e-05, -2.6821824385849429767e-05]])\n",
    "new_sim = np.array([[0.000120651007239389583, -3.0759252172463163382e-05], [1.4557208222393858973e-05, 2.6821824385849429767e-05]])\n",
    "old_veta = np.array([0.00012071236294378856573, 6.103515625000000053e-05])\n",
    "#new_veta = np.array([0.00012071236294378856573, 3.0517578125e-05])\n",
    "new_veta = np.array([0.00012451022906608282922, 3.0517578125e-05])\n",
    "old_vsig = np.array([1.7955287365912709351e-05, 9.078637375381810534e-06])\n",
    "#new_vsig = np.array([0.00012071236294378856568, 3.0517578124999999998e-05])\n",
    "new_vsig = np.array([0.00012071236294378856568, 2.958671744821261666e-05])\n",
    "\n",
    "coords = np.array((*old_sim, *new_sim)) + optimal_vertex\n",
    "x_coords = coords[:, 0]\n",
    "y_coords = coords[:, 1]\n",
    "\n",
    "plt.close('all')\n",
    "fig, (ax1, ax2) = plt.subplots(1, 2, figsize=(12, 6))\n",
    "xmin = min(x_coords)\n",
    "xmax = max(x_coords)\n",
    "ymin = min(y_coords)\n",
    "ymax = max(y_coords)\n",
    "margin = 6e-5\n",
    "\n",
    "#_ = ax1.set(xlim=(xmin - margin, xmax + margin), ylim=(ymin - margin, ymax + margin))\n",
    "#_ = ax2.set(xlim=(xmin - margin, xmax + margin), ylim=(ymin - margin, ymax + margin))\n",
    "ax1.set_aspect('equal')\n",
    "ax2.set_aspect('equal')\n",
    "\n",
    "ax_plot_simplex(ax1, optimal_vertex, old_sim, jdrop, rho=rho)\n",
    "ax_plot_simplex(ax2, optimal_vertex, new_sim, jdrop, rho=rho)\n",
    "plt.savefig('mem/rsc/delta-sigma.png', dpi=120, bbox_inches='tight')"
   ]
  },
  {
   "cell_type": "markdown",
   "id": "13c46c21",
   "metadata": {},
   "source": [
    "# Examples"
   ]
  },
  {
   "cell_type": "code",
   "execution_count": 78,
   "id": "a70f6040",
   "metadata": {},
   "outputs": [],
   "source": [
    "import functools\n",
    "import itertools\n",
    "\n",
    "import numpy as np\n",
    "\n",
    "from pycobyla.gcobyla import GCobyla\n",
    "\n",
    "import tests.test_custom as tc\n",
    "from tests.nb import utils"
   ]
  },
  {
   "cell_type": "code",
   "execution_count": 79,
   "id": "167b9e6a",
   "metadata": {},
   "outputs": [],
   "source": [
    "%matplotlib widget\n",
    "\n",
    "import matplotlib.pyplot as plt\n",
    "from matplotlib import cm\n",
    "\n",
    "def ax_plot_simplex(ax, optimal_vertex, sim):\n",
    "    simplex = np.array((optimal_vertex, *(sim + optimal_vertex), optimal_vertex))\n",
    "    ax.plot(*optimal_vertex, color='limegreen', marker='o')\n",
    "    ax.plot(simplex[1:-1,0], simplex[1:-1,1], '.', color='blue', marker='o')\n",
    "    ax.plot(simplex[...,0], simplex[...,1], '-.', color='gray', lw=2)\n",
    "    \n",
    "\n",
    "def ax_plot_track(opt, ax, target, from_points=0, to_points=None, plot_simplex=False, plot_trure=False, aspect=False, track_color=None, track_alpha=1):\n",
    "    track = opt.track[from_points:to_points]\n",
    "    ax.plot(track[:, 0], track[:, 1], linestyle='-', color=track_color, alpha=track_alpha, marker='o')\n",
    "\n",
    "    link_best = np.array((track[-1], target))\n",
    "    ax.plot(link_best[:, 0], link_best[:, 1], linestyle=':', color=track_color)\n",
    "    ax.plot(target[0], target[1], color='limegreen', marker='*')\n",
    "        \n",
    "    if plot_simplex:\n",
    "        #simplex = np.array((opt.optimal_vertex, *(opt.sim + opt.optimal_vertex), opt.optimal_vertex))\n",
    "        ax_plot_simplex(ax, opt.optimal_vertex, opt.sim)\n",
    "            \n",
    "    if plot_trure:\n",
    "        trust_region = plt.Circle(opt.optimal_vertex, opt.rho, color='khaki', fill=True, alpha=0.5)\n",
    "        ax.add_patch(trust_region)\n",
    "        \n",
    "    if aspect:\n",
    "        ax.set_aspect('equal')\n",
    "        \n",
    "def ax_plot_map(fig, ax, opt, border, nsamples=100):\n",
    "    X = np.linspace(-border, border, nsamples)\n",
    "    xv, yv = np.meshgrid(X, X)\n",
    "    zv = np.array(tuple(-opt.F(xy) for xy in itertools.product(X, X)))\n",
    "    zv = zv.reshape(xv.shape)\n",
    "    \n",
    "    cs = ax.contourf(xv, yv, zv, cmap=cm.magma)\n",
    "    #cbar = fig.colorbar(cs)\n",
    "    \n",
    "    #ax.plot(np.array((-border, border)), np.array((0, 0)), linestyle='-.', color='royalblue')\n",
    "    #ax.plot(np.array((0, 0)), np.array((-border, border)), linestyle='-.', color='royalblue')\n"
   ]
  },
  {
   "cell_type": "code",
   "execution_count": 80,
   "id": "2493519c",
   "metadata": {},
   "outputs": [],
   "source": [
    "def gaussian_optimizer(start_x, mu=None, sig=None, A=-1):\n",
    "    mu = np.zeros(2) if mu is None else mu\n",
    "    sig = np.ones(2) if sig is None else sig\n",
    "    \n",
    "    F = functools.partial(tc.gaussian, mu=mu, sig=sig, A=A)\n",
    "    C = ()\n",
    "    \n",
    "    opt = GCobyla(start_x, F, C, rhobeg=0.5, rhoend=1e-12)\n",
    "    return opt"
   ]
  },
  {
   "cell_type": "code",
   "execution_count": 81,
   "id": "42912b97",
   "metadata": {},
   "outputs": [
    {
     "data": {
      "application/vnd.jupyter.widget-view+json": {
       "model_id": "c2731895786f4bafa809c21371544b1e",
       "version_major": 2,
       "version_minor": 0
      },
      "text/plain": [
       "Canvas(toolbar=Toolbar(toolitems=[('Home', 'Reset original view', 'home', 'home'), ('Back', 'Back to previous …"
      ]
     },
     "metadata": {},
     "output_type": "display_data"
    }
   ],
   "source": [
    "plt.close('all')\n",
    "fig, axes = plt.subplots(2, 3, figsize=(12, 9))\n",
    "mu = (0, 0)\n",
    "\n",
    "gg = functools.partial(gaussian_optimizer, mu=mu, A=-1)\n",
    "\n",
    "rsc = {\n",
    "    axes[0,0]: ((.5**.5,.5**.5),'a)'),\n",
    "    axes[0,1]: ((0,1), 'b)'),\n",
    "    axes[0,2]: ((-.5**.5,.5**.5), 'c)'),\n",
    "    axes[1,0]: ((-.5**.5,-.5**.5), 'd)'),\n",
    "    axes[1,1]: ((0,-1), 'e)'),\n",
    "    axes[1,2]: ((.5**.5,-.5**.5),'f)'),\n",
    "}\n",
    "    \n",
    "\n",
    "for ax, data in rsc.items():\n",
    "    start_x, caption = data\n",
    "    opt = gg(start_x=start_x)\n",
    "    for _ in opt.g_run(): pass\n",
    "\n",
    "    ax.set_xlabel(f'{caption} start x at ({start_x[0]:.2f}, {start_x[1]:.2f})')\n",
    "    ax_plot_track(opt, ax, mu,  aspect=True, track_color='darkred')\n",
    "    ax_plot_map(fig, ax, opt, border=2, nsamples=50)\n",
    "    \n",
    "plt.savefig('mem/rsc/ex1-1.png', dpi=120, bbox_inches='tight')"
   ]
  },
  {
   "cell_type": "markdown",
   "id": "c8591740",
   "metadata": {
    "tags": []
   },
   "source": [
    "# Una normal amb restriccions"
   ]
  },
  {
   "cell_type": "code",
   "execution_count": 82,
   "id": "130934e1",
   "metadata": {},
   "outputs": [],
   "source": [
    "def gaussian_optimizer(start_x, border=1, mu=None, sig=None, A=-1):\n",
    "    mu = np.zeros(2) if mu is None else mu\n",
    "    sig = np.ones(2) if sig is None else sig\n",
    "    \n",
    "    F = functools.partial(tc.gaussian, mu=mu, sig=sig, A=A)\n",
    "    c1 = lambda x: border - x[0]\n",
    "    c2 = lambda x: border + x[0]\n",
    "    c3 = lambda x: border - x[1]\n",
    "    c4 = lambda x: border + x[1]\n",
    "    C = (c1, c2, c3, c4)\n",
    "    \n",
    "    opt = GCobyla(start_x, F, C, rhobeg=0.5, rhoend=1e-12)\n",
    "    return opt"
   ]
  },
  {
   "cell_type": "code",
   "execution_count": 83,
   "id": "a02d40f6",
   "metadata": {},
   "outputs": [
    {
     "data": {
      "application/vnd.jupyter.widget-view+json": {
       "model_id": "56dd1ba7af844b2bb390474fb8634d25",
       "version_major": 2,
       "version_minor": 0
      },
      "text/plain": [
       "Canvas(toolbar=Toolbar(toolitems=[('Home', 'Reset original view', 'home', 'home'), ('Back', 'Back to previous …"
      ]
     },
     "metadata": {},
     "output_type": "display_data"
    }
   ],
   "source": [
    "plt.close('all')\n",
    "fig, axes = plt.subplots(2, 3, figsize=(12, 9))\n",
    "border = .5\n",
    "mu = (0, 0)\n",
    "\n",
    "gg = functools.partial(gaussian_optimizer, border=border, mu=mu, A=-1)\n",
    "\n",
    "rsc = {\n",
    "    axes[0,0]: ((.5**.5,.5**.5),'a)'),\n",
    "    axes[0,1]: ((0,1), 'b)'),\n",
    "    axes[0,2]: ((-.5**.5,.5**.5), 'c)'),\n",
    "    axes[1,0]: ((-.5**.5,-.5**.5), 'd)'),\n",
    "    axes[1,1]: ((0,-1), 'e)'),\n",
    "    axes[1,2]: ((.5**.5,-.5**.5),'f)'),\n",
    "}\n",
    "    \n",
    "\n",
    "for ax, data in rsc.items():\n",
    "    start_x, caption = data\n",
    "    opt = gg(start_x=start_x)\n",
    "    for _ in opt.g_run(): pass\n",
    "\n",
    "    ax.set_xlabel(f'{caption} start x at ({start_x[0]:.2f}, {start_x[1]:.2f})')\n",
    "    ax_plot_track(opt, ax, mu,  aspect=True, track_color='darkred')\n",
    "    ax_plot_map(fig, ax, opt, border=2, nsamples=50)\n",
    "    \n",
    "    region = np.array(((border, border), (-border,border), (-border, -border), (border, -border), (border, border)))\n",
    "    ax.plot(region[..., 0], region[..., 1], linestyle='-.', color='black')\n",
    "    ax.fill(region[..., 0], region[..., 1], color='limegreen', alpha=.35)\n",
    "    \n",
    "plt.savefig('mem/rsc/ex1-2.png', dpi=120, bbox_inches='tight')"
   ]
  },
  {
   "cell_type": "code",
   "execution_count": 84,
   "id": "8c29ac2c",
   "metadata": {},
   "outputs": [
    {
     "data": {
      "application/vnd.jupyter.widget-view+json": {
       "model_id": "5c888d8f973b4986914c736849309e20",
       "version_major": 2,
       "version_minor": 0
      },
      "text/plain": [
       "Canvas(toolbar=Toolbar(toolitems=[('Home', 'Reset original view', 'home', 'home'), ('Back', 'Back to previous …"
      ]
     },
     "metadata": {},
     "output_type": "display_data"
    }
   ],
   "source": [
    "plt.close('all')\n",
    "fig, axes = plt.subplots(2, 3, figsize=(12, 9))\n",
    "mu = (0, 0)\n",
    "border = 1\n",
    "\n",
    "gg = functools.partial(gaussian_optimizer, mu=mu, A=-1)\n",
    "\n",
    "start_x = (.5**.5, .5**.5)\n",
    "rsc = {\n",
    "    axes[0,0]: (start_x, 'a)'),\n",
    "    axes[0,1]: (start_x, 'b)'),\n",
    "    axes[0,2]: (start_x, 'c)'),\n",
    "    axes[1,0]: (start_x, 'd)'),\n",
    "    axes[1,1]: (start_x, 'e)'),\n",
    "    axes[1,2]: (start_x, 'f)'),\n",
    "}\n",
    "    \n",
    "\n",
    "for ax, data in rsc.items():\n",
    "    start_x, caption = data\n",
    "    opt = gg(start_x=start_x, border=border)\n",
    "    for _ in opt.g_run(): pass\n",
    "\n",
    "    ax.set_xlabel(f'{caption} start x at ({start_x[0]:.2f}, {start_x[1]:.2f}), length side {2*border:.2f}')\n",
    "    ax_plot_track(opt, ax, mu,  aspect=True, track_color='darkred')\n",
    "    ax_plot_map(fig, ax, opt, border=2, nsamples=50)\n",
    "    \n",
    "    region = np.array(((border, border), (-border,border), (-border, -border), (border, -border), (border, border)))\n",
    "    ax.plot(region[..., 0], region[..., 1], linestyle='-.', color='black')\n",
    "    ax.fill(region[..., 0], region[..., 1], color='limegreen', alpha=.35)\n",
    "    border *= .5\n",
    "plt.savefig('mem/rsc/ex1-3.png', dpi=120, bbox_inches='tight')"
   ]
  },
  {
   "cell_type": "markdown",
   "id": "488db2dd",
   "metadata": {},
   "source": [
    "# Normal amb regió delimitada per dues rectes. x inicial fora de la regió especial"
   ]
  },
  {
   "cell_type": "code",
   "execution_count": 85,
   "id": "0a7111f3",
   "metadata": {},
   "outputs": [],
   "source": [
    "def gaussian_optimizer(start_x, mu=None, sig=None, A=-1):\n",
    "    mu = np.zeros(2) if mu is None else mu\n",
    "    sig = np.ones(2) if sig is None else sig\n",
    "    \n",
    "    F = functools.partial(tc.gaussian, mu=mu, sig=sig, A=A)\n",
    "    c1 = lambda x: x[0] - x[1] - .5\n",
    "    c2 = lambda x: -(x[0] - x[1] - 1)\n",
    "    C = (c1, c2)\n",
    "    \n",
    "    opt = GCobyla(start_x, F, C, rhobeg=0.5, rhoend=1e-12)\n",
    "    return opt"
   ]
  },
  {
   "cell_type": "code",
   "execution_count": 86,
   "id": "01bf16cd",
   "metadata": {},
   "outputs": [
    {
     "data": {
      "application/vnd.jupyter.widget-view+json": {
       "model_id": "091c8774759e4ef389656046f4a34a2a",
       "version_major": 2,
       "version_minor": 0
      },
      "text/plain": [
       "Canvas(toolbar=Toolbar(toolitems=[('Home', 'Reset original view', 'home', 'home'), ('Back', 'Back to previous …"
      ]
     },
     "metadata": {},
     "output_type": "display_data"
    },
    {
     "name": "stdout",
     "output_type": "stream",
     "text": [
      "[ 0.25 -0.25]\n",
      "[ 0.25 -0.25]\n"
     ]
    }
   ],
   "source": [
    "plt.close('all')\n",
    "fig, axes = plt.subplots(1,2, figsize=(9, 4))\n",
    "mu = (0, 0)\n",
    "\n",
    "gg = functools.partial(gaussian_optimizer, mu=mu, A=-1)\n",
    "\n",
    "rsc = {\n",
    "    axes[0]: ((-1, 0), 'a)'),\n",
    "    axes[1]: ((1.8, 0), 'b)'),\n",
    "}\n",
    "    \n",
    "for ax, data in rsc.items():\n",
    "    start_x, caption = data\n",
    "    opt = gg(start_x=start_x)\n",
    "    for _ in opt.g_run(): pass\n",
    "\n",
    "    ax.set_xlabel(f'{caption} start x at ({start_x[0]:.2f}, {start_x[1]:.2f})')\n",
    "    ax_plot_track(opt, ax, mu,  aspect=True, track_color='darkred')\n",
    "    ax_plot_map(fig, ax, opt, border=2, nsamples=100)\n",
    "    \n",
    "    l1 = lambda x: x - .5\n",
    "    l2 = lambda x: x - 1\n",
    "    c1 = np.array(((-1.5, l1(-1.5)), (2, l1(2))))\n",
    "    c2 = np.array(((-1, l2(-1)), (2, l2(2))))\n",
    "    ax.plot(c1[..., 0], c1[..., 1], linestyle='-.', color='black')\n",
    "    ax.plot(c2[..., 0], c2[..., 1], linestyle='-.', color='black')\n",
    "    \n",
    "    region = np.array(((-1.5, l1(-1.5)), (2, l1(2)), (2, l2(2)), (-1, l2(-1)), (-1.5, l1(-1.5))))\n",
    "    ax.fill(region[..., 0], region[..., 1], color='limegreen', alpha=.35)\n",
    "    print(opt.optimal_vertex)\n",
    "\n",
    "plt.savefig('mem/rsc/ex1-4.png', dpi=120, bbox_inches='tight')"
   ]
  },
  {
   "cell_type": "code",
   "execution_count": 87,
   "id": "b1cd7d2f",
   "metadata": {},
   "outputs": [
    {
     "data": {
      "application/vnd.jupyter.widget-view+json": {
       "model_id": "9d4c1d07fe6543fb937704befec04ff9",
       "version_major": 2,
       "version_minor": 0
      },
      "text/plain": [
       "Canvas(toolbar=Toolbar(toolitems=[('Home', 'Reset original view', 'home', 'home'), ('Back', 'Back to previous …"
      ]
     },
     "metadata": {},
     "output_type": "display_data"
    }
   ],
   "source": [
    "import matplotlib.cm as cm\n",
    "\n",
    "plt.close('all')\n",
    "fig, ax = plt.subplots(1, figsize=(9, 4))\n",
    "mu = (0, 0)\n",
    "\n",
    "ax1.set_aspect('equal')\n",
    "ax2.set_aspect('equal')\n",
    "\n",
    "gg = functools.partial(gaussian_optimizer, mu=mu, A=-1)\n",
    "angles = np.arange(start=0, stop=2*np.pi, step=15*(2*np.pi)/360)\n",
    "\n",
    "for angle in angles:\n",
    "    start_x = np.array((np.cos(angle), np.sin(angle)))\n",
    "    opt = gg(start_x=start_x)\n",
    "    for _ in opt.g_run(): pass\n",
    "    \n",
    "    ax_plot_track(opt, ax, mu, aspect=True, track_color='darkred',  track_alpha=.3)\n",
    "    ax.plot(start_x[0], start_x[1], 'o', color='darkred')\n",
    "    ax.plot(opt.optimal_vertex[0], opt.optimal_vertex[1], 'o', color='orange')\n",
    "    \n",
    "    l1 = lambda x: x - .5\n",
    "    l2 = lambda x: x - 1\n",
    "    c1 = np.array(((-1.5, l1(-1.5)), (2, l1(2))))\n",
    "    c2 = np.array(((-1, l2(-1)), (2, l2(2))))\n",
    "    \n",
    "\n",
    "    assert (opt.optimal_vertex.round(9) == np.array((.25, -.25))).all()\n",
    "    #print(opt.optimal_vertex)\n",
    "        \n",
    "ax_plot_map(fig, ax, opt, border=2, nsamples=100)\n",
    "ax.plot(c1[..., 0], c1[..., 1], linestyle='-.', color='black')\n",
    "ax.plot(c2[..., 0], c2[..., 1], linestyle='-.', color='black')\n",
    "region = np.array(((-1.5, l1(-1.5)), (2, l1(2)), (2, l2(2)), (-1, l2(-1)), (-1.5, l1(-1.5))))\n",
    "ax.fill(region[..., 0], region[..., 1], color='limegreen', alpha=.35)\n",
    "\n",
    "plt.savefig('mem/rsc/ex1-5.png', dpi=120, bbox_inches='tight')"
   ]
  },
  {
   "cell_type": "markdown",
   "id": "fba90e8d",
   "metadata": {},
   "source": [
    "# Out of circle"
   ]
  },
  {
   "cell_type": "code",
   "execution_count": 88,
   "id": "8858fb70",
   "metadata": {},
   "outputs": [],
   "source": [
    "def optimization_out_of_the_boundary_circle(inner_radius=1, outer_radius=2, start_x=(0,0), mu=None):\n",
    "    assert outer_radius > inner_radius\n",
    "    \n",
    "    sig = np.random.choice((-1, 1))\n",
    "    phi = np.random.uniform(low=0, high=2*np.pi*outer_radius) / outer_radius\n",
    "    x_circle = outer_radius * np.cos(phi)\n",
    "    y_circle = outer_radius * np.sin(phi)\n",
    "    \n",
    "    mu = np.array((x_circle, y_circle)) if mu is None else mu\n",
    "    \n",
    "    G = functools.partial(tc.gaussian, mu=mu, A=-1)\n",
    "    c1 = lambda x: inner_radius - sum(x ** 2)\n",
    "\n",
    "    C = (c1,)\n",
    "\n",
    "    opt = GCobyla(start_x, G, C, rhobeg=3e-1, rhoend=1e-15)\n",
    "    for _ in opt.g_run(): pass\n",
    "    \n",
    "    \n",
    "    return mu, opt"
   ]
  },
  {
   "cell_type": "code",
   "execution_count": 89,
   "id": "075c2f06",
   "metadata": {},
   "outputs": [
    {
     "name": "stdout",
     "output_type": "stream",
     "text": [
      "[0.17174320179775046, 1.9926124240896064]\n"
     ]
    },
    {
     "data": {
      "application/vnd.jupyter.widget-view+json": {
       "model_id": "7734f72395ef4494b85dfb6ebc0461c3",
       "version_major": 2,
       "version_minor": 0
      },
      "text/plain": [
       "Canvas(toolbar=Toolbar(toolitems=[('Home', 'Reset original view', 'home', 'home'), ('Back', 'Back to previous …"
      ]
     },
     "metadata": {},
     "output_type": "display_data"
    }
   ],
   "source": [
    "%matplotlib widget\n",
    "import matplotlib.pyplot as plt\n",
    "plt.close('all')\n",
    "\n",
    "\n",
    "inner_radius = 1\n",
    "outer_radius = 2\n",
    "start_x = np.array((-0.10696211, -0.65293934))\n",
    "#start_x = np.random.uniform(low=-1, high=1, size=2)\n",
    "mu = np.array([0.17174320179775046, 1.9926124240896064])\n",
    "#mu = None\n",
    "\n",
    "mu, opt = optimization_out_of_the_boundary_circle(\n",
    "    inner_radius=inner_radius, outer_radius=outer_radius, start_x=start_x, mu=mu)\n",
    "print(mu.tolist())\n",
    "\n",
    "plt.close('all')\n",
    "fig, (ax1, ax2) = plt.subplots(1, 2, figsize=(9, 4))\n",
    "ax1.axis('equal')\n",
    "\n",
    "inner_circle = plt.Circle((0, 0), inner_radius, color='limegreen', fill=True, alpha=.35)  # boundary\n",
    "outer_circle = plt.Circle((0, 0), outer_radius, color='lightgrey', fill=False)\n",
    "ax1.add_patch(inner_circle)\n",
    "ax1.add_patch(outer_circle)\n",
    "\n",
    "ax_plot_track(opt, ax1, mu,  aspect=True, track_color='darkred')\n",
    "ax1.plot(*start_x, marker='o', color='blue')\n",
    "ax1.plot(*opt.x, marker='o', color='orange')\n",
    "#ax1.plot(*mu, marker='*', color='limegreen')\n",
    "#ax1.plot((opt.x[0], mu[0]), (opt.x[1], mu[1]), linestyle='-.', color='darkred')\n",
    "\n",
    "ax1.set_xlabel(f'a) mu at ({mu[0]:.2f}, {mu[1]:.2f})')\n",
    "\n",
    "n_targets = 25\n",
    "data = tuple(optimization_out_of_the_boundary_circle(inner_radius=inner_radius, outer_radius=outer_radius, start_x=start_x) \n",
    "             for _ in range(n_targets))\n",
    "\n",
    "v_mu = np.array(tuple(mu for mu, opt in data))\n",
    "v_opt = np.array(tuple(opt.x for mu, opt in data))\n",
    "\n",
    "\n",
    "ax2.axis('equal')\n",
    "\n",
    "inner_circle = plt.Circle((0, 0), inner_radius, color='limegreen', fill=True, alpha=.35)  # boundary\n",
    "outer_circle = plt.Circle((0, 0), outer_radius, color='lightgrey', fill=False)\n",
    "ax2.add_patch(inner_circle)\n",
    "ax2.add_patch(outer_circle)\n",
    "\n",
    "ax2.plot(*start_x, marker='o', color='blue')\n",
    "ax2.plot(v_opt[:, 0], v_opt[:, 1], linestyle='', marker='o', color='orange')\n",
    "ax2.plot(v_mu[:, 0], v_mu[:, 1],  linestyle='', marker='*', color='limegreen')\n",
    "for mu, opt_x in zip(v_mu, v_opt):\n",
    "    ax2.plot((opt_x[0], mu[0]), (opt_x[1], mu[1]), linestyle=':', color='darkred')\n",
    "\n",
    "ax2.set_xlabel(f'b) {n_targets} independent opt.')    \n",
    "plt.savefig('mem/rsc/ex1-6.png', dpi=120, bbox_inches='tight')"
   ]
  },
  {
   "cell_type": "code",
   "execution_count": 90,
   "id": "bcaba456",
   "metadata": {},
   "outputs": [
    {
     "data": {
      "application/vnd.jupyter.widget-view+json": {
       "model_id": "d94a2d2ac1674f548d1dd2aaeb90d909",
       "version_major": 2,
       "version_minor": 0
      },
      "text/plain": [
       "Canvas(toolbar=Toolbar(toolitems=[('Home', 'Reset original view', 'home', 'home'), ('Back', 'Back to previous …"
      ]
     },
     "metadata": {},
     "output_type": "display_data"
    }
   ],
   "source": [
    "plt.close('all')\n",
    "from matplotlib.patches import Rectangle\n",
    "\n",
    "def optimization_out_of_the_boundary_square(side=1, outer_radius=2, start_x=(0,0), mu=None):\n",
    "    phi = np.random.uniform(low=0, high=2*np.pi*outer_radius) / outer_radius\n",
    "    x_circle = outer_radius * np.cos(phi)\n",
    "    y_circle = outer_radius * np.sin(phi)\n",
    "    \n",
    "    mu = np.array((x_circle, y_circle)) if mu is None  else mu\n",
    "    \n",
    "    G = functools.partial(tc.gaussian, mu=mu, A=-1)\n",
    "    c1 = lambda x: side/2 - x[0]\n",
    "    c2 = lambda x: side/2 + x[0]\n",
    "    c3 = lambda x: side/2 - x[1]\n",
    "    c4 = lambda x: side/2 + x[1]\n",
    "\n",
    "    C = (c1, c2, c3, c4)\n",
    "\n",
    "    opt = GCobyla(start_x, G, C, rhoend=1e-12)\n",
    "    for _ in opt.g_run(): pass\n",
    "    return mu, opt\n",
    "\n",
    "#####\n",
    "side = 2\n",
    "outer_radius = 2\n",
    "start_x = np.array([-1.269592892310348, -1.191539685399302])\n",
    "#start_x = np.random.uniform(low=-1.5, high=1.5, size=2)\n",
    "mu = np.array([1.7503076742188297, 0.9676895398683771])\n",
    "#mu = None\n",
    "\n",
    "mu, opt = optimization_out_of_the_boundary_square(side=side, outer_radius=outer_radius, start_x=start_x, mu=mu)\n",
    "\n",
    "plt.close('all')\n",
    "fig, (ax1, ax2) = plt.subplots(1, 2, figsize=(9, 4))\n",
    "ax1.axis('equal')\n",
    "\n",
    "boundary = plt.Rectangle((-side/2, -side/2), side, side, color='limegreen', fill=True, alpha=.35)\n",
    "outer_circle = plt.Circle((0, 0), outer_radius, color='lightgrey', fill=False)\n",
    "ax1.add_patch(boundary)\n",
    "ax1.add_patch(outer_circle)\n",
    "\n",
    "ax_plot_track(opt, ax1, mu,  aspect=True, track_color='darkred')\n",
    "ax1.plot(*start_x, marker='o', color='blue')\n",
    "ax1.plot(*opt.x, marker='o', color='orange')\n",
    "ax1.plot(*mu, marker='*', color='limegreen')\n",
    "#ax.plot((start_x[0], opt.x[0]), (start_x[1], opt.x[1]), linestyle='-', color='red')\n",
    "ax1.plot((opt.optimal_vertex[0], mu[0]), (opt.optimal_vertex[1], mu[1]), linestyle=':', color='darkred')\n",
    "ax1.set_xlabel(f'a) mu at ({mu[0]:.2f}, {mu[1]:.2f})')\n",
    "\n",
    "\n",
    "n_targets = 25\n",
    "data = tuple(optimization_out_of_the_boundary_square(side=side, outer_radius=outer_radius, start_x=start_x) \n",
    "             for _ in range(n_targets))\n",
    "v_mu = np.array(tuple(mu for mu, opt in data))\n",
    "v_opt = np.array(tuple(opt.x for mu, opt in data))\n",
    "\n",
    "ax2.axis('equal')\n",
    "boundary = plt.Rectangle((-side/2, -side/2), side, side, color='limegreen', fill=True, alpha=.35)\n",
    "outer_circle = plt.Circle((0, 0), outer_radius, color='lightgrey', fill=False)\n",
    "ax2.add_patch(boundary)\n",
    "ax2.add_patch(outer_circle)\n",
    "\n",
    "ax2.plot(*start_x, marker='o', color='blue')\n",
    "ax2.plot(v_opt[:, 0], v_opt[:, 1], linestyle='', marker='o', color='orange')\n",
    "ax2.plot(v_mu[:, 0], v_mu[:, 1],  linestyle='', marker='*', color='limegreen')\n",
    "\n",
    "for mu, opt_x in zip(v_mu, v_opt):\n",
    "    #ax.plot((start_x[0], opt_x[0]), (start_x[1], opt_x[1]), linestyle='-', color='red')\n",
    "    ax2.plot((opt_x[0], mu[0]), (opt_x[1], mu[1]), linestyle=':', color='darkred')\n",
    "    \n",
    "ax2.set_xlabel(f'b) {n_targets} independent opt.') \n",
    "plt.savefig('mem/rsc/ex1-7.png', dpi=120, bbox_inches='tight')"
   ]
  },
  {
   "cell_type": "markdown",
   "id": "8ee1e746",
   "metadata": {},
   "source": [
    "# Pyramid Example"
   ]
  },
  {
   "cell_type": "code",
   "execution_count": 91,
   "id": "db1bbaec",
   "metadata": {},
   "outputs": [],
   "source": [
    "import functools\n",
    "\n",
    "import tests.test_custom as tc\n",
    "\n",
    "radius = 2\n",
    "\n",
    "def pyramid_faces_optimizer(start_x, radius=radius, faces=4, rhobeg=.5, rhoend=1e-12):\n",
    "    F = functools.partial(tc.pyramid_faces, center=np.zeros(2), radius=radius, height=-1, faces=faces)\n",
    "    c1 = lambda x: 1 - sum(x ** 2)\n",
    "    C = (c1,)\n",
    "    opt = GCobyla(start_x, F, C, rhobeg=rhobeg, rhoend=rhoend)\n",
    "    return opt"
   ]
  },
  {
   "cell_type": "code",
   "execution_count": 92,
   "id": "556c48ce",
   "metadata": {},
   "outputs": [
    {
     "data": {
      "application/vnd.jupyter.widget-view+json": {
       "model_id": "f8cab5df407048eaa73ce622c7f857cc",
       "version_major": 2,
       "version_minor": 0
      },
      "text/plain": [
       "Canvas(toolbar=Toolbar(toolitems=[('Home', 'Reset original view', 'home', 'home'), ('Back', 'Back to previous …"
      ]
     },
     "metadata": {},
     "output_type": "display_data"
    }
   ],
   "source": [
    "%matplotlib widget\n",
    "#%matplotlib notebook\n",
    "import itertools\n",
    "\n",
    "import numpy as np\n",
    "\n",
    "from mpl_toolkits.mplot3d import Axes3D\n",
    "import matplotlib.pyplot as plt\n",
    "from matplotlib import cm\n",
    "from matplotlib.ticker import LinearLocator, FormatStrFormatter\n",
    "\n",
    "plt.close('all')\n",
    "fig = plt.figure()\n",
    "ax = fig.add_subplot(1, 1, 1, projection='3d')\n",
    "\n",
    "X = np.linspace(-radius, radius, 200)\n",
    "xv, yv = np.meshgrid(X, X)\n",
    "zv = np.array(tuple(tc.pyramid_faces(xy, center=(0, 0), radius=radius, height=1, faces=4) for xy in itertools.product(X, X)))\n",
    "zv = zv.reshape(xv.shape)\n",
    "\n",
    "# Plot the surface.\n",
    "surf = ax.plot_surface(xv, yv, zv, cmap=cm.inferno, linewidth=0, antialiased=False)\n",
    "\n",
    "# Customize the z axis.\n",
    "ax.zaxis.set_major_locator(LinearLocator(5))\n",
    "ax.zaxis.set_major_formatter(FormatStrFormatter('%.01f'))\n",
    "\n",
    "plt.savefig('mem/rsc/ex1-8.png', dpi=120, bbox_inches='tight')"
   ]
  },
  {
   "cell_type": "code",
   "execution_count": 93,
   "id": "48af16a4",
   "metadata": {},
   "outputs": [
    {
     "data": {
      "application/vnd.jupyter.widget-view+json": {
       "model_id": "d70a2d0664c6482faa8267fd2ae5b185",
       "version_major": 2,
       "version_minor": 0
      },
      "text/plain": [
       "Canvas(toolbar=Toolbar(toolitems=[('Home', 'Reset original view', 'home', 'home'), ('Back', 'Back to previous …"
      ]
     },
     "metadata": {},
     "output_type": "display_data"
    },
    {
     "data": {
      "text/plain": [
       "0.08365341470192740388"
      ]
     },
     "execution_count": 93,
     "metadata": {},
     "output_type": "execute_result"
    }
   ],
   "source": [
    "#start_x = np.array((-0.26835858024991177117613, -0.12417347476622397905999))  #radius = 1\n",
    "#start_x = np.array((0.29437038734662568373324, -0.55939322414647030257129))  # radius = 2\n",
    "#start_x = np.array((0.60522848317453536992616, -0.92243950619371162247262))  # radius = 2\n",
    "start_x = np.array((0.6052, -0.9224))  # radius = 2\n",
    "opt = pyramid_faces_optimizer(start_x=start_x, faces=4, rhobeg=.5)\n",
    "for _ in opt.g_run(): pass\n",
    "\n",
    "plt.close('all')\n",
    "fig, axes = plt.subplots(2, 2, figsize=(10, 9))\n",
    "ax1 = axes[0,0]\n",
    "ax2 = axes[0,1]\n",
    "ax3 = axes[1,0]\n",
    "ax4 = axes[1,1]\n",
    "\n",
    "circle = plt.Circle((0, 0), 1, color='limegreen', fill=False)\n",
    "\n",
    "###\n",
    "#ax1.set_aspect('equal')\n",
    "ax1.axis('equal')\n",
    "\n",
    "ax1.plot(np.array((-4, 4)), np.array((0, 0)), linestyle='-.', color='black')\n",
    "ax1.plot(np.array((0, 0)), np.array((-4, 4)), linestyle='-.', color='black')\n",
    "\n",
    "ax_plot_track(opt, ax1, target=np.zeros(2),  aspect=True, track_color='darkred')\n",
    "ax_plot_map(fig, ax1, opt, border=2, nsamples=200)\n",
    "ax1.add_patch(circle)\n",
    "ax1.set(xlim=(-1, 1), ylim=(-1, 1))\n",
    "ax1.xaxis.set_major_formatter(FormatStrFormatter('%.1f'))\n",
    "ax1.yaxis.set_major_formatter(FormatStrFormatter('%.1f'))\n",
    "\n",
    "###\n",
    "#ax2.set_aspect('equal')\n",
    "ax2.axis('equal')\n",
    "ax2.plot(np.array((-4, 4)), np.array((0, 0)), linestyle='-.', color='black')\n",
    "ax2.plot(np.array((0, 0)), np.array((-4, 4)), linestyle='-.', color='black')\n",
    "\n",
    "ax_plot_track(opt, ax2, target=np.zeros(2),  aspect=True, track_color='darkred')\n",
    "ax_plot_map(fig, ax2, opt, border=1, nsamples=200)\n",
    "margin = 5e-2\n",
    "xmin = min((*opt.track[:, 0], 0))\n",
    "xmax = max((*opt.track[:, 0], 0))\n",
    "ymin = min((*opt.track[:, 1], 0))\n",
    "ymax = max((*opt.track[:, 1], 0))\n",
    "ax2.add_patch(plt.Circle((0, 0), 1, color='limegreen', fill=False))\n",
    "ax2.set(xlim=(xmin - margin, xmax + margin), ylim=(ymin - margin, ymax + margin))\n",
    "ax2.xaxis.set_major_formatter(FormatStrFormatter('%.1f'))\n",
    "ax2.yaxis.set_major_formatter(FormatStrFormatter('%.1f'))\n",
    "\n",
    "###\n",
    "#ax3.set_aspect('equal')\n",
    "ax3.axis('equal')\n",
    "ax3.plot(np.array((-4, 4)), np.array((0, 0)), linestyle='-.', color='black')\n",
    "ax3.plot(np.array((0, 0)), np.array((-4, 4)), linestyle='-.', color='black')\n",
    "ax_plot_track(opt, ax3, target=np.zeros(2),  aspect=True, track_color='darkred')\n",
    "ax_plot_map(fig, ax3, opt, border=1, nsamples=200)\n",
    "ax3.set(xlim=(-.01, .18), ylim=(-1e-3, 1e-3))\n",
    "ax3.xaxis.set_major_formatter(FormatStrFormatter('%.2f'))\n",
    "ax3.yaxis.set_major_formatter(FormatStrFormatter('%.2f'))\n",
    "\n",
    "\n",
    "###\n",
    "#ax4.set_aspect('equal')\n",
    "ax4.axis('equal')\n",
    "ax4.plot(np.array((-4, 4)), np.array((0, 0)), linestyle='-.', color='black')\n",
    "ax4.plot(np.array((0, 0)), np.array((-4, 4)), linestyle='-.', color='black')\n",
    "ax_plot_track(opt, ax4, target=np.zeros(2),  aspect=True, track_color='darkred')\n",
    "ax_plot_map(fig, ax4, opt, border=1, nsamples=200)\n",
    "ax4.set(xlim=(.083, .086), ylim=(-1e-3, 1e-3))\n",
    "ax4.xaxis.set_major_formatter(FormatStrFormatter('%.3f'))\n",
    "ax4.yaxis.set_major_formatter(FormatStrFormatter('%.3f'))\n",
    "\n",
    "\n",
    "###\n",
    "ax1.set_xlabel(f'a)')\n",
    "ax2.set_xlabel(f'b)')\n",
    "ax3.set_xlabel(f'c)')\n",
    "ax4.set_xlabel(f'd)')\n",
    "plt.savefig('mem/rsc/ex1-9.png', dpi=120, bbox_inches='tight')\n",
    "\n",
    "np.linalg.norm(opt.optimal_vertex)"
   ]
  },
  {
   "cell_type": "code",
   "execution_count": 94,
   "id": "8cf6ca4d",
   "metadata": {},
   "outputs": [
    {
     "data": {
      "application/vnd.jupyter.widget-view+json": {
       "model_id": "3d069482b5834eca9df15665c98fbe68",
       "version_major": 2,
       "version_minor": 0
      },
      "text/plain": [
       "Canvas(toolbar=Toolbar(toolitems=[('Home', 'Reset original view', 'home', 'home'), ('Back', 'Back to previous …"
      ]
     },
     "metadata": {},
     "output_type": "display_data"
    },
    {
     "data": {
      "text/plain": [
       "1.0024370510201885988e-12"
      ]
     },
     "execution_count": 94,
     "metadata": {},
     "output_type": "execute_result"
    }
   ],
   "source": [
    "start_x = np.array((0.6052, -0.9224))  # radius = 2\n",
    "opt = pyramid_faces_optimizer(start_x=start_x, faces=4, rhobeg=.1)\n",
    "for _ in opt.g_run(): pass\n",
    "\n",
    "plt.close('all')\n",
    "fig, axes = plt.subplots(2, 2, figsize=(10, 9))\n",
    "ax1 = axes[0,0]\n",
    "ax2 = axes[0,1]\n",
    "ax3 = axes[1,0]\n",
    "ax4 = axes[1,1]\n",
    "\n",
    "circle = plt.Circle((0, 0), 1, color='limegreen', fill=False)\n",
    "\n",
    "###\n",
    "#ax1.set_aspect('equal')\n",
    "ax1.axis('equal')\n",
    "\n",
    "ax1.plot(np.array((-4, 4)), np.array((0, 0)), linestyle='-.', color='black')\n",
    "ax1.plot(np.array((0, 0)), np.array((-4, 4)), linestyle='-.', color='black')\n",
    "\n",
    "ax_plot_track(opt, ax1, target=np.zeros(2),  aspect=True, track_color='darkred')\n",
    "ax_plot_map(fig, ax1, opt, border=2, nsamples=200)\n",
    "ax1.add_patch(circle)\n",
    "ax1.set(xlim=(-1, 1), ylim=(-1, 1))\n",
    "ax1.xaxis.set_major_formatter(FormatStrFormatter('%.1f'))\n",
    "ax1.yaxis.set_major_formatter(FormatStrFormatter('%.1f'))\n",
    "\n",
    "###\n",
    "#ax2.set_aspect('equal')\n",
    "ax2.axis('equal')\n",
    "ax2.plot(np.array((-4, 4)), np.array((0, 0)), linestyle='-.', color='black')\n",
    "ax2.plot(np.array((0, 0)), np.array((-4, 4)), linestyle='-.', color='black')\n",
    "\n",
    "ax_plot_track(opt, ax2, target=np.zeros(2),  aspect=True, track_color='darkred')\n",
    "ax_plot_map(fig, ax2, opt, border=1, nsamples=200)\n",
    "margin = 5e-2\n",
    "xmin = min((*opt.track[:, 0], 0))\n",
    "xmax = max((*opt.track[:, 0], 0))\n",
    "ymin = min((*opt.track[:, 1], 0))\n",
    "ymax = max((*opt.track[:, 1], 0))\n",
    "ax2.add_patch(plt.Circle((0, 0), 1, color='limegreen', fill=False))\n",
    "ax2.set(xlim=(xmin - margin, xmax + margin), ylim=(ymin - margin, ymax + margin))\n",
    "ax2.xaxis.set_major_formatter(FormatStrFormatter('%.1f'))\n",
    "ax2.yaxis.set_major_formatter(FormatStrFormatter('%.1f'))\n",
    "\n",
    "###\n",
    "#ax3.set_aspect('equal')\n",
    "ax3.axis('equal')\n",
    "ax3.plot(np.array((-4, 4)), np.array((0, 0)), linestyle='-.', color='black')\n",
    "ax3.plot(np.array((0, 0)), np.array((-4, 4)), linestyle='-.', color='black')\n",
    "ax_plot_track(opt, ax3, target=np.zeros(2),  aspect=True, track_color='darkred')\n",
    "ax_plot_map(fig, ax3, opt, border=1, nsamples=200)\n",
    "ax3.set(xlim=(-.5, .5), ylim=(-.5, .5))\n",
    "ax3.xaxis.set_major_formatter(FormatStrFormatter('%.2f'))\n",
    "ax3.yaxis.set_major_formatter(FormatStrFormatter('%.2f'))\n",
    "\n",
    "\n",
    "###\n",
    "#ax4.set_aspect('equal')\n",
    "ax4.axis('equal')\n",
    "ax4.plot(np.array((-4, 4)), np.array((0, 0)), linestyle='-.', color='black')\n",
    "ax4.plot(np.array((0, 0)), np.array((-4, 4)), linestyle='-.', color='black')\n",
    "ax_plot_track(opt, ax4, target=np.zeros(2),  aspect=True, track_color='darkred')\n",
    "ax_plot_map(fig, ax4, opt, border=1, nsamples=200)\n",
    "ax4.set(xlim=(-1.5e-11, 1.5e-11), ylim=(-1.5e-11, 1.5e-11))\n",
    "#ax4.xaxis.set_major_formatter(FormatStrFormatter('%.3f'))\n",
    "#ax4.yaxis.set_major_formatter(FormatStrFormatter('%.3f'))\n",
    "\n",
    "\n",
    "###\n",
    "ax1.set_xlabel(f'a)')\n",
    "ax2.set_xlabel(f'b)')\n",
    "ax3.set_xlabel(f'c)')\n",
    "ax4.set_xlabel(f'd)')\n",
    "plt.savefig('mem/rsc/ex1-10.png', dpi=120, bbox_inches='tight')\n",
    "\n",
    "np.linalg.norm(opt.optimal_vertex)"
   ]
  },
  {
   "cell_type": "markdown",
   "id": "563d0314",
   "metadata": {},
   "source": [
    "# Two peaks"
   ]
  },
  {
   "cell_type": "code",
   "execution_count": 95,
   "id": "eb61c967",
   "metadata": {},
   "outputs": [],
   "source": [
    "def gaussian_multipeak_optimizer(g1, g2, start_x, border=1, rhobeg=.1, rhoend=1e-12):\n",
    "    mu1, sig1, A1 = g1\n",
    "    mu2, sig2, A2 = g2\n",
    "    G1 = functools.partial(tc.gaussian, mu=mu1, sig=sig1, A=A1)\n",
    "    G2 = functools.partial(tc.gaussian, mu=mu2, sig=sig2, A=A2)\n",
    "    F = lambda x: G1(x) + G2(x)\n",
    "    \n",
    "    c1 = lambda x: border - x[0]\n",
    "    c2 = lambda x: border + x[0]\n",
    "    c3 = lambda x: border - x[1]\n",
    "    c4 = lambda x: border + x[1]\n",
    "    C = (c1, c2, c3, c4)\n",
    "    \n",
    "    opt = GCobyla(start_x, F, C, rhobeg=rhobeg, rhoend=rhoend)\n",
    "    return opt"
   ]
  },
  {
   "cell_type": "code",
   "execution_count": 96,
   "id": "3f3e00d1",
   "metadata": {},
   "outputs": [
    {
     "data": {
      "application/vnd.jupyter.widget-view+json": {
       "model_id": "4ef8558ce4d54b4da58f52b42818c557",
       "version_major": 2,
       "version_minor": 0
      },
      "text/plain": [
       "Canvas(toolbar=Toolbar(toolitems=[('Home', 'Reset original view', 'home', 'home'), ('Back', 'Back to previous …"
      ]
     },
     "metadata": {},
     "output_type": "display_data"
    }
   ],
   "source": [
    "import string\n",
    "\n",
    "mu1 = (.5, .5)\n",
    "sig1 = (.25, .25)\n",
    "A1 = -2\n",
    "\n",
    "mu2 = (-.5, -.5)\n",
    "sig2 = (.25, .25)\n",
    "A2 = -1\n",
    "\n",
    "g1 = (mu1, sig1, A1)\n",
    "g2 = (mu2, sig2, A2)\n",
    "\n",
    "\n",
    "opts = (\n",
    "    gaussian_multipeak_optimizer(g1, g2, start_x=(-.046, -.046)),\n",
    "    gaussian_multipeak_optimizer(g1, g2, start_x=(-.5, .5)),\n",
    "    gaussian_multipeak_optimizer(g1, g2, start_x=(.5, -.5)),\n",
    "    gaussian_multipeak_optimizer(g1, g2, start_x=(-.047, -.047)),\n",
    "    gaussian_multipeak_optimizer(g1, g2, start_x=(-.5, .3)),\n",
    "    gaussian_multipeak_optimizer(g1, g2, start_x=(.3, -.5))\n",
    ")\n",
    "\n",
    "plt.close('all')\n",
    "fig, axes = plt.subplots(2, 3, figsize=(12, 9))\n",
    "fig.tight_layout(pad=2.0)\n",
    "\n",
    "for opt, ax, label in zip(opts, axes.ravel(), string.ascii_lowercase):\n",
    "    for _ in opt.g_run(): pass\n",
    "\n",
    "    ax_plot_map(fig, ax, opt, border=1.2, nsamples=200)\n",
    "    ax_plot_track(opt, ax, target=opt.optimal_vertex, aspect=True, track_color='darkred')\n",
    "\n",
    "    region = np.array(((1, 1), (-1, 1), (-1, -1), (1, -1), (1, 1)))\n",
    "    ax.plot(region[..., 0], region[..., 1], linestyle='-.', color='limegreen')\n",
    "    ax.plot(np.array((-2, 2)), np.array((0, 0)), linestyle='-.', color='royalblue')\n",
    "    ax.plot(np.array((0, 0)), np.array((-2, 2)), linestyle='-.', color='royalblue')\n",
    "    ax.set(xlim=(-1.1, 1.1), ylim=(-1.1, 1.1))\n",
    "    ax.set_xlabel(f'{label}) start x at {opt.start_x}')\n",
    "    \n",
    "plt.savefig('mem/rsc/ex1-11.png', dpi=120, bbox_inches='tight')"
   ]
  },
  {
   "cell_type": "code",
   "execution_count": 97,
   "id": "9240e998",
   "metadata": {},
   "outputs": [
    {
     "data": {
      "application/vnd.jupyter.widget-view+json": {
       "model_id": "e4b86d1b4c1c4637996e8031f305aa02",
       "version_major": 2,
       "version_minor": 0
      },
      "text/plain": [
       "Canvas(toolbar=Toolbar(toolitems=[('Home', 'Reset original view', 'home', 'home'), ('Back', 'Back to previous …"
      ]
     },
     "metadata": {},
     "output_type": "display_data"
    }
   ],
   "source": [
    "n_points = 1000  # 2 x n_points dots\n",
    "inner_border = .15\n",
    "outer_border = 2\n",
    "\n",
    "plt.close('all')\n",
    "fig, ax = plt.subplots(1, 1, figsize=(6, 6))\n",
    "\n",
    "ax_plot_map(fig, ax, opt, border=outer_border, nsamples=300)\n",
    "\n",
    "region = np.array(((1, 1), (-1, 1), (-1, -1), (1, -1), (1, 1)))\n",
    "ax.plot(region[..., 0], region[..., 1], linestyle='-.', color='limegreen')\n",
    "ax.plot(np.array((-2, 2)), np.array((0, 0)), linestyle='-.', color='royalblue')\n",
    "ax.plot(np.array((0, 0)), np.array((-2, 2)), linestyle='-.', color='royalblue')\n",
    "ax.set(xlim=(-outer_border, outer_border), ylim=(-outer_border, outer_border))\n",
    "\n",
    "color_1, peak_1 = 'red', np.array((.5, .5)) \n",
    "color_2, peak_2 = 'deepskyblue', np.array((-.5, -.5))\n",
    "tol = 1e-5\n",
    "\n",
    "ax.plot(peak_1[0], peak_1[1], linestyle='', marker='*', color=color_1)\n",
    "ax.plot(peak_2[0], peak_2[1], linestyle='', marker='*', color=color_2)\n",
    "\n",
    "targets = {color_1: [], color_2: []}\n",
    "for _ in range(n_points):\n",
    "    x_up = np.random.uniform(low=-inner_border, high=outer_border)\n",
    "    y_down = np.random.uniform(low=-outer_border, high=inner_border)\n",
    "    start_x = np.array((x_up, y_down)) \n",
    "    opt = gaussian_multipeak_optimizer(g1, g2, start_x=start_x)\n",
    "    opt.run()\n",
    "    \n",
    "    color, peak = (color_1, peak_1) if (opt.optimal_vertex[0] > 0) else (color_2, peak_2)\n",
    "    assert np.linalg.norm(opt.optimal_vertex - peak) < 1e-6\n",
    "    targets[color].append(start_x) \n",
    "    \n",
    "    x_down = np.random.uniform(low=-outer_border, high=inner_border)\n",
    "    y_up = np.random.uniform(low=-inner_border, high=outer_border)\n",
    "    start_x = np.array((x_down, y_up))\n",
    "    opt = gaussian_multipeak_optimizer(g1, g2, start_x=start_x)\n",
    "    opt.run()\n",
    "    \n",
    "    color, peak = (color_1, peak_1) if (opt.optimal_vertex[0] > 0) else (color_2, peak_2)\n",
    "    assert np.linalg.norm(opt.optimal_vertex - peak) < tol\n",
    "    targets[color].append(start_x)\n",
    "\n",
    "for color, points in targets.items():\n",
    "    points = np.array(points)\n",
    "    ax.plot(points[:, 0], points[:, 1], linestyle='', marker='.', color=color)\n",
    "    \n",
    "plt.savefig('mem/rsc/ex1-12.png', dpi=120, bbox_inches='tight')  "
   ]
  },
  {
   "cell_type": "markdown",
   "id": "01ba9e29",
   "metadata": {},
   "source": [
    "# Waves field"
   ]
  },
  {
   "cell_type": "code",
   "execution_count": 98,
   "id": "c9434e98",
   "metadata": {},
   "outputs": [],
   "source": [
    "import numpy as np\n",
    "\n",
    "import tests.test_custom as tc\n",
    "\n",
    "\n",
    "def wave_optimizer(T0, A0, T1, A1, start_x, border=1, rhobeg=1, rhoend=1e-12):\n",
    "    F = lambda x: tc.waves(x, T0=T0, A0=A0, T1=T1, A1=A1)\n",
    "    \n",
    "    c1 = lambda x: border - x[0]\n",
    "    c2 = lambda x: border + x[0]\n",
    "    c3 = lambda x: border - x[1]\n",
    "    c4 = lambda x: border + x[1]\n",
    "    C = (c1, c2, c3, c4)\n",
    "    \n",
    "    opt = GCobyla(start_x, F, C, rhobeg=rhobeg, rhoend=rhoend)\n",
    "    return opt"
   ]
  },
  {
   "cell_type": "code",
   "execution_count": 118,
   "id": "c14fe0bb",
   "metadata": {},
   "outputs": [
    {
     "data": {
      "application/vnd.jupyter.widget-view+json": {
       "model_id": "a2f5a3a0edae4e158d35d63fcfb6f43a",
       "version_major": 2,
       "version_minor": 0
      },
      "text/plain": [
       "Canvas(toolbar=Toolbar(toolitems=[('Home', 'Reset original view', 'home', 'home'), ('Back', 'Back to previous …"
      ]
     },
     "metadata": {},
     "output_type": "display_data"
    }
   ],
   "source": [
    "plt.close('all')\n",
    "fig, ax = plt.subplots(1, 1, figsize=(6,6))\n",
    "\n",
    "start_x = np.array((0,0))\n",
    "T0, A0 = 1, 1\n",
    "T1, A1 = 1, 1\n",
    "\n",
    "rhobeg1 = .1\n",
    "rhobeg2 = .8\n",
    "rhobeg3 = 1\n",
    "\n",
    "opt1 = wave_optimizer(T0=T0, A0=A0, T1=T1, A1=A1, start_x=start_x, border=1, rhobeg=rhobeg1)\n",
    "opt2 = wave_optimizer(T0=T0, A0=A0, T1=T1, A1=A1, start_x=start_x, border=1, rhobeg=rhobeg2)\n",
    "opt3 = wave_optimizer(T0=T0, A0=A0, T1=T1, A1=A1, start_x=start_x, border=1, rhobeg=rhobeg3)\n",
    "\n",
    "for _ in opt1.g_run(): pass\n",
    "for _ in opt2.g_run(): pass\n",
    "for _ in opt3.g_run(): pass\n",
    "\n",
    "ax_plot_map(fig, ax, opt1, border=1.2, nsamples=200)\n",
    "\n",
    "ax_plot_track(opt1, ax, target=(.5, .5), aspect=True, track_color='red')\n",
    "ax_plot_track(opt2, ax, target=(-.5, .5), aspect=True, track_color='blue')\n",
    "ax_plot_track(opt3, ax, target=(.5, -.5), aspect=True, track_color='green')\n",
    "region = np.array(((1, 1), (-1, 1), (-1, -1), (1, -1), (1, 1)))\n",
    "ax.plot(region[..., 0], region[..., 1], linestyle='-.', color='limegreen')\n",
    "\n",
    "plt.savefig('mem/rsc/ex1-13.png', dpi=120, bbox_inches='tight')"
   ]
  },
  {
   "cell_type": "code",
   "execution_count": 115,
   "id": "a0050728",
   "metadata": {},
   "outputs": [
    {
     "data": {
      "application/vnd.jupyter.widget-view+json": {
       "model_id": "6706ace60846418389dbed71b09067c6",
       "version_major": 2,
       "version_minor": 0
      },
      "text/plain": [
       "Canvas(toolbar=Toolbar(toolitems=[('Home', 'Reset original view', 'home', 'home'), ('Back', 'Back to previous …"
      ]
     },
     "metadata": {},
     "output_type": "display_data"
    },
    {
     "name": "stderr",
     "output_type": "stream",
     "text": [
      "maximum number of function evaluations reach\n",
      "maximum number of function evaluations reach\n",
      "maximum number of function evaluations reach\n",
      "maximum number of function evaluations reach\n"
     ]
    }
   ],
   "source": [
    "import string\n",
    "import tests.data\n",
    "\n",
    "plt.close('all')\n",
    "fig, axes = plt.subplots(2, 2, figsize=(10, 9))\n",
    "fig.tight_layout(pad=2.0)\n",
    "\n",
    "\n",
    "opts = (\n",
    "    wave_optimizer(T0=T0, A0=A0, T1=T1, A1=A1, start_x=tests.data.BAD_WAVES_FIELD_START_X[6], border=1, rhobeg=.1),\n",
    "    wave_optimizer(T0=T0, A0=A0, T1=T1, A1=A1, start_x=tests.data.BAD_WAVES_FIELD_START_X[15], border=1, rhobeg=.1),\n",
    "    wave_optimizer(T0=T0, A0=A0, T1=T1, A1=A1, start_x=tests.data.BAD_WAVES_FIELD_START_X[3], border=1, rhobeg=.1),\n",
    "    wave_optimizer(T0=T0, A0=A0, T1=T1, A1=A1, start_x=tests.data.BAD_WAVES_FIELD_START_X[10], border=1, rhobeg=.1)\n",
    ")\n",
    "\n",
    "targets = ((-.5, .5), (.5, .5), (.5, .5), (.5, -.5))\n",
    "\n",
    "for opt, ax, label, target in zip(opts, axes.ravel(), string.ascii_lowercase, targets):\n",
    "    try:\n",
    "        for _ in opt.g_run(): pass\n",
    "    except:\n",
    "        opt.optimal_vertex = opt.x\n",
    "        \n",
    "    ax_plot_map(fig, ax, opt, border=1.2, nsamples=200)\n",
    "    ax_plot_track(opt, ax, target=target, aspect=True, track_color='deepskyblue')\n",
    "    region = np.array(((1, 1), (-1, 1), (-1, -1), (1, -1), (1, 1)))\n",
    "    ax.plot(region[..., 0], region[..., 1], linestyle='-.', color='limegreen')\n",
    "    ax.set_xlabel(f'{label}) start x at {opt.start_x}')\n",
    "\n",
    "plt.savefig('mem/rsc/ex1-14.png', dpi=120, bbox_inches='tight') "
   ]
  },
  {
   "cell_type": "code",
   "execution_count": 28,
   "id": "f61cd9bc",
   "metadata": {},
   "outputs": [
    {
     "data": {
      "application/vnd.jupyter.widget-view+json": {
       "model_id": "ff1041732a204480a42aa4ae9bf7ba61",
       "version_major": 2,
       "version_minor": 0
      },
      "text/plain": [
       "Canvas(toolbar=Toolbar(toolitems=[('Home', 'Reset original view', 'home', 'home'), ('Back', 'Back to previous …"
      ]
     },
     "metadata": {},
     "output_type": "display_data"
    }
   ],
   "source": [
    "plt.close('all')\n",
    "fig, ax = plt.subplots(1,1, figsize=(6,6))\n",
    "\n",
    "ax_plot_map(fig, ax, opt, border=1.2, nsamples=500)\n",
    "region = np.array(((1, 1), (-1, 1), (-1, -1), (1, -1), (1, 1)))\n",
    "ax.plot(region[..., 0], region[..., 1], linestyle='-.', color='limegreen')\n",
    "#ax.fill(region[..., 0], region[..., 1], color='limegreen', alpha=.15)\n",
    "\n",
    "targets = tests.data.BAD_WAVES_FIELD_START_X\n",
    "ax.plot(targets[:, 0], targets[:, 1], linestyle='', marker='.', color='orange')\n",
    "plt.savefig('mem/rsc/ex1-15.png', dpi=120, bbox_inches='tight')"
   ]
  },
  {
   "cell_type": "code",
   "execution_count": 73,
   "id": "68f2b666",
   "metadata": {},
   "outputs": [
    {
     "data": {
      "text/plain": [
       "array([[ 0.98339995,  0.39446042],\n",
       "       [ 0.98339995,  0.39446042],\n",
       "       [ 0.95591205, -0.36856458],\n",
       "       [ 0.97530021,  0.7642675 ],\n",
       "       [ 0.83423063,  0.95234139],\n",
       "       [-0.8743952 ,  0.96539099],\n",
       "       [-0.79177057,  0.95053853],\n",
       "       [ 0.96794841,  0.78593216],\n",
       "       [ 0.96696354, -0.41931914],\n",
       "       [-0.31321551,  0.9760916 ],\n",
       "       [ 0.97790963, -0.26520498],\n",
       "       [ 0.97440277, -0.76728859],\n",
       "       [ 0.96886712, -0.38365157],\n",
       "       [ 0.95774139, -0.36911808],\n",
       "       [ 0.78332253,  0.95034937],\n",
       "       [ 0.99692965,  0.57384217],\n",
       "       [ 0.69290577,  0.97301846],\n",
       "       [ 0.10505047,  0.95227693],\n",
       "       [ 0.58679939,  0.95906591],\n",
       "       [ 0.33200481,  0.97066115],\n",
       "       [ 0.98295483, -0.6934984 ],\n",
       "       [-0.65645219,  0.98212985],\n",
       "       [ 0.96140436,  0.57559995],\n",
       "       [ 0.96863019,  0.22746172],\n",
       "       [ 0.97787301, -0.7597252 ],\n",
       "       [ 0.53560804,  0.99344428],\n",
       "       [-0.7817761 ,  0.95530841],\n",
       "       [-0.3477351 ,  0.98330356],\n",
       "       [ 0.50306679,  0.99991959],\n",
       "       [ 0.14994494,  0.95832857],\n",
       "       [ 0.95296494, -0.42112357],\n",
       "       [ 0.32292384,  0.96459803],\n",
       "       [-0.32951277,  0.97237533],\n",
       "       [ 0.97206369, -0.25878927],\n",
       "       [ 0.9686501 ,  0.57261803],\n",
       "       [ 0.68129638,  0.95846864],\n",
       "       [ 0.75271785,  0.98517837],\n",
       "       [-0.34168505,  0.95447732],\n",
       "       [ 0.97109448,  0.77191764],\n",
       "       [-0.74057121,  0.98273853],\n",
       "       [ 0.95023813, -0.27593255],\n",
       "       [ 0.98534953,  0.54618711],\n",
       "       [-0.63958379,  0.99013569],\n",
       "       [-0.34102823,  0.98062821],\n",
       "       [ 0.95467742,  0.81155807],\n",
       "       [-0.20708222,  0.9613475 ],\n",
       "       [ 0.6698804 ,  0.97302729],\n",
       "       [-0.85253578,  0.98517095],\n",
       "       [ 0.14865918,  0.96064083],\n",
       "       [ 0.9821245 ,  0.75866828],\n",
       "       [ 0.98483311,  0.58573077],\n",
       "       [ 0.48111984,  0.99621073],\n",
       "       [ 0.9974367 , -0.47274893],\n",
       "       [-0.42243137,  0.95510899],\n",
       "       [-0.29667122,  0.95894141],\n",
       "       [ 0.11761273,  0.97330927],\n",
       "       [-0.52509186,  0.99810342],\n",
       "       [-0.78576915,  0.95045674],\n",
       "       [ 0.95197565,  0.62896393],\n",
       "       [-0.52457795,  0.99826651],\n",
       "       [ 0.64979303,  0.99880732],\n",
       "       [ 0.96721962,  0.6723893 ],\n",
       "       [ 0.95478654,  0.70830812],\n",
       "       [-0.88426843,  0.95609993],\n",
       "       [-0.24292082,  0.95768185],\n",
       "       [ 0.95107112,  0.582404  ],\n",
       "       [ 0.96870098,  0.4223142 ],\n",
       "       [ 0.15659473,  0.9838805 ],\n",
       "       [-0.77422957,  0.98698136],\n",
       "       [ 0.99686385,  0.55278544],\n",
       "       [-0.21695125,  0.97380471],\n",
       "       [-0.34922021,  0.97616801],\n",
       "       [ 0.13674965,  0.98613492],\n",
       "       [ 0.62125755,  0.98082164],\n",
       "       [ 0.98154222, -0.22821943],\n",
       "       [ 0.98646513, -0.34997783],\n",
       "       [-0.78842096,  0.9799434 ],\n",
       "       [-0.30451394,  0.96413421],\n",
       "       [ 0.69360279,  0.97521902],\n",
       "       [ 0.15685552,  0.96682863],\n",
       "       [ 0.30912097,  0.95566348],\n",
       "       [ 0.53521881,  0.99350801],\n",
       "       [ 0.26699885,  0.95566216],\n",
       "       [-0.69816568,  0.98342831],\n",
       "       [ 0.3382841 ,  0.98320036],\n",
       "       [ 0.53968351,  0.99319582],\n",
       "       [-0.37851627,  0.96265407],\n",
       "       [ 0.61516953,  0.9701741 ],\n",
       "       [-0.65579972,  0.95942592],\n",
       "       [ 0.62849393,  0.98453636],\n",
       "       [ 0.98119508, -0.32017789],\n",
       "       [-0.6607609 ,  0.95124903],\n",
       "       [ 0.14082453,  0.9805923 ],\n",
       "       [-0.33343155,  0.97438651],\n",
       "       [ 0.97963703, -0.34102938],\n",
       "       [-0.87682185,  0.96009219],\n",
       "       [ 0.94992807, -0.96709088],\n",
       "       [-0.8136916 ,  0.95658489],\n",
       "       [ 0.9833147 , -0.7264287 ],\n",
       "       [ 0.98174358,  0.63239496],\n",
       "       [ 0.65348686,  0.97413589],\n",
       "       [-0.38928715,  0.96813926],\n",
       "       [-0.36376299,  0.98626512],\n",
       "       [-0.79193655,  0.95131291],\n",
       "       [ 0.58373665,  0.95028678],\n",
       "       [ 0.34096854,  0.97803073],\n",
       "       [-0.80022423,  0.96907619],\n",
       "       [-0.77746181,  0.9867691 ],\n",
       "       [-0.7769988 ,  0.98357322],\n",
       "       [ 0.96376714,  0.62686795],\n",
       "       [ 0.34886766,  0.98797773],\n",
       "       [-0.45749434,  0.9908351 ],\n",
       "       [-0.42418694,  0.96148825],\n",
       "       [ 0.61487466,  0.96877822],\n",
       "       [ 0.97898866,  0.24191166],\n",
       "       [ 0.21597089,  0.98491276]])"
      ]
     },
     "execution_count": 73,
     "metadata": {},
     "output_type": "execute_result"
    }
   ],
   "source": [
    "ltests.data.BAD_WAVES_FIELD_START_X"
   ]
  },
  {
   "cell_type": "code",
   "execution_count": 161,
   "id": "1e9350b5",
   "metadata": {},
   "outputs": [
    {
     "data": {
      "text/plain": [
       "<pycobyla.gcobyla.GCobyla at 0x7f3ce1570c40>"
      ]
     },
     "execution_count": 161,
     "metadata": {},
     "output_type": "execute_result"
    }
   ],
   "source": []
  },
  {
   "cell_type": "code",
   "execution_count": null,
   "id": "ba4f7fde",
   "metadata": {},
   "outputs": [],
   "source": []
  }
 ],
 "metadata": {
  "kernelspec": {
   "display_name": "Python 3",
   "language": "python",
   "name": "python3"
  },
  "language_info": {
   "codemirror_mode": {
    "name": "ipython",
    "version": 3
   },
   "file_extension": ".py",
   "mimetype": "text/x-python",
   "name": "python",
   "nbconvert_exporter": "python",
   "pygments_lexer": "ipython3",
   "version": "3.8.3"
  }
 },
 "nbformat": 4,
 "nbformat_minor": 5
}
