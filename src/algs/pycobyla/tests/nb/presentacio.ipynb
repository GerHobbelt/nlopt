{
 "cells": [
  {
   "cell_type": "code",
   "execution_count": 1,
   "id": "c907e381",
   "metadata": {},
   "outputs": [],
   "source": [
    "import functools\n",
    "import itertools\n",
    "\n",
    "import numpy as np\n",
    "\n",
    "from pycobyla.gcobyla import GCobyla\n",
    "\n",
    "import tests.test_custom as tc\n",
    "from tests.nb import utils"
   ]
  },
  {
   "cell_type": "markdown",
   "id": "ecbf79a0",
   "metadata": {},
   "source": [
    "# Simplex acceptability, Delta branch"
   ]
  },
  {
   "cell_type": "code",
   "execution_count": 2,
   "id": "05b891ff",
   "metadata": {},
   "outputs": [],
   "source": [
    "%matplotlib widget\n",
    "import numpy as np\n",
    "import matplotlib.pyplot as plt\n",
    "import matplotlib.tri as tri\n",
    "\n",
    "def ax_plot_simplex(ax, optimal_vertex, sim, jdrop, rho):\n",
    "    simplex = np.array((optimal_vertex, *(sim + optimal_vertex), optimal_vertex))\n",
    "    ax.plot(simplex[...,0], simplex[...,1], '-', color='lightsteelblue', lw=2)\n",
    "    ax.plot(simplex[1:-1,0], simplex[1:-1,1], '.', color='blue', marker='o')\n",
    "    ax.plot(simplex[jdrop+1,0], simplex[jdrop+1,1], '.', color='red', marker='o')\n",
    "    ax.plot(*optimal_vertex, color='limegreen', marker='D')\n",
    "    \n",
    "    beta = 2.1\n",
    "    beta_region = plt.Circle(optimal_vertex, beta * rho, color='lemonchiffon', fill=True, alpha=0.5)\n",
    "    trust_region = plt.Circle(optimal_vertex, rho, color='gold', fill=True, alpha=0.5)\n",
    "    ax.add_patch(beta_region)\n",
    "    ax.add_patch(trust_region)"
   ]
  },
  {
   "cell_type": "markdown",
   "id": "a81ec473",
   "metadata": {},
   "source": [
    "## Simplex eta delta branch correction"
   ]
  },
  {
   "cell_type": "code",
   "execution_count": 3,
   "id": "9301a881",
   "metadata": {},
   "outputs": [
    {
     "data": {
      "application/vnd.jupyter.widget-view+json": {
       "model_id": "2d432b17f21e43d29d31005c5b68a444",
       "version_major": 2,
       "version_minor": 0
      },
      "text/plain": [
       "Canvas(toolbar=Toolbar(toolitems=[('Home', 'Reset original view', 'home', 'home'), ('Back', 'Back to previous …"
      ]
     },
     "metadata": {},
     "output_type": "display_data"
    },
    {
     "name": "stdout",
     "output_type": "stream",
     "text": [
      "1.0842021724855044e-19\n"
     ]
    }
   ],
   "source": [
    "# eta case\n",
    "plt.close('all')\n",
    "jdrop = 0\n",
    "rho = 0.0625\n",
    "optimal_vertex = np.array([0.047873700624370373047, 0.03301727499567987112])\n",
    "\n",
    "old_sim = np.array([[-0.13019926157022278929, -0.059595187823573939068], [-0.05055567780160368646, 0.036747427692566961288]])\n",
    "old_veta = np.array([0.14319020261581568261, 0.062500000000000007495])\n",
    "old_vsig = np.array([0.12475780902899252224, 0.054454585033534948986])\n",
    "\n",
    "new_sim = np.array([[0.018373713846283478442, 0.025277838900801840201], [-0.05055567780160368646, 0.036747427692566961288]])\n",
    "new_veta = np.array([0.03125, 0.062500000000000007495])\n",
    "new_vsig = np.array([0.031249999999999999998, 0.06250000000000000749])\n",
    "\n",
    "coords = np.array((*old_sim, *new_sim)) + optimal_vertex\n",
    "x_coords = coords[:, 0]\n",
    "y_coords = coords[:, 1]\n",
    "\n",
    "plt.close('all')\n",
    "fig, (ax1, ax2) = plt.subplots(1, 2, figsize=(12, 6))\n",
    "xmin = min(x_coords)\n",
    "xmax = max(x_coords)\n",
    "ymin = min(y_coords)\n",
    "ymax = max(y_coords)\n",
    "margin = 1e-2\n",
    "\n",
    "#_ = ax1.set(xlim=(xmin - margin, xmax + margin), ylim=(ymin - margin, ymax + margin))\n",
    "#_ = ax2.set(xlim=(xmin - margin, xmax + margin), ylim=(ymin - margin, ymax + margin))\n",
    "ax1.set_aspect('equal')\n",
    "ax2.set_aspect('equal')\n",
    "\n",
    "ax_plot_simplex(ax1, optimal_vertex, old_sim, jdrop, rho=rho)\n",
    "ax_plot_simplex(ax2, optimal_vertex, new_sim, jdrop, rho=rho)\n",
    "plt.savefig('presentacio/rsc/delta-eta.png', dpi=120, bbox_inches='tight')\n",
    "\n",
    "print(new_sim[0] @ new_sim[1])"
   ]
  },
  {
   "cell_type": "markdown",
   "id": "c5feb1a2",
   "metadata": {},
   "source": [
    "## Simplex eta acceptability fault"
   ]
  },
  {
   "cell_type": "code",
   "execution_count": 4,
   "id": "7e113ac3",
   "metadata": {},
   "outputs": [
    {
     "data": {
      "application/vnd.jupyter.widget-view+json": {
       "model_id": "fa1c6f4f3b5f4058b6683957c42c3e2d",
       "version_major": 2,
       "version_minor": 0
      },
      "text/plain": [
       "Canvas(toolbar=Toolbar(toolitems=[('Home', 'Reset original view', 'home', 'home'), ('Back', 'Back to previous …"
      ]
     },
     "metadata": {},
     "output_type": "display_data"
    }
   ],
   "source": [
    "# eta case\n",
    "plt.close('all')\n",
    "coords = np.array((*old_sim,)) + optimal_vertex\n",
    "x_coords = coords[:, 0]\n",
    "y_coords = coords[:, 1]\n",
    "\n",
    "plt.close('all')\n",
    "fig, ax = plt.subplots(1, figsize=(5, 5))\n",
    "xmin = min(x_coords)\n",
    "xmax = max(x_coords)\n",
    "ymin = min(y_coords)\n",
    "ymax = max(y_coords)\n",
    "margin = 1e-2\n",
    "\n",
    "ax.set_aspect('equal')\n",
    "\n",
    "ax_plot_simplex(ax, optimal_vertex, old_sim, jdrop, rho=rho)\n",
    "plt.savefig('presentacio/rsc/eta-fault.png', dpi=120, bbox_inches='tight')"
   ]
  },
  {
   "cell_type": "markdown",
   "id": "198c1a93",
   "metadata": {},
   "source": [
    "## Simplex sigma delta branch correction"
   ]
  },
  {
   "cell_type": "code",
   "execution_count": 5,
   "id": "c2d45ac7",
   "metadata": {},
   "outputs": [
    {
     "data": {
      "application/vnd.jupyter.widget-view+json": {
       "model_id": "2763ad5337154a0ca933cf883530d0eb",
       "version_major": 2,
       "version_minor": 0
      },
      "text/plain": [
       "Canvas(toolbar=Toolbar(toolitems=[('Home', 'Reset original view', 'home', 'home'), ('Back', 'Back to previous …"
      ]
     },
     "metadata": {},
     "output_type": "display_data"
    },
    {
     "name": "stdout",
     "output_type": "stream",
     "text": [
      "-2.0679515313825692e-25\n"
     ]
    }
   ],
   "source": [
    "# sigma case\n",
    "plt.close('all')\n",
    "jdrop = 1\n",
    "rho = 6.103515625e-05\n",
    "\n",
    "optimal_vertex = np.array([0.12322095602324728612, 0.7876477600799215061])\n",
    "old_sim = np.array([[0.00010609379901699572403, -5.758107655831259315e-05], [4.8716293255678108707e-05, -3.676973034832708352e-05]])\n",
    "old_veta = np.array([0.00012071236294378856573, 6.103515625000000053e-05])\n",
    "old_vsig = np.array([1.7955287365912709351e-05, 9.078637375381810534e-06])\n",
    "\n",
    "new_sim = np.array([[0.00010609379901699572403, -5.758107655831259315e-05], [-1.4557208222393858973e-05, -2.6821824385849429767e-05]])\n",
    "new_veta = np.array([0.00012071236294378856573, 6.103515625000000053e-05])\n",
    "new_vsig = np.array([1.7955287365912709351e-05, 9.078637375381810534e-06])\n",
    "\n",
    "coords = np.array((*old_sim, *new_sim)) + optimal_vertex\n",
    "x_coords = coords[:, 0]\n",
    "y_coords = coords[:, 1]\n",
    "\n",
    "plt.close('all')\n",
    "fig, (ax1, ax2) = plt.subplots(1, 2, figsize=(12, 6))\n",
    "xmin = min(x_coords)\n",
    "xmax = max(x_coords)\n",
    "ymin = min(y_coords)\n",
    "ymax = max(y_coords)\n",
    "margin = 6e-5\n",
    "\n",
    "#_ = ax1.set(xlim=(xmin - margin, xmax + margin), ylim=(ymin - margin, ymax + margin))\n",
    "#_ = ax2.set(xlim=(xmin - margin, xmax + margin), ylim=(ymin - margin, ymax + margin))\n",
    "ax1.set_aspect('equal')\n",
    "ax2.set_aspect('equal')\n",
    "\n",
    "ax_plot_simplex(ax1, optimal_vertex, old_sim, jdrop, rho=rho)\n",
    "ax_plot_simplex(ax2, optimal_vertex, new_sim, jdrop, rho=rho)\n",
    "plt.savefig('presentacio/rsc/delta-sigma.png', dpi=120, bbox_inches='tight')\n",
    "\n",
    "print(new_sim[0] @ new_sim[1])"
   ]
  },
  {
   "cell_type": "markdown",
   "id": "6d54ff75",
   "metadata": {},
   "source": [
    "## Simplex sigma acceptability fault"
   ]
  },
  {
   "cell_type": "code",
   "execution_count": 6,
   "id": "1b10e926",
   "metadata": {},
   "outputs": [
    {
     "data": {
      "application/vnd.jupyter.widget-view+json": {
       "model_id": "17185e334edb461581cb11b440696e97",
       "version_major": 2,
       "version_minor": 0
      },
      "text/plain": [
       "Canvas(toolbar=Toolbar(toolitems=[('Home', 'Reset original view', 'home', 'home'), ('Back', 'Back to previous …"
      ]
     },
     "metadata": {},
     "output_type": "display_data"
    }
   ],
   "source": [
    "# sigma case\n",
    "plt.close('all')\n",
    "coords = np.array((*old_sim,)) + optimal_vertex\n",
    "x_coords = coords[:, 0]\n",
    "y_coords = coords[:, 1]\n",
    "\n",
    "plt.close('all')\n",
    "fig, ax = plt.subplots(1, figsize=(5, 5))\n",
    "xmin = min(x_coords)\n",
    "xmax = max(x_coords)\n",
    "ymin = min(y_coords)\n",
    "ymax = max(y_coords)\n",
    "margin = 1e-2\n",
    "\n",
    "ax.set_aspect('equal')\n",
    "\n",
    "ax_plot_simplex(ax, optimal_vertex, old_sim, jdrop, rho=rho)\n",
    "plt.savefig('presentacio/rsc/sigma-fault.png', dpi=120, bbox_inches='tight')"
   ]
  },
  {
   "cell_type": "markdown",
   "id": "2d0b0fcc",
   "metadata": {},
   "source": [
    "# Examples"
   ]
  },
  {
   "cell_type": "code",
   "execution_count": 18,
   "id": "d6112c62",
   "metadata": {},
   "outputs": [],
   "source": [
    "import numpy as np\n",
    "import matplotlib.pyplot as plt\n",
    "from matplotlib import cm\n",
    "\n",
    "import tests.test_custom as tc\n",
    "\n",
    "\n",
    "def ax_plot_simplex(ax, optimal_vertex, sim):\n",
    "    simplex = np.array((optimal_vertex, *(sim + optimal_vertex), optimal_vertex))\n",
    "    ax.plot(*optimal_vertex, color='limegreen', marker='o')\n",
    "    ax.plot(simplex[1:-1,0], simplex[1:-1,1], '.', color='blue', marker='o')\n",
    "    ax.plot(simplex[...,0], simplex[...,1], '-.', color='gray', lw=2)\n",
    "\n",
    "\n",
    "def ax_plot_track(opt, ax, target, from_points=0, to_points=None, plot_simplex=False, plot_trure=False, aspect=False, track_color=None, track_alpha=1):\n",
    "    track = opt.track[from_points:to_points]\n",
    "    ax.plot(track[:, 0], track[:, 1], linestyle='-', color=track_color, alpha=track_alpha, marker='o')\n",
    "\n",
    "    link_best = np.array((track[-1], target))\n",
    "    ax.plot(link_best[:, 0], link_best[:, 1], linestyle=':', color=track_color)\n",
    "    ax.plot(target[0], target[1], color='limegreen', marker='*')\n",
    "        \n",
    "    if plot_simplex:\n",
    "        #simplex = np.array((opt.optimal_vertex, *(opt.sim + opt.optimal_vertex), opt.optimal_vertex))\n",
    "        ax_plot_simplex(ax, opt.optimal_vertex, opt.sim)\n",
    "            \n",
    "    if plot_trure:\n",
    "        trust_region = plt.Circle(opt.optimal_vertex, opt.rho, color='khaki', fill=True, alpha=0.5)\n",
    "        ax.add_patch(trust_region)\n",
    "        \n",
    "    if aspect:\n",
    "        ax.set_aspect('equal')\n",
    "        \n",
    "        \n",
    "def ax_plot_map(fig, ax, opt, border, nsamples=100):\n",
    "    X = np.linspace(-border, border, nsamples)\n",
    "    xv, yv = np.meshgrid(X, X)\n",
    "    zv = np.array(tuple(-opt.F(xy) for xy in itertools.product(X, X)))\n",
    "    zv = zv.reshape(xv.shape)\n",
    "    \n",
    "    cs = ax.contourf(xv, yv, zv, cmap=cm.magma)"
   ]
  },
  {
   "cell_type": "markdown",
   "id": "d91c0d55",
   "metadata": {},
   "source": [
    "## Wave field"
   ]
  },
  {
   "cell_type": "code",
   "execution_count": 19,
   "id": "84e16576",
   "metadata": {},
   "outputs": [],
   "source": [
    "def wave_optimizer(T0, A0, T1, A1, start_x, border=1, rhobeg=1, rhoend=1e-12):\n",
    "    F = lambda x: tc.waves(x, T0=T0, A0=A0, T1=T1, A1=A1)\n",
    "    \n",
    "    c1 = lambda x: border - x[0]\n",
    "    c2 = lambda x: border + x[0]\n",
    "    c3 = lambda x: border - x[1]\n",
    "    c4 = lambda x: border + x[1]\n",
    "    C = (c1, c2, c3, c4)\n",
    "    \n",
    "    opt = GCobyla(start_x, F, C, rhobeg=rhobeg, rhoend=rhoend)\n",
    "    return opt"
   ]
  },
  {
   "cell_type": "code",
   "execution_count": 25,
   "id": "2864a725",
   "metadata": {},
   "outputs": [
    {
     "data": {
      "application/vnd.jupyter.widget-view+json": {
       "model_id": "78fe8785836d414caebfe23c8d667bbf",
       "version_major": 2,
       "version_minor": 0
      },
      "text/plain": [
       "Canvas(toolbar=Toolbar(toolitems=[('Home', 'Reset original view', 'home', 'home'), ('Back', 'Back to previous …"
      ]
     },
     "metadata": {},
     "output_type": "display_data"
    }
   ],
   "source": [
    "plt.close('all')\n",
    "fig, ax = plt.subplots(1, 1, figsize=(6,6))\n",
    "\n",
    "start_x = np.array((0,0))\n",
    "T0, A0 = 1, 1\n",
    "T1, A1 = 1, 1\n",
    "\n",
    "rhobeg1 = .1\n",
    "rhobeg2 = .8\n",
    "rhobeg3 = 1\n",
    "\n",
    "opt1 = wave_optimizer(T0=T0, A0=A0, T1=T1, A1=A1, start_x=start_x, border=1, rhobeg=rhobeg1)\n",
    "opt2 = wave_optimizer(T0=T0, A0=A0, T1=T1, A1=A1, start_x=start_x, border=1, rhobeg=rhobeg2)\n",
    "opt3 = wave_optimizer(T0=T0, A0=A0, T1=T1, A1=A1, start_x=start_x, border=1, rhobeg=rhobeg3)\n",
    "\n",
    "for _ in opt1.g_run(): pass\n",
    "for _ in opt2.g_run(): pass\n",
    "for _ in opt3.g_run(): pass\n",
    "\n",
    "ax_plot_map(fig, ax, opt1, border=1.2, nsamples=200)\n",
    "\n",
    "#ax_plot_track(opt1, ax, target=(.5, .5), aspect=True, track_color='red')\n",
    "#ax_plot_track(opt2, ax, target=(-.5, .5), aspect=True, track_color='blue')\n",
    "#ax_plot_track(opt3, ax, target=(.5, -.5), aspect=True, track_color='green')\n",
    "region = np.array(((1, 1), (-1, 1), (-1, -1), (1, -1), (1, 1)))\n",
    "ax.plot(region[..., 0], region[..., 1], linestyle='-.', color='limegreen')\n",
    "\n",
    "plt.savefig('presentacio/rsc/ex3-1.png', dpi=120, bbox_inches='tight')"
   ]
  },
  {
   "cell_type": "code",
   "execution_count": 27,
   "id": "a2356ae8",
   "metadata": {},
   "outputs": [
    {
     "data": {
      "application/vnd.jupyter.widget-view+json": {
       "model_id": "96b87c62e75643158a1c9fddaa3fc561",
       "version_major": 2,
       "version_minor": 0
      },
      "text/plain": [
       "Canvas(toolbar=Toolbar(toolitems=[('Home', 'Reset original view', 'home', 'home'), ('Back', 'Back to previous …"
      ]
     },
     "metadata": {},
     "output_type": "display_data"
    }
   ],
   "source": [
    "plt.close('all')\n",
    "fig, ax = plt.subplots(1, 1, figsize=(6,6))\n",
    "\n",
    "ax_plot_map(fig, ax, opt1, border=1.2, nsamples=200)\n",
    "ax_plot_track(opt1, ax, target=(.5, .5), aspect=True, track_color='red')\n",
    "ax_plot_track(opt2, ax, target=(-.5, .5), aspect=True, track_color='blue')\n",
    "ax_plot_track(opt3, ax, target=(.5, -.5), aspect=True, track_color='green')\n",
    "region = np.array(((1, 1), (-1, 1), (-1, -1), (1, -1), (1, 1)))\n",
    "ax.plot(region[..., 0], region[..., 1], linestyle='-.', color='limegreen')\n",
    "\n",
    "plt.savefig('presentacio/rsc/ex3-2.png', dpi=120, bbox_inches='tight')"
   ]
  },
  {
   "cell_type": "code",
   "execution_count": null,
   "id": "c09ae7fa",
   "metadata": {},
   "outputs": [],
   "source": []
  }
 ],
 "metadata": {
  "kernelspec": {
   "display_name": "Python 3",
   "language": "python",
   "name": "python3"
  },
  "language_info": {
   "codemirror_mode": {
    "name": "ipython",
    "version": 3
   },
   "file_extension": ".py",
   "mimetype": "text/x-python",
   "name": "python",
   "nbconvert_exporter": "python",
   "pygments_lexer": "ipython3",
   "version": "3.8.3"
  }
 },
 "nbformat": 4,
 "nbformat_minor": 5
}
