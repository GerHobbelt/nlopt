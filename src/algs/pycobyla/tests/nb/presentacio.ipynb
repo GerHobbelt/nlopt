{
 "cells": [
  {
   "cell_type": "code",
   "execution_count": 1,
   "id": "6343c251",
   "metadata": {},
   "outputs": [],
   "source": [
    "import functools\n",
    "import itertools\n",
    "\n",
    "import numpy as np\n",
    "\n",
    "from pycobyla.gcobyla import GCobyla\n",
    "\n",
    "import tests.test_custom as tc\n",
    "from tests.nb import utils"
   ]
  },
  {
   "cell_type": "markdown",
   "id": "a946735a",
   "metadata": {},
   "source": [
    "# Simplex acceptability, Delta branch"
   ]
  },
  {
   "cell_type": "code",
   "execution_count": 2,
   "id": "d285cacc",
   "metadata": {},
   "outputs": [],
   "source": [
    "%matplotlib widget\n",
    "import numpy as np\n",
    "import matplotlib.pyplot as plt\n",
    "import matplotlib.tri as tri\n",
    "\n",
    "def ax_plot_simplex(ax, optimal_vertex, sim, jdrop, rho):\n",
    "    simplex = np.array((optimal_vertex, *(sim + optimal_vertex), optimal_vertex))\n",
    "    ax.plot(simplex[...,0], simplex[...,1], '-', color='lightsteelblue', lw=2)\n",
    "    ax.plot(simplex[1:-1,0], simplex[1:-1,1], '.', color='blue', marker='o')\n",
    "    ax.plot(simplex[jdrop+1,0], simplex[jdrop+1,1], '.', color='red', marker='o')\n",
    "    ax.plot(*optimal_vertex, color='limegreen', marker='D')\n",
    "    \n",
    "    beta = 2.1\n",
    "    beta_region = plt.Circle(optimal_vertex, beta * rho, color='lemonchiffon', fill=True, alpha=0.5)\n",
    "    trust_region = plt.Circle(optimal_vertex, rho, color='gold', fill=True, alpha=0.5)\n",
    "    ax.add_patch(beta_region)\n",
    "    ax.add_patch(trust_region)"
   ]
  },
  {
   "cell_type": "markdown",
   "id": "0e517aa8",
   "metadata": {},
   "source": [
    "## Simplex eta delta branch correction"
   ]
  },
  {
   "cell_type": "code",
   "execution_count": 3,
   "id": "d611ad20",
   "metadata": {},
   "outputs": [
    {
     "data": {
      "application/vnd.jupyter.widget-view+json": {
       "model_id": "245d907cd2e040909455a2e06e8d7df7",
       "version_major": 2,
       "version_minor": 0
      },
      "text/plain": [
       "Canvas(toolbar=Toolbar(toolitems=[('Home', 'Reset original view', 'home', 'home'), ('Back', 'Back to previous …"
      ]
     },
     "metadata": {},
     "output_type": "display_data"
    },
    {
     "name": "stdout",
     "output_type": "stream",
     "text": [
      "1.0842021724855044e-19\n"
     ]
    }
   ],
   "source": [
    "# eta case\n",
    "plt.close('all')\n",
    "jdrop = 0\n",
    "rho = 0.0625\n",
    "optimal_vertex = np.array([0.047873700624370373047, 0.03301727499567987112])\n",
    "\n",
    "old_sim = np.array([[-0.13019926157022278929, -0.059595187823573939068], [-0.05055567780160368646, 0.036747427692566961288]])\n",
    "old_veta = np.array([0.14319020261581568261, 0.062500000000000007495])\n",
    "old_vsig = np.array([0.12475780902899252224, 0.054454585033534948986])\n",
    "\n",
    "new_sim = np.array([[0.018373713846283478442, 0.025277838900801840201], [-0.05055567780160368646, 0.036747427692566961288]])\n",
    "new_veta = np.array([0.03125, 0.062500000000000007495])\n",
    "new_vsig = np.array([0.031249999999999999998, 0.06250000000000000749])\n",
    "\n",
    "coords = np.array((*old_sim, *new_sim)) + optimal_vertex\n",
    "x_coords = coords[:, 0]\n",
    "y_coords = coords[:, 1]\n",
    "\n",
    "plt.close('all')\n",
    "fig, (ax1, ax2) = plt.subplots(1, 2, figsize=(12, 6))\n",
    "xmin = min(x_coords)\n",
    "xmax = max(x_coords)\n",
    "ymin = min(y_coords)\n",
    "ymax = max(y_coords)\n",
    "margin = 1e-2\n",
    "\n",
    "#_ = ax1.set(xlim=(xmin - margin, xmax + margin), ylim=(ymin - margin, ymax + margin))\n",
    "#_ = ax2.set(xlim=(xmin - margin, xmax + margin), ylim=(ymin - margin, ymax + margin))\n",
    "ax1.set_aspect('equal')\n",
    "ax2.set_aspect('equal')\n",
    "\n",
    "ax_plot_simplex(ax1, optimal_vertex, old_sim, jdrop, rho=rho)\n",
    "ax_plot_simplex(ax2, optimal_vertex, new_sim, jdrop, rho=rho)\n",
    "plt.savefig('presentacio/rsc/delta-eta.png', dpi=120, bbox_inches='tight')\n",
    "\n",
    "print(new_sim[0] @ new_sim[1])"
   ]
  },
  {
   "cell_type": "markdown",
   "id": "9d7d8db7",
   "metadata": {},
   "source": [
    "## Simplex eta acceptability fault"
   ]
  },
  {
   "cell_type": "code",
   "execution_count": 4,
   "id": "0c5b0c9f",
   "metadata": {},
   "outputs": [
    {
     "data": {
      "application/vnd.jupyter.widget-view+json": {
       "model_id": "268a2b44b8a84ad6ab8d1f7be5838bea",
       "version_major": 2,
       "version_minor": 0
      },
      "text/plain": [
       "Canvas(toolbar=Toolbar(toolitems=[('Home', 'Reset original view', 'home', 'home'), ('Back', 'Back to previous …"
      ]
     },
     "metadata": {},
     "output_type": "display_data"
    }
   ],
   "source": [
    "# eta case\n",
    "plt.close('all')\n",
    "coords = np.array((*old_sim,)) + optimal_vertex\n",
    "x_coords = coords[:, 0]\n",
    "y_coords = coords[:, 1]\n",
    "\n",
    "plt.close('all')\n",
    "fig, ax = plt.subplots(1, figsize=(5, 5))\n",
    "xmin = min(x_coords)\n",
    "xmax = max(x_coords)\n",
    "ymin = min(y_coords)\n",
    "ymax = max(y_coords)\n",
    "margin = 1e-2\n",
    "\n",
    "ax.set_aspect('equal')\n",
    "\n",
    "ax_plot_simplex(ax, optimal_vertex, old_sim, jdrop, rho=rho)\n",
    "plt.savefig('presentacio/rsc/eta-fault.png', dpi=120, bbox_inches='tight')"
   ]
  },
  {
   "cell_type": "markdown",
   "id": "98b9ed30",
   "metadata": {},
   "source": [
    "## Simplex sigma delta branch correction"
   ]
  },
  {
   "cell_type": "code",
   "execution_count": 5,
   "id": "65915ea8",
   "metadata": {},
   "outputs": [
    {
     "data": {
      "application/vnd.jupyter.widget-view+json": {
       "model_id": "556d5a69d3234d52bade4cdfbdf72771",
       "version_major": 2,
       "version_minor": 0
      },
      "text/plain": [
       "Canvas(toolbar=Toolbar(toolitems=[('Home', 'Reset original view', 'home', 'home'), ('Back', 'Back to previous …"
      ]
     },
     "metadata": {},
     "output_type": "display_data"
    },
    {
     "name": "stdout",
     "output_type": "stream",
     "text": [
      "-2.0679515313825692e-25\n"
     ]
    }
   ],
   "source": [
    "# sigma case\n",
    "plt.close('all')\n",
    "jdrop = 1\n",
    "rho = 6.103515625e-05\n",
    "\n",
    "optimal_vertex = np.array([0.12322095602324728612, 0.7876477600799215061])\n",
    "old_sim = np.array([[0.00010609379901699572403, -5.758107655831259315e-05], [4.8716293255678108707e-05, -3.676973034832708352e-05]])\n",
    "old_veta = np.array([0.00012071236294378856573, 6.103515625000000053e-05])\n",
    "old_vsig = np.array([1.7955287365912709351e-05, 9.078637375381810534e-06])\n",
    "\n",
    "new_sim = np.array([[0.00010609379901699572403, -5.758107655831259315e-05], [-1.4557208222393858973e-05, -2.6821824385849429767e-05]])\n",
    "new_veta = np.array([0.00012071236294378856573, 6.103515625000000053e-05])\n",
    "new_vsig = np.array([1.7955287365912709351e-05, 9.078637375381810534e-06])\n",
    "\n",
    "coords = np.array((*old_sim, *new_sim)) + optimal_vertex\n",
    "x_coords = coords[:, 0]\n",
    "y_coords = coords[:, 1]\n",
    "\n",
    "plt.close('all')\n",
    "fig, (ax1, ax2) = plt.subplots(1, 2, figsize=(12, 6))\n",
    "xmin = min(x_coords)\n",
    "xmax = max(x_coords)\n",
    "ymin = min(y_coords)\n",
    "ymax = max(y_coords)\n",
    "margin = 6e-5\n",
    "\n",
    "#_ = ax1.set(xlim=(xmin - margin, xmax + margin), ylim=(ymin - margin, ymax + margin))\n",
    "#_ = ax2.set(xlim=(xmin - margin, xmax + margin), ylim=(ymin - margin, ymax + margin))\n",
    "ax1.set_aspect('equal')\n",
    "ax2.set_aspect('equal')\n",
    "\n",
    "ax_plot_simplex(ax1, optimal_vertex, old_sim, jdrop, rho=rho)\n",
    "ax_plot_simplex(ax2, optimal_vertex, new_sim, jdrop, rho=rho)\n",
    "plt.savefig('presentacio/rsc/delta-sigma.png', dpi=120, bbox_inches='tight')\n",
    "\n",
    "print(new_sim[0] @ new_sim[1])"
   ]
  },
  {
   "cell_type": "markdown",
   "id": "fe1a8d3e",
   "metadata": {},
   "source": [
    "## Simplex sigma acceptability fault"
   ]
  },
  {
   "cell_type": "code",
   "execution_count": 6,
   "id": "f4d8f3bd",
   "metadata": {},
   "outputs": [
    {
     "data": {
      "application/vnd.jupyter.widget-view+json": {
       "model_id": "ea6a376f29b8446f9281cf4dbec9c539",
       "version_major": 2,
       "version_minor": 0
      },
      "text/plain": [
       "Canvas(toolbar=Toolbar(toolitems=[('Home', 'Reset original view', 'home', 'home'), ('Back', 'Back to previous …"
      ]
     },
     "metadata": {},
     "output_type": "display_data"
    }
   ],
   "source": [
    "# sigma case\n",
    "plt.close('all')\n",
    "coords = np.array((*old_sim,)) + optimal_vertex\n",
    "x_coords = coords[:, 0]\n",
    "y_coords = coords[:, 1]\n",
    "\n",
    "plt.close('all')\n",
    "fig, ax = plt.subplots(1, figsize=(5, 5))\n",
    "xmin = min(x_coords)\n",
    "xmax = max(x_coords)\n",
    "ymin = min(y_coords)\n",
    "ymax = max(y_coords)\n",
    "margin = 1e-2\n",
    "\n",
    "ax.set_aspect('equal')\n",
    "\n",
    "ax_plot_simplex(ax, optimal_vertex, old_sim, jdrop, rho=rho)\n",
    "plt.savefig('presentacio/rsc/sigma-fault.png', dpi=120, bbox_inches='tight')"
   ]
  },
  {
   "cell_type": "markdown",
   "id": "77b8ab9a",
   "metadata": {},
   "source": [
    "# Examples"
   ]
  },
  {
   "cell_type": "code",
   "execution_count": 14,
   "id": "43bdc30f",
   "metadata": {},
   "outputs": [],
   "source": [
    "import numpy as np\n",
    "import matplotlib.pyplot as plt\n",
    "from matplotlib import cm\n",
    "\n",
    "import tests.test_custom as tc\n",
    "\n",
    "\n",
    "def ax_plot_simplex(ax, optimal_vertex, sim):\n",
    "    simplex = np.array((optimal_vertex, *(sim + optimal_vertex), optimal_vertex))\n",
    "    ax.plot(*optimal_vertex, color='limegreen', marker='o')\n",
    "    ax.plot(simplex[1:-1,0], simplex[1:-1,1], '.', color='blue', marker='o')\n",
    "    ax.plot(simplex[...,0], simplex[...,1], '-.', color='gray', lw=2)\n",
    "\n",
    "\n",
    "def ax_plot_track(opt, ax, target, from_points=0, to_points=None, plot_simplex=False, plot_trure=False, aspect=False, track_color=None, track_alpha=1):\n",
    "    track = opt.track[from_points:to_points]\n",
    "    ax.plot(track[:, 0], track[:, 1], linestyle='-', color=track_color, alpha=track_alpha, marker='o')\n",
    "\n",
    "    link_best = np.array((track[-1], target))\n",
    "    ax.plot(link_best[:, 0], link_best[:, 1], linestyle=':', color=track_color)\n",
    "    ax.plot(target[0], target[1], color='limegreen', marker='*')\n",
    "        \n",
    "    if plot_simplex:\n",
    "        #simplex = np.array((opt.optimal_vertex, *(opt.sim + opt.optimal_vertex), opt.optimal_vertex))\n",
    "        ax_plot_simplex(ax, opt.optimal_vertex, opt.sim)\n",
    "            \n",
    "    if plot_trure:\n",
    "        trust_region = plt.Circle(opt.optimal_vertex, opt.rho, color='khaki', fill=True, alpha=0.5)\n",
    "        ax.add_patch(trust_region)\n",
    "        \n",
    "    if aspect:\n",
    "        ax.set_aspect('equal')\n",
    "        \n",
    "        \n",
    "def ax_plot_map(fig, ax, opt, border, nsamples=100):\n",
    "    X = np.linspace(-border, border, nsamples)\n",
    "    xv, yv = np.meshgrid(X, X)\n",
    "    zv = np.array(tuple(-opt.F(xy) for xy in itertools.product(X, X)))\n",
    "    zv = zv.reshape(xv.shape)\n",
    "    \n",
    "    cs = ax.contourf(xv, yv, zv, cmap=cm.magma)"
   ]
  },
  {
   "cell_type": "markdown",
   "id": "ce5b4596",
   "metadata": {},
   "source": [
    "## Example 1: Simple example"
   ]
  },
  {
   "cell_type": "code",
   "execution_count": 15,
   "id": "28d1d914",
   "metadata": {},
   "outputs": [],
   "source": [
    "def gaussian_optimizer(start_x, border=1, mu=None, sig=None, A=-1):\n",
    "    mu = np.zeros(2) if mu is None else mu\n",
    "    sig = np.ones(2) if sig is None else sig\n",
    "    \n",
    "    F = functools.partial(tc.gaussian, mu=mu, sig=sig, A=A)\n",
    "    c1 = lambda x: border - x[0]\n",
    "    c2 = lambda x: border + x[0]\n",
    "    c3 = lambda x: border - x[1]\n",
    "    c4 = lambda x: border + x[1]\n",
    "    C = (c1, c2, c3, c4)\n",
    "    \n",
    "    opt = GCobyla(start_x, F, C, rhobeg=0.5, rhoend=1e-12)\n",
    "    return opt\n",
    "\n",
    "border = .5\n",
    "mu = (0, 0)\n",
    "gg = functools.partial(gaussian_optimizer, border=border, mu=mu, A=-1)"
   ]
  },
  {
   "cell_type": "code",
   "execution_count": 25,
   "id": "53c5dfb3",
   "metadata": {},
   "outputs": [
    {
     "data": {
      "application/vnd.jupyter.widget-view+json": {
       "model_id": "4d8bd6c4a74c4f2982e8d271276ae1e5",
       "version_major": 2,
       "version_minor": 0
      },
      "text/plain": [
       "Canvas(toolbar=Toolbar(toolitems=[('Home', 'Reset original view', 'home', 'home'), ('Back', 'Back to previous …"
      ]
     },
     "metadata": {},
     "output_type": "display_data"
    }
   ],
   "source": [
    "plt.close('all')\n",
    "fig, ax = plt.subplots(1, 1, figsize=(6,6))\n",
    "opt = gg(start_x=(0,0))\n",
    "\n",
    "ax_plot_map(fig, ax, opt, border=2, nsamples=50)\n",
    "   \n",
    "region = np.array(((border, border), (-border,border), (-border, -border), (border, -border), (border, border)))\n",
    "ax.plot(region[..., 0], region[..., 1], linestyle='-.', color='black')\n",
    "ax.fill(region[..., 0], region[..., 1], color='limegreen', alpha=.35)\n",
    "ax.plot(0, 0, color='limegreen', marker='*')\n",
    "\n",
    "plt.savefig('presentacio/rsc/ex1-1.png', dpi=120, bbox_inches='tight')"
   ]
  },
  {
   "cell_type": "code",
   "execution_count": 26,
   "id": "73c0bfab",
   "metadata": {},
   "outputs": [
    {
     "data": {
      "application/vnd.jupyter.widget-view+json": {
       "model_id": "e9caf2c39fd54fb89528ea25ec9ae6c9",
       "version_major": 2,
       "version_minor": 0
      },
      "text/plain": [
       "Canvas(toolbar=Toolbar(toolitems=[('Home', 'Reset original view', 'home', 'home'), ('Back', 'Back to previous …"
      ]
     },
     "metadata": {},
     "output_type": "display_data"
    }
   ],
   "source": [
    "plt.close('all')\n",
    "fig, axes = plt.subplots(2, 3, figsize=(12, 9))\n",
    "\n",
    "rsc = {\n",
    "    axes[0,0]: ((.5**.5,.5**.5),'a)'),\n",
    "    axes[0,1]: ((0,1), 'b)'),\n",
    "    axes[0,2]: ((-.5**.5,.5**.5), 'c)'),\n",
    "    axes[1,0]: ((-.5**.5,-.5**.5), 'd)'),\n",
    "    axes[1,1]: ((0,-1), 'e)'),\n",
    "    axes[1,2]: ((.5**.5,-.5**.5),'f)'),\n",
    "}\n",
    "    \n",
    "\n",
    "for ax, data in rsc.items():\n",
    "    start_x, caption = data\n",
    "    opt = gg(start_x=start_x)\n",
    "    for _ in opt.g_run(): pass\n",
    "\n",
    "    ax.set_xlabel(f'{caption} start x at ({start_x[0]:.2f}, {start_x[1]:.2f})')\n",
    "    ax_plot_track(opt, ax, mu,  aspect=True, track_color='darkred')\n",
    "    ax_plot_map(fig, ax, opt, border=2, nsamples=50)\n",
    "    \n",
    "    region = np.array(((border, border), (-border,border), (-border, -border), (border, -border), (border, border)))\n",
    "    ax.plot(region[..., 0], region[..., 1], linestyle='-.', color='black')\n",
    "    ax.fill(region[..., 0], region[..., 1], color='limegreen', alpha=.35)\n",
    "    \n",
    "plt.savefig('presentacio/rsc/ex1-2.png', dpi=120, bbox_inches='tight')"
   ]
  },
  {
   "cell_type": "markdown",
   "id": "1b16732b",
   "metadata": {},
   "source": [
    "## Example 2: Two peaks"
   ]
  },
  {
   "cell_type": "code",
   "execution_count": 38,
   "id": "3f4fea49",
   "metadata": {},
   "outputs": [],
   "source": [
    "def gaussian_multipeak_optimizer(g1, g2, start_x, border=1, rhobeg=.1, rhoend=1e-12):\n",
    "    mu1, sig1, A1 = g1\n",
    "    mu2, sig2, A2 = g2\n",
    "    G1 = functools.partial(tc.gaussian, mu=mu1, sig=sig1, A=A1)\n",
    "    G2 = functools.partial(tc.gaussian, mu=mu2, sig=sig2, A=A2)\n",
    "    F = lambda x: G1(x) + G2(x)\n",
    "    \n",
    "    c1 = lambda x: border - x[0]\n",
    "    c2 = lambda x: border + x[0]\n",
    "    c3 = lambda x: border - x[1]\n",
    "    c4 = lambda x: border + x[1]\n",
    "    C = (c1, c2, c3, c4)\n",
    "    \n",
    "    opt = GCobyla(start_x, F, C, rhobeg=rhobeg, rhoend=rhoend)\n",
    "    return opt"
   ]
  },
  {
   "cell_type": "code",
   "execution_count": 70,
   "id": "330cbf23",
   "metadata": {},
   "outputs": [
    {
     "data": {
      "application/vnd.jupyter.widget-view+json": {
       "model_id": "c6ec77d4e5bf43178d5a47359dd7343e",
       "version_major": 2,
       "version_minor": 0
      },
      "text/plain": [
       "Canvas(toolbar=Toolbar(toolitems=[('Home', 'Reset original view', 'home', 'home'), ('Back', 'Back to previous …"
      ]
     },
     "metadata": {},
     "output_type": "display_data"
    }
   ],
   "source": [
    "import string\n",
    "\n",
    "opts = (\n",
    "    gaussian_multipeak_optimizer(g1, g2, start_x=(-.046, -.046)),\n",
    "    gaussian_multipeak_optimizer(g1, g2, start_x=(-.5, .5)),\n",
    "    gaussian_multipeak_optimizer(g1, g2, start_x=(.5, -.5)),\n",
    "    gaussian_multipeak_optimizer(g1, g2, start_x=(-.047, -.047)),\n",
    "    gaussian_multipeak_optimizer(g1, g2, start_x=(-.5, .3)),\n",
    "    gaussian_multipeak_optimizer(g1, g2, start_x=(.3, -.5))\n",
    ")\n",
    "\n",
    "mu1 = (.5, .5)\n",
    "sig1 = (.25, .25)\n",
    "A1 = -2\n",
    "\n",
    "mu2 = (-.5, -.5)\n",
    "sig2 = (.25, .25)\n",
    "A2 = -1\n",
    "\n",
    "g1 = (mu1, sig1, A1)\n",
    "g2 = (mu2, sig2, A2)\n",
    "\n",
    "plt.close('all')\n",
    "opt = opts[0]\n",
    "fig, ax = plt.subplots(1, 1, figsize=(6,6))\n",
    "ax_plot_map(fig, ax, opt, border=1.2, nsamples=200)\n",
    "region = np.array(((1, 1), (-1, 1), (-1, -1), (1, -1), (1, 1)))\n",
    "ax.plot(region[..., 0], region[..., 1], linestyle='-.', color='limegreen')\n",
    "ax.plot(np.array((-2, 2)), np.array((0, 0)), linestyle='-.', color='royalblue')\n",
    "ax.plot(np.array((0, 0)), np.array((-2, 2)), linestyle='-.', color='royalblue')\n",
    "ax.set(xlim=(-1.1, 1.1), ylim=(-1.1, 1.1))\n",
    "\n",
    "plt.savefig('presentacio/rsc/ex2-1.png', dpi=120, bbox_inches='tight')"
   ]
  },
  {
   "cell_type": "code",
   "execution_count": 39,
   "id": "ab8a92e1",
   "metadata": {},
   "outputs": [
    {
     "data": {
      "application/vnd.jupyter.widget-view+json": {
       "model_id": "8e45532953d64ac588cc52c3b9b7e930",
       "version_major": 2,
       "version_minor": 0
      },
      "text/plain": [
       "Canvas(toolbar=Toolbar(toolitems=[('Home', 'Reset original view', 'home', 'home'), ('Back', 'Back to previous …"
      ]
     },
     "metadata": {},
     "output_type": "display_data"
    }
   ],
   "source": [
    "plt.close('all')\n",
    "fig, axes = plt.subplots(2, 3, figsize=(12, 9))\n",
    "fig.tight_layout(pad=2.0)\n",
    "\n",
    "for opt, ax, label in zip(opts, axes.ravel(), string.ascii_lowercase):\n",
    "    for _ in opt.g_run(): pass\n",
    "\n",
    "    ax_plot_map(fig, ax, opt, border=1.2, nsamples=200)\n",
    "    ax_plot_track(opt, ax, target=opt.optimal_vertex, aspect=True, track_color='darkred')\n",
    "\n",
    "    region = np.array(((1, 1), (-1, 1), (-1, -1), (1, -1), (1, 1)))\n",
    "    ax.plot(region[..., 0], region[..., 1], linestyle='-.', color='limegreen')\n",
    "    ax.plot(np.array((-2, 2)), np.array((0, 0)), linestyle='-.', color='royalblue')\n",
    "    ax.plot(np.array((0, 0)), np.array((-2, 2)), linestyle='-.', color='royalblue')\n",
    "    ax.set(xlim=(-1.1, 1.1), ylim=(-1.1, 1.1))\n",
    "    ax.set_xlabel(f'{label}) start x at {opt.start_x}')\n",
    "    \n",
    "plt.savefig('presentacio/rsc/ex2-2.png', dpi=120, bbox_inches='tight')"
   ]
  },
  {
   "cell_type": "code",
   "execution_count": 64,
   "id": "75519831",
   "metadata": {},
   "outputs": [
    {
     "data": {
      "application/vnd.jupyter.widget-view+json": {
       "model_id": "83feb1ea8e4447cdb51d16e5cddf651f",
       "version_major": 2,
       "version_minor": 0
      },
      "text/plain": [
       "Canvas(toolbar=Toolbar(toolitems=[('Home', 'Reset original view', 'home', 'home'), ('Back', 'Back to previous …"
      ]
     },
     "metadata": {},
     "output_type": "display_data"
    }
   ],
   "source": [
    "plt.close('all')\n",
    "inner_border = .15\n",
    "outer_border = 2\n",
    "\n",
    "fig, ax = plt.subplots(1, 1, figsize=(6, 6))\n",
    "\n",
    "ax_plot_map(fig, ax, opt, border=outer_border, nsamples=300)\n",
    "\n",
    "region = np.array(((1, 1), (-1, 1), (-1, -1), (1, -1), (1, 1)))\n",
    "ax.plot(region[..., 0], region[..., 1], linestyle='-.', color='limegreen')\n",
    "ax.plot(np.array((-2, 2)), np.array((0, 0)), linestyle='-.', color='royalblue')\n",
    "ax.plot(np.array((0, 0)), np.array((-2, 2)), linestyle='-.', color='royalblue')\n",
    "ax.set(xlim=(-outer_border, outer_border), ylim=(-outer_border, outer_border))\n",
    "\n",
    "color_1, peak_1 = 'red', np.array((.5, .5)) \n",
    "color_2, peak_2 = 'deepskyblue', np.array((-.5, -.5))\n",
    "\n",
    "ax.plot(peak_1[0], peak_1[1], linestyle='', marker='*', color=color_1)\n",
    "ax.plot(peak_2[0], peak_2[1], linestyle='', marker='*', color=color_2)\n",
    "\n",
    "region1 = np.array(((outer_border, -outer_border), (outer_border, inner_border), (-inner_border, inner_border), (-inner_border, -outer_border), (outer_border, -outer_border)))\n",
    "ax.plot(region1[..., 0], region1[..., 1], linestyle='-.', color='gold', alpha=.25)\n",
    "ax.fill(region1[..., 0], region1[..., 1], color='gold', alpha=.15)\n",
    "\n",
    "region2 = np.array(((-outer_border, outer_border), (-outer_border, -inner_border), (inner_border, -inner_border), (inner_border, outer_border), (outer_border, outer_border)))\n",
    "ax.plot(region2[..., 0], region2[..., 1], linestyle='-.', color='gold', alpha=.25)\n",
    "ax.fill(region2[..., 0], region2[..., 1], color='gold', alpha=.15)\n",
    "\n",
    "plt.savefig('presentacio/rsc/ex2-3.png', dpi=120, bbox_inches='tight') "
   ]
  },
  {
   "cell_type": "code",
   "execution_count": 65,
   "id": "5cf6c155",
   "metadata": {},
   "outputs": [
    {
     "data": {
      "application/vnd.jupyter.widget-view+json": {
       "model_id": "42be073e0ed746dd9b98e666ed02bef9",
       "version_major": 2,
       "version_minor": 0
      },
      "text/plain": [
       "Canvas(toolbar=Toolbar(toolitems=[('Home', 'Reset original view', 'home', 'home'), ('Back', 'Back to previous …"
      ]
     },
     "metadata": {},
     "output_type": "display_data"
    }
   ],
   "source": [
    "n_points = 1000  # 2 x n_points dots\n",
    "inner_border = .15\n",
    "outer_border = 2\n",
    "\n",
    "plt.close('all')\n",
    "fig, ax = plt.subplots(1, 1, figsize=(6, 6))\n",
    "\n",
    "ax_plot_map(fig, ax, opt, border=outer_border, nsamples=300)\n",
    "\n",
    "region = np.array(((1, 1), (-1, 1), (-1, -1), (1, -1), (1, 1)))\n",
    "ax.plot(region[..., 0], region[..., 1], linestyle='-.', color='limegreen')\n",
    "ax.plot(np.array((-2, 2)), np.array((0, 0)), linestyle='-.', color='royalblue')\n",
    "ax.plot(np.array((0, 0)), np.array((-2, 2)), linestyle='-.', color='royalblue')\n",
    "ax.set(xlim=(-outer_border, outer_border), ylim=(-outer_border, outer_border))\n",
    "\n",
    "color_1, peak_1 = 'red', np.array((.5, .5)) \n",
    "color_2, peak_2 = 'deepskyblue', np.array((-.5, -.5))\n",
    "tol = 1e-5\n",
    "\n",
    "ax.plot(peak_1[0], peak_1[1], linestyle='', marker='*', color=color_1)\n",
    "ax.plot(peak_2[0], peak_2[1], linestyle='', marker='*', color=color_2)\n",
    "\n",
    "targets = {color_1: [], color_2: []}\n",
    "for _ in range(n_points):\n",
    "    x_up = np.random.uniform(low=-inner_border, high=outer_border)\n",
    "    y_down = np.random.uniform(low=-outer_border, high=inner_border)\n",
    "    start_x = np.array((x_up, y_down)) \n",
    "    opt = gaussian_multipeak_optimizer(g1, g2, start_x=start_x)\n",
    "    opt.run()\n",
    "    \n",
    "    color, peak = (color_1, peak_1) if (opt.optimal_vertex[0] > 0) else (color_2, peak_2)\n",
    "    assert np.linalg.norm(opt.optimal_vertex - peak) < 1e-6\n",
    "    targets[color].append(start_x) \n",
    "    \n",
    "    x_down = np.random.uniform(low=-outer_border, high=inner_border)\n",
    "    y_up = np.random.uniform(low=-inner_border, high=outer_border)\n",
    "    start_x = np.array((x_down, y_up))\n",
    "    opt = gaussian_multipeak_optimizer(g1, g2, start_x=start_x)\n",
    "    opt.run()\n",
    "    \n",
    "    color, peak = (color_1, peak_1) if (opt.optimal_vertex[0] > 0) else (color_2, peak_2)\n",
    "    assert np.linalg.norm(opt.optimal_vertex - peak) < tol\n",
    "    targets[color].append(start_x)\n",
    "\n",
    "for color, points in targets.items():\n",
    "    points = np.array(points)\n",
    "    ax.plot(points[:, 0], points[:, 1], linestyle='', marker='.', color=color)\n",
    "    \n",
    "plt.savefig('presentacio/rsc/ex2-4.png', dpi=120, bbox_inches='tight') "
   ]
  },
  {
   "cell_type": "markdown",
   "id": "436aba95",
   "metadata": {},
   "source": [
    "## Example 3: Wave field"
   ]
  },
  {
   "cell_type": "code",
   "execution_count": 35,
   "id": "66052c41",
   "metadata": {},
   "outputs": [],
   "source": [
    "def wave_optimizer(T0, A0, T1, A1, start_x, border=1, rhobeg=1, rhoend=1e-12):\n",
    "    F = lambda x: tc.waves(x, T0=T0, A0=A0, T1=T1, A1=A1)\n",
    "    \n",
    "    c1 = lambda x: border - x[0]\n",
    "    c2 = lambda x: border + x[0]\n",
    "    c3 = lambda x: border - x[1]\n",
    "    c4 = lambda x: border + x[1]\n",
    "    C = (c1, c2, c3, c4)\n",
    "    \n",
    "    opt = GCobyla(start_x, F, C, rhobeg=rhobeg, rhoend=rhoend)\n",
    "    return opt"
   ]
  },
  {
   "cell_type": "code",
   "execution_count": 36,
   "id": "b138b419",
   "metadata": {},
   "outputs": [
    {
     "data": {
      "application/vnd.jupyter.widget-view+json": {
       "model_id": "ae96b21572e34fc687566616fe7c3748",
       "version_major": 2,
       "version_minor": 0
      },
      "text/plain": [
       "Canvas(toolbar=Toolbar(toolitems=[('Home', 'Reset original view', 'home', 'home'), ('Back', 'Back to previous …"
      ]
     },
     "metadata": {},
     "output_type": "display_data"
    }
   ],
   "source": [
    "plt.close('all')\n",
    "fig, ax = plt.subplots(1, 1, figsize=(6,6))\n",
    "\n",
    "start_x = np.array((0,0))\n",
    "T0, A0 = 1, 1\n",
    "T1, A1 = 1, 1\n",
    "\n",
    "rhobeg1 = .1\n",
    "rhobeg2 = .8\n",
    "rhobeg3 = 1\n",
    "\n",
    "opt1 = wave_optimizer(T0=T0, A0=A0, T1=T1, A1=A1, start_x=start_x, border=1, rhobeg=rhobeg1)\n",
    "opt2 = wave_optimizer(T0=T0, A0=A0, T1=T1, A1=A1, start_x=start_x, border=1, rhobeg=rhobeg2)\n",
    "opt3 = wave_optimizer(T0=T0, A0=A0, T1=T1, A1=A1, start_x=start_x, border=1, rhobeg=rhobeg3)\n",
    "\n",
    "for _ in opt1.g_run(): pass\n",
    "for _ in opt2.g_run(): pass\n",
    "for _ in opt3.g_run(): pass\n",
    "\n",
    "ax_plot_map(fig, ax, opt1, border=1.2, nsamples=200)\n",
    "\n",
    "#ax_plot_track(opt1, ax, target=(.5, .5), aspect=True, track_color='red')\n",
    "#ax_plot_track(opt2, ax, target=(-.5, .5), aspect=True, track_color='blue')\n",
    "#ax_plot_track(opt3, ax, target=(.5, -.5), aspect=True, track_color='green')\n",
    "region = np.array(((1, 1), (-1, 1), (-1, -1), (1, -1), (1, 1)))\n",
    "ax.plot(region[..., 0], region[..., 1], linestyle='-.', color='limegreen')\n",
    "\n",
    "plt.savefig('presentacio/rsc/ex3-1.png', dpi=120, bbox_inches='tight')"
   ]
  },
  {
   "cell_type": "code",
   "execution_count": 37,
   "id": "fa8ba755",
   "metadata": {},
   "outputs": [
    {
     "data": {
      "application/vnd.jupyter.widget-view+json": {
       "model_id": "d1369dd9ccab40029efc044067180272",
       "version_major": 2,
       "version_minor": 0
      },
      "text/plain": [
       "Canvas(toolbar=Toolbar(toolitems=[('Home', 'Reset original view', 'home', 'home'), ('Back', 'Back to previous …"
      ]
     },
     "metadata": {},
     "output_type": "display_data"
    }
   ],
   "source": [
    "plt.close('all')\n",
    "fig, ax = plt.subplots(1, 1, figsize=(6,6))\n",
    "\n",
    "ax_plot_map(fig, ax, opt1, border=1.2, nsamples=200)\n",
    "ax_plot_track(opt1, ax, target=(.5, .5), aspect=True, track_color='red')\n",
    "ax_plot_track(opt2, ax, target=(-.5, .5), aspect=True, track_color='blue')\n",
    "ax_plot_track(opt3, ax, target=(.5, -.5), aspect=True, track_color='green')\n",
    "region = np.array(((1, 1), (-1, 1), (-1, -1), (1, -1), (1, 1)))\n",
    "ax.plot(region[..., 0], region[..., 1], linestyle='-.', color='limegreen')\n",
    "\n",
    "plt.savefig('presentacio/rsc/ex3-2.png', dpi=120, bbox_inches='tight')"
   ]
  },
  {
   "cell_type": "markdown",
   "id": "1e898bc3",
   "metadata": {},
   "source": [
    "## Example 4: Pyramid"
   ]
  },
  {
   "cell_type": "code",
   "execution_count": 27,
   "id": "ddd2155c",
   "metadata": {},
   "outputs": [],
   "source": [
    "import functools\n",
    "\n",
    "import tests.test_custom as tc\n",
    "\n",
    "radius = 2\n",
    "\n",
    "def pyramid_faces_optimizer(start_x, radius=radius, faces=4, rhobeg=.5, rhoend=1e-12):\n",
    "    F = functools.partial(tc.pyramid_faces, center=np.zeros(2), radius=radius, height=-1, faces=faces)\n",
    "    c1 = lambda x: 1 - sum(x ** 2)\n",
    "    C = (c1,)\n",
    "    opt = GCobyla(start_x, F, C, rhobeg=rhobeg, rhoend=rhoend)\n",
    "    return opt"
   ]
  },
  {
   "cell_type": "code",
   "execution_count": 33,
   "id": "b60f1784",
   "metadata": {},
   "outputs": [
    {
     "data": {
      "application/vnd.jupyter.widget-view+json": {
       "model_id": "3aa977d400254e448af65b03f6300b05",
       "version_major": 2,
       "version_minor": 0
      },
      "text/plain": [
       "Canvas(toolbar=Toolbar(toolitems=[('Home', 'Reset original view', 'home', 'home'), ('Back', 'Back to previous …"
      ]
     },
     "metadata": {},
     "output_type": "display_data"
    }
   ],
   "source": [
    "import itertools\n",
    "\n",
    "from mpl_toolkits.mplot3d import Axes3D\n",
    "import matplotlib.pyplot as plt\n",
    "from matplotlib import cm\n",
    "from matplotlib.ticker import LinearLocator, FormatStrFormatter\n",
    "\n",
    "plt.close('all')\n",
    "fig = plt.figure()\n",
    "ax = fig.add_subplot(1, 1, 1, projection='3d')\n",
    "\n",
    "X = np.linspace(-radius, radius, 200)\n",
    "xv, yv = np.meshgrid(X, X)\n",
    "zv = np.array(tuple(tc.pyramid_faces(xy, center=(0, 0), radius=radius, height=1, faces=4) for xy in itertools.product(X, X)))\n",
    "zv = zv.reshape(xv.shape)\n",
    "\n",
    "# Plot the surface.\n",
    "surf = ax.plot_surface(xv, yv, zv, cmap=cm.inferno, linewidth=0, antialiased=False)\n",
    "\n",
    "# Customize the z axis.\n",
    "ax.zaxis.set_major_locator(LinearLocator(5))\n",
    "ax.zaxis.set_major_formatter(FormatStrFormatter('%.01f'))\n",
    "\n",
    "plt.savefig('presentacio/rsc/ex4-1.png', dpi=120, bbox_inches='tight')"
   ]
  },
  {
   "cell_type": "code",
   "execution_count": 31,
   "id": "8fb32d35",
   "metadata": {},
   "outputs": [
    {
     "data": {
      "application/vnd.jupyter.widget-view+json": {
       "model_id": "3168e59b02d64f019e545e910739504c",
       "version_major": 2,
       "version_minor": 0
      },
      "text/plain": [
       "Canvas(toolbar=Toolbar(toolitems=[('Home', 'Reset original view', 'home', 'home'), ('Back', 'Back to previous …"
      ]
     },
     "metadata": {},
     "output_type": "display_data"
    },
    {
     "data": {
      "text/plain": [
       "0.08365341470192740388"
      ]
     },
     "execution_count": 31,
     "metadata": {},
     "output_type": "execute_result"
    }
   ],
   "source": [
    "#start_x = np.array((-0.26835858024991177117613, -0.12417347476622397905999))  #radius = 1\n",
    "#start_x = np.array((0.29437038734662568373324, -0.55939322414647030257129))  # radius = 2\n",
    "#start_x = np.array((0.60522848317453536992616, -0.92243950619371162247262))  # radius = 2\n",
    "start_x = np.array((0.6052, -0.9224))  # radius = 2\n",
    "opt = pyramid_faces_optimizer(start_x=start_x, faces=4, rhobeg=.5)\n",
    "for _ in opt.g_run(): pass\n",
    "\n",
    "plt.close('all')\n",
    "fig, axes = plt.subplots(2, 2, figsize=(10, 9))\n",
    "ax1 = axes[0,0]\n",
    "ax2 = axes[0,1]\n",
    "ax3 = axes[1,0]\n",
    "ax4 = axes[1,1]\n",
    "\n",
    "circle = plt.Circle((0, 0), 1, color='limegreen', fill=False)\n",
    "\n",
    "###\n",
    "#ax1.set_aspect('equal')\n",
    "ax1.axis('equal')\n",
    "\n",
    "ax1.plot(np.array((-4, 4)), np.array((0, 0)), linestyle='-.', color='black')\n",
    "ax1.plot(np.array((0, 0)), np.array((-4, 4)), linestyle='-.', color='black')\n",
    "\n",
    "ax_plot_track(opt, ax1, target=np.zeros(2),  aspect=True, track_color='darkred')\n",
    "ax_plot_map(fig, ax1, opt, border=2, nsamples=200)\n",
    "ax1.add_patch(circle)\n",
    "ax1.set(xlim=(-1, 1), ylim=(-1, 1))\n",
    "ax1.xaxis.set_major_formatter(FormatStrFormatter('%.1f'))\n",
    "ax1.yaxis.set_major_formatter(FormatStrFormatter('%.1f'))\n",
    "\n",
    "###\n",
    "#ax2.set_aspect('equal')\n",
    "ax2.axis('equal')\n",
    "ax2.plot(np.array((-4, 4)), np.array((0, 0)), linestyle='-.', color='black')\n",
    "ax2.plot(np.array((0, 0)), np.array((-4, 4)), linestyle='-.', color='black')\n",
    "\n",
    "ax_plot_track(opt, ax2, target=np.zeros(2),  aspect=True, track_color='darkred')\n",
    "ax_plot_map(fig, ax2, opt, border=1, nsamples=200)\n",
    "margin = 5e-2\n",
    "xmin = min((*opt.track[:, 0], 0))\n",
    "xmax = max((*opt.track[:, 0], 0))\n",
    "ymin = min((*opt.track[:, 1], 0))\n",
    "ymax = max((*opt.track[:, 1], 0))\n",
    "ax2.add_patch(plt.Circle((0, 0), 1, color='limegreen', fill=False))\n",
    "ax2.set(xlim=(xmin - margin, xmax + margin), ylim=(ymin - margin, ymax + margin))\n",
    "ax2.xaxis.set_major_formatter(FormatStrFormatter('%.1f'))\n",
    "ax2.yaxis.set_major_formatter(FormatStrFormatter('%.1f'))\n",
    "\n",
    "###\n",
    "#ax3.set_aspect('equal')\n",
    "ax3.axis('equal')\n",
    "ax3.plot(np.array((-4, 4)), np.array((0, 0)), linestyle='-.', color='black')\n",
    "ax3.plot(np.array((0, 0)), np.array((-4, 4)), linestyle='-.', color='black')\n",
    "ax_plot_track(opt, ax3, target=np.zeros(2),  aspect=True, track_color='darkred')\n",
    "ax_plot_map(fig, ax3, opt, border=1, nsamples=200)\n",
    "ax3.set(xlim=(-.01, .18), ylim=(-1e-3, 1e-3))\n",
    "ax3.xaxis.set_major_formatter(FormatStrFormatter('%.2f'))\n",
    "ax3.yaxis.set_major_formatter(FormatStrFormatter('%.2f'))\n",
    "\n",
    "\n",
    "###\n",
    "#ax4.set_aspect('equal')\n",
    "ax4.axis('equal')\n",
    "ax4.plot(np.array((-4, 4)), np.array((0, 0)), linestyle='-.', color='black')\n",
    "ax4.plot(np.array((0, 0)), np.array((-4, 4)), linestyle='-.', color='black')\n",
    "ax_plot_track(opt, ax4, target=np.zeros(2),  aspect=True, track_color='darkred')\n",
    "ax_plot_map(fig, ax4, opt, border=1, nsamples=200)\n",
    "ax4.set(xlim=(.083, .086), ylim=(-1e-3, 1e-3))\n",
    "ax4.xaxis.set_major_formatter(FormatStrFormatter('%.3f'))\n",
    "ax4.yaxis.set_major_formatter(FormatStrFormatter('%.3f'))\n",
    "\n",
    "\n",
    "###\n",
    "ax1.set_xlabel(f'a)')\n",
    "ax2.set_xlabel(f'b)')\n",
    "ax3.set_xlabel(f'c)')\n",
    "ax4.set_xlabel(f'd)')\n",
    "plt.savefig('presentacio/rsc/ex4-2.png', dpi=120, bbox_inches='tight')\n",
    "\n",
    "np.linalg.norm(opt.optimal_vertex)"
   ]
  },
  {
   "cell_type": "code",
   "execution_count": 32,
   "id": "d20d1e29",
   "metadata": {},
   "outputs": [
    {
     "data": {
      "application/vnd.jupyter.widget-view+json": {
       "model_id": "f7d1b10f14cc4167b5ad757b40cf1eed",
       "version_major": 2,
       "version_minor": 0
      },
      "text/plain": [
       "Canvas(toolbar=Toolbar(toolitems=[('Home', 'Reset original view', 'home', 'home'), ('Back', 'Back to previous …"
      ]
     },
     "metadata": {},
     "output_type": "display_data"
    },
    {
     "data": {
      "text/plain": [
       "1.0024370510201885988e-12"
      ]
     },
     "execution_count": 32,
     "metadata": {},
     "output_type": "execute_result"
    }
   ],
   "source": [
    "opt = pyramid_faces_optimizer(start_x=start_x, faces=4, rhobeg=.1)\n",
    "for _ in opt.g_run(): pass\n",
    "\n",
    "plt.close('all')\n",
    "fig, axes = plt.subplots(2, 2, figsize=(10, 9))\n",
    "ax1 = axes[0,0]\n",
    "ax2 = axes[0,1]\n",
    "ax3 = axes[1,0]\n",
    "ax4 = axes[1,1]\n",
    "\n",
    "circle = plt.Circle((0, 0), 1, color='limegreen', fill=False)\n",
    "\n",
    "###\n",
    "#ax1.set_aspect('equal')\n",
    "ax1.axis('equal')\n",
    "\n",
    "ax1.plot(np.array((-4, 4)), np.array((0, 0)), linestyle='-.', color='black')\n",
    "ax1.plot(np.array((0, 0)), np.array((-4, 4)), linestyle='-.', color='black')\n",
    "\n",
    "ax_plot_track(opt, ax1, target=np.zeros(2),  aspect=True, track_color='darkred')\n",
    "ax_plot_map(fig, ax1, opt, border=2, nsamples=200)\n",
    "ax1.add_patch(circle)\n",
    "ax1.set(xlim=(-1, 1), ylim=(-1, 1))\n",
    "ax1.xaxis.set_major_formatter(FormatStrFormatter('%.1f'))\n",
    "ax1.yaxis.set_major_formatter(FormatStrFormatter('%.1f'))\n",
    "\n",
    "###\n",
    "#ax2.set_aspect('equal')\n",
    "ax2.axis('equal')\n",
    "ax2.plot(np.array((-4, 4)), np.array((0, 0)), linestyle='-.', color='black')\n",
    "ax2.plot(np.array((0, 0)), np.array((-4, 4)), linestyle='-.', color='black')\n",
    "\n",
    "ax_plot_track(opt, ax2, target=np.zeros(2),  aspect=True, track_color='darkred')\n",
    "ax_plot_map(fig, ax2, opt, border=1, nsamples=200)\n",
    "margin = 5e-2\n",
    "xmin = min((*opt.track[:, 0], 0))\n",
    "xmax = max((*opt.track[:, 0], 0))\n",
    "ymin = min((*opt.track[:, 1], 0))\n",
    "ymax = max((*opt.track[:, 1], 0))\n",
    "ax2.add_patch(plt.Circle((0, 0), 1, color='limegreen', fill=False))\n",
    "ax2.set(xlim=(xmin - margin, xmax + margin), ylim=(ymin - margin, ymax + margin))\n",
    "ax2.xaxis.set_major_formatter(FormatStrFormatter('%.1f'))\n",
    "ax2.yaxis.set_major_formatter(FormatStrFormatter('%.1f'))\n",
    "\n",
    "###\n",
    "#ax3.set_aspect('equal')\n",
    "ax3.axis('equal')\n",
    "ax3.plot(np.array((-4, 4)), np.array((0, 0)), linestyle='-.', color='black')\n",
    "ax3.plot(np.array((0, 0)), np.array((-4, 4)), linestyle='-.', color='black')\n",
    "ax_plot_track(opt, ax3, target=np.zeros(2),  aspect=True, track_color='darkred')\n",
    "ax_plot_map(fig, ax3, opt, border=1, nsamples=200)\n",
    "ax3.set(xlim=(-.5, .5), ylim=(-.5, .5))\n",
    "ax3.xaxis.set_major_formatter(FormatStrFormatter('%.2f'))\n",
    "ax3.yaxis.set_major_formatter(FormatStrFormatter('%.2f'))\n",
    "\n",
    "\n",
    "###\n",
    "#ax4.set_aspect('equal')\n",
    "ax4.axis('equal')\n",
    "ax4.plot(np.array((-4, 4)), np.array((0, 0)), linestyle='-.', color='black')\n",
    "ax4.plot(np.array((0, 0)), np.array((-4, 4)), linestyle='-.', color='black')\n",
    "ax_plot_track(opt, ax4, target=np.zeros(2),  aspect=True, track_color='darkred')\n",
    "ax_plot_map(fig, ax4, opt, border=1, nsamples=200)\n",
    "ax4.set(xlim=(-1.5e-11, 1.5e-11), ylim=(-1.5e-11, 1.5e-11))\n",
    "#ax4.xaxis.set_major_formatter(FormatStrFormatter('%.3f'))\n",
    "#ax4.yaxis.set_major_formatter(FormatStrFormatter('%.3f'))\n",
    "\n",
    "\n",
    "###\n",
    "ax1.set_xlabel(f'a)')\n",
    "ax2.set_xlabel(f'b)')\n",
    "ax3.set_xlabel(f'c)')\n",
    "ax4.set_xlabel(f'd)')\n",
    "plt.savefig('presentacio/rsc/ex4-3.png', dpi=120, bbox_inches='tight')\n",
    "\n",
    "np.linalg.norm(opt.optimal_vertex)"
   ]
  },
  {
   "cell_type": "code",
   "execution_count": null,
   "id": "f4963cb1",
   "metadata": {},
   "outputs": [],
   "source": []
  }
 ],
 "metadata": {
  "kernelspec": {
   "display_name": "Python 3",
   "language": "python",
   "name": "python3"
  },
  "language_info": {
   "codemirror_mode": {
    "name": "ipython",
    "version": 3
   },
   "file_extension": ".py",
   "mimetype": "text/x-python",
   "name": "python",
   "nbconvert_exporter": "python",
   "pygments_lexer": "ipython3",
   "version": "3.8.3"
  }
 },
 "nbformat": 4,
 "nbformat_minor": 5
}
