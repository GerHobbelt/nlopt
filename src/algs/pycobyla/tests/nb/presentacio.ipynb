{
 "cells": [
  {
   "cell_type": "code",
   "execution_count": 4,
   "id": "b3ae6e8b",
   "metadata": {},
   "outputs": [],
   "source": [
    "import functools\n",
    "import itertools\n",
    "\n",
    "import numpy as np\n",
    "\n",
    "from pycobyla.gcobyla import GCobyla\n",
    "\n",
    "import tests.test_custom as tc\n",
    "from tests.nb import utils"
   ]
  },
  {
   "cell_type": "markdown",
   "id": "9083d8e6",
   "metadata": {},
   "source": [
    "# Simplex acceptability, Delta branch"
   ]
  },
  {
   "cell_type": "code",
   "execution_count": 5,
   "id": "bd7981af",
   "metadata": {},
   "outputs": [],
   "source": [
    "%matplotlib widget\n",
    "import numpy as np\n",
    "import matplotlib.pyplot as plt\n",
    "import matplotlib.tri as tri\n",
    "\n",
    "def ax_plot_simplex(ax, optimal_vertex, sim, jdrop, rho):\n",
    "    simplex = np.array((optimal_vertex, *(sim + optimal_vertex), optimal_vertex))\n",
    "    ax.plot(simplex[...,0], simplex[...,1], '-', color='lightsteelblue', lw=2)\n",
    "    ax.plot(simplex[1:-1,0], simplex[1:-1,1], '.', color='blue', marker='o')\n",
    "    ax.plot(simplex[jdrop+1,0], simplex[jdrop+1,1], '.', color='red', marker='o')\n",
    "    ax.plot(*optimal_vertex, color='limegreen', marker='D')\n",
    "    \n",
    "    beta = 2.1\n",
    "    beta_region = plt.Circle(optimal_vertex, beta * rho, color='lemonchiffon', fill=True, alpha=0.5)\n",
    "    trust_region = plt.Circle(optimal_vertex, rho, color='gold', fill=True, alpha=0.5)\n",
    "    ax.add_patch(beta_region)\n",
    "    ax.add_patch(trust_region)"
   ]
  },
  {
   "cell_type": "markdown",
   "id": "66f7be92",
   "metadata": {},
   "source": [
    "## Simplex eta delta branch correction"
   ]
  },
  {
   "cell_type": "code",
   "execution_count": 16,
   "id": "b1b5ccc5",
   "metadata": {},
   "outputs": [
    {
     "data": {
      "application/vnd.jupyter.widget-view+json": {
       "model_id": "2a23d9f70f774d10b2f601075eba01fa",
       "version_major": 2,
       "version_minor": 0
      },
      "text/plain": [
       "Canvas(toolbar=Toolbar(toolitems=[('Home', 'Reset original view', 'home', 'home'), ('Back', 'Back to previous …"
      ]
     },
     "metadata": {},
     "output_type": "display_data"
    },
    {
     "name": "stdout",
     "output_type": "stream",
     "text": [
      "1.0842021724855044e-19\n"
     ]
    }
   ],
   "source": [
    "# eta case\n",
    "plt.close('all')\n",
    "jdrop = 0\n",
    "rho = 0.0625\n",
    "optimal_vertex = np.array([0.047873700624370373047, 0.03301727499567987112])\n",
    "\n",
    "old_sim = np.array([[-0.13019926157022278929, -0.059595187823573939068], [-0.05055567780160368646, 0.036747427692566961288]])\n",
    "old_veta = np.array([0.14319020261581568261, 0.062500000000000007495])\n",
    "old_vsig = np.array([0.12475780902899252224, 0.054454585033534948986])\n",
    "\n",
    "new_sim = np.array([[0.018373713846283478442, 0.025277838900801840201], [-0.05055567780160368646, 0.036747427692566961288]])\n",
    "new_veta = np.array([0.03125, 0.062500000000000007495])\n",
    "new_vsig = np.array([0.031249999999999999998, 0.06250000000000000749])\n",
    "\n",
    "coords = np.array((*old_sim, *new_sim)) + optimal_vertex\n",
    "x_coords = coords[:, 0]\n",
    "y_coords = coords[:, 1]\n",
    "\n",
    "plt.close('all')\n",
    "fig, (ax1, ax2) = plt.subplots(1, 2, figsize=(12, 6))\n",
    "xmin = min(x_coords)\n",
    "xmax = max(x_coords)\n",
    "ymin = min(y_coords)\n",
    "ymax = max(y_coords)\n",
    "margin = 1e-2\n",
    "\n",
    "#_ = ax1.set(xlim=(xmin - margin, xmax + margin), ylim=(ymin - margin, ymax + margin))\n",
    "#_ = ax2.set(xlim=(xmin - margin, xmax + margin), ylim=(ymin - margin, ymax + margin))\n",
    "ax1.set_aspect('equal')\n",
    "ax2.set_aspect('equal')\n",
    "\n",
    "ax_plot_simplex(ax1, optimal_vertex, old_sim, jdrop, rho=rho)\n",
    "ax_plot_simplex(ax2, optimal_vertex, new_sim, jdrop, rho=rho)\n",
    "plt.savefig('presentacio/rsc/delta-eta.png', dpi=120, bbox_inches='tight')\n",
    "\n",
    "print(new_sim[0] @ new_sim[1])"
   ]
  },
  {
   "cell_type": "markdown",
   "id": "0168d6bc",
   "metadata": {},
   "source": [
    "## Simplex eta acceptability fault"
   ]
  },
  {
   "cell_type": "code",
   "execution_count": 23,
   "id": "27fd21ce",
   "metadata": {},
   "outputs": [
    {
     "data": {
      "application/vnd.jupyter.widget-view+json": {
       "model_id": "6fc4402fdb1b4d24a74d8c73854dc584",
       "version_major": 2,
       "version_minor": 0
      },
      "text/plain": [
       "Canvas(toolbar=Toolbar(toolitems=[('Home', 'Reset original view', 'home', 'home'), ('Back', 'Back to previous …"
      ]
     },
     "metadata": {},
     "output_type": "display_data"
    }
   ],
   "source": [
    "# eta case\n",
    "plt.close('all')\n",
    "coords = np.array((*old_sim,)) + optimal_vertex\n",
    "x_coords = coords[:, 0]\n",
    "y_coords = coords[:, 1]\n",
    "\n",
    "plt.close('all')\n",
    "fig, ax = plt.subplots(1, figsize=(5, 5))\n",
    "xmin = min(x_coords)\n",
    "xmax = max(x_coords)\n",
    "ymin = min(y_coords)\n",
    "ymax = max(y_coords)\n",
    "margin = 1e-2\n",
    "\n",
    "ax.set_aspect('equal')\n",
    "\n",
    "ax_plot_simplex(ax, optimal_vertex, old_sim, jdrop, rho=rho)\n",
    "plt.savefig('presentacio/rsc/eta-fault.png', dpi=120, bbox_inches='tight')"
   ]
  },
  {
   "cell_type": "markdown",
   "id": "4a183b1c",
   "metadata": {},
   "source": [
    "## Simplex sigma delta branch correction"
   ]
  },
  {
   "cell_type": "code",
   "execution_count": 26,
   "id": "3d26ab86",
   "metadata": {},
   "outputs": [
    {
     "data": {
      "application/vnd.jupyter.widget-view+json": {
       "model_id": "639de89a0dfd4de7a79b32662ea9b9cc",
       "version_major": 2,
       "version_minor": 0
      },
      "text/plain": [
       "Canvas(toolbar=Toolbar(toolitems=[('Home', 'Reset original view', 'home', 'home'), ('Back', 'Back to previous …"
      ]
     },
     "metadata": {},
     "output_type": "display_data"
    },
    {
     "name": "stdout",
     "output_type": "stream",
     "text": [
      "-2.0679515313825692e-25\n"
     ]
    }
   ],
   "source": [
    "# sigma case\n",
    "plt.close('all')\n",
    "jdrop = 1\n",
    "rho = 6.103515625e-05\n",
    "\n",
    "optimal_vertex = np.array([0.12322095602324728612, 0.7876477600799215061])\n",
    "old_sim = np.array([[0.00010609379901699572403, -5.758107655831259315e-05], [4.8716293255678108707e-05, -3.676973034832708352e-05]])\n",
    "old_veta = np.array([0.00012071236294378856573, 6.103515625000000053e-05])\n",
    "old_vsig = np.array([1.7955287365912709351e-05, 9.078637375381810534e-06])\n",
    "\n",
    "new_sim = np.array([[0.00010609379901699572403, -5.758107655831259315e-05], [-1.4557208222393858973e-05, -2.6821824385849429767e-05]])\n",
    "new_veta = np.array([0.00012071236294378856573, 6.103515625000000053e-05])\n",
    "new_vsig = np.array([1.7955287365912709351e-05, 9.078637375381810534e-06])\n",
    "\n",
    "coords = np.array((*old_sim, *new_sim)) + optimal_vertex\n",
    "x_coords = coords[:, 0]\n",
    "y_coords = coords[:, 1]\n",
    "\n",
    "plt.close('all')\n",
    "fig, (ax1, ax2) = plt.subplots(1, 2, figsize=(12, 6))\n",
    "xmin = min(x_coords)\n",
    "xmax = max(x_coords)\n",
    "ymin = min(y_coords)\n",
    "ymax = max(y_coords)\n",
    "margin = 6e-5\n",
    "\n",
    "#_ = ax1.set(xlim=(xmin - margin, xmax + margin), ylim=(ymin - margin, ymax + margin))\n",
    "#_ = ax2.set(xlim=(xmin - margin, xmax + margin), ylim=(ymin - margin, ymax + margin))\n",
    "ax1.set_aspect('equal')\n",
    "ax2.set_aspect('equal')\n",
    "\n",
    "ax_plot_simplex(ax1, optimal_vertex, old_sim, jdrop, rho=rho)\n",
    "ax_plot_simplex(ax2, optimal_vertex, new_sim, jdrop, rho=rho)\n",
    "plt.savefig('presentacio/rsc/delta-sigma.png', dpi=120, bbox_inches='tight')\n",
    "\n",
    "print(new_sim[0] @ new_sim[1])"
   ]
  },
  {
   "cell_type": "markdown",
   "id": "f4281ddc",
   "metadata": {},
   "source": [
    "## Simplex sigma acceptability fault"
   ]
  },
  {
   "cell_type": "code",
   "execution_count": 28,
   "id": "e7042563",
   "metadata": {},
   "outputs": [
    {
     "data": {
      "application/vnd.jupyter.widget-view+json": {
       "model_id": "95a3fd8481db4c90ab308cf3c7384fd0",
       "version_major": 2,
       "version_minor": 0
      },
      "text/plain": [
       "Canvas(toolbar=Toolbar(toolitems=[('Home', 'Reset original view', 'home', 'home'), ('Back', 'Back to previous …"
      ]
     },
     "metadata": {},
     "output_type": "display_data"
    }
   ],
   "source": [
    "# sigma case\n",
    "plt.close('all')\n",
    "coords = np.array((*old_sim,)) + optimal_vertex\n",
    "x_coords = coords[:, 0]\n",
    "y_coords = coords[:, 1]\n",
    "\n",
    "plt.close('all')\n",
    "fig, ax = plt.subplots(1, figsize=(5, 5))\n",
    "xmin = min(x_coords)\n",
    "xmax = max(x_coords)\n",
    "ymin = min(y_coords)\n",
    "ymax = max(y_coords)\n",
    "margin = 1e-2\n",
    "\n",
    "ax.set_aspect('equal')\n",
    "\n",
    "ax_plot_simplex(ax, optimal_vertex, old_sim, jdrop, rho=rho)\n",
    "plt.savefig('presentacio/rsc/sigma-fault.png', dpi=120, bbox_inches='tight')"
   ]
  },
  {
   "cell_type": "code",
   "execution_count": null,
   "id": "902db472",
   "metadata": {},
   "outputs": [],
   "source": []
  }
 ],
 "metadata": {
  "kernelspec": {
   "display_name": "Python 3",
   "language": "python",
   "name": "python3"
  },
  "language_info": {
   "codemirror_mode": {
    "name": "ipython",
    "version": 3
   },
   "file_extension": ".py",
   "mimetype": "text/x-python",
   "name": "python",
   "nbconvert_exporter": "python",
   "pygments_lexer": "ipython3",
   "version": "3.8.3"
  }
 },
 "nbformat": 4,
 "nbformat_minor": 5
}
