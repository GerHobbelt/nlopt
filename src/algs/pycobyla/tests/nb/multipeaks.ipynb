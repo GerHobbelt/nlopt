{
 "cells": [
  {
   "cell_type": "code",
   "execution_count": 1,
   "id": "ebbf5800",
   "metadata": {},
   "outputs": [],
   "source": [
    "import functools\n",
    "import itertools\n",
    "\n",
    "import numpy as np\n",
    "\n",
    "from pycobyla.gcobyla import GCobyla\n",
    "\n",
    "import tests.test_custom as tc\n",
    "from tests.nb import utils"
   ]
  },
  {
   "cell_type": "markdown",
   "id": "36acca04",
   "metadata": {},
   "source": [
    "# Two Gaussian Peaks"
   ]
  },
  {
   "cell_type": "code",
   "execution_count": 2,
   "id": "e0767552",
   "metadata": {},
   "outputs": [],
   "source": [
    "def gaussian_multipeak_optimizer(g1, g2, start_x, border=1, rhobeg=.1, rhoend=1e-12):\n",
    "    mu1, sig1, A1 = g1\n",
    "    mu2, sig2, A2 = g2\n",
    "    G1 = functools.partial(tc.gaussian, mu=mu1, sig=sig1, A=A1)\n",
    "    G2 = functools.partial(tc.gaussian, mu=mu2, sig=sig2, A=A2)\n",
    "    F = lambda x: G1(x) + G2(x)\n",
    "    \n",
    "    c1 = lambda x: border - x[0]\n",
    "    c2 = lambda x: border + x[0]\n",
    "    c3 = lambda x: border - x[1]\n",
    "    c4 = lambda x: border + x[1]\n",
    "    C = (c1, c2, c3, c4)\n",
    "    \n",
    "    opt = GCobyla(start_x, F, C, rhobeg=rhobeg, rhoend=rhoend)\n",
    "    return opt"
   ]
  },
  {
   "cell_type": "code",
   "execution_count": 3,
   "id": "030bfa35",
   "metadata": {},
   "outputs": [],
   "source": [
    "%matplotlib widget\n",
    "\n",
    "import matplotlib.pyplot as plt\n",
    "from matplotlib import cm\n",
    "\n",
    "def plot_map(fig, ax, opt, border, nsamples=50):\n",
    "    X = np.linspace(-border, border, nsamples)\n",
    "    xv, yv = np.meshgrid(X, X)\n",
    "    zv = np.array(tuple(-opt.F(xy) for xy in itertools.product(X, X)))\n",
    "    zv = zv.reshape(xv.shape)\n",
    "    \n",
    "    cs = ax.contourf(xv, yv, zv, cmap=cm.magma)\n",
    "    cbar = fig.colorbar(cs)\n",
    "    \n",
    "    ax.plot(np.array((-border, border)), np.array((0, 0)), linestyle='-.', color='royalblue')\n",
    "    ax.plot(np.array((0, 0)), np.array((-border, border)), linestyle='-.', color='royalblue')"
   ]
  },
  {
   "cell_type": "code",
   "execution_count": 4,
   "id": "903aa845",
   "metadata": {},
   "outputs": [
    {
     "data": {
      "application/vnd.jupyter.widget-view+json": {
       "model_id": "085a359308164e9b90642b245cb80283",
       "version_major": 2,
       "version_minor": 0
      },
      "text/plain": [
       "Canvas(toolbar=Toolbar(toolitems=[('Home', 'Reset original view', 'home', 'home'), ('Back', 'Back to previous …"
      ]
     },
     "metadata": {},
     "output_type": "display_data"
    }
   ],
   "source": [
    "mu1 = (.5, .5)\n",
    "sig1 = (.25, .25)\n",
    "A1 = -2\n",
    "\n",
    "mu2 = (-.5, -.5)\n",
    "sig2 = (.25, .25)\n",
    "A2 = -1\n",
    "\n",
    "g1 = (mu1, sig1, A1)\n",
    "g2 = (mu2, sig2, A2)\n",
    "start_x = (0, 0)\n",
    "border = 1 \n",
    "\n",
    "opt = gaussian_multipeak_optimizer(g1, g2, start_x=start_x)\n",
    "fig, ax = plt.subplots()\n",
    "plot_map(fig, ax, opt, border=border)\n",
    "plt.show()"
   ]
  },
  {
   "cell_type": "code",
   "execution_count": 5,
   "id": "4f4a636b",
   "metadata": {},
   "outputs": [
    {
     "data": {
      "application/vnd.jupyter.widget-view+json": {
       "model_id": "6f0d5c2ba2b443578235ffe85fc7d216",
       "version_major": 2,
       "version_minor": 0
      },
      "text/plain": [
       "Canvas(toolbar=Toolbar(toolitems=[('Home', 'Reset original view', 'home', 'home'), ('Back', 'Back to previous …"
      ]
     },
     "metadata": {},
     "output_type": "display_data"
    },
    {
     "data": {
      "text/plain": [
       "[]"
      ]
     },
     "execution_count": 5,
     "metadata": {},
     "output_type": "execute_result"
    }
   ],
   "source": [
    "plt.close('all')\n",
    "start_x = (0, 0)\n",
    "opt = gaussian_multipeak_optimizer(g1, g2, start_x=start_x)\n",
    "steps_it = (step for step in opt.g_run() if step in {GCobyla.BEFORE_REVIEW_CURRENT_SIMPLEX_CHECKPOINT, GCobyla.BEFORE_GENERATE_X_START_CHECKPOINT})\n",
    "for _ in steps_it: pass\n",
    "fig, ax = plt.subplots()\n",
    "plot_map(fig, ax, opt, border=border)\n",
    "utils.ax_plot_track(opt, ax, target=(.5, .5), n_points=0, plot_simplex=False, plot_trure=False, aspect=False)\n",
    "ax.plot()"
   ]
  },
  {
   "cell_type": "code",
   "execution_count": 6,
   "id": "40e87ef2",
   "metadata": {},
   "outputs": [
    {
     "data": {
      "application/vnd.jupyter.widget-view+json": {
       "model_id": "3810421dc66a453bb2a7fcf9afb43821",
       "version_major": 2,
       "version_minor": 0
      },
      "text/plain": [
       "Canvas(toolbar=Toolbar(toolitems=[('Home', 'Reset original view', 'home', 'home'), ('Back', 'Back to previous …"
      ]
     },
     "metadata": {},
     "output_type": "display_data"
    }
   ],
   "source": [
    "start_x = (-.046, -.046)\n",
    "opt = gaussian_multipeak_optimizer(g1, g2, start_x=start_x)\n",
    "steps_it = (step for step in opt.g_run() if step in {GCobyla.BEFORE_REVIEW_CURRENT_SIMPLEX_CHECKPOINT, GCobyla.BEFORE_GENERATE_X_START_CHECKPOINT})\n",
    "for _ in steps_it: pass\n",
    "fig, ax = plt.subplots()\n",
    "plot_map(fig, ax, opt, border=border)\n",
    "utils.ax_plot_track(opt, ax, target=(.5, .5), n_points=0, plot_simplex=False, plot_trure=False, aspect=False)\n",
    "_ = ax.plot()"
   ]
  },
  {
   "cell_type": "code",
   "execution_count": 7,
   "id": "1be376ab",
   "metadata": {},
   "outputs": [
    {
     "data": {
      "application/vnd.jupyter.widget-view+json": {
       "model_id": "375fcb2cd30e4810980ab1c540309927",
       "version_major": 2,
       "version_minor": 0
      },
      "text/plain": [
       "Canvas(toolbar=Toolbar(toolitems=[('Home', 'Reset original view', 'home', 'home'), ('Back', 'Back to previous …"
      ]
     },
     "metadata": {},
     "output_type": "display_data"
    }
   ],
   "source": [
    "start_x = (-.047, -.047)\n",
    "opt = gaussian_multipeak_optimizer(g1, g2, start_x=start_x)\n",
    "steps_it = (step for step in opt.g_run() if step in {GCobyla.BEFORE_REVIEW_CURRENT_SIMPLEX_CHECKPOINT, GCobyla.BEFORE_GENERATE_X_START_CHECKPOINT})\n",
    "for _ in steps_it: pass\n",
    "fig, ax = plt.subplots()\n",
    "plot_map(fig, ax, opt, border=border)\n",
    "utils.ax_plot_track(opt, ax, target=(-.5, -.5), n_points=0, plot_simplex=False, plot_trure=False, aspect=False)\n",
    "_ = ax.plot()"
   ]
  },
  {
   "cell_type": "code",
   "execution_count": 64,
   "id": "1de0b930",
   "metadata": {},
   "outputs": [
    {
     "data": {
      "application/vnd.jupyter.widget-view+json": {
       "model_id": "8cb7cc89cd7e404ebbcddc91dad8ba75",
       "version_major": 2,
       "version_minor": 0
      },
      "text/plain": [
       "Canvas(toolbar=Toolbar(toolitems=[('Home', 'Reset original view', 'home', 'home'), ('Back', 'Back to previous …"
      ]
     },
     "metadata": {},
     "output_type": "display_data"
    }
   ],
   "source": [
    "start_x = (-.5, .5)\n",
    "opt = gaussian_multipeak_optimizer(g1, g2, start_x=start_x)\n",
    "steps_it = (step for step in opt.g_run() if step in {GCobyla.BEFORE_REVIEW_CURRENT_SIMPLEX_CHECKPOINT, GCobyla.BEFORE_GENERATE_X_START_CHECKPOINT})\n",
    "for _ in steps_it: pass\n",
    "fig, ax = plt.subplots()\n",
    "plot_map(fig, ax, opt, border=border)\n",
    "utils.ax_plot_track(opt, ax, target=(.5, .5), n_points=0, plot_simplex=False, plot_trure=False, aspect=False)\n",
    "_ = ax.plot()"
   ]
  },
  {
   "cell_type": "code",
   "execution_count": 62,
   "id": "25791758",
   "metadata": {},
   "outputs": [
    {
     "data": {
      "application/vnd.jupyter.widget-view+json": {
       "model_id": "799ec06d1c974f14a97b57326a987e03",
       "version_major": 2,
       "version_minor": 0
      },
      "text/plain": [
       "Canvas(toolbar=Toolbar(toolitems=[('Home', 'Reset original view', 'home', 'home'), ('Back', 'Back to previous …"
      ]
     },
     "metadata": {},
     "output_type": "display_data"
    }
   ],
   "source": [
    "start_x = (-.5, .3)\n",
    "opt = gaussian_multipeak_optimizer(g1, g2, start_x=start_x)\n",
    "steps_it = (step for step in opt.g_run() if step in {GCobyla.BEFORE_REVIEW_CURRENT_SIMPLEX_CHECKPOINT, GCobyla.BEFORE_GENERATE_X_START_CHECKPOINT})\n",
    "for _ in steps_it: pass\n",
    "fig, ax = plt.subplots()\n",
    "plot_map(fig, ax, opt, border=border)\n",
    "utils.ax_plot_track(opt, ax, target=(-.5, -.5), n_points=0, plot_simplex=False, plot_trure=False, aspect=False)\n",
    "_ = ax.plot()"
   ]
  },
  {
   "cell_type": "code",
   "execution_count": 65,
   "id": "0d0f9806",
   "metadata": {},
   "outputs": [
    {
     "data": {
      "application/vnd.jupyter.widget-view+json": {
       "model_id": "5a1e1a9f637f4df4b957ad95d21ef77d",
       "version_major": 2,
       "version_minor": 0
      },
      "text/plain": [
       "Canvas(toolbar=Toolbar(toolitems=[('Home', 'Reset original view', 'home', 'home'), ('Back', 'Back to previous …"
      ]
     },
     "metadata": {},
     "output_type": "display_data"
    }
   ],
   "source": [
    "start_x = (.5, -.5)\n",
    "opt = gaussian_multipeak_optimizer(g1, g2, start_x=start_x)\n",
    "steps_it = (step for step in opt.g_run() if step in {GCobyla.BEFORE_REVIEW_CURRENT_SIMPLEX_CHECKPOINT, GCobyla.BEFORE_GENERATE_X_START_CHECKPOINT})\n",
    "for _ in steps_it: pass\n",
    "fig, ax = plt.subplots()\n",
    "plot_map(fig, ax, opt, border=border)\n",
    "utils.ax_plot_track(opt, ax, target=(.5, .5), n_points=0, plot_simplex=False, plot_trure=False, aspect=False)\n",
    "_ = ax.plot()"
   ]
  },
  {
   "cell_type": "code",
   "execution_count": 67,
   "id": "afc46235",
   "metadata": {},
   "outputs": [
    {
     "data": {
      "application/vnd.jupyter.widget-view+json": {
       "model_id": "d401ec7d80e144c18b21826cc037874b",
       "version_major": 2,
       "version_minor": 0
      },
      "text/plain": [
       "Canvas(toolbar=Toolbar(toolitems=[('Home', 'Reset original view', 'home', 'home'), ('Back', 'Back to previous …"
      ]
     },
     "metadata": {},
     "output_type": "display_data"
    }
   ],
   "source": [
    "start_x = (.3, -.5)\n",
    "opt = gaussian_multipeak_optimizer(g1, g2, start_x=start_x)\n",
    "steps_it = (step for step in opt.g_run() if step in {GCobyla.BEFORE_REVIEW_CURRENT_SIMPLEX_CHECKPOINT, GCobyla.BEFORE_GENERATE_X_START_CHECKPOINT})\n",
    "for _ in steps_it: pass\n",
    "fig, ax = plt.subplots()\n",
    "plot_map(fig, ax, opt, border=border)\n",
    "utils.ax_plot_track(opt, ax, target=(-.5, -.5), n_points=0, plot_simplex=False, plot_trure=False, aspect=False)\n",
    "_ = ax.plot()"
   ]
  },
  {
   "cell_type": "markdown",
   "id": "2c1b6a85",
   "metadata": {},
   "source": [
    "# Odd behaviour with two near peaks"
   ]
  },
  {
   "cell_type": "code",
   "execution_count": 18,
   "id": "5dd00346",
   "metadata": {},
   "outputs": [
    {
     "data": {
      "application/vnd.jupyter.widget-view+json": {
       "model_id": "8190ea7a83aa4c8788844860f0e835f9",
       "version_major": 2,
       "version_minor": 0
      },
      "text/plain": [
       "Canvas(toolbar=Toolbar(toolitems=[('Home', 'Reset original view', 'home', 'home'), ('Back', 'Back to previous …"
      ]
     },
     "metadata": {},
     "output_type": "display_data"
    }
   ],
   "source": [
    "mu1 = (.5, .5)\n",
    "sig1 = (.5, .5)\n",
    "A1 = -2\n",
    "\n",
    "mu2 = (-.5, -.5)\n",
    "sig2 = (.5, .5)\n",
    "A2 = -1\n",
    "\n",
    "g1 = (mu1, sig1, A1)\n",
    "g2 = (mu2, sig2, A2)\n",
    "start_x = (0, 0)\n",
    "border = 1 \n",
    "\n",
    "opt = gaussian_multipeak_optimizer(g1, g2, start_x=start_x)\n",
    "fig, ax = plt.subplots()\n",
    "plot_map(fig, ax, opt, border=border)\n",
    "plt.show()"
   ]
  },
  {
   "cell_type": "code",
   "execution_count": 21,
   "id": "eb0f5086",
   "metadata": {},
   "outputs": [
    {
     "data": {
      "application/vnd.jupyter.widget-view+json": {
       "model_id": "85cf0d1ec3714fae9f8d586e70ebf876",
       "version_major": 2,
       "version_minor": 0
      },
      "text/plain": [
       "Canvas(toolbar=Toolbar(toolitems=[('Home', 'Reset original view', 'home', 'home'), ('Back', 'Back to previous …"
      ]
     },
     "metadata": {},
     "output_type": "display_data"
    },
    {
     "name": "stdout",
     "output_type": "stream",
     "text": [
      "0.013870864280612304\n"
     ]
    }
   ],
   "source": [
    "plt.close('all')\n",
    "start_x = (0, 0)\n",
    "opt = gaussian_multipeak_optimizer(g1, g2, start_x=start_x, rhobeg=.1)\n",
    "steps_it = (step for step in opt.g_run() if step in {GCobyla.BEFORE_REVIEW_CURRENT_SIMPLEX_CHECKPOINT, GCobyla.BEFORE_GENERATE_X_START_CHECKPOINT})\n",
    "for _ in steps_it: pass\n",
    "fig, ax = plt.subplots()\n",
    "plot_map(fig, ax, opt, border=border)\n",
    "utils.ax_plot_track(opt, ax, target=(.5, .5), n_points=0, plot_simplex=False, plot_trure=False, aspect=False)\n",
    "ax.plot()\n",
    "\n",
    "error = sum((opt.x - (.5, .5)) ** 2) ** .5\n",
    "print(f'{error}')"
   ]
  },
  {
   "cell_type": "code",
   "execution_count": 40,
   "id": "f26e8707",
   "metadata": {},
   "outputs": [
    {
     "name": "stdout",
     "output_type": "stream",
     "text": [
      "     fun: -2.0190335939268036\n",
      "   maxcv: 0.0\n",
      " message: 'Optimization terminated successfully.'\n",
      "    nfev: 90\n",
      "  status: 1\n",
      " success: True\n",
      "       x: array([0.49019183, 0.49019182])\n",
      "-2.0190335939268036695\n"
     ]
    }
   ],
   "source": [
    "import scipy.optimize\n",
    "\n",
    "res = scipy.optimize.minimize(\n",
    "    opt.F, start_x, args=(), method='COBYLA', constraints=(), \n",
    "    options={'rhobeg': 0.5, 'maxiter': 3500, 'disp': False, 'tol': 1e-12}\n",
    ")\n",
    "print(res)\n",
    "print(opt.F(opt.x))"
   ]
  },
  {
   "cell_type": "markdown",
   "id": "ca6256ac",
   "metadata": {},
   "source": [
    "# Waves field"
   ]
  },
  {
   "cell_type": "code",
   "execution_count": 53,
   "id": "780e3c77",
   "metadata": {},
   "outputs": [],
   "source": [
    "import numpy as np\n",
    "\n",
    "def waves(x, T0=2*np.pi, A0=1, T1=2*np.pi, A1=1):\n",
    "    return (A0 * np.cos(2*np.pi*x[0] / T0)) + (A1 * np.cos(2*np.pi*x[1] / T1))\n",
    "\n",
    "def wave_optimizer(T0, A0, T1, A1, start_x, border=1, rhobeg=.1, rhoend=1e-12):\n",
    "    F = lambda x: waves(x, T0=T0, A0=A0, T1=T1, A1=A1)\n",
    "    \n",
    "    c1 = lambda x: border - x[0]\n",
    "    c2 = lambda x: border + x[0]\n",
    "    c3 = lambda x: border - x[1]\n",
    "    c4 = lambda x: border + x[1]\n",
    "    C = (c1, c2, c3, c4)\n",
    "    \n",
    "    opt = GCobyla(start_x, F, C, rhobeg=rhobeg, rhoend=rhoend)\n",
    "    return opt"
   ]
  },
  {
   "cell_type": "code",
   "execution_count": 55,
   "id": "e01f42fc",
   "metadata": {},
   "outputs": [
    {
     "data": {
      "application/vnd.jupyter.widget-view+json": {
       "model_id": "37bf6b8890a14f6db69273473d4bb51a",
       "version_major": 2,
       "version_minor": 0
      },
      "text/plain": [
       "Canvas(toolbar=Toolbar(toolitems=[('Home', 'Reset original view', 'home', 'home'), ('Back', 'Back to previous …"
      ]
     },
     "metadata": {},
     "output_type": "display_data"
    },
    {
     "data": {
      "text/plain": [
       "[]"
      ]
     },
     "execution_count": 55,
     "metadata": {},
     "output_type": "execute_result"
    }
   ],
   "source": [
    "start_x = np.array((0,0))\n",
    "T0, A0 = 1, 1\n",
    "T1, A1 = 1, 1\n",
    "\n",
    "opt = wave_optimizer(T0=T0, A0=A0, T1=T1, A1=A1, start_x=start_x, border=1)\n",
    "steps_it = (step for step in opt.g_run() if step in {GCobyla.BEFORE_REVIEW_CURRENT_SIMPLEX_CHECKPOINT, GCobyla.BEFORE_GENERATE_X_START_CHECKPOINT})\n",
    "for _ in steps_it: pass\n",
    "fig, ax = plt.subplots()\n",
    "plot_map(fig, ax, opt, border=1)\n",
    "utils.ax_plot_track(opt, ax, target=(.5, .5), n_points=0, plot_simplex=False, plot_trure=False, aspect=False)\n",
    "ax.plot()"
   ]
  },
  {
   "cell_type": "code",
   "execution_count": null,
   "id": "0058a30d",
   "metadata": {},
   "outputs": [],
   "source": []
  }
 ],
 "metadata": {
  "kernelspec": {
   "display_name": "Python 3",
   "language": "python",
   "name": "python3"
  },
  "language_info": {
   "codemirror_mode": {
    "name": "ipython",
    "version": 3
   },
   "file_extension": ".py",
   "mimetype": "text/x-python",
   "name": "python",
   "nbconvert_exporter": "python",
   "pygments_lexer": "ipython3",
   "version": "3.8.3"
  }
 },
 "nbformat": 4,
 "nbformat_minor": 5
}
