{
 "cells": [
  {
   "cell_type": "code",
   "execution_count": 1,
   "id": "663e410c",
   "metadata": {},
   "outputs": [],
   "source": [
    "import functools\n",
    "import itertools\n",
    "\n",
    "import numpy as np\n",
    "\n",
    "from pycobyla.gcobyla import GCobyla\n",
    "\n",
    "import tests.test_custom as tc\n",
    "from tests.nb import utils"
   ]
  },
  {
   "cell_type": "markdown",
   "id": "d2d8779f",
   "metadata": {},
   "source": [
    "# Two Gaussian Peaks"
   ]
  },
  {
   "cell_type": "code",
   "execution_count": 2,
   "id": "c2bf44d4",
   "metadata": {},
   "outputs": [],
   "source": [
    "def gaussian_multipeak_optimizer(g1, g2, start_x, border=1, rhobeg=.1, rhoend=1e-12):\n",
    "    mu1, sig1, A1 = g1\n",
    "    mu2, sig2, A2 = g2\n",
    "    G1 = functools.partial(tc.gaussian, mu=mu1, sig=sig1, A=A1)\n",
    "    G2 = functools.partial(tc.gaussian, mu=mu2, sig=sig2, A=A2)\n",
    "    F = lambda x: G1(x) + G2(x)\n",
    "    \n",
    "    c1 = lambda x: border - x[0]\n",
    "    c2 = lambda x: border + x[0]\n",
    "    c3 = lambda x: border - x[1]\n",
    "    c4 = lambda x: border + x[1]\n",
    "    C = (c1, c2, c3, c4)\n",
    "    \n",
    "    opt = GCobyla(start_x, F, C, rhobeg=rhobeg, rhoend=rhoend)\n",
    "    return opt"
   ]
  },
  {
   "cell_type": "code",
   "execution_count": 28,
   "id": "07a2ab07",
   "metadata": {},
   "outputs": [],
   "source": [
    "%matplotlib widget\n",
    "\n",
    "import matplotlib.pyplot as plt\n",
    "from matplotlib import cm\n",
    "\n",
    "def plot_map(fig, ax, opt, border, nsamples=50):\n",
    "    X = np.linspace(-border, border, nsamples)\n",
    "    xv, yv = np.meshgrid(X, X)\n",
    "    zv = np.array(tuple(-opt.F(xy) for xy in itertools.product(X, X)))\n",
    "    zv = zv.reshape(xv.shape)\n",
    "    \n",
    "    cs = ax.contourf(xv, yv, zv, cmap=cm.magma)\n",
    "    cbar = fig.colorbar(cs)\n",
    "    \n",
    "    ax.plot(np.array((-border, border)), np.array((0, 0)), linestyle='-.', color='royalblue')\n",
    "    ax.plot(np.array((0, 0)), np.array((-border, border)), linestyle='-.', color='royalblue')"
   ]
  },
  {
   "cell_type": "code",
   "execution_count": 56,
   "id": "625f7c7a",
   "metadata": {},
   "outputs": [
    {
     "data": {
      "application/vnd.jupyter.widget-view+json": {
       "model_id": "a8bea62c552044d493733a1708e133c8",
       "version_major": 2,
       "version_minor": 0
      },
      "text/plain": [
       "Canvas(toolbar=Toolbar(toolitems=[('Home', 'Reset original view', 'home', 'home'), ('Back', 'Back to previous …"
      ]
     },
     "metadata": {},
     "output_type": "display_data"
    }
   ],
   "source": [
    "mu1 = (.5, .5)\n",
    "sig1 = (.25, .25)\n",
    "A1 = -2\n",
    "\n",
    "mu2 = (-.5, -.5)\n",
    "sig2 = (.25, .25)\n",
    "A2 = -1\n",
    "\n",
    "g1 = (mu1, sig1, A1)\n",
    "g2 = (mu2, sig2, A2)\n",
    "start_x = (0, 0)\n",
    "border = 1 \n",
    "\n",
    "opt = gaussian_multipeak_optimizer(g1, g2, start_x=start_x)\n",
    "fig, ax = plt.subplots()\n",
    "plot_map(fig, ax, opt, border=border)\n",
    "plt.show()"
   ]
  },
  {
   "cell_type": "code",
   "execution_count": 57,
   "id": "e5c15e03",
   "metadata": {},
   "outputs": [
    {
     "data": {
      "application/vnd.jupyter.widget-view+json": {
       "model_id": "121d0f0852bb45f8a32933a3daac8174",
       "version_major": 2,
       "version_minor": 0
      },
      "text/plain": [
       "Canvas(toolbar=Toolbar(toolitems=[('Home', 'Reset original view', 'home', 'home'), ('Back', 'Back to previous …"
      ]
     },
     "metadata": {},
     "output_type": "display_data"
    },
    {
     "data": {
      "text/plain": [
       "[]"
      ]
     },
     "execution_count": 57,
     "metadata": {},
     "output_type": "execute_result"
    }
   ],
   "source": [
    "plt.close('all')\n",
    "start_x = (0, 0)\n",
    "opt = gaussian_multipeak_optimizer(g1, g2, start_x=start_x)\n",
    "steps_it = (step for step in opt.g_run() if step in {GCobyla.BEFORE_REVIEW_CURRENT_SIMPLEX_CHECKPOINT, GCobyla.BEFORE_GENERATE_X_START_CHECKPOINT})\n",
    "for _ in steps_it: pass\n",
    "fig, ax = plt.subplots()\n",
    "plot_map(fig, ax, opt, border=border)\n",
    "utils.ax_plot_track(opt, ax, target=(.5, .5), n_points=0, plot_simplex=False, plot_trure=False, aspect=False)\n",
    "ax.plot()"
   ]
  },
  {
   "cell_type": "code",
   "execution_count": 58,
   "id": "af397a18",
   "metadata": {},
   "outputs": [
    {
     "data": {
      "application/vnd.jupyter.widget-view+json": {
       "model_id": "053ab0bd9fb04400927114106ab6fe62",
       "version_major": 2,
       "version_minor": 0
      },
      "text/plain": [
       "Canvas(toolbar=Toolbar(toolitems=[('Home', 'Reset original view', 'home', 'home'), ('Back', 'Back to previous …"
      ]
     },
     "metadata": {},
     "output_type": "display_data"
    }
   ],
   "source": [
    "start_x = (-.046, -.046)\n",
    "opt = gaussian_multipeak_optimizer(g1, g2, start_x=start_x)\n",
    "steps_it = (step for step in opt.g_run() if step in {GCobyla.BEFORE_REVIEW_CURRENT_SIMPLEX_CHECKPOINT, GCobyla.BEFORE_GENERATE_X_START_CHECKPOINT})\n",
    "for _ in steps_it: pass\n",
    "fig, ax = plt.subplots()\n",
    "plot_map(fig, ax, opt, border=border)\n",
    "utils.ax_plot_track(opt, ax, target=(.5, .5), n_points=0, plot_simplex=False, plot_trure=False, aspect=False)\n",
    "_ = ax.plot()"
   ]
  },
  {
   "cell_type": "code",
   "execution_count": 59,
   "id": "3c600667",
   "metadata": {},
   "outputs": [
    {
     "data": {
      "application/vnd.jupyter.widget-view+json": {
       "model_id": "28da104109984517bb0c15d9634a4ed1",
       "version_major": 2,
       "version_minor": 0
      },
      "text/plain": [
       "Canvas(toolbar=Toolbar(toolitems=[('Home', 'Reset original view', 'home', 'home'), ('Back', 'Back to previous …"
      ]
     },
     "metadata": {},
     "output_type": "display_data"
    }
   ],
   "source": [
    "start_x = (-.047, -.047)\n",
    "opt = gaussian_multipeak_optimizer(g1, g2, start_x=start_x)\n",
    "steps_it = (step for step in opt.g_run() if step in {GCobyla.BEFORE_REVIEW_CURRENT_SIMPLEX_CHECKPOINT, GCobyla.BEFORE_GENERATE_X_START_CHECKPOINT})\n",
    "for _ in steps_it: pass\n",
    "fig, ax = plt.subplots()\n",
    "plot_map(fig, ax, opt, border=border)\n",
    "utils.ax_plot_track(opt, ax, target=(-.5, -.5), n_points=0, plot_simplex=False, plot_trure=False, aspect=False)\n",
    "_ = ax.plot()"
   ]
  },
  {
   "cell_type": "code",
   "execution_count": 64,
   "id": "d93f5a88",
   "metadata": {},
   "outputs": [
    {
     "data": {
      "application/vnd.jupyter.widget-view+json": {
       "model_id": "8cb7cc89cd7e404ebbcddc91dad8ba75",
       "version_major": 2,
       "version_minor": 0
      },
      "text/plain": [
       "Canvas(toolbar=Toolbar(toolitems=[('Home', 'Reset original view', 'home', 'home'), ('Back', 'Back to previous …"
      ]
     },
     "metadata": {},
     "output_type": "display_data"
    }
   ],
   "source": [
    "start_x = (-.5, .5)\n",
    "opt = gaussian_multipeak_optimizer(g1, g2, start_x=start_x)\n",
    "steps_it = (step for step in opt.g_run() if step in {GCobyla.BEFORE_REVIEW_CURRENT_SIMPLEX_CHECKPOINT, GCobyla.BEFORE_GENERATE_X_START_CHECKPOINT})\n",
    "for _ in steps_it: pass\n",
    "fig, ax = plt.subplots()\n",
    "plot_map(fig, ax, opt, border=border)\n",
    "utils.ax_plot_track(opt, ax, target=(.5, .5), n_points=0, plot_simplex=False, plot_trure=False, aspect=False)\n",
    "_ = ax.plot()"
   ]
  },
  {
   "cell_type": "code",
   "execution_count": 62,
   "id": "cd04686f",
   "metadata": {},
   "outputs": [
    {
     "data": {
      "application/vnd.jupyter.widget-view+json": {
       "model_id": "799ec06d1c974f14a97b57326a987e03",
       "version_major": 2,
       "version_minor": 0
      },
      "text/plain": [
       "Canvas(toolbar=Toolbar(toolitems=[('Home', 'Reset original view', 'home', 'home'), ('Back', 'Back to previous …"
      ]
     },
     "metadata": {},
     "output_type": "display_data"
    }
   ],
   "source": [
    "start_x = (-.5, .3)\n",
    "opt = gaussian_multipeak_optimizer(g1, g2, start_x=start_x)\n",
    "steps_it = (step for step in opt.g_run() if step in {GCobyla.BEFORE_REVIEW_CURRENT_SIMPLEX_CHECKPOINT, GCobyla.BEFORE_GENERATE_X_START_CHECKPOINT})\n",
    "for _ in steps_it: pass\n",
    "fig, ax = plt.subplots()\n",
    "plot_map(fig, ax, opt, border=border)\n",
    "utils.ax_plot_track(opt, ax, target=(-.5, -.5), n_points=0, plot_simplex=False, plot_trure=False, aspect=False)\n",
    "_ = ax.plot()"
   ]
  },
  {
   "cell_type": "code",
   "execution_count": 65,
   "id": "8931d969",
   "metadata": {},
   "outputs": [
    {
     "data": {
      "application/vnd.jupyter.widget-view+json": {
       "model_id": "5a1e1a9f637f4df4b957ad95d21ef77d",
       "version_major": 2,
       "version_minor": 0
      },
      "text/plain": [
       "Canvas(toolbar=Toolbar(toolitems=[('Home', 'Reset original view', 'home', 'home'), ('Back', 'Back to previous …"
      ]
     },
     "metadata": {},
     "output_type": "display_data"
    }
   ],
   "source": [
    "start_x = (.5, -.5)\n",
    "opt = gaussian_multipeak_optimizer(g1, g2, start_x=start_x)\n",
    "steps_it = (step for step in opt.g_run() if step in {GCobyla.BEFORE_REVIEW_CURRENT_SIMPLEX_CHECKPOINT, GCobyla.BEFORE_GENERATE_X_START_CHECKPOINT})\n",
    "for _ in steps_it: pass\n",
    "fig, ax = plt.subplots()\n",
    "plot_map(fig, ax, opt, border=border)\n",
    "utils.ax_plot_track(opt, ax, target=(.5, .5), n_points=0, plot_simplex=False, plot_trure=False, aspect=False)\n",
    "_ = ax.plot()"
   ]
  },
  {
   "cell_type": "code",
   "execution_count": 67,
   "id": "388bc337",
   "metadata": {},
   "outputs": [
    {
     "data": {
      "application/vnd.jupyter.widget-view+json": {
       "model_id": "d401ec7d80e144c18b21826cc037874b",
       "version_major": 2,
       "version_minor": 0
      },
      "text/plain": [
       "Canvas(toolbar=Toolbar(toolitems=[('Home', 'Reset original view', 'home', 'home'), ('Back', 'Back to previous …"
      ]
     },
     "metadata": {},
     "output_type": "display_data"
    }
   ],
   "source": [
    "start_x = (.3, -.5)\n",
    "opt = gaussian_multipeak_optimizer(g1, g2, start_x=start_x)\n",
    "steps_it = (step for step in opt.g_run() if step in {GCobyla.BEFORE_REVIEW_CURRENT_SIMPLEX_CHECKPOINT, GCobyla.BEFORE_GENERATE_X_START_CHECKPOINT})\n",
    "for _ in steps_it: pass\n",
    "fig, ax = plt.subplots()\n",
    "plot_map(fig, ax, opt, border=border)\n",
    "utils.ax_plot_track(opt, ax, target=(-.5, -.5), n_points=0, plot_simplex=False, plot_trure=False, aspect=False)\n",
    "_ = ax.plot()"
   ]
  },
  {
   "cell_type": "markdown",
   "id": "f77a7a51",
   "metadata": {},
   "source": [
    "# Odd behaviour with two near peaks"
   ]
  },
  {
   "cell_type": "code",
   "execution_count": 18,
   "id": "f8472f7b",
   "metadata": {},
   "outputs": [
    {
     "data": {
      "application/vnd.jupyter.widget-view+json": {
       "model_id": "8190ea7a83aa4c8788844860f0e835f9",
       "version_major": 2,
       "version_minor": 0
      },
      "text/plain": [
       "Canvas(toolbar=Toolbar(toolitems=[('Home', 'Reset original view', 'home', 'home'), ('Back', 'Back to previous …"
      ]
     },
     "metadata": {},
     "output_type": "display_data"
    }
   ],
   "source": [
    "mu1 = (.5, .5)\n",
    "sig1 = (.5, .5)\n",
    "A1 = -2\n",
    "\n",
    "mu2 = (-.5, -.5)\n",
    "sig2 = (.5, .5)\n",
    "A2 = -1\n",
    "\n",
    "g1 = (mu1, sig1, A1)\n",
    "g2 = (mu2, sig2, A2)\n",
    "start_x = (0, 0)\n",
    "border = 1 \n",
    "\n",
    "opt = gaussian_multipeak_optimizer(g1, g2, start_x=start_x)\n",
    "fig, ax = plt.subplots()\n",
    "plot_map(fig, ax, opt, border=border)\n",
    "plt.show()"
   ]
  },
  {
   "cell_type": "code",
   "execution_count": 21,
   "id": "1fbe8c40",
   "metadata": {},
   "outputs": [
    {
     "data": {
      "application/vnd.jupyter.widget-view+json": {
       "model_id": "85cf0d1ec3714fae9f8d586e70ebf876",
       "version_major": 2,
       "version_minor": 0
      },
      "text/plain": [
       "Canvas(toolbar=Toolbar(toolitems=[('Home', 'Reset original view', 'home', 'home'), ('Back', 'Back to previous …"
      ]
     },
     "metadata": {},
     "output_type": "display_data"
    },
    {
     "name": "stdout",
     "output_type": "stream",
     "text": [
      "0.013870864280612304\n"
     ]
    }
   ],
   "source": [
    "plt.close('all')\n",
    "start_x = (0, 0)\n",
    "opt = gaussian_multipeak_optimizer(g1, g2, start_x=start_x, rhobeg=.1)\n",
    "steps_it = (step for step in opt.g_run() if step in {GCobyla.BEFORE_REVIEW_CURRENT_SIMPLEX_CHECKPOINT, GCobyla.BEFORE_GENERATE_X_START_CHECKPOINT})\n",
    "for _ in steps_it: pass\n",
    "fig, ax = plt.subplots()\n",
    "plot_map(fig, ax, opt, border=border)\n",
    "utils.ax_plot_track(opt, ax, target=(.5, .5), n_points=0, plot_simplex=False, plot_trure=False, aspect=False)\n",
    "ax.plot()\n",
    "\n",
    "error = sum((opt.x - (.5, .5)) ** 2) ** .5\n",
    "print(f'{error}')"
   ]
  },
  {
   "cell_type": "code",
   "execution_count": 40,
   "id": "bfc959d8",
   "metadata": {},
   "outputs": [
    {
     "name": "stdout",
     "output_type": "stream",
     "text": [
      "     fun: -2.0190335939268036\n",
      "   maxcv: 0.0\n",
      " message: 'Optimization terminated successfully.'\n",
      "    nfev: 90\n",
      "  status: 1\n",
      " success: True\n",
      "       x: array([0.49019183, 0.49019182])\n",
      "-2.0190335939268036695\n"
     ]
    }
   ],
   "source": [
    "import scipy.optimize\n",
    "\n",
    "res = scipy.optimize.minimize(\n",
    "    opt.F, start_x, args=(), method='COBYLA', constraints=(), \n",
    "    options={'rhobeg': 0.5, 'maxiter': 3500, 'disp': False, 'tol': 1e-12}\n",
    ")\n",
    "print(res)\n",
    "print(opt.F(opt.x))"
   ]
  },
  {
   "cell_type": "markdown",
   "id": "9e7286b1",
   "metadata": {},
   "source": [
    "# Waves field"
   ]
  },
  {
   "cell_type": "code",
   "execution_count": 53,
   "id": "5cf17362",
   "metadata": {},
   "outputs": [],
   "source": [
    "import numpy as np\n",
    "\n",
    "def waves(x, T0=2*np.pi, A0=1, T1=2*np.pi, A1=1):\n",
    "    return (A0 * np.cos(2*np.pi*x[0] / T0)) + (A1 * np.cos(2*np.pi*x[1] / T1))\n",
    "\n",
    "def wave_optimizer(T0, A0, T1, A1, start_x, border=1, rhobeg=.1, rhoend=1e-12):\n",
    "    F = lambda x: waves(x, T0=T0, A0=A0, T1=T1, A1=A1)\n",
    "    \n",
    "    c1 = lambda x: border - x[0]\n",
    "    c2 = lambda x: border + x[0]\n",
    "    c3 = lambda x: border - x[1]\n",
    "    c4 = lambda x: border + x[1]\n",
    "    C = (c1, c2, c3, c4)\n",
    "    \n",
    "    opt = GCobyla(start_x, F, C, rhobeg=rhobeg, rhoend=rhoend)\n",
    "    return opt"
   ]
  },
  {
   "cell_type": "code",
   "execution_count": 55,
   "id": "eafbea48",
   "metadata": {},
   "outputs": [
    {
     "data": {
      "application/vnd.jupyter.widget-view+json": {
       "model_id": "37bf6b8890a14f6db69273473d4bb51a",
       "version_major": 2,
       "version_minor": 0
      },
      "text/plain": [
       "Canvas(toolbar=Toolbar(toolitems=[('Home', 'Reset original view', 'home', 'home'), ('Back', 'Back to previous …"
      ]
     },
     "metadata": {},
     "output_type": "display_data"
    },
    {
     "data": {
      "text/plain": [
       "[]"
      ]
     },
     "execution_count": 55,
     "metadata": {},
     "output_type": "execute_result"
    }
   ],
   "source": [
    "start_x = np.array((0,0))\n",
    "T0, A0 = 1, 1\n",
    "T1, A1 = 1, 1\n",
    "\n",
    "opt = wave_optimizer(T0=T0, A0=A0, T1=T1, A1=A1, start_x=start_x, border=1)\n",
    "steps_it = (step for step in opt.g_run() if step in {GCobyla.BEFORE_REVIEW_CURRENT_SIMPLEX_CHECKPOINT, GCobyla.BEFORE_GENERATE_X_START_CHECKPOINT})\n",
    "for _ in steps_it: pass\n",
    "fig, ax = plt.subplots()\n",
    "plot_map(fig, ax, opt, border=1)\n",
    "utils.ax_plot_track(opt, ax, target=(.5, .5), n_points=0, plot_simplex=False, plot_trure=False, aspect=False)\n",
    "ax.plot()"
   ]
  },
  {
   "cell_type": "code",
   "execution_count": null,
   "id": "119a5112",
   "metadata": {},
   "outputs": [],
   "source": []
  }
 ],
 "metadata": {
  "kernelspec": {
   "display_name": "Python 3",
   "language": "python",
   "name": "python3"
  },
  "language_info": {
   "codemirror_mode": {
    "name": "ipython",
    "version": 3
   },
   "file_extension": ".py",
   "mimetype": "text/x-python",
   "name": "python",
   "nbconvert_exporter": "python",
   "pygments_lexer": "ipython3",
   "version": "3.8.3"
  }
 },
 "nbformat": 4,
 "nbformat_minor": 5
}
