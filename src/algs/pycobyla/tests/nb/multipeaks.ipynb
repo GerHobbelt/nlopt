{
 "cells": [
  {
   "cell_type": "code",
   "execution_count": 1,
   "id": "49753414",
   "metadata": {},
   "outputs": [],
   "source": [
    "import functools\n",
    "import itertools\n",
    "\n",
    "import numpy as np\n",
    "\n",
    "from pycobyla.gcobyla import GCobyla\n",
    "\n",
    "import tests.test_custom as tc\n",
    "from tests.nb import utils"
   ]
  },
  {
   "cell_type": "markdown",
   "id": "4f27e2c1",
   "metadata": {},
   "source": [
    "# Two Gaussian Peaks"
   ]
  },
  {
   "cell_type": "code",
   "execution_count": 29,
   "id": "89184f46",
   "metadata": {},
   "outputs": [],
   "source": [
    "def gaussian_multipeak_optimizer(g1, g2, start_x, border=1, rhobeg=.1, rhoend=1e-12):\n",
    "    mu1, sig1, A1 = g1\n",
    "    mu2, sig2, A2 = g2\n",
    "    G1 = functools.partial(tc.gaussian, mu=mu1, sig=sig1, A=A1)\n",
    "    G2 = functools.partial(tc.gaussian, mu=mu2, sig=sig2, A=A2)\n",
    "    F = lambda x: G1(x) + G2(x)\n",
    "    \n",
    "    c1 = lambda x: border - x[0]\n",
    "    c2 = lambda x: border + x[0]\n",
    "    c3 = lambda x: border - x[1]\n",
    "    c4 = lambda x: border + x[1]\n",
    "    C = (c1, c2, c3, c4)\n",
    "    \n",
    "    opt = GCobyla(start_x, F, C, rhobeg=rhobeg, rhoend=rhoend)\n",
    "    return opt"
   ]
  },
  {
   "cell_type": "code",
   "execution_count": 30,
   "id": "17be33a7",
   "metadata": {},
   "outputs": [],
   "source": [
    "%matplotlib widget\n",
    "\n",
    "import matplotlib.pyplot as plt\n",
    "from matplotlib import cm\n",
    "\n",
    "def plot_map(fig, ax, opt, border, nsamples=50):\n",
    "    X = np.linspace(-border, border, nsamples)\n",
    "    xv, yv = np.meshgrid(X, X)\n",
    "    zv = np.array(tuple(-opt.F(xy) for xy in itertools.product(X, X)))\n",
    "    zv = zv.reshape(xv.shape)\n",
    "    \n",
    "    cs = ax.contourf(xv, yv, zv, cmap=cm.magma)\n",
    "    cbar = fig.colorbar(cs)\n",
    "    \n",
    "    ax.plot(np.array((-border, border)), np.array((0, 0)), linestyle='-.', color='royalblue')\n",
    "    ax.plot(np.array((0, 0)), np.array((-border, border)), linestyle='-.', color='royalblue')"
   ]
  },
  {
   "cell_type": "code",
   "execution_count": 31,
   "id": "289e8773",
   "metadata": {},
   "outputs": [
    {
     "data": {
      "application/vnd.jupyter.widget-view+json": {
       "model_id": "504f310b403d4503b57ea608f7fe1852",
       "version_major": 2,
       "version_minor": 0
      },
      "text/plain": [
       "Canvas(toolbar=Toolbar(toolitems=[('Home', 'Reset original view', 'home', 'home'), ('Back', 'Back to previous …"
      ]
     },
     "metadata": {},
     "output_type": "display_data"
    }
   ],
   "source": [
    "mu1 = (.5, .5)\n",
    "sig1 = (.25, .25)\n",
    "A1 = -2\n",
    "\n",
    "mu2 = (-.5, -.5)\n",
    "sig2 = (.25, .25)\n",
    "A2 = -1\n",
    "\n",
    "g1 = (mu1, sig1, A1)\n",
    "g2 = (mu2, sig2, A2)\n",
    "start_x = (0, 0)\n",
    "border = 1 \n",
    "\n",
    "opt = gaussian_multipeak_optimizer(g1, g2, start_x=start_x)\n",
    "fig, ax = plt.subplots()\n",
    "plot_map(fig, ax, opt, border=border)\n",
    "plt.show()"
   ]
  },
  {
   "cell_type": "code",
   "execution_count": 32,
   "id": "2607080a",
   "metadata": {},
   "outputs": [
    {
     "data": {
      "application/vnd.jupyter.widget-view+json": {
       "model_id": "6655d01297624e3c8877890046ddefe9",
       "version_major": 2,
       "version_minor": 0
      },
      "text/plain": [
       "Canvas(toolbar=Toolbar(toolitems=[('Home', 'Reset original view', 'home', 'home'), ('Back', 'Back to previous …"
      ]
     },
     "metadata": {},
     "output_type": "display_data"
    },
    {
     "data": {
      "text/plain": [
       "[]"
      ]
     },
     "execution_count": 32,
     "metadata": {},
     "output_type": "execute_result"
    }
   ],
   "source": [
    "plt.close('all')\n",
    "start_x = (0, 0)\n",
    "opt = gaussian_multipeak_optimizer(g1, g2, start_x=start_x)\n",
    "steps_it = (step for step in opt.g_run() if step in {GCobyla.BEFORE_REVIEW_CURRENT_SIMPLEX_CHECKPOINT, GCobyla.BEFORE_GENERATE_X_START_CHECKPOINT})\n",
    "for _ in steps_it: pass\n",
    "fig, ax = plt.subplots()\n",
    "plot_map(fig, ax, opt, border=border)\n",
    "utils.ax_plot_track(opt, ax, target=(.5, .5), n_points=0, plot_simplex=False, plot_trure=False, aspect=False)\n",
    "ax.plot()"
   ]
  },
  {
   "cell_type": "code",
   "execution_count": 33,
   "id": "b54c1421",
   "metadata": {},
   "outputs": [
    {
     "data": {
      "application/vnd.jupyter.widget-view+json": {
       "model_id": "7847139797234276add58846f5822423",
       "version_major": 2,
       "version_minor": 0
      },
      "text/plain": [
       "Canvas(toolbar=Toolbar(toolitems=[('Home', 'Reset original view', 'home', 'home'), ('Back', 'Back to previous …"
      ]
     },
     "metadata": {},
     "output_type": "display_data"
    }
   ],
   "source": [
    "start_x = (-.046, -.046)\n",
    "opt = gaussian_multipeak_optimizer(g1, g2, start_x=start_x)\n",
    "steps_it = (step for step in opt.g_run() if step in {GCobyla.BEFORE_REVIEW_CURRENT_SIMPLEX_CHECKPOINT, GCobyla.BEFORE_GENERATE_X_START_CHECKPOINT})\n",
    "for _ in steps_it: pass\n",
    "fig, ax = plt.subplots()\n",
    "plot_map(fig, ax, opt, border=border)\n",
    "utils.ax_plot_track(opt, ax, target=(.5, .5), n_points=0, plot_simplex=False, plot_trure=False, aspect=False)\n",
    "_ = ax.plot()"
   ]
  },
  {
   "cell_type": "code",
   "execution_count": 34,
   "id": "67384799",
   "metadata": {},
   "outputs": [
    {
     "data": {
      "application/vnd.jupyter.widget-view+json": {
       "model_id": "c6f42b2544e24a92a7c754ebecebf324",
       "version_major": 2,
       "version_minor": 0
      },
      "text/plain": [
       "Canvas(toolbar=Toolbar(toolitems=[('Home', 'Reset original view', 'home', 'home'), ('Back', 'Back to previous …"
      ]
     },
     "metadata": {},
     "output_type": "display_data"
    }
   ],
   "source": [
    "start_x = (-.047, -.047)\n",
    "opt = gaussian_multipeak_optimizer(g1, g2, start_x=start_x)\n",
    "steps_it = (step for step in opt.g_run() if step in {GCobyla.BEFORE_REVIEW_CURRENT_SIMPLEX_CHECKPOINT, GCobyla.BEFORE_GENERATE_X_START_CHECKPOINT})\n",
    "for _ in steps_it: pass\n",
    "fig, ax = plt.subplots()\n",
    "plot_map(fig, ax, opt, border=border)\n",
    "utils.ax_plot_track(opt, ax, target=(-.5, -.5), n_points=0, plot_simplex=False, plot_trure=False, aspect=False)\n",
    "_ = ax.plot()"
   ]
  },
  {
   "cell_type": "code",
   "execution_count": 35,
   "id": "71a011fe",
   "metadata": {},
   "outputs": [
    {
     "data": {
      "application/vnd.jupyter.widget-view+json": {
       "model_id": "f3ab4ea192264c249bda8aea3613f7c8",
       "version_major": 2,
       "version_minor": 0
      },
      "text/plain": [
       "Canvas(toolbar=Toolbar(toolitems=[('Home', 'Reset original view', 'home', 'home'), ('Back', 'Back to previous …"
      ]
     },
     "metadata": {},
     "output_type": "display_data"
    }
   ],
   "source": [
    "start_x = (-.5, .5)\n",
    "opt = gaussian_multipeak_optimizer(g1, g2, start_x=start_x)\n",
    "steps_it = (step for step in opt.g_run() if step in {GCobyla.BEFORE_REVIEW_CURRENT_SIMPLEX_CHECKPOINT, GCobyla.BEFORE_GENERATE_X_START_CHECKPOINT})\n",
    "for _ in steps_it: pass\n",
    "fig, ax = plt.subplots()\n",
    "plot_map(fig, ax, opt, border=border)\n",
    "utils.ax_plot_track(opt, ax, target=(.5, .5), n_points=0, plot_simplex=False, plot_trure=False, aspect=False)\n",
    "_ = ax.plot()"
   ]
  },
  {
   "cell_type": "code",
   "execution_count": 36,
   "id": "3dd7413e",
   "metadata": {},
   "outputs": [
    {
     "data": {
      "application/vnd.jupyter.widget-view+json": {
       "model_id": "c13269e1b2244ace8ead8d27bc7aafd6",
       "version_major": 2,
       "version_minor": 0
      },
      "text/plain": [
       "Canvas(toolbar=Toolbar(toolitems=[('Home', 'Reset original view', 'home', 'home'), ('Back', 'Back to previous …"
      ]
     },
     "metadata": {},
     "output_type": "display_data"
    }
   ],
   "source": [
    "start_x = (-.5, .3)\n",
    "opt = gaussian_multipeak_optimizer(g1, g2, start_x=start_x)\n",
    "steps_it = (step for step in opt.g_run() if step in {GCobyla.BEFORE_REVIEW_CURRENT_SIMPLEX_CHECKPOINT, GCobyla.BEFORE_GENERATE_X_START_CHECKPOINT})\n",
    "for _ in steps_it: pass\n",
    "fig, ax = plt.subplots()\n",
    "plot_map(fig, ax, opt, border=border)\n",
    "utils.ax_plot_track(opt, ax, target=(-.5, -.5), n_points=0, plot_simplex=False, plot_trure=False, aspect=False)\n",
    "_ = ax.plot()"
   ]
  },
  {
   "cell_type": "code",
   "execution_count": 37,
   "id": "429f8164",
   "metadata": {},
   "outputs": [
    {
     "data": {
      "application/vnd.jupyter.widget-view+json": {
       "model_id": "5d15bf9a763347189b7c1e77e2245de1",
       "version_major": 2,
       "version_minor": 0
      },
      "text/plain": [
       "Canvas(toolbar=Toolbar(toolitems=[('Home', 'Reset original view', 'home', 'home'), ('Back', 'Back to previous …"
      ]
     },
     "metadata": {},
     "output_type": "display_data"
    }
   ],
   "source": [
    "start_x = (.5, -.5)\n",
    "opt = gaussian_multipeak_optimizer(g1, g2, start_x=start_x)\n",
    "steps_it = (step for step in opt.g_run() if step in {GCobyla.BEFORE_REVIEW_CURRENT_SIMPLEX_CHECKPOINT, GCobyla.BEFORE_GENERATE_X_START_CHECKPOINT})\n",
    "for _ in steps_it: pass\n",
    "fig, ax = plt.subplots()\n",
    "plot_map(fig, ax, opt, border=border)\n",
    "utils.ax_plot_track(opt, ax, target=(.5, .5), n_points=0, plot_simplex=False, plot_trure=False, aspect=False)\n",
    "_ = ax.plot()"
   ]
  },
  {
   "cell_type": "code",
   "execution_count": 38,
   "id": "f356dfaa",
   "metadata": {},
   "outputs": [
    {
     "data": {
      "application/vnd.jupyter.widget-view+json": {
       "model_id": "83d0c8148a9b42b9ac6a4eb1d8bf54e0",
       "version_major": 2,
       "version_minor": 0
      },
      "text/plain": [
       "Canvas(toolbar=Toolbar(toolitems=[('Home', 'Reset original view', 'home', 'home'), ('Back', 'Back to previous …"
      ]
     },
     "metadata": {},
     "output_type": "display_data"
    }
   ],
   "source": [
    "start_x = (.3, -.5)\n",
    "opt = gaussian_multipeak_optimizer(g1, g2, start_x=start_x)\n",
    "steps_it = (step for step in opt.g_run() if step in {GCobyla.BEFORE_REVIEW_CURRENT_SIMPLEX_CHECKPOINT, GCobyla.BEFORE_GENERATE_X_START_CHECKPOINT})\n",
    "for _ in steps_it: pass\n",
    "fig, ax = plt.subplots()\n",
    "plot_map(fig, ax, opt, border=border)\n",
    "utils.ax_plot_track(opt, ax, target=(-.5, -.5), n_points=0, plot_simplex=False, plot_trure=False, aspect=False)\n",
    "_ = ax.plot()"
   ]
  },
  {
   "cell_type": "markdown",
   "id": "330a248d",
   "metadata": {},
   "source": [
    "# Odd behaviour with two near peaks"
   ]
  },
  {
   "cell_type": "code",
   "execution_count": 8,
   "id": "05ca546e",
   "metadata": {},
   "outputs": [
    {
     "data": {
      "application/vnd.jupyter.widget-view+json": {
       "model_id": "363a3472afd5447da15a86c05c959fb0",
       "version_major": 2,
       "version_minor": 0
      },
      "text/plain": [
       "Canvas(toolbar=Toolbar(toolitems=[('Home', 'Reset original view', 'home', 'home'), ('Back', 'Back to previous …"
      ]
     },
     "metadata": {},
     "output_type": "display_data"
    }
   ],
   "source": [
    "mu1 = (.5, .5)\n",
    "sig1 = (.5, .5)\n",
    "A1 = -2\n",
    "\n",
    "mu2 = (-.5, -.5)\n",
    "sig2 = (.5, .5)\n",
    "A2 = -1\n",
    "\n",
    "g1 = (mu1, sig1, A1)\n",
    "g2 = (mu2, sig2, A2)\n",
    "start_x = (0, 0)\n",
    "border = 1 \n",
    "\n",
    "opt = gaussian_multipeak_optimizer(g1, g2, start_x=start_x)\n",
    "fig, ax = plt.subplots()\n",
    "plot_map(fig, ax, opt, border=border)\n",
    "plt.show()"
   ]
  },
  {
   "cell_type": "code",
   "execution_count": 9,
   "id": "61fe1c4c",
   "metadata": {},
   "outputs": [
    {
     "data": {
      "application/vnd.jupyter.widget-view+json": {
       "model_id": "0b31ee6ce24240cda56a528d3c4cdd5d",
       "version_major": 2,
       "version_minor": 0
      },
      "text/plain": [
       "Canvas(toolbar=Toolbar(toolitems=[('Home', 'Reset original view', 'home', 'home'), ('Back', 'Back to previous …"
      ]
     },
     "metadata": {},
     "output_type": "display_data"
    },
    {
     "name": "stdout",
     "output_type": "stream",
     "text": [
      "0.013870864280612304\n"
     ]
    }
   ],
   "source": [
    "plt.close('all')\n",
    "start_x = (0, 0)\n",
    "opt = gaussian_multipeak_optimizer(g1, g2, start_x=start_x, rhobeg=.1)\n",
    "steps_it = (step for step in opt.g_run() if step in {GCobyla.BEFORE_REVIEW_CURRENT_SIMPLEX_CHECKPOINT, GCobyla.BEFORE_GENERATE_X_START_CHECKPOINT})\n",
    "for _ in steps_it: pass\n",
    "fig, ax = plt.subplots()\n",
    "plot_map(fig, ax, opt, border=border)\n",
    "utils.ax_plot_track(opt, ax, target=(.5, .5), n_points=0, plot_simplex=False, plot_trure=False, aspect=False)\n",
    "ax.plot()\n",
    "\n",
    "error = sum((opt.x - (.5, .5)) ** 2) ** .5\n",
    "print(f'{error}')"
   ]
  },
  {
   "cell_type": "code",
   "execution_count": 10,
   "id": "2397d2cf",
   "metadata": {},
   "outputs": [
    {
     "name": "stdout",
     "output_type": "stream",
     "text": [
      "     fun: -2.0190335939268036\n",
      "   maxcv: 0.0\n",
      " message: 'Optimization terminated successfully.'\n",
      "    nfev: 90\n",
      "  status: 1\n",
      " success: True\n",
      "       x: array([0.49019183, 0.49019182])\n",
      "-2.0190335939268036695\n"
     ]
    }
   ],
   "source": [
    "import scipy.optimize\n",
    "\n",
    "res = scipy.optimize.minimize(\n",
    "    opt.F, start_x, args=(), method='COBYLA', constraints=(), \n",
    "    options={'rhobeg': 0.5, 'maxiter': 3500, 'disp': False, 'tol': 1e-12}\n",
    ")\n",
    "print(res)\n",
    "print(opt.F(opt.x))"
   ]
  },
  {
   "cell_type": "markdown",
   "id": "39495a47",
   "metadata": {},
   "source": [
    "# Waves field"
   ]
  },
  {
   "cell_type": "code",
   "execution_count": 14,
   "id": "704bf921",
   "metadata": {},
   "outputs": [],
   "source": [
    "import numpy as np\n",
    "import tests.test_custom as tc\n",
    "\n",
    "def wave_optimizer(T0, A0, T1, A1, start_x, border=1, rhobeg=.1, rhoend=1e-12):\n",
    "    F = lambda x: tc.waves(x, T0=T0, A0=A0, T1=T1, A1=A1)\n",
    "    \n",
    "    c1 = lambda x: border - x[0]\n",
    "    c2 = lambda x: border + x[0]\n",
    "    c3 = lambda x: border - x[1]\n",
    "    c4 = lambda x: border + x[1]\n",
    "    C = (c1, c2, c3, c4)\n",
    "    \n",
    "    opt = GCobyla(start_x, F, C, rhobeg=rhobeg, rhoend=rhoend)\n",
    "    return opt"
   ]
  },
  {
   "cell_type": "code",
   "execution_count": 27,
   "id": "1c1cb6d6",
   "metadata": {},
   "outputs": [
    {
     "data": {
      "application/vnd.jupyter.widget-view+json": {
       "model_id": "e5114a7ed7694aba96d144457c359f5a",
       "version_major": 2,
       "version_minor": 0
      },
      "text/plain": [
       "Canvas(toolbar=Toolbar(toolitems=[('Home', 'Reset original view', 'home', 'home'), ('Back', 'Back to previous …"
      ]
     },
     "metadata": {},
     "output_type": "display_data"
    },
    {
     "data": {
      "text/plain": [
       "[<matplotlib.lines.Line2D at 0x7fc27621e6d0>]"
      ]
     },
     "execution_count": 27,
     "metadata": {},
     "output_type": "execute_result"
    }
   ],
   "source": [
    "start_x = np.array((0,0))\n",
    "T0, A0 = 1, 1\n",
    "T1, A1 = 1, 1\n",
    "\n",
    "opt = wave_optimizer(T0=T0, A0=A0, T1=T1, A1=A1, start_x=start_x, border=1)\n",
    "steps_it = (step for step in opt.g_run() if step in {GCobyla.BEFORE_REVIEW_CURRENT_SIMPLEX_CHECKPOINT, GCobyla.BEFORE_GENERATE_X_START_CHECKPOINT})\n",
    "for _ in steps_it: pass\n",
    "fig, ax = plt.subplots()\n",
    "plot_map(fig, ax, opt, border=1.2, nsamples=200)\n",
    "utils.ax_plot_track(opt, ax, target=(.5, .5), n_points=0, plot_simplex=False, plot_trure=False, aspect=False)\n",
    "region = np.array(((1,1), (-1, 1), (-1, -1), (1, -1), (1, 1)))\n",
    "ax.plot(region[..., 0], region[..., 1], linestyle='-.', color='limegreen')\n",
    "#ax.fill(region[..., 0], region[..., 1], color='limegreen', alpha=.25)"
   ]
  },
  {
   "cell_type": "code",
   "execution_count": null,
   "id": "bd87b70d",
   "metadata": {},
   "outputs": [],
   "source": []
  }
 ],
 "metadata": {
  "kernelspec": {
   "display_name": "Python 3",
   "language": "python",
   "name": "python3"
  },
  "language_info": {
   "codemirror_mode": {
    "name": "ipython",
    "version": 3
   },
   "file_extension": ".py",
   "mimetype": "text/x-python",
   "name": "python",
   "nbconvert_exporter": "python",
   "pygments_lexer": "ipython3",
   "version": "3.8.3"
  }
 },
 "nbformat": 4,
 "nbformat_minor": 5
}
