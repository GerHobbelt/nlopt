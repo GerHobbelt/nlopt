{
 "cells": [
  {
   "cell_type": "code",
   "execution_count": 8,
   "id": "106d1bed",
   "metadata": {},
   "outputs": [],
   "source": [
    "import functools\n",
    "import itertools\n",
    "\n",
    "import numpy as np\n",
    "\n",
    "from pycobyla.gcobyla import GCobyla\n",
    "\n",
    "import tests.test_custom as tc\n",
    "from tests.nb import utils"
   ]
  },
  {
   "cell_type": "markdown",
   "id": "888ea245",
   "metadata": {},
   "source": [
    "# Two Gaussian Peaks"
   ]
  },
  {
   "cell_type": "code",
   "execution_count": 9,
   "id": "1365c8bf",
   "metadata": {},
   "outputs": [],
   "source": [
    "def gaussian_multipeak_optimizer(g1, g2, start_x, border=1, rhobeg=.1, rhoend=1e-12):\n",
    "    mu1, sig1, A1 = g1\n",
    "    mu2, sig2, A2 = g2\n",
    "    G1 = functools.partial(tc.gaussian, mu=mu1, sig=sig1, A=A1)\n",
    "    G2 = functools.partial(tc.gaussian, mu=mu2, sig=sig2, A=A2)\n",
    "    F = lambda x: G1(x) + G2(x)\n",
    "    \n",
    "    c1 = lambda x: border - x[0]\n",
    "    c2 = lambda x: border + x[0]\n",
    "    c3 = lambda x: border - x[1]\n",
    "    c4 = lambda x: border + x[1]\n",
    "    C = (c1, c2, c3, c4)\n",
    "    \n",
    "    opt = GCobyla(start_x, F, C, rhobeg=rhobeg, rhoend=rhoend)\n",
    "    return opt"
   ]
  },
  {
   "cell_type": "code",
   "execution_count": 10,
   "id": "a594aec6",
   "metadata": {},
   "outputs": [],
   "source": [
    "%matplotlib widget\n",
    "\n",
    "import matplotlib.pyplot as plt\n",
    "from matplotlib import cm\n",
    "\n",
    "def plot_map(fig, ax, opt, border):\n",
    "    X = np.linspace(-border, border, 50)\n",
    "    xv, yv = np.meshgrid(X, X)\n",
    "    zv = np.array(tuple(-opt.F(xy) for xy in itertools.product(X, X)))\n",
    "    zv = zv.reshape(xv.shape)\n",
    "    \n",
    "    cs = ax.contourf(xv, yv, zv, cmap=cm.magma)\n",
    "    cbar = fig.colorbar(cs)\n",
    "    \n",
    "    ax.plot(np.array((-border, border)), np.array((0, 0)), linestyle='-.', color='royalblue')\n",
    "    ax.plot(np.array((0, 0)), np.array((-border, border)), linestyle='-.', color='royalblue')"
   ]
  },
  {
   "cell_type": "code",
   "execution_count": 11,
   "id": "1603ac5d",
   "metadata": {},
   "outputs": [
    {
     "data": {
      "application/vnd.jupyter.widget-view+json": {
       "model_id": "ea4095dc75f14452b70023ea1069478c",
       "version_major": 2,
       "version_minor": 0
      },
      "text/plain": [
       "Canvas(toolbar=Toolbar(toolitems=[('Home', 'Reset original view', 'home', 'home'), ('Back', 'Back to previous …"
      ]
     },
     "metadata": {},
     "output_type": "display_data"
    }
   ],
   "source": [
    "mu1 = (.5, .5)\n",
    "sig1 = (.25, .25)\n",
    "A1 = -2\n",
    "\n",
    "mu2 = (-.5, -.5)\n",
    "sig2 = (.25, .25)\n",
    "A2 = -1\n",
    "\n",
    "g1 = (mu1, sig1, A1)\n",
    "g2 = (mu2, sig2, A2)\n",
    "start_x = (0, 0)\n",
    "border = 1 \n",
    "\n",
    "opt = gaussian_multipeak_optimizer(g1, g2, start_x=start_x)\n",
    "fig, ax = plt.subplots()\n",
    "plot_map(fig, ax, opt, border=border)\n",
    "plt.show()"
   ]
  },
  {
   "cell_type": "code",
   "execution_count": 12,
   "id": "01183f3b",
   "metadata": {},
   "outputs": [
    {
     "data": {
      "application/vnd.jupyter.widget-view+json": {
       "model_id": "94dfc66e762640039fea3bf0f0810c81",
       "version_major": 2,
       "version_minor": 0
      },
      "text/plain": [
       "Canvas(toolbar=Toolbar(toolitems=[('Home', 'Reset original view', 'home', 'home'), ('Back', 'Back to previous …"
      ]
     },
     "metadata": {},
     "output_type": "display_data"
    },
    {
     "data": {
      "text/plain": [
       "[]"
      ]
     },
     "execution_count": 12,
     "metadata": {},
     "output_type": "execute_result"
    }
   ],
   "source": [
    "start_x = (0, 0)\n",
    "opt = gaussian_multipeak_optimizer(g1, g2, start_x=start_x)\n",
    "steps_it = (step for step in opt.g_run() if step in {GCobyla.BEFORE_REVIEW_CURRENT_SIMPLEX_CHECKPOINT, GCobyla.BEFORE_GENERATE_X_START_CHECKPOINT})\n",
    "for _ in steps_it: pass\n",
    "fig, ax = plt.subplots()\n",
    "plot_map(fig, ax, opt, border=border)\n",
    "utils.ax_plot_track(opt, ax, target=(.5, .5), n_points=0, plot_simplex=False, plot_trure=False, aspect=False)\n",
    "ax.plot()"
   ]
  },
  {
   "cell_type": "code",
   "execution_count": 13,
   "id": "a5b60525",
   "metadata": {},
   "outputs": [
    {
     "data": {
      "application/vnd.jupyter.widget-view+json": {
       "model_id": "1a33a00ce2ff458a8d6650ccdf9f5507",
       "version_major": 2,
       "version_minor": 0
      },
      "text/plain": [
       "Canvas(toolbar=Toolbar(toolitems=[('Home', 'Reset original view', 'home', 'home'), ('Back', 'Back to previous …"
      ]
     },
     "metadata": {},
     "output_type": "display_data"
    }
   ],
   "source": [
    "start_x = (-.037, -.037)\n",
    "opt = gaussian_multipeak_optimizer(g1, g2, start_x=start_x)\n",
    "steps_it = (step for step in opt.g_run() if step in {GCobyla.BEFORE_REVIEW_CURRENT_SIMPLEX_CHECKPOINT, GCobyla.BEFORE_GENERATE_X_START_CHECKPOINT})\n",
    "for _ in steps_it: pass\n",
    "fig, ax = plt.subplots()\n",
    "plot_map(fig, ax, opt, border=border)\n",
    "utils.ax_plot_track(opt, ax, target=(-.5, -.5), n_points=0, plot_simplex=False, plot_trure=False, aspect=False)\n",
    "_ = ax.plot()"
   ]
  },
  {
   "cell_type": "code",
   "execution_count": 14,
   "id": "436a97be",
   "metadata": {},
   "outputs": [
    {
     "data": {
      "application/vnd.jupyter.widget-view+json": {
       "model_id": "24b6528fce704de889f8b564ac870eff",
       "version_major": 2,
       "version_minor": 0
      },
      "text/plain": [
       "Canvas(toolbar=Toolbar(toolitems=[('Home', 'Reset original view', 'home', 'home'), ('Back', 'Back to previous …"
      ]
     },
     "metadata": {},
     "output_type": "display_data"
    }
   ],
   "source": [
    "start_x = (-.5, .5)\n",
    "opt = gaussian_multipeak_optimizer(g1, g2, start_x=start_x)\n",
    "steps_it = (step for step in opt.g_run() if step in {GCobyla.BEFORE_REVIEW_CURRENT_SIMPLEX_CHECKPOINT, GCobyla.BEFORE_GENERATE_X_START_CHECKPOINT})\n",
    "for _ in steps_it: pass\n",
    "fig, ax = plt.subplots()\n",
    "plot_map(fig, ax, opt, border=border)\n",
    "utils.ax_plot_track(opt, ax, target=(.5, .5), n_points=0, plot_simplex=False, plot_trure=False, aspect=False)\n",
    "_ = ax.plot()"
   ]
  },
  {
   "cell_type": "code",
   "execution_count": 15,
   "id": "74156960",
   "metadata": {},
   "outputs": [
    {
     "data": {
      "application/vnd.jupyter.widget-view+json": {
       "model_id": "1eddb82d6a0540b98f6c2b8a69662510",
       "version_major": 2,
       "version_minor": 0
      },
      "text/plain": [
       "Canvas(toolbar=Toolbar(toolitems=[('Home', 'Reset original view', 'home', 'home'), ('Back', 'Back to previous …"
      ]
     },
     "metadata": {},
     "output_type": "display_data"
    }
   ],
   "source": [
    "start_x = (-.5, .4)\n",
    "opt = gaussian_multipeak_optimizer(g1, g2, start_x=start_x)\n",
    "steps_it = (step for step in opt.g_run() if step in {GCobyla.BEFORE_REVIEW_CURRENT_SIMPLEX_CHECKPOINT, GCobyla.BEFORE_GENERATE_X_START_CHECKPOINT})\n",
    "for _ in steps_it: pass\n",
    "fig, ax = plt.subplots()\n",
    "plot_map(fig, ax, opt, border=border)\n",
    "utils.ax_plot_track(opt, ax, target=(-.5, -.5), n_points=0, plot_simplex=False, plot_trure=False, aspect=False)\n",
    "_ = ax.plot()"
   ]
  },
  {
   "cell_type": "code",
   "execution_count": 16,
   "id": "f68ce281",
   "metadata": {},
   "outputs": [
    {
     "data": {
      "application/vnd.jupyter.widget-view+json": {
       "model_id": "9f66561a4e22479fa5558e9a409bbb36",
       "version_major": 2,
       "version_minor": 0
      },
      "text/plain": [
       "Canvas(toolbar=Toolbar(toolitems=[('Home', 'Reset original view', 'home', 'home'), ('Back', 'Back to previous …"
      ]
     },
     "metadata": {},
     "output_type": "display_data"
    }
   ],
   "source": [
    "start_x = (.5, -.5)\n",
    "opt = gaussian_multipeak_optimizer(g1, g2, start_x=start_x)\n",
    "steps_it = (step for step in opt.g_run() if step in {GCobyla.BEFORE_REVIEW_CURRENT_SIMPLEX_CHECKPOINT, GCobyla.BEFORE_GENERATE_X_START_CHECKPOINT})\n",
    "for _ in steps_it: pass\n",
    "fig, ax = plt.subplots()\n",
    "plot_map(fig, ax, opt, border=border)\n",
    "utils.ax_plot_track(opt, ax, target=(.5, .5), n_points=0, plot_simplex=False, plot_trure=False, aspect=False)\n",
    "_ = ax.plot()"
   ]
  },
  {
   "cell_type": "code",
   "execution_count": 17,
   "id": "6261771d",
   "metadata": {},
   "outputs": [
    {
     "data": {
      "application/vnd.jupyter.widget-view+json": {
       "model_id": "89d820ca2389458ca46ffa8dbe04e08c",
       "version_major": 2,
       "version_minor": 0
      },
      "text/plain": [
       "Canvas(toolbar=Toolbar(toolitems=[('Home', 'Reset original view', 'home', 'home'), ('Back', 'Back to previous …"
      ]
     },
     "metadata": {},
     "output_type": "display_data"
    }
   ],
   "source": [
    "start_x = (.4, -.5)\n",
    "opt = gaussian_multipeak_optimizer(g1, g2, start_x=start_x)\n",
    "steps_it = (step for step in opt.g_run() if step in {GCobyla.BEFORE_REVIEW_CURRENT_SIMPLEX_CHECKPOINT, GCobyla.BEFORE_GENERATE_X_START_CHECKPOINT})\n",
    "for _ in steps_it: pass\n",
    "fig, ax = plt.subplots()\n",
    "plot_map(fig, ax, opt, border=border)\n",
    "utils.ax_plot_track(opt, ax, target=(.5, .5), n_points=0, plot_simplex=False, plot_trure=False, aspect=False)\n",
    "_ = ax.plot()"
   ]
  },
  {
   "cell_type": "markdown",
   "id": "6fac832d",
   "metadata": {},
   "source": [
    "# Odd behaviour with two near peaks"
   ]
  },
  {
   "cell_type": "code",
   "execution_count": 18,
   "id": "1d644892",
   "metadata": {},
   "outputs": [
    {
     "data": {
      "application/vnd.jupyter.widget-view+json": {
       "model_id": "8190ea7a83aa4c8788844860f0e835f9",
       "version_major": 2,
       "version_minor": 0
      },
      "text/plain": [
       "Canvas(toolbar=Toolbar(toolitems=[('Home', 'Reset original view', 'home', 'home'), ('Back', 'Back to previous …"
      ]
     },
     "metadata": {},
     "output_type": "display_data"
    }
   ],
   "source": [
    "mu1 = (.5, .5)\n",
    "sig1 = (.5, .5)\n",
    "A1 = -2\n",
    "\n",
    "mu2 = (-.5, -.5)\n",
    "sig2 = (.5, .5)\n",
    "A2 = -1\n",
    "\n",
    "g1 = (mu1, sig1, A1)\n",
    "g2 = (mu2, sig2, A2)\n",
    "start_x = (0, 0)\n",
    "border = 1 \n",
    "\n",
    "opt = gaussian_multipeak_optimizer(g1, g2, start_x=start_x)\n",
    "fig, ax = plt.subplots()\n",
    "plot_map(fig, ax, opt, border=border)\n",
    "plt.show()"
   ]
  },
  {
   "cell_type": "code",
   "execution_count": 21,
   "id": "0e88373b",
   "metadata": {},
   "outputs": [
    {
     "data": {
      "application/vnd.jupyter.widget-view+json": {
       "model_id": "85cf0d1ec3714fae9f8d586e70ebf876",
       "version_major": 2,
       "version_minor": 0
      },
      "text/plain": [
       "Canvas(toolbar=Toolbar(toolitems=[('Home', 'Reset original view', 'home', 'home'), ('Back', 'Back to previous …"
      ]
     },
     "metadata": {},
     "output_type": "display_data"
    },
    {
     "name": "stdout",
     "output_type": "stream",
     "text": [
      "0.013870864280612304\n"
     ]
    }
   ],
   "source": [
    "plt.close('all')\n",
    "start_x = (0, 0)\n",
    "opt = gaussian_multipeak_optimizer(g1, g2, start_x=start_x, rhobeg=.1)\n",
    "steps_it = (step for step in opt.g_run() if step in {GCobyla.BEFORE_REVIEW_CURRENT_SIMPLEX_CHECKPOINT, GCobyla.BEFORE_GENERATE_X_START_CHECKPOINT})\n",
    "for _ in steps_it: pass\n",
    "fig, ax = plt.subplots()\n",
    "plot_map(fig, ax, opt, border=border)\n",
    "utils.ax_plot_track(opt, ax, target=(.5, .5), n_points=0, plot_simplex=False, plot_trure=False, aspect=False)\n",
    "ax.plot()\n",
    "\n",
    "error = sum((opt.x - (.5, .5)) ** 2) ** .5\n",
    "print(f'{error}')"
   ]
  },
  {
   "cell_type": "code",
   "execution_count": 40,
   "id": "0148f845",
   "metadata": {},
   "outputs": [
    {
     "name": "stdout",
     "output_type": "stream",
     "text": [
      "     fun: -2.0190335939268036\n",
      "   maxcv: 0.0\n",
      " message: 'Optimization terminated successfully.'\n",
      "    nfev: 90\n",
      "  status: 1\n",
      " success: True\n",
      "       x: array([0.49019183, 0.49019182])\n",
      "-2.0190335939268036695\n"
     ]
    }
   ],
   "source": [
    "import scipy.optimize\n",
    "\n",
    "res = scipy.optimize.minimize(\n",
    "    opt.F, start_x, args=(), method='COBYLA', constraints=(), \n",
    "    options={'rhobeg': 0.5, 'maxiter': 3500, 'disp': False, 'tol': 1e-12}\n",
    ")\n",
    "print(res)\n",
    "print(opt.F(opt.x))"
   ]
  },
  {
   "cell_type": "code",
   "execution_count": null,
   "id": "97b2cfe0",
   "metadata": {},
   "outputs": [],
   "source": []
  }
 ],
 "metadata": {
  "kernelspec": {
   "display_name": "Python 3",
   "language": "python",
   "name": "python3"
  },
  "language_info": {
   "codemirror_mode": {
    "name": "ipython",
    "version": 3
   },
   "file_extension": ".py",
   "mimetype": "text/x-python",
   "name": "python",
   "nbconvert_exporter": "python",
   "pygments_lexer": "ipython3",
   "version": "3.8.3"
  }
 },
 "nbformat": 4,
 "nbformat_minor": 5
}
