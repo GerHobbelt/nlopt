{
 "cells": [
  {
   "cell_type": "code",
   "execution_count": 44,
   "id": "350010d6",
   "metadata": {},
   "outputs": [],
   "source": [
    "import functools\n",
    "import itertools\n",
    "\n",
    "import numpy as np\n",
    "\n",
    "from pycobyla.gcobyla import GCobyla\n",
    "\n",
    "import tests.test_custom as tc\n",
    "from tests.nb import utils"
   ]
  },
  {
   "cell_type": "markdown",
   "id": "e3733bc6",
   "metadata": {},
   "source": [
    "# Two Gaussian Peaks"
   ]
  },
  {
   "cell_type": "code",
   "execution_count": 45,
   "id": "7987bb0f",
   "metadata": {},
   "outputs": [],
   "source": [
    "def gaussian_multipeak_optimizer(g1, g2, start_x, border=1, rhobeg=.1, rhoend=1e-12):\n",
    "    mu1, sig1, A1 = g1\n",
    "    mu2, sig2, A2 = g2\n",
    "    G1 = functools.partial(tc.gaussian, mu=mu1, sig=sig1, A=A1)\n",
    "    G2 = functools.partial(tc.gaussian, mu=mu2, sig=sig2, A=A2)\n",
    "    F = lambda x: G1(x) + G2(x)\n",
    "    \n",
    "    c1 = lambda x: border - x[0]\n",
    "    c2 = lambda x: border + x[0]\n",
    "    c3 = lambda x: border - x[1]\n",
    "    c4 = lambda x: border + x[1]\n",
    "    C = (c1, c2, c3, c4)\n",
    "    \n",
    "    opt = GCobyla(start_x, F, C, rhobeg=rhobeg, rhoend=rhoend)\n",
    "    return opt"
   ]
  },
  {
   "cell_type": "code",
   "execution_count": 46,
   "id": "9d95c05a",
   "metadata": {},
   "outputs": [],
   "source": [
    "%matplotlib widget\n",
    "\n",
    "import matplotlib.pyplot as plt\n",
    "from matplotlib import cm\n",
    "\n",
    "def plot_map(fig, ax, opt, border):\n",
    "    X = np.linspace(-border, border, 50)\n",
    "    xv, yv = np.meshgrid(X, X)\n",
    "    zv = np.array(tuple(-opt.F(xy) for xy in itertools.product(X, X)))\n",
    "    zv = zv.reshape(xv.shape)\n",
    "    \n",
    "    cs = ax.contourf(xv, yv, zv, cmap=cm.magma)\n",
    "    cbar = fig.colorbar(cs)\n",
    "    \n",
    "    ax.plot(np.array((-border, border)), np.array((0, 0)), linestyle='-.', color='royalblue')\n",
    "    ax.plot(np.array((0, 0)), np.array((-border, border)), linestyle='-.', color='royalblue')"
   ]
  },
  {
   "cell_type": "code",
   "execution_count": 47,
   "id": "08245979",
   "metadata": {},
   "outputs": [
    {
     "data": {
      "application/vnd.jupyter.widget-view+json": {
       "model_id": "9a98d5ebc75242229703a6b40df72842",
       "version_major": 2,
       "version_minor": 0
      },
      "text/plain": [
       "Canvas(toolbar=Toolbar(toolitems=[('Home', 'Reset original view', 'home', 'home'), ('Back', 'Back to previous …"
      ]
     },
     "metadata": {},
     "output_type": "display_data"
    }
   ],
   "source": [
    "mu1 = (.5, .5)\n",
    "sig1 = (.25, .25)\n",
    "A1 = -2\n",
    "\n",
    "mu2 = (-.5, -.5)\n",
    "sig2 = (.25, .25)\n",
    "A2 = -1\n",
    "\n",
    "g1 = (mu1, sig1, A1)\n",
    "g2 = (mu2, sig2, A2)\n",
    "start_x = (0, 0)\n",
    "border = 1 \n",
    "\n",
    "opt = gaussian_multipeak_optimizer(g1, g2, start_x=start_x)\n",
    "fig, ax = plt.subplots()\n",
    "plot_map(fig, ax, opt, border=border)\n",
    "plt.show()"
   ]
  },
  {
   "cell_type": "code",
   "execution_count": 48,
   "id": "3da2a354",
   "metadata": {},
   "outputs": [
    {
     "data": {
      "application/vnd.jupyter.widget-view+json": {
       "model_id": "285e3f25205447d79b49ea6f610fdb5c",
       "version_major": 2,
       "version_minor": 0
      },
      "text/plain": [
       "Canvas(toolbar=Toolbar(toolitems=[('Home', 'Reset original view', 'home', 'home'), ('Back', 'Back to previous …"
      ]
     },
     "metadata": {},
     "output_type": "display_data"
    },
    {
     "data": {
      "text/plain": [
       "[]"
      ]
     },
     "execution_count": 48,
     "metadata": {},
     "output_type": "execute_result"
    }
   ],
   "source": [
    "start_x = (0, 0)\n",
    "opt = gaussian_multipeak_optimizer(g1, g2, start_x=start_x)\n",
    "steps_it = (step for step in opt.g_run() if step in {GCobyla.BEFORE_REVIEW_CURRENT_SIMPLEX_CHECKPOINT, GCobyla.BEFORE_GENERATE_X_START_CHECKPOINT})\n",
    "for _ in steps_it: pass\n",
    "fig, ax = plt.subplots()\n",
    "plot_map(fig, ax, opt, border=border)\n",
    "utils.ax_plot_track(opt, ax, target=(.5, .5), n_points=0, plot_simplex=False, plot_trure=False, aspect=False)\n",
    "ax.plot()"
   ]
  },
  {
   "cell_type": "code",
   "execution_count": 49,
   "id": "94f6b52c",
   "metadata": {},
   "outputs": [
    {
     "data": {
      "application/vnd.jupyter.widget-view+json": {
       "model_id": "a7e49f12c4004a7694085d8d8a165538",
       "version_major": 2,
       "version_minor": 0
      },
      "text/plain": [
       "Canvas(toolbar=Toolbar(toolitems=[('Home', 'Reset original view', 'home', 'home'), ('Back', 'Back to previous …"
      ]
     },
     "metadata": {},
     "output_type": "display_data"
    }
   ],
   "source": [
    "start_x = (-.037, -.037)\n",
    "opt = gaussian_multipeak_optimizer(g1, g2, start_x=start_x)\n",
    "steps_it = (step for step in opt.g_run() if step in {GCobyla.BEFORE_REVIEW_CURRENT_SIMPLEX_CHECKPOINT, GCobyla.BEFORE_GENERATE_X_START_CHECKPOINT})\n",
    "for _ in steps_it: pass\n",
    "fig, ax = plt.subplots()\n",
    "plot_map(fig, ax, opt, border=border)\n",
    "utils.ax_plot_track(opt, ax, target=(-.5, -.5), n_points=0, plot_simplex=False, plot_trure=False, aspect=False)\n",
    "_ = ax.plot()"
   ]
  },
  {
   "cell_type": "code",
   "execution_count": 50,
   "id": "6186147d",
   "metadata": {},
   "outputs": [
    {
     "data": {
      "application/vnd.jupyter.widget-view+json": {
       "model_id": "bfb3ce8659804787a2f01c195d571b43",
       "version_major": 2,
       "version_minor": 0
      },
      "text/plain": [
       "Canvas(toolbar=Toolbar(toolitems=[('Home', 'Reset original view', 'home', 'home'), ('Back', 'Back to previous …"
      ]
     },
     "metadata": {},
     "output_type": "display_data"
    }
   ],
   "source": [
    "start_x = (-.5, .5)\n",
    "opt = gaussian_multipeak_optimizer(g1, g2, start_x=start_x)\n",
    "steps_it = (step for step in opt.g_run() if step in {GCobyla.BEFORE_REVIEW_CURRENT_SIMPLEX_CHECKPOINT, GCobyla.BEFORE_GENERATE_X_START_CHECKPOINT})\n",
    "for _ in steps_it: pass\n",
    "fig, ax = plt.subplots()\n",
    "plot_map(fig, ax, opt, border=border)\n",
    "utils.ax_plot_track(opt, ax, target=(.5, .5), n_points=0, plot_simplex=False, plot_trure=False, aspect=False)\n",
    "_ = ax.plot()"
   ]
  },
  {
   "cell_type": "code",
   "execution_count": 51,
   "id": "f169a4a5",
   "metadata": {},
   "outputs": [
    {
     "data": {
      "application/vnd.jupyter.widget-view+json": {
       "model_id": "c6229855f4a5479b94f38e751c647179",
       "version_major": 2,
       "version_minor": 0
      },
      "text/plain": [
       "Canvas(toolbar=Toolbar(toolitems=[('Home', 'Reset original view', 'home', 'home'), ('Back', 'Back to previous …"
      ]
     },
     "metadata": {},
     "output_type": "display_data"
    }
   ],
   "source": [
    "start_x = (-.5, .4)\n",
    "opt = gaussian_multipeak_optimizer(g1, g2, start_x=start_x)\n",
    "steps_it = (step for step in opt.g_run() if step in {GCobyla.BEFORE_REVIEW_CURRENT_SIMPLEX_CHECKPOINT, GCobyla.BEFORE_GENERATE_X_START_CHECKPOINT})\n",
    "for _ in steps_it: pass\n",
    "fig, ax = plt.subplots()\n",
    "plot_map(fig, ax, opt, border=border)\n",
    "utils.ax_plot_track(opt, ax, target=(-.5, -.5), n_points=0, plot_simplex=False, plot_trure=False, aspect=False)\n",
    "_ = ax.plot()"
   ]
  },
  {
   "cell_type": "code",
   "execution_count": 52,
   "id": "719f0843",
   "metadata": {},
   "outputs": [
    {
     "data": {
      "application/vnd.jupyter.widget-view+json": {
       "model_id": "843b69694c30429d9d073bfdf0c0a26d",
       "version_major": 2,
       "version_minor": 0
      },
      "text/plain": [
       "Canvas(toolbar=Toolbar(toolitems=[('Home', 'Reset original view', 'home', 'home'), ('Back', 'Back to previous …"
      ]
     },
     "metadata": {},
     "output_type": "display_data"
    }
   ],
   "source": [
    "start_x = (.5, -.5)\n",
    "opt = gaussian_multipeak_optimizer(g1, g2, start_x=start_x)\n",
    "steps_it = (step for step in opt.g_run() if step in {GCobyla.BEFORE_REVIEW_CURRENT_SIMPLEX_CHECKPOINT, GCobyla.BEFORE_GENERATE_X_START_CHECKPOINT})\n",
    "for _ in steps_it: pass\n",
    "fig, ax = plt.subplots()\n",
    "plot_map(fig, ax, opt, border=border)\n",
    "utils.ax_plot_track(opt, ax, target=(.5, .5), n_points=0, plot_simplex=False, plot_trure=False, aspect=False)\n",
    "_ = ax.plot()"
   ]
  },
  {
   "cell_type": "code",
   "execution_count": 54,
   "id": "f6af9549",
   "metadata": {},
   "outputs": [
    {
     "data": {
      "application/vnd.jupyter.widget-view+json": {
       "model_id": "4afa42717372417ca012870a9a458d5b",
       "version_major": 2,
       "version_minor": 0
      },
      "text/plain": [
       "Canvas(toolbar=Toolbar(toolitems=[('Home', 'Reset original view', 'home', 'home'), ('Back', 'Back to previous …"
      ]
     },
     "metadata": {},
     "output_type": "display_data"
    }
   ],
   "source": [
    "start_x = (.4, -.5)\n",
    "opt = gaussian_multipeak_optimizer(g1, g2, start_x=start_x)\n",
    "steps_it = (step for step in opt.g_run() if step in {GCobyla.BEFORE_REVIEW_CURRENT_SIMPLEX_CHECKPOINT, GCobyla.BEFORE_GENERATE_X_START_CHECKPOINT})\n",
    "for _ in steps_it: pass\n",
    "fig, ax = plt.subplots()\n",
    "plot_map(fig, ax, opt, border=border)\n",
    "utils.ax_plot_track(opt, ax, target=(.5, .5), n_points=0, plot_simplex=False, plot_trure=False, aspect=False)\n",
    "_ = ax.plot()"
   ]
  },
  {
   "cell_type": "markdown",
   "id": "6527720b",
   "metadata": {},
   "source": [
    "# Odd behaviour with two near peaks"
   ]
  },
  {
   "cell_type": "code",
   "execution_count": 83,
   "id": "0ffb7fb8",
   "metadata": {},
   "outputs": [
    {
     "data": {
      "application/vnd.jupyter.widget-view+json": {
       "model_id": "cde4b3c000754d6f9b316c69e7663987",
       "version_major": 2,
       "version_minor": 0
      },
      "text/plain": [
       "Canvas(toolbar=Toolbar(toolitems=[('Home', 'Reset original view', 'home', 'home'), ('Back', 'Back to previous …"
      ]
     },
     "metadata": {},
     "output_type": "display_data"
    }
   ],
   "source": [
    "mu1 = (.5, .5)\n",
    "sig1 = (.5, .5)\n",
    "A1 = -2\n",
    "\n",
    "mu2 = (-.5, -.5)\n",
    "sig2 = (.5, .5)\n",
    "A2 = -1\n",
    "\n",
    "g1 = (mu1, sig1, A1)\n",
    "g2 = (mu2, sig2, A2)\n",
    "start_x = (0, 0)\n",
    "border = 1 \n",
    "\n",
    "opt = gaussian_multipeak_optimizer(g1, g2, start_x=start_x)\n",
    "fig, ax = plt.subplots()\n",
    "plot_map(fig, ax, opt, border=border)\n",
    "plt.show()"
   ]
  },
  {
   "cell_type": "code",
   "execution_count": 89,
   "id": "3c81d7bb",
   "metadata": {},
   "outputs": [
    {
     "data": {
      "application/vnd.jupyter.widget-view+json": {
       "model_id": "379ea52f28ad407e8a61de41d5c5fd37",
       "version_major": 2,
       "version_minor": 0
      },
      "text/plain": [
       "Canvas(toolbar=Toolbar(toolitems=[('Home', 'Reset original view', 'home', 'home'), ('Back', 'Back to previous …"
      ]
     },
     "metadata": {},
     "output_type": "display_data"
    },
    {
     "name": "stdout",
     "output_type": "stream",
     "text": [
      "0.013870864280612304\n"
     ]
    }
   ],
   "source": [
    "plt.close('all')\n",
    "start_x = (0, 0)\n",
    "opt = gaussian_multipeak_optimizer(g1, g2, start_x=start_x, rhobeg=.1)\n",
    "steps_it = (step for step in opt.g_run() if step in {GCobyla.BEFORE_REVIEW_CURRENT_SIMPLEX_CHECKPOINT, GCobyla.BEFORE_GENERATE_X_START_CHECKPOINT})\n",
    "for _ in steps_it: pass\n",
    "fig, ax = plt.subplots()\n",
    "plot_map(fig, ax, opt, border=border)\n",
    "utils.ax_plot_track(opt, ax, target=(.5, .5), n_points=0, plot_simplex=False, plot_trure=False, aspect=False)\n",
    "ax.plot()\n",
    "\n",
    "error = sum((opt.x - (.5, .5)) ** 2) ** .5\n",
    "print(f'{error}')"
   ]
  },
  {
   "cell_type": "code",
   "execution_count": 86,
   "id": "79010630",
   "metadata": {},
   "outputs": [],
   "source": [
    "import nlopt\n",
    "\n",
    "def gradient(x):\n",
    "    grad1 = A1 * ((x - mu1) / (sig1 ** 2) * np.exp(((x - mu1) ** 2) / (2 * (sig1 ** 2))) )\n",
    "    grad2 = A2 * ((x - mu2) / (sig2 ** 2) * np.exp(((x - mu2) ** 2) / (2 * (sig2 ** 2))) )\n",
    "    \n",
    "    return grad1 + grad2\n",
    "    \n",
    "    \n",
    "def FF(x, grad):\n",
    "    res = opt.F(x)\n",
    "    grad"
   ]
  },
  {
   "cell_type": "code",
   "execution_count": null,
   "id": "9198a6b7",
   "metadata": {},
   "outputs": [],
   "source": []
  }
 ],
 "metadata": {
  "kernelspec": {
   "display_name": "Python 3",
   "language": "python",
   "name": "python3"
  },
  "language_info": {
   "codemirror_mode": {
    "name": "ipython",
    "version": 3
   },
   "file_extension": ".py",
   "mimetype": "text/x-python",
   "name": "python",
   "nbconvert_exporter": "python",
   "pygments_lexer": "ipython3",
   "version": "3.8.3"
  }
 },
 "nbformat": 4,
 "nbformat_minor": 5
}
