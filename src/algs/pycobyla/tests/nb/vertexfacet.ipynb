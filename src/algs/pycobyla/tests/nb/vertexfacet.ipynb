{
 "cells": [
  {
   "cell_type": "code",
   "execution_count": 253,
   "id": "wound-european",
   "metadata": {},
   "outputs": [],
   "source": [
    "%matplotlib inline\n",
    "import numpy as np\n",
    "import matplotlib.pyplot as plt\n",
    "import matplotlib.tri as tri"
   ]
  },
  {
   "cell_type": "code",
   "execution_count": 256,
   "id": "earlier-fluid",
   "metadata": {},
   "outputs": [
    {
     "data": {
      "image/png": "[encoded data removed]",
      "text/plain": [
       "<Figure size 432x288 with 1 Axes>"
      ]
     },
     "metadata": {
      "needs_background": "light"
     },
     "output_type": "display_data"
    }
   ],
   "source": [
    "fig, ax = plt.subplots()\n",
    "optimal_vertex = np.random.random(2)\n",
    "sim = np.random.random((2,2))\n",
    "simi = np.linalg.inv(sim)\n",
    "h = ((sim / 2) + optimal_vertex)[::-1] # Slice to correspond the opposite facet \n",
    "#N = (h - optimal_vertex)[..., ::-1] @ np.array(((-1,0), (0,1)))\n",
    "N = sim[::-1][..., ::-1] @ np.array(((-1,0), (0,1))) # First slice match vertex index with opposite facet. Second slice and array mult for building the orthogonal vector\n",
    "N = (N.T / ((N ** 2).sum(axis=1)**.5)).T\n",
    "points = np.array((*(sim + optimal_vertex), optimal_vertex))\n",
    "plt.fill(points[..., 0], points[..., 1])\n",
    "_ = plt.plot(points[0,0], points[0,1], 'ro', h[0,0], h[0,1], 'rD',\n",
    "         points[1,0], points[1,1], 'go', h[1,0], h[1,1], 'gD',\n",
    "         optimal_vertex[0], optimal_vertex[1], '*')"
   ]
  },
  {
   "cell_type": "code",
   "execution_count": 257,
   "id": "looking-prevention",
   "metadata": {},
   "outputs": [
    {
     "name": "stdout",
     "output_type": "stream",
     "text": [
      "points: [[0.33693659 1.01775442]\n",
      " [0.45274301 0.52118747]]\n",
      "h: [[0.23056793 0.4093457 ]\n",
      " [0.17266472 0.65762918]]\n",
      "[0.49561001 0.31144466]\n",
      "[0.49561001 0.31144466]\n"
     ]
    }
   ],
   "source": [
    "print(f'points: {points[:-1]}')\n",
    "print(f'h: {h}')\n",
    "D = abs(sim @ N.T)\n",
    "print(D[(0,1), (0,1)])\n",
    "print((1 / ((simi ** 2).sum(axis=0))) ** .5)"
   ]
  }
 ],
 "metadata": {
  "kernelspec": {
   "display_name": "Python 3",
   "language": "python",
   "name": "python3"
  },
  "language_info": {
   "codemirror_mode": {
    "name": "ipython",
    "version": 3
   },
   "file_extension": ".py",
   "mimetype": "text/x-python",
   "name": "python",
   "nbconvert_exporter": "python",
   "pygments_lexer": "ipython3",
   "version": "3.8.3"
  }
 },
 "nbformat": 4,
 "nbformat_minor": 5
}
