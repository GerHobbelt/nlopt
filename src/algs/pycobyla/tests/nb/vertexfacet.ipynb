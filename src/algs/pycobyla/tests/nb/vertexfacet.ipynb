{
 "cells": [
  {
   "cell_type": "code",
   "execution_count": 1,
   "id": "550abe64",
   "metadata": {},
   "outputs": [],
   "source": [
    "%matplotlib widget\n",
    "import numpy as np\n",
    "import matplotlib.pyplot as plt\n",
    "import matplotlib.tri as tri"
   ]
  },
  {
   "cell_type": "code",
   "execution_count": 2,
   "id": "298d9f52",
   "metadata": {},
   "outputs": [
    {
     "data": {
      "application/vnd.jupyter.widget-view+json": {
       "model_id": "4a9570cba9dc4745ac6e71930b1d26e4",
       "version_major": 2,
       "version_minor": 0
      },
      "text/plain": [
       "Canvas(toolbar=Toolbar(toolitems=[('Home', 'Reset original view', 'home', 'home'), ('Back', 'Back to previous …"
      ]
     },
     "metadata": {},
     "output_type": "display_data"
    }
   ],
   "source": [
    "fig, ax = plt.subplots()\n",
    "optimal_vertex = np.random.random(2)\n",
    "sim = np.random.random((2,2))\n",
    "simi = np.linalg.inv(sim)\n",
    "h = ((sim / 2) + optimal_vertex)[::-1] # Slice to correspond the opposite facet \n",
    "#N = (h - optimal_vertex)[..., ::-1] @ np.array(((-1,0), (0,1)))\n",
    "N = sim[::-1][..., ::-1] @ np.array(((-1,0), (0,1))) # First slice match vertex index with opposite facet. Second slice and array mult for building the orthogonal vector\n",
    "N = (N.T / ((N ** 2).sum(axis=1)**.5)).T\n",
    "points = np.array((*(sim + optimal_vertex), optimal_vertex))\n",
    "plt.fill(points[..., 0], points[..., 1])\n",
    "_ = plt.plot(points[0,0], points[0,1], 'ro', h[0,0], h[0,1], 'rD',\n",
    "         points[1,0], points[1,1], 'go', h[1,0], h[1,1], 'gD',\n",
    "         optimal_vertex[0], optimal_vertex[1], '*')"
   ]
  },
  {
   "cell_type": "code",
   "execution_count": 3,
   "id": "84c5098d",
   "metadata": {},
   "outputs": [
    {
     "name": "stdout",
     "output_type": "stream",
     "text": [
      "points: [[1.35077745 0.92536714]\n",
      " [1.26390315 1.30004714]]\n",
      "h: [[1.03625349 1.04443612]\n",
      " [1.07969064 0.85709612]]\n",
      "[0.31406789 0.3845511 ]\n",
      "[0.31406789 0.3845511 ]\n"
     ]
    }
   ],
   "source": [
    "print(f'points: {points[:-1]}')\n",
    "print(f'h: {h}')\n",
    "D = abs(sim @ N.T)\n",
    "print(D[(0,1), (0,1)])\n",
    "print((1 / ((simi ** 2).sum(axis=0))) ** .5)"
   ]
  },
  {
   "cell_type": "markdown",
   "id": "34ec7ae9",
   "metadata": {},
   "source": [
    "# Delta branch"
   ]
  },
  {
   "cell_type": "code",
   "execution_count": 167,
   "id": "c57fdf0c",
   "metadata": {},
   "outputs": [],
   "source": [
    "%matplotlib widget\n",
    "import numpy as np\n",
    "import matplotlib.pyplot as plt\n",
    "import matplotlib.tri as tri\n",
    "\n",
    "def ax_plot_simplex(ax, optimal_vertex, sim, jdrop, rho):\n",
    "    simplex = np.array((optimal_vertex, *(sim + optimal_vertex), optimal_vertex))\n",
    "    ax.plot(simplex[...,0], simplex[...,1], '-', color='lightsteelblue', lw=2)\n",
    "    ax.plot(simplex[1:-1,0], simplex[1:-1,1], '.', color='blue', marker='o')\n",
    "    ax.plot(simplex[jdrop+1,0], simplex[jdrop+1,1], '.', color='red', marker='o')\n",
    "    ax.plot(*optimal_vertex, color='limegreen', marker='D')\n",
    "    \n",
    "    beta = 2.1\n",
    "    beta_region = plt.Circle(optimal_vertex, beta * rho, color='lemonchiffon', fill=True, alpha=0.5)\n",
    "    trust_region = plt.Circle(optimal_vertex, rho, color='gold', fill=True, alpha=0.5)\n",
    "    ax.add_patch(beta_region)\n",
    "    ax.add_patch(trust_region)\n",
    "    "
   ]
  },
  {
   "cell_type": "code",
   "execution_count": 170,
   "id": "dbbb7a0c",
   "metadata": {},
   "outputs": [
    {
     "data": {
      "application/vnd.jupyter.widget-view+json": {
       "model_id": "c930f05846284e4d8aac4ab18d21d4a1",
       "version_major": 2,
       "version_minor": 0
      },
      "text/plain": [
       "Canvas(toolbar=Toolbar(toolitems=[('Home', 'Reset original view', 'home', 'home'), ('Back', 'Back to previous …"
      ]
     },
     "metadata": {},
     "output_type": "display_data"
    }
   ],
   "source": [
    "# eta case\n",
    "jdrop = 0\n",
    "rho = 0.0625\n",
    "optimal_vertex = np.array([0.047873700624370373047, 0.03301727499567987112])\n",
    "old_sim = np.array([[-0.13019926157022278929, -0.059595187823573939068], [-0.05055567780160368646, 0.036747427692566961288]])\n",
    "new_sim = np.array([[0.018373713846283478442, 0.025277838900801840201], [-0.05055567780160368646, 0.036747427692566961288]])\n",
    "old_eta = [0.14319020261581568261, 0.062500000000000007495]\n",
    "new_eta = [0.03125, 0.062500000000000007495]\n",
    "old_vsig = [0.12475780902899252224, 0.054454585033534948986]\n",
    "new_vsig = [0.031249999999999999998, 0.06250000000000000749]\n",
    "\n",
    "coords = np.array((*old_sim, *new_sim)) + optimal_vertex\n",
    "x_coords = coords[:, 0]\n",
    "y_coords = coords[:, 1]\n",
    "\n",
    "plt.close('all')\n",
    "fig, (ax1, ax2) = plt.subplots(1, 2, figsize=(12, 6))\n",
    "xmin = min(x_coords)\n",
    "xmax = max(x_coords)\n",
    "ymin = min(y_coords)\n",
    "ymax = max(y_coords)\n",
    "margin = 1e-2\n",
    "\n",
    "#_ = ax1.set(xlim=(xmin - margin, xmax + margin), ylim=(ymin - margin, ymax + margin))\n",
    "#_ = ax2.set(xlim=(xmin - margin, xmax + margin), ylim=(ymin - margin, ymax + margin))\n",
    "ax1.set_aspect('equal')\n",
    "ax2.set_aspect('equal')\n",
    "\n",
    "ax_plot_simplex(ax1, optimal_vertex, old_sim, jdrop, rho=rho)\n",
    "ax_plot_simplex(ax2, optimal_vertex, new_sim, jdrop, rho=rho)\n"
   ]
  },
  {
   "cell_type": "code",
   "execution_count": 171,
   "id": "2f79e1df",
   "metadata": {},
   "outputs": [
    {
     "data": {
      "application/vnd.jupyter.widget-view+json": {
       "model_id": "bc7d3257730d4018999a4dbd3fb82259",
       "version_major": 2,
       "version_minor": 0
      },
      "text/plain": [
       "Canvas(toolbar=Toolbar(toolitems=[('Home', 'Reset original view', 'home', 'home'), ('Back', 'Back to previous …"
      ]
     },
     "metadata": {},
     "output_type": "display_data"
    }
   ],
   "source": [
    "# sigma case\n",
    "jdrop = 1\n",
    "rho = 6.103515625e-05\n",
    "optimal_vertex = np.array([0.12322095602324728612, 0.7876477600799215061])\n",
    "old_sim = np.array([[0.00010609379901699572403, -5.758107655831259315e-05], [4.8716293255678108707e-05, -3.676973034832708352e-05]])\n",
    "new_sim = np.array([[0.00010609379901699572403, -5.758107655831259315e-05], [-1.4557208222393858973e-05, -2.6821824385849429767e-05]])\n",
    "old_veta = [0.00012071236294378856573, 6.103515625000000053e-05]\n",
    "new_eta = [0.00012071236294378856573, 3.0517578125e-05]\n",
    "old_vsig = [1.7955287365912709351e-05, 9.078637375381810534e-06]\n",
    "new_vsig = [0.00012071236294378856568, 3.0517578124999999998e-05]\n",
    "\n",
    "coords = np.array((*old_sim, *new_sim)) + optimal_vertex\n",
    "x_coords = coords[:, 0]\n",
    "y_coords = coords[:, 1]\n",
    "\n",
    "plt.close('all')\n",
    "fig, (ax1, ax2) = plt.subplots(1, 2, figsize=(12, 6))\n",
    "xmin = min(x_coords)\n",
    "xmax = max(x_coords)\n",
    "ymin = min(y_coords)\n",
    "ymax = max(y_coords)\n",
    "margin = 6e-5\n",
    "\n",
    "#_ = ax1.set(xlim=(xmin - margin, xmax + margin), ylim=(ymin - margin, ymax + margin))\n",
    "#_ = ax2.set(xlim=(xmin - margin, xmax + margin), ylim=(ymin - margin, ymax + margin))\n",
    "ax1.set_aspect('equal')\n",
    "ax2.set_aspect('equal')\n",
    "\n",
    "ax_plot_simplex(ax1, optimal_vertex, old_sim, jdrop, rho=rho)\n",
    "ax_plot_simplex(ax2, optimal_vertex, new_sim, jdrop, rho=rho)\n"
   ]
  },
  {
   "cell_type": "code",
   "execution_count": null,
   "id": "c9c96e58",
   "metadata": {},
   "outputs": [],
   "source": []
  }
 ],
 "metadata": {
  "kernelspec": {
   "display_name": "Python 3",
   "language": "python",
   "name": "python3"
  },
  "language_info": {
   "codemirror_mode": {
    "name": "ipython",
    "version": 3
   },
   "file_extension": ".py",
   "mimetype": "text/x-python",
   "name": "python",
   "nbconvert_exporter": "python",
   "pygments_lexer": "ipython3",
   "version": "3.8.3"
  }
 },
 "nbformat": 4,
 "nbformat_minor": 5
}
