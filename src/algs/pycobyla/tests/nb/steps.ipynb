{
 "cells": [
  {
   "cell_type": "code",
   "execution_count": 5,
   "id": "3d83295d",
   "metadata": {},
   "outputs": [],
   "source": [
    "import functools\n",
    "\n",
    "import numpy as np\n",
    "\n",
    "from pycobyla.gcobyla import GCobyla\n",
    "\n",
    "import tests.test_custom as tc"
   ]
  },
  {
   "cell_type": "markdown",
   "id": "0a172a1c",
   "metadata": {
    "tags": []
   },
   "source": [
    "# Gaussian simplex example"
   ]
  },
  {
   "cell_type": "code",
   "execution_count": 6,
   "id": "739ee823",
   "metadata": {},
   "outputs": [],
   "source": [
    "def gaussian_optimizer():\n",
    "    F = functools.partial(tc.gaussian, A=-1)\n",
    "    c1 = lambda x: 1 - x[0]\n",
    "    c2 = lambda x: 1 + x[0]\n",
    "    c3 = lambda x: 1 - x[1]\n",
    "    c4 = lambda x: 1 + x[1]\n",
    "\n",
    "    C = (c1, c2, c3, c4)\n",
    "    x = np.ones(2)    \n",
    "    mu = np.array((0, 0))\n",
    "    \n",
    "    opt = GCobyla(x, F, C, rhobeg=0.5, rhoend=1e-12)\n",
    "    return opt"
   ]
  },
  {
   "cell_type": "code",
   "execution_count": 7,
   "id": "eb679a8c",
   "metadata": {},
   "outputs": [],
   "source": [
    "%matplotlib widget\n",
    "#%matplotlib notebook\n",
    "import itertools\n",
    "\n",
    "from mpl_toolkits.mplot3d import Axes3D\n",
    "import matplotlib.pyplot as plt\n",
    "from matplotlib import cm\n",
    "from matplotlib.ticker import LinearLocator, FormatStrFormatter\n",
    "import numpy as np\n",
    "\n",
    "\n",
    "def simplex_3d_plot(opt):\n",
    "    plt.close('all')\n",
    "    fig = plt.figure()\n",
    "    ax = fig.gca(projection='3d')\n",
    "    \n",
    "    points = np.array((opt.optimal_vertex, *(opt.sim + opt.optimal_vertex), opt.optimal_vertex))\n",
    "    points = np.c_[points, np.zeros(points.shape[0])]\n",
    "    ax.plot(points[0,0], points[0,1], points[0, 2], 'go')\n",
    "    ax.plot(points[1:-1,0], points[1:-1,1], points[1:-1, 2], 'bo')\n",
    "    ax.plot(points[...,0], points[...,1], points[..., 2], 'r-', lw=2)\n",
    "    \n",
    "    # Make data.\n",
    "    max_p = points.max(axis=0)[:-1].max()\n",
    "    min_p = points.min(axis=0)[:-1].min()\n",
    "\n",
    "    X = np.linspace(min_p, max_p, 50)\n",
    "    xv, yv = np.meshgrid(X, X)\n",
    "    zv = np.array(tuple(opt.F(xy) for xy in itertools.product(X, X)))\n",
    "    zv = zv.reshape(xv.shape)\n",
    "\n",
    "    # Plot the surface.\n",
    "    surf = ax.plot_surface(xv, yv, zv, cmap=cm.plasma, linewidth=0, antialiased=False)\n",
    "\n",
    "    # Customize the z axis.\n",
    "    ax.set_zlim(-1., 0.1)\n",
    "    ax.zaxis.set_major_locator(LinearLocator(10))\n",
    "    ax.zaxis.set_major_formatter(FormatStrFormatter('%.02f'))\n",
    "\n",
    "    plt.show()"
   ]
  },
  {
   "cell_type": "code",
   "execution_count": 8,
   "id": "cf9dd076",
   "metadata": {
    "tags": []
   },
   "outputs": [
    {
     "data": {
      "application/vnd.jupyter.widget-view+json": {
       "model_id": "96f44ed8a9fc4533988f15c6f2ecb273",
       "version_major": 2,
       "version_minor": 0
      },
      "text/plain": [
       "Canvas(toolbar=Toolbar(toolitems=[('Home', 'Reset original view', 'home', 'home'), ('Back', 'Back to previous …"
      ]
     },
     "metadata": {},
     "output_type": "display_data"
    }
   ],
   "source": [
    "opt = gaussian_optimizer()\n",
    "steps_it =(step for step in opt.g_run() if step in {GCobyla.BEFORE_REVIEW_CURRENT_SIMPLEX_CHECKPOINT, GCobyla.BEFORE_GENERATE_X_START_CHECKPOINT})\n",
    "\n",
    "simplex_3d_plot(opt)"
   ]
  },
  {
   "cell_type": "code",
   "execution_count": 9,
   "id": "c0477fb6",
   "metadata": {},
   "outputs": [
    {
     "data": {
      "application/vnd.jupyter.widget-view+json": {
       "model_id": "18450dd31c3643299f8b164d8eb68065",
       "version_major": 2,
       "version_minor": 0
      },
      "text/plain": [
       "Canvas(toolbar=Toolbar(toolitems=[('Home', 'Reset original view', 'home', 'home'), ('Back', 'Back to previous …"
      ]
     },
     "metadata": {},
     "output_type": "display_data"
    }
   ],
   "source": [
    "next(steps_it)\n",
    "simplex_3d_plot(opt)"
   ]
  },
  {
   "cell_type": "code",
   "execution_count": 10,
   "id": "24ac8484",
   "metadata": {},
   "outputs": [],
   "source": [
    "def simplex_2d_plot(opt, target):\n",
    "    plt.close('all')\n",
    "    fig, ax = plt.subplots()\n",
    "    \n",
    "    points = np.array((opt.optimal_vertex, *(opt.sim + opt.optimal_vertex), opt.optimal_vertex))\n",
    "    ax.plot(*opt.optimal_vertex, color='limegreen', marker='o')\n",
    "    ax.plot(points[1:-1,0], points[1:-1,1], '.', color='blue', marker='o')\n",
    "    ax.plot(points[...,0], points[...,1], '-.', color='red', lw=2)\n",
    "    ax.plot(target[0], target[1], color='limegreen', marker='*')\n",
    "    \n",
    "    # Make data\n",
    "    all_points = np.array((*points, target))\n",
    "    max_p = all_points.max(axis=0).max()\n",
    "    min_p = all_points.min(axis=0).min()\n",
    "    diff_p = max_p - min_p\n",
    "\n",
    "    X = np.linspace(max_p + (0.1 * diff_p), min_p - (0.1 * diff_p), 50)\n",
    "    xv, yv = np.meshgrid(X, X)\n",
    "    zv = np.array(tuple(-opt.F(xy) for xy in itertools.product(X, X)))\n",
    "    zv = zv.reshape(xv.shape)\n",
    "    \n",
    "    cs = ax.contourf(xv, yv, zv, cmap=cm.magma)\n",
    "    cbar = fig.colorbar(cs)\n",
    "    \n",
    "    plt.show()"
   ]
  },
  {
   "cell_type": "code",
   "execution_count": 11,
   "id": "d6d7a61f",
   "metadata": {},
   "outputs": [
    {
     "data": {
      "application/vnd.jupyter.widget-view+json": {
       "model_id": "807c263e478a44ea8e30865aa1514e87",
       "version_major": 2,
       "version_minor": 0
      },
      "text/plain": [
       "Canvas(toolbar=Toolbar(toolitems=[('Home', 'Reset original view', 'home', 'home'), ('Back', 'Back to previous …"
      ]
     },
     "metadata": {},
     "output_type": "display_data"
    }
   ],
   "source": [
    "opt = gaussian_optimizer()\n",
    "steps_it = (step for step in opt.g_run() if step in {GCobyla.BEFORE_REVIEW_CURRENT_SIMPLEX_CHECKPOINT, GCobyla.BEFORE_GENERATE_X_START_CHECKPOINT})\n",
    "\n",
    "simplex_2d_plot(opt, target=(0,0))"
   ]
  },
  {
   "cell_type": "code",
   "execution_count": 12,
   "id": "cb7dca0a",
   "metadata": {
    "tags": []
   },
   "outputs": [
    {
     "data": {
      "application/vnd.jupyter.widget-view+json": {
       "model_id": "8c7d7f3ce9cc4394991db60c257959d8",
       "version_major": 2,
       "version_minor": 0
      },
      "text/plain": [
       "Canvas(toolbar=Toolbar(toolitems=[('Home', 'Reset original view', 'home', 'home'), ('Back', 'Back to previous …"
      ]
     },
     "metadata": {},
     "output_type": "display_data"
    },
    {
     "name": "stdout",
     "output_type": "stream",
     "text": [
      "nfvals: 3\n",
      "x: [1. 1.]\n",
      "optimal_vertex: [1. 1.]\n",
      "datmat: \n",
      "[[-0.5         2.5         0.          2.         -0.19691168  0.5       ]\n",
      " [ 0.          2.         -0.5         2.5        -0.19691168  0.5       ]\n",
      " [ 0.          2.          0.          2.         -0.36787944  0.        ]]\n",
      "a: \n",
      "None\n",
      "sim: \n",
      "[[0.5 0. ]\n",
      " [0.  0.5]]\n",
      "simi: \n",
      "[[2. 0.]\n",
      " [0. 2.]]\n",
      "optimal vertex: \n",
      "[1. 1.]\n",
      "parmu: 0\n",
      "rho: 0.5\n"
     ]
    }
   ],
   "source": [
    "next(steps_it)\n",
    "simplex_2d_plot(opt, target=(0,0))\n",
    "opt.data"
   ]
  },
  {
   "cell_type": "code",
   "execution_count": 13,
   "id": "ae2422f0",
   "metadata": {},
   "outputs": [
    {
     "data": {
      "application/vnd.jupyter.widget-view+json": {
       "model_id": "531f1078fc794992a23712f1705cbc1c",
       "version_major": 2,
       "version_minor": 0
      },
      "text/plain": [
       "Canvas(toolbar=Toolbar(toolitems=[('Home', 'Reset original view', 'home', 'home'), ('Back', 'Back to previous …"
      ]
     },
     "metadata": {},
     "output_type": "display_data"
    },
    {
     "name": "stdout",
     "output_type": "stream",
     "text": [
      "nfvals: 88\n",
      "x: [1.40230486e-10 8.95344630e-11]\n",
      "optimal_vertex: [1.40230486e-10 8.95344630e-11]\n",
      "datmat: \n",
      "[[ 1.  1.  1.  1. -1.  0.]\n",
      " [ 1.  1.  1.  1. -1.  0.]\n",
      " [ 1.  1.  1.  1. -1.  0.]]\n",
      "a: \n",
      "[[-1.00000002e+00 -1.16238286e-08]\n",
      " [ 9.99999908e-01  5.78209700e-09]\n",
      " [-7.92720677e-08 -9.99999987e-01]\n",
      " [-2.66223273e-08  1.00000001e+00]\n",
      " [-0.00000000e+00 -0.00000000e+00]]\n",
      "sim: \n",
      "[[-4.88351701e-13  1.07296861e-13]\n",
      " [-3.90343708e-13 -1.77661314e-12]]\n",
      "simi: \n",
      "[[-1.95340680e+12 -1.17974147e+11]\n",
      " [ 4.29187445e+11 -5.36948373e+11]]\n",
      "optimal vertex: \n",
      "[1.40230486e-10 8.95344630e-11]\n",
      "parmu: 0\n",
      "rho: 1e-12\n"
     ]
    }
   ],
   "source": [
    "for _ in steps_it: pass\n",
    "simplex_2d_plot(opt, target=(0,0))\n",
    "opt.data"
   ]
  },
  {
   "cell_type": "markdown",
   "id": "ef498a5d",
   "metadata": {},
   "source": [
    "# Gaussian track examples "
   ]
  },
  {
   "cell_type": "code",
   "execution_count": 14,
   "id": "5f717fc1",
   "metadata": {},
   "outputs": [],
   "source": [
    "%matplotlib widget\n",
    "\n",
    "from tests.nb.utils import plot_track"
   ]
  },
  {
   "cell_type": "code",
   "execution_count": 15,
   "id": "eeaf3b6c",
   "metadata": {},
   "outputs": [],
   "source": [
    "opt = gaussian_optimizer()\n",
    "steps_it = (step for step in opt.g_run() if step in {GCobyla.BEFORE_REVIEW_CURRENT_SIMPLEX_CHECKPOINT, GCobyla.BEFORE_GENERATE_X_START_CHECKPOINT})"
   ]
  },
  {
   "cell_type": "code",
   "execution_count": 16,
   "id": "c11fbcd6",
   "metadata": {
    "tags": []
   },
   "outputs": [
    {
     "data": {
      "application/vnd.jupyter.widget-view+json": {
       "model_id": "add574491e734e6fae5e6f683f87854e",
       "version_major": 2,
       "version_minor": 0
      },
      "text/plain": [
       "Canvas(toolbar=Toolbar(toolitems=[('Home', 'Reset original view', 'home', 'home'), ('Back', 'Back to previous …"
      ]
     },
     "metadata": {},
     "output_type": "display_data"
    },
    {
     "name": "stdout",
     "output_type": "stream",
     "text": [
      "nfvals: 3\n",
      "x: [1. 1.]\n",
      "optimal_vertex: [1. 1.]\n",
      "datmat: \n",
      "[[-0.5         2.5         0.          2.         -0.19691168  0.5       ]\n",
      " [ 0.          2.         -0.5         2.5        -0.19691168  0.5       ]\n",
      " [ 0.          2.          0.          2.         -0.36787944  0.        ]]\n",
      "a: \n",
      "None\n",
      "sim: \n",
      "[[0.5 0. ]\n",
      " [0.  0.5]]\n",
      "simi: \n",
      "[[2. 0.]\n",
      " [0. 2.]]\n",
      "optimal vertex: \n",
      "[1. 1.]\n",
      "parmu: 0\n",
      "rho: 0.5\n"
     ]
    }
   ],
   "source": [
    "next(steps_it)\n",
    "plot_track(opt, target=np.zeros(2), n_points=5, plot_simplex=True, plot_trure=True, aspect=True)\n",
    "opt.data"
   ]
  },
  {
   "cell_type": "code",
   "execution_count": 17,
   "id": "c4af784c",
   "metadata": {
    "tags": []
   },
   "outputs": [
    {
     "data": {
      "application/vnd.jupyter.widget-view+json": {
       "model_id": "f822621b5f874d8bade0b32b8fd2050f",
       "version_major": 2,
       "version_minor": 0
      },
      "text/plain": [
       "Canvas(toolbar=Toolbar(toolitems=[('Home', 'Reset original view', 'home', 'home'), ('Back', 'Back to previous …"
      ]
     },
     "metadata": {},
     "output_type": "display_data"
    },
    {
     "name": "stdout",
     "output_type": "stream",
     "text": [
      "nfvals: 88\n",
      "x: [1.40230486e-10 8.95344630e-11]\n",
      "optimal_vertex: [1.40230486e-10 8.95344630e-11]\n",
      "datmat: \n",
      "[[ 1.  1.  1.  1. -1.  0.]\n",
      " [ 1.  1.  1.  1. -1.  0.]\n",
      " [ 1.  1.  1.  1. -1.  0.]]\n",
      "a: \n",
      "[[-1.00000002e+00 -1.16238286e-08]\n",
      " [ 9.99999908e-01  5.78209700e-09]\n",
      " [-7.92720677e-08 -9.99999987e-01]\n",
      " [-2.66223273e-08  1.00000001e+00]\n",
      " [-0.00000000e+00 -0.00000000e+00]]\n",
      "sim: \n",
      "[[-4.88351701e-13  1.07296861e-13]\n",
      " [-3.90343708e-13 -1.77661314e-12]]\n",
      "simi: \n",
      "[[-1.95340680e+12 -1.17974147e+11]\n",
      " [ 4.29187445e+11 -5.36948373e+11]]\n",
      "optimal vertex: \n",
      "[1.40230486e-10 8.95344630e-11]\n",
      "parmu: 0\n",
      "rho: 1e-12\n",
      "[[ 0.27487791 -0.06039405]\n",
      " [ 0.21971227  1.        ]]\n",
      "[[2.50000000e-25 0.00000000e+00]\n",
      " [0.00000000e+00 3.30872245e-24]]\n"
     ]
    }
   ],
   "source": [
    "for _ in steps_it: pass\n",
    "plot_track(opt, target=np.zeros(2), n_points=5, plot_simplex=True, plot_trure=True, aspect=True)\n",
    "opt.data\n",
    "print(opt.sim / opt.sim.min())\n",
    "print(opt.sim @ opt.sim.T)"
   ]
  },
  {
   "cell_type": "markdown",
   "id": "eaa2199f",
   "metadata": {
    "tags": []
   },
   "source": [
    "# Pyramid track example: no convergence due to bad rhobeg"
   ]
  },
  {
   "cell_type": "code",
   "execution_count": 18,
   "id": "2f869de5",
   "metadata": {},
   "outputs": [],
   "source": [
    "%matplotlib widget\n",
    "import functools\n",
    "\n",
    "import tests.test_custom as tc\n",
    "from tests.nb.utils import plot_track\n",
    "\n",
    "\n",
    "def pyramid_optimizer(start_x=None, width=2, rhobeg=.05, rhoend=1e-12):\n",
    "    F = functools.partial(tc.pyramid, center=np.zeros(2), width=width, height=-1)\n",
    "    C = ()\n",
    "    start_x = np.random.uniform(low=-width/2, high=width/2, size=2) if start_x is None else start_x\n",
    "    opt = GCobyla(start_x, F, C, rhobeg=rhobeg, rhoend=rhoend)\n",
    "    return opt"
   ]
  },
  {
   "cell_type": "code",
   "execution_count": 19,
   "id": "1de1a5fb",
   "metadata": {},
   "outputs": [],
   "source": [
    "start_x = np.array((-0.57714299498416465894479, -0.89532481179992373654386))\n",
    "opt = pyramid_optimizer(start_x=start_x, rhobeg=.05)\n",
    "steps_it = (step for step in opt.g_run() if step in {GCobyla.BEFORE_REVIEW_CURRENT_SIMPLEX_CHECKPOINT, GCobyla.BEFORE_GENERATE_X_START_CHECKPOINT})"
   ]
  },
  {
   "cell_type": "code",
   "execution_count": 20,
   "id": "bb4223cb",
   "metadata": {},
   "outputs": [
    {
     "data": {
      "application/vnd.jupyter.widget-view+json": {
       "model_id": "f7a8b39212384fa4bcd3e1cc27fc50be",
       "version_major": 2,
       "version_minor": 0
      },
      "text/plain": [
       "Canvas(toolbar=Toolbar(toolitems=[('Home', 'Reset original view', 'home', 'home'), ('Back', 'Back to previous …"
      ]
     },
     "metadata": {},
     "output_type": "display_data"
    },
    {
     "name": "stdout",
     "output_type": "stream",
     "text": [
      "nfvals: 3\n",
      "x: [-0.57714299 -0.84532481]\n",
      "optimal_vertex: [-0.57714299 -0.84532481]\n",
      "datmat: \n",
      "[[-0.10467519  0.        ]\n",
      " [-0.10467519  0.        ]\n",
      " [-0.15467519  0.        ]]\n",
      "a: \n",
      "None\n",
      "sim: \n",
      "[[ 0.05 -0.05]\n",
      " [ 0.   -0.05]]\n",
      "simi: \n",
      "[[ 20. -20.]\n",
      " [  0. -20.]]\n",
      "optimal vertex: \n",
      "[-0.57714299 -0.84532481]\n",
      "parmu: 0\n",
      "rho: 0.05\n"
     ]
    }
   ],
   "source": [
    "next(steps_it)\n",
    "plot_track(opt, target=np.zeros(2), n_points=5, plot_simplex=False, plot_trure=False, aspect=True)\n",
    "opt.data"
   ]
  },
  {
   "cell_type": "code",
   "execution_count": 21,
   "id": "fdf901bb",
   "metadata": {},
   "outputs": [
    {
     "data": {
      "application/vnd.jupyter.widget-view+json": {
       "model_id": "e66f621be81f4050a9d141b181bd66b8",
       "version_major": 2,
       "version_minor": 0
      },
      "text/plain": [
       "Canvas(toolbar=Toolbar(toolitems=[('Home', 'Reset original view', 'home', 'home'), ('Back', 'Back to previous …"
      ]
     },
     "metadata": {},
     "output_type": "display_data"
    },
    {
     "name": "stdout",
     "output_type": "stream",
     "text": [
      "nfvals: 418\n",
      "x: [-0.10295554 -0.10295554]\n",
      "optimal_vertex: [-0.10295554 -0.10295554]\n",
      "datmat: \n",
      "[[-0.89704446  0.        ]\n",
      " [-0.89704446  0.        ]\n",
      " [-0.89704446  0.        ]]\n",
      "a: \n",
      "[[0.00122365 0.98743908]]\n",
      "sim: \n",
      "[[-9.95288611e-13 -1.09695682e-12]\n",
      " [ 1.23921648e-15  9.99999232e-13]]\n",
      "simi: \n",
      "[[-1.00610784e+12 -1.10365770e+12]\n",
      " [ 1.24678637e+09  1.00136844e+12]]\n",
      "optimal vertex: \n",
      "[-0.10295554 -0.10295554]\n",
      "parmu: 0\n",
      "rho: 1e-12\n"
     ]
    }
   ],
   "source": [
    "for _ in steps_it: pass\n",
    "fig, (ax1, ax2) = plot_track(opt, target=np.zeros(2), n_points=5, plot_simplex=True, plot_trure=True, aspect=True)\n",
    "ax2.plot(np.array((-1, 1)), np.array((1, -1)), linestyle='-.')\n",
    "ax2.plot(np.array((-1, 1)), np.array((-1, 1)), linestyle='-.')\n",
    "\n",
    "margin = 1e-1\n",
    "xmin = min((*opt.track[:, 0], 0))\n",
    "xmax = max((*opt.track[:, 0], 0))\n",
    "ymin = min((*opt.track[:, 1], 0))\n",
    "ymax = max((*opt.track[:, 1], 0))\n",
    "ax2.set(xlim=(xmin - margin, xmax + margin), ylim=(ymin - margin, ymax + margin))\n",
    "\n",
    "opt.data"
   ]
  },
  {
   "cell_type": "markdown",
   "id": "9e89c96b",
   "metadata": {},
   "source": [
    "### Convergency with a suitable rhobeg"
   ]
  },
  {
   "cell_type": "code",
   "execution_count": 22,
   "id": "f6a1a984",
   "metadata": {},
   "outputs": [
    {
     "data": {
      "application/vnd.jupyter.widget-view+json": {
       "model_id": "880e02e0f7194339b48a5f1df49d644f",
       "version_major": 2,
       "version_minor": 0
      },
      "text/plain": [
       "Canvas(toolbar=Toolbar(toolitems=[('Home', 'Reset original view', 'home', 'home'), ('Back', 'Back to previous …"
      ]
     },
     "metadata": {},
     "output_type": "display_data"
    }
   ],
   "source": [
    "opt = pyramid_optimizer(start_x=start_x, rhobeg=.1)\n",
    "steps_it = (step for step in opt.g_run() if step in {GCobyla.BEFORE_REVIEW_CURRENT_SIMPLEX_CHECKPOINT, GCobyla.BEFORE_GENERATE_X_START_CHECKPOINT})\n",
    "\n",
    "for _ in steps_it: pass\n",
    "fig, (ax1, ax2) = plot_track(opt, target=np.zeros(2), n_points=5, plot_simplex=True, plot_trure=True, aspect=True)\n",
    "ax2.plot(np.array((-1, 1)), np.array((1, -1)), linestyle='-.')\n",
    "ax2.plot(np.array((-1, 1)), np.array((-1, 1)), linestyle='-.')\n",
    "\n",
    "margin = 1e-1\n",
    "xmin = min((*opt.track[:, 0], 0))\n",
    "xmax = max((*opt.track[:, 0], 0))\n",
    "ymin = min((*opt.track[:, 1], 0))\n",
    "ymax = max((*opt.track[:, 1], 0))\n",
    "_ = ax2.set(xlim=(xmin - margin, xmax + margin), ylim=(ymin - margin, ymax + margin))"
   ]
  },
  {
   "cell_type": "markdown",
   "id": "106cc252",
   "metadata": {},
   "source": [
    "# 4 faces pyramid track example: no convergence due to bad rhobeg"
   ]
  },
  {
   "cell_type": "code",
   "execution_count": 23,
   "id": "58870d37",
   "metadata": {},
   "outputs": [],
   "source": [
    "%matplotlib widget\n",
    "\n",
    "import functools\n",
    "import numpy as np\n",
    "\n",
    "import tests.test_custom as tc\n",
    "from tests.nb.utils import plot_track\n",
    "\n",
    "\n",
    "def pyramid_faces_optimizer(start_x, radius=2, faces=4, rhobeg=.5, rhoend=1e-12):\n",
    "    F = functools.partial(tc.pyramid_faces, center=np.zeros(2), radius=radius, height=-1, faces=faces)\n",
    "    c1 = lambda x: 1 - sum(x ** 2)\n",
    "    C = (c1,)\n",
    "    opt = GCobyla(start_x, F, C, rhobeg=rhobeg, rhoend=rhoend)\n",
    "    return opt"
   ]
  },
  {
   "cell_type": "code",
   "execution_count": 24,
   "id": "225da24d",
   "metadata": {},
   "outputs": [],
   "source": [
    "start_x = np.array((0.60522848317453536992616, -0.92243950619371162247262))\n",
    "opt = pyramid_faces_optimizer(start_x=start_x, faces=4, rhobeg=.5)\n",
    "steps_it = (step for step in opt.g_run() if step in {GCobyla.BEFORE_REVIEW_CURRENT_SIMPLEX_CHECKPOINT, GCobyla.BEFORE_GENERATE_X_START_CHECKPOINT})"
   ]
  },
  {
   "cell_type": "code",
   "execution_count": 25,
   "id": "a93ebdd2",
   "metadata": {},
   "outputs": [
    {
     "data": {
      "application/vnd.jupyter.widget-view+json": {
       "model_id": "e0f7c134df724b3ba0727467b4fd68b5",
       "version_major": 2,
       "version_minor": 0
      },
      "text/plain": [
       "Canvas(toolbar=Toolbar(toolitems=[('Home', 'Reset original view', 'home', 'home'), ('Back', 'Back to previous …"
      ]
     },
     "metadata": {},
     "output_type": "display_data"
    },
    {
     "name": "stdout",
     "output_type": "stream",
     "text": [
      "nfvals: 3\n",
      "x: [ 0.60522848 -0.42243951]\n",
      "optimal_vertex: [ 0.60522848 -0.42243951]\n",
      "datmat: \n",
      "[[-1.07242464  0.          1.07242464]\n",
      " [-0.21719616 -0.23616601  0.21719616]\n",
      " [ 0.45524335 -0.48616601  0.        ]]\n",
      "a: \n",
      "None\n",
      "sim: \n",
      "[[ 0.5 -0.5]\n",
      " [ 0.  -0.5]]\n",
      "simi: \n",
      "[[ 2. -2.]\n",
      " [ 0. -2.]]\n",
      "optimal vertex: \n",
      "[ 0.60522848 -0.42243951]\n",
      "parmu: 0\n",
      "rho: 0.5\n"
     ]
    }
   ],
   "source": [
    "next(steps_it)\n",
    "fig, (ax1, ax2) = plot_track(opt, target=np.zeros(2), n_points=5, plot_simplex=False, plot_trure=False, aspect=False)\n",
    "ax2.plot(np.array((-1, 1)), np.array((0, 0)), linestyle='-.')\n",
    "ax2.plot(np.array((0, 0)), np.array((-1, 1)), linestyle='-.')\n",
    "\n",
    "margin = 1e-2\n",
    "xmin = min((*opt.track[:, 0], 0))\n",
    "xmax = max((*opt.track[:, 0], 0))\n",
    "ymin = min((*opt.track[:, 1], 0))\n",
    "ymax = max((*opt.track[:, 1], 0))\n",
    "ax2.set(xlim=(xmin - margin, xmax + margin), ylim=(ymin - margin, ymax + margin))\n",
    "opt.data"
   ]
  },
  {
   "cell_type": "code",
   "execution_count": 26,
   "id": "ec6991de",
   "metadata": {},
   "outputs": [
    {
     "data": {
      "application/vnd.jupyter.widget-view+json": {
       "model_id": "f5fadb0b6d9a42b68dee25b26af3563d",
       "version_major": 2,
       "version_minor": 0
      },
      "text/plain": [
       "Canvas(toolbar=Toolbar(toolitems=[('Home', 'Reset original view', 'home', 'home'), ('Back', 'Back to previous …"
      ]
     },
     "metadata": {},
     "output_type": "display_data"
    },
    {
     "name": "stdout",
     "output_type": "stream",
     "text": [
      "nfvals: 371\n",
      "x: [8.34524795e-02 7.67764511e-13]\n",
      "optimal_vertex: [8.34524795e-02 1.02106460e-13]\n",
      "datmat: \n",
      "[[ 0.99303568 -0.95827376  0.        ]\n",
      " [ 0.99303568 -0.95827376  0.        ]\n",
      " [ 0.99303568 -0.95827376  0.        ]]\n",
      "a: \n",
      "[[-1.66904975e-01 -1.01481399e-09]\n",
      " [-4.52220685e-01  4.03378970e-01]]\n",
      "sim: \n",
      "[[-7.46256899e-13  6.65658050e-13]\n",
      " [ 1.60349663e-12 -2.63840311e-13]]\n",
      "simi: \n",
      "[[3.03094787e+11 7.64695447e+11]\n",
      " [1.84206677e+12 8.57285889e+11]]\n",
      "optimal vertex: \n",
      "[8.34524795e-02 1.02106460e-13]\n",
      "parmu: 0\n",
      "rho: 1e-12\n",
      "-0.95827376022649117456\n"
     ]
    }
   ],
   "source": [
    "for _ in steps_it: pass\n",
    "fig, (ax1, ax2) = plot_track(opt, target=np.zeros(2), n_points=5, plot_simplex=True, plot_trure=True)\n",
    "ax2.plot(np.array((-1, 1)), np.array((0, 0)), linestyle='-.')\n",
    "ax2.plot(np.array((0, 0)), np.array((-1, 1)), linestyle='-.')\n",
    "\n",
    "margin = 1e-1\n",
    "xmin = min((*opt.track[:, 0], 0))\n",
    "xmax = max((*opt.track[:, 0], 0))\n",
    "ymin = min((*opt.track[:, 1], 0))\n",
    "ymax = max((*opt.track[:, 1], 0))\n",
    "ax2.set(xlim=(xmin - margin, xmax + margin), ylim=(ymin - margin, ymax + margin))\n",
    "\n",
    "opt.data\n",
    "print(opt.F(opt.optimal_vertex))"
   ]
  },
  {
   "cell_type": "markdown",
   "id": "99ee519e",
   "metadata": {},
   "source": [
    "### Convergency with a suitable rhobeg"
   ]
  },
  {
   "cell_type": "code",
   "execution_count": 27,
   "id": "05c8f9eb",
   "metadata": {},
   "outputs": [
    {
     "data": {
      "application/vnd.jupyter.widget-view+json": {
       "model_id": "ea011fb8541c46c387fcd7fe1d13a217",
       "version_major": 2,
       "version_minor": 0
      },
      "text/plain": [
       "Canvas(toolbar=Toolbar(toolitems=[('Home', 'Reset original view', 'home', 'home'), ('Back', 'Back to previous …"
      ]
     },
     "metadata": {},
     "output_type": "display_data"
    },
    {
     "data": {
      "text/plain": [
       "[(-0.1311676198933574, 0.7052284831745353),\n",
       " (-1.0224395061937117, 0.1138824146744272)]"
      ]
     },
     "execution_count": 27,
     "metadata": {},
     "output_type": "execute_result"
    }
   ],
   "source": [
    "opt = pyramid_faces_optimizer(start_x=start_x, faces=4, rhobeg=.1)\n",
    "steps_it = (step for step in opt.g_run() if step in {GCobyla.BEFORE_REVIEW_CURRENT_SIMPLEX_CHECKPOINT, GCobyla.BEFORE_GENERATE_X_START_CHECKPOINT})\n",
    "\n",
    "for _ in steps_it: pass\n",
    "fig, (ax1, ax2) = plot_track(opt, target=np.zeros(2), n_points=5, plot_simplex=True, plot_trure=True)\n",
    "ax2.plot(np.array((-1, 1)), np.array((0, 0)), linestyle='-.')\n",
    "ax2.plot(np.array((0, 0)), np.array((-1, 1)), linestyle='-.')\n",
    "\n",
    "margin = 1e-1\n",
    "xmin = min((*opt.track[:, 0], 0))\n",
    "xmax = max((*opt.track[:, 0], 0))\n",
    "ymin = min((*opt.track[:, 1], 0))\n",
    "ymax = max((*opt.track[:, 1], 0))\n",
    "ax2.set(xlim=(xmin - margin, xmax + margin), ylim=(ymin - margin, ymax + margin))"
   ]
  },
  {
   "cell_type": "code",
   "execution_count": null,
   "id": "68d9ef4d",
   "metadata": {},
   "outputs": [],
   "source": []
  }
 ],
 "metadata": {
  "kernelspec": {
   "display_name": "Python 3",
   "language": "python",
   "name": "python3"
  },
  "language_info": {
   "codemirror_mode": {
    "name": "ipython",
    "version": 3
   },
   "file_extension": ".py",
   "mimetype": "text/x-python",
   "name": "python",
   "nbconvert_exporter": "python",
   "pygments_lexer": "ipython3",
   "version": "3.8.3"
  }
 },
 "nbformat": 4,
 "nbformat_minor": 5
}
