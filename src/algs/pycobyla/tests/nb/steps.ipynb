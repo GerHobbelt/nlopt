{
 "cells": [
  {
   "cell_type": "code",
   "execution_count": 48,
   "id": "b0177987",
   "metadata": {},
   "outputs": [],
   "source": [
    "from pycobyla.cobyla import Cobyla\n",
    "\n",
    "\n",
    "class GCobyla(Cobyla):\n",
    "    def __init__(self, *args, **kwargs):\n",
    "        super().__init__(*args, **kwargs)\n",
    "        self.track = np.array((self.x,))\n",
    "        \n",
    "    def _add_track(self):\n",
    "        if (self.optimal_vertex != self.track[-1]).all():\n",
    "            self.track = np.vstack((self.track, self.optimal_vertex))\n",
    "        \n",
    "    def run(self):\n",
    "        self.set_initial_simplex()\n",
    "        self._add_track()\n",
    "        \n",
    "        self.ibrnch = True\n",
    "\n",
    "        while True:\n",
    "            yield 'step 1'\n",
    "            self.L140_review_current_simplex()\n",
    "            self._add_track()\n",
    "            \n",
    "            yield 'setp 2'\n",
    "            state = self.L370_generate_x_start()\n",
    "            self._add_track()\n",
    "            if state == self.FINISH:\n",
    "                break"
   ]
  },
  {
   "cell_type": "markdown",
   "id": "07552a1e",
   "metadata": {
    "tags": []
   },
   "source": [
    "# Gaussian simplex example"
   ]
  },
  {
   "cell_type": "code",
   "execution_count": 49,
   "id": "5e48a581",
   "metadata": {},
   "outputs": [],
   "source": [
    "import numpy as np\n",
    "\n",
    "def gaussian(x, mu=None, sig=None, A=1):\n",
    "    n = len(x)\n",
    "    mu =  np.zeros(n) if mu is None else mu\n",
    "    sig = np.ones(n) if sig is None else sig\n",
    "\n",
    "    zz = ((((x - mu) / sig) ** 2) / 2).sum()\n",
    "    return A * np.exp(-zz)\n",
    "\n",
    "\n",
    "def neg_gaussian(x, mu=None, sig=None, A=1):\n",
    "    return -gaussian(x, mu=mu, sig=sig, A=A)\n",
    "\n",
    "\n",
    "def gaussian_optimizer():\n",
    "    F = neg_gaussian\n",
    "    c1 = lambda x: 1 - x[0]\n",
    "    c2 = lambda x: 1 + x[0]\n",
    "    c3 = lambda x: 1 - x[1]\n",
    "    c4 = lambda x: 1 + x[1]\n",
    "\n",
    "    C = (c1, c2, c3, c4)\n",
    "    x = np.ones(2)    \n",
    "    mu = np.array((0, 0))\n",
    "    \n",
    "    opt = GCobyla(x, F, C, rhobeg=0.5, rhoend=1e-12)\n",
    "    return opt\n"
   ]
  },
  {
   "cell_type": "code",
   "execution_count": 50,
   "id": "3c94dbd6",
   "metadata": {},
   "outputs": [],
   "source": [
    "%matplotlib widget\n",
    "#%matplotlib notebook\n",
    "import itertools\n",
    "\n",
    "from mpl_toolkits.mplot3d import Axes3D\n",
    "import matplotlib.pyplot as plt\n",
    "from matplotlib import cm\n",
    "from matplotlib.ticker import LinearLocator, FormatStrFormatter\n",
    "import numpy as np\n",
    "\n",
    "\n",
    "def simplex_3d_plot(opt):\n",
    "    plt.close('all')\n",
    "    fig = plt.figure()\n",
    "    ax = fig.gca(projection='3d')\n",
    "    \n",
    "    points = np.array((opt.x, *(opt.sim + opt.x), opt.x))\n",
    "    points = np.c_[points, np.zeros(points.shape[0])]\n",
    "    ax.plot(points[0,0], points[0,1], points[0, 2], 'go')\n",
    "    ax.plot(points[1:-1,0], points[1:-1,1], points[1:-1, 2], 'bo')\n",
    "    ax.plot(points[...,0], points[...,1], points[..., 2], 'r-', lw=2)\n",
    "    \n",
    "    # Make data.\n",
    "    max_p = points.max(axis=0)[:-1].max()\n",
    "    min_p = points.min(axis=0)[:-1].min()\n",
    "\n",
    "    X = np.linspace(min_p, max_p, 50)\n",
    "    xv, yv = np.meshgrid(X, X)\n",
    "    zv = np.array(tuple(opt.F(xy) for xy in itertools.product(X, X)))\n",
    "    zv = zv.reshape(xv.shape)\n",
    "\n",
    "    # Plot the surface.\n",
    "    surf = ax.plot_surface(xv, yv, zv, cmap=cm.plasma, linewidth=0, antialiased=False)\n",
    "\n",
    "    # Customize the z axis.\n",
    "    ax.set_zlim(-1., 0.1)\n",
    "    ax.zaxis.set_major_locator(LinearLocator(10))\n",
    "    ax.zaxis.set_major_formatter(FormatStrFormatter('%.02f'))\n",
    "\n",
    "    plt.show()"
   ]
  },
  {
   "cell_type": "code",
   "execution_count": 51,
   "id": "a11e759e",
   "metadata": {
    "tags": []
   },
   "outputs": [
    {
     "data": {
      "application/vnd.jupyter.widget-view+json": {
       "model_id": "d128dd941b3249d08521567e1aa3e9a3",
       "version_major": 2,
       "version_minor": 0
      },
      "text/plain": [
       "Canvas(toolbar=Toolbar(toolitems=[('Home', 'Reset original view', 'home', 'home'), ('Back', 'Back to previous …"
      ]
     },
     "metadata": {},
     "output_type": "display_data"
    }
   ],
   "source": [
    "opt = gaussian_optimizer()\n",
    "steps_it = opt.run()\n",
    "\n",
    "simplex_3d_plot(opt)"
   ]
  },
  {
   "cell_type": "code",
   "execution_count": 52,
   "id": "196213d7",
   "metadata": {},
   "outputs": [
    {
     "data": {
      "application/vnd.jupyter.widget-view+json": {
       "model_id": "459a341fc05f4fdeb124dc9ea22a6198",
       "version_major": 2,
       "version_minor": 0
      },
      "text/plain": [
       "Canvas(toolbar=Toolbar(toolitems=[('Home', 'Reset original view', 'home', 'home'), ('Back', 'Back to previous …"
      ]
     },
     "metadata": {},
     "output_type": "display_data"
    }
   ],
   "source": [
    "next(steps_it)\n",
    "simplex_3d_plot(opt)"
   ]
  },
  {
   "cell_type": "code",
   "execution_count": 53,
   "id": "04e200f0",
   "metadata": {},
   "outputs": [],
   "source": [
    "def simplex_2d_plot(opt, target=None):\n",
    "    plt.close('all')\n",
    "    fig, ax = plt.subplots()\n",
    "    \n",
    "    points = np.array((opt.x, *(opt.sim + opt.x), opt.x))\n",
    "    ax.plot(points[0,0], points[0,1], 'go')\n",
    "    ax.plot(points[1:-1,0], points[1:-1,1], 'bo')\n",
    "    if target:\n",
    "        ax.plot(target[0], target[1], 'r*')\n",
    "    ax.plot(points[...,0], points[...,1], 'r-', lw=2)\n",
    "    \n",
    "    # Make data\n",
    "    max_p = points.max(axis=0).max()\n",
    "    min_p = points.min(axis=0).min()\n",
    "\n",
    "    X = np.linspace(max_p + (0.1 * abs(max_p)), min_p - (0.1 * abs(min_p)), 50)\n",
    "    xv, yv = np.meshgrid(X, X)\n",
    "    zv = np.array(tuple(opt.F(xy) for xy in itertools.product(X, X)))\n",
    "    zv = zv.reshape(xv.shape)\n",
    "    \n",
    "    cs = ax.contourf(xv, yv, zv, cmap=cm.PuBu_r)\n",
    "    cbar = fig.colorbar(cs)\n",
    "    \n",
    "    plt.show()\n"
   ]
  },
  {
   "cell_type": "code",
   "execution_count": 54,
   "id": "7e75d988",
   "metadata": {},
   "outputs": [
    {
     "data": {
      "application/vnd.jupyter.widget-view+json": {
       "model_id": "ea60da01dcb547bb80f01c44bc4f54dc",
       "version_major": 2,
       "version_minor": 0
      },
      "text/plain": [
       "Canvas(toolbar=Toolbar(toolitems=[('Home', 'Reset original view', 'home', 'home'), ('Back', 'Back to previous …"
      ]
     },
     "metadata": {},
     "output_type": "display_data"
    }
   ],
   "source": [
    "opt = gaussian_optimizer()\n",
    "steps_it = opt.run()\n",
    "\n",
    "simplex_2d_plot(opt, target=(0,0))"
   ]
  },
  {
   "cell_type": "code",
   "execution_count": 55,
   "id": "b3fd3133",
   "metadata": {
    "tags": []
   },
   "outputs": [
    {
     "data": {
      "application/vnd.jupyter.widget-view+json": {
       "model_id": "e03ec265261a441db212e1ccfd0bd53a",
       "version_major": 2,
       "version_minor": 0
      },
      "text/plain": [
       "Canvas(toolbar=Toolbar(toolitems=[('Home', 'Reset original view', 'home', 'home'), ('Back', 'Back to previous …"
      ]
     },
     "metadata": {},
     "output_type": "display_data"
    }
   ],
   "source": [
    "next(steps_it)\n",
    "simplex_2d_plot(opt, target=(0,0))"
   ]
  },
  {
   "cell_type": "markdown",
   "id": "a12761c8",
   "metadata": {},
   "source": [
    "# Gaussian track examples "
   ]
  },
  {
   "cell_type": "code",
   "execution_count": 56,
   "id": "2f835321",
   "metadata": {},
   "outputs": [],
   "source": [
    "%matplotlib widget\n",
    "\n",
    "import matplotlib.pyplot as plt\n",
    "\n",
    "def plot_track(opt, target, n_points=5, plot_full_track=True):\n",
    "    def plot_track(ax, n_points):\n",
    "        track = opt.track[-n_points:]\n",
    "        ax.plot(track[:, 0], track[:, 1], 'ro:')\n",
    "        link_best = np.array((track[-1], target))\n",
    "        ax.plot(link_best[:, 0], link_best[:, 1], 'r-')\n",
    "        ax.plot(target[0], target[1], 'g*')\n",
    "    ###\n",
    "    \n",
    "    plt.close('all')\n",
    "    fig, (ax1, ax2) = plt.subplots(1, 2, figsize=(12, 6))\n",
    "    \n",
    "    plot_track(ax1, n_points=n_points)\n",
    "    plot_track(ax2, n_points=0)\n",
    "\n",
    "    plt.show()\n",
    "    return fig, (ax1, ax2)"
   ]
  },
  {
   "cell_type": "code",
   "execution_count": 57,
   "id": "79ce0b6e",
   "metadata": {},
   "outputs": [],
   "source": [
    "opt = gaussian_optimizer()\n",
    "steps_it = opt.run()"
   ]
  },
  {
   "cell_type": "code",
   "execution_count": 58,
   "id": "a8de8a51",
   "metadata": {
    "tags": []
   },
   "outputs": [
    {
     "data": {
      "application/vnd.jupyter.widget-view+json": {
       "model_id": "ffa5c8f67e0d42d292af718595074a8c",
       "version_major": 2,
       "version_minor": 0
      },
      "text/plain": [
       "Canvas(toolbar=Toolbar(toolitems=[('Home', 'Reset original view', 'home', 'home'), ('Back', 'Back to previous …"
      ]
     },
     "metadata": {},
     "output_type": "display_data"
    },
    {
     "name": "stdout",
     "output_type": "stream",
     "text": [
      "nfvals: 3\n",
      "x: [1. 1.]\n",
      "optimal_vertex: [1. 1.]\n",
      "datmat: \n",
      "[[-0.5         2.5         0.          2.         -0.19691168  0.5       ]\n",
      " [ 0.          2.         -0.5         2.5        -0.19691168  0.5       ]\n",
      " [ 0.          2.          0.          2.         -0.36787944  0.        ]]\n",
      "a: \n",
      "None\n",
      "sim: \n",
      "[[0.5 0. ]\n",
      " [0.  0.5]]\n",
      "simi: \n",
      "[[2. 0.]\n",
      " [0. 2.]]\n"
     ]
    }
   ],
   "source": [
    "next(steps_it)\n",
    "plot_track(opt, target=np.zeros(2), n_points=5)\n",
    "opt.data"
   ]
  },
  {
   "cell_type": "code",
   "execution_count": 59,
   "id": "fa495f6a",
   "metadata": {},
   "outputs": [
    {
     "data": {
      "application/vnd.jupyter.widget-view+json": {
       "model_id": "c6b902d64e0d484fbdcece937fac3221",
       "version_major": 2,
       "version_minor": 0
      },
      "text/plain": [
       "Canvas(toolbar=Toolbar(toolitems=[('Home', 'Reset original view', 'home', 'home'), ('Back', 'Back to previous …"
      ]
     },
     "metadata": {},
     "output_type": "display_data"
    },
    {
     "name": "stdout",
     "output_type": "stream",
     "text": [
      "nfvals: 88\n",
      "x: [1.40230486e-10 8.95344630e-11]\n",
      "optimal_vertex: [1.40230486e-10 8.95344630e-11]\n",
      "datmat: \n",
      "[[ 1.  1.  1.  1. -1.  0.]\n",
      " [ 1.  1.  1.  1. -1.  0.]\n",
      " [ 1.  1.  1.  1. -1.  0.]]\n",
      "a: \n",
      "[[-1.00000002e+00 -1.16238286e-08]\n",
      " [ 9.99999908e-01  5.78209700e-09]\n",
      " [-7.92720677e-08 -9.99999987e-01]\n",
      " [-2.66223273e-08  1.00000001e+00]\n",
      " [-0.00000000e+00 -0.00000000e+00]]\n",
      "sim: \n",
      "[[-4.88351701e-13  1.07296861e-13]\n",
      " [-3.90343708e-13 -1.77661314e-12]]\n",
      "simi: \n",
      "[[-1.95340680e+12 -1.17974147e+11]\n",
      " [ 4.29187445e+11 -5.36948373e+11]]\n"
     ]
    }
   ],
   "source": [
    "for _ in steps_it:\n",
    "    pass\n",
    "plot_track(opt, target=np.zeros(2), n_points=5)\n",
    "opt.data"
   ]
  },
  {
   "cell_type": "markdown",
   "id": "aff55ff3",
   "metadata": {},
   "source": [
    "# Pyramid track example"
   ]
  },
  {
   "cell_type": "code",
   "execution_count": 60,
   "id": "d47a13f7",
   "metadata": {},
   "outputs": [],
   "source": [
    "%matplotlib widget\n",
    "import itertools\n",
    "import functools\n",
    "\n",
    "import numpy as np\n",
    "import matplotlib.pyplot as plt\n",
    "\n",
    "import tests.test_custom as tc\n",
    "\n",
    "\n",
    "def pyramid_optimizer(start_x=None, width=2):\n",
    "    F = functools.partial(tc.pyramid, center=np.zeros(2), width=width, height=-1)\n",
    "    C = ()\n",
    "    start_x = np.random.uniform(low=-width/2, high=width/2, size=2) if start_x is None else start_x\n",
    "    opt = GCobyla(start_x, F, C, rhobeg=0.5, rhoend=1e-12)\n",
    "    return opt"
   ]
  },
  {
   "cell_type": "code",
   "execution_count": 61,
   "id": "1187e76f",
   "metadata": {},
   "outputs": [],
   "source": [
    "start_x = np.array((-0.57714299498416465894479, -0.89532481179992373654386))\n",
    "opt = pyramid_optimizer(start_x=start_x)\n",
    "steps_it = opt.run()"
   ]
  },
  {
   "cell_type": "code",
   "execution_count": 62,
   "id": "167c1514",
   "metadata": {},
   "outputs": [
    {
     "data": {
      "application/vnd.jupyter.widget-view+json": {
       "model_id": "e3a3da6081e84c5295716518bd02148d",
       "version_major": 2,
       "version_minor": 0
      },
      "text/plain": [
       "Canvas(toolbar=Toolbar(toolitems=[('Home', 'Reset original view', 'home', 'home'), ('Back', 'Back to previous …"
      ]
     },
     "metadata": {},
     "output_type": "display_data"
    },
    {
     "name": "stdout",
     "output_type": "stream",
     "text": [
      "nfvals: 3\n",
      "x: [-0.57714299 -0.39532481]\n",
      "optimal_vertex: [-0.57714299 -0.39532481]\n",
      "datmat: \n",
      "[[-0.10467519  0.        ]\n",
      " [-0.10467519  0.        ]\n",
      " [-0.42285701  0.        ]]\n",
      "a: \n",
      "None\n",
      "sim: \n",
      "[[ 0.5 -0.5]\n",
      " [ 0.  -0.5]]\n",
      "simi: \n",
      "[[ 2. -2.]\n",
      " [ 0. -2.]]\n"
     ]
    }
   ],
   "source": [
    "next(steps_it)\n",
    "plot_track(opt, target=np.zeros(2), n_points=5)\n",
    "opt.data"
   ]
  },
  {
   "cell_type": "code",
   "execution_count": 42,
   "id": "3c103669",
   "metadata": {},
   "outputs": [
    {
     "data": {
      "application/vnd.jupyter.widget-view+json": {
       "model_id": "d8029eed50f745c89a185b4d8678ea7e",
       "version_major": 2,
       "version_minor": 0
      },
      "text/plain": [
       "Canvas(toolbar=Toolbar(toolitems=[('Home', 'Reset original view', 'home', 'home'), ('Back', 'Back to previous …"
      ]
     },
     "metadata": {},
     "output_type": "display_data"
    },
    {
     "name": "stdout",
     "output_type": "stream",
     "text": [
      "nfvals: 437\n",
      "x: [-0.19197598 -0.19197598]\n",
      "optimal_vertex: [-0.19197598 -0.19197598]\n",
      "datmat: \n",
      "[[-0.80802402  0.        ]\n",
      " [-0.80802402  0.        ]\n",
      " [-0.80802402  0.        ]]\n",
      "a: \n",
      "[[0.03450131 0.86683888]]\n",
      "sim: \n",
      "[[-9.68035495e-13 -1.25081297e-12]\n",
      " [ 3.97698083e-14  9.99208868e-13]]\n",
      "simi: \n",
      "[[-1.08902624e+12 -1.36324666e+12]\n",
      " [ 4.33446563e+10  1.05505074e+12]]\n"
     ]
    }
   ],
   "source": [
    "for _ in steps_it:\n",
    "    pass\n",
    "fig, (ax1, ax2) = plot_track(opt, target=np.zeros(2), n_points=5)\n",
    "ax2.plot(np.array((-1, 1)), np.array((1, -1)), linestyle='-.')\n",
    "ax2.plot(np.array((-1, 1)), np.array((-1, 1)), linestyle='-.')\n",
    "\n",
    "margin = 1e-1\n",
    "xmin = min((*opt.track[:, 0], 0))\n",
    "xmax = max((*opt.track[:, 0], 0))\n",
    "ymin = min((*opt.track[:, 1], 0))\n",
    "ymax = max((*opt.track[:, 1], 0))\n",
    "ax2.set(xlim=(xmin - margin, xmax + margin), ylim=(ymin - margin, ymax + margin))\n",
    "\n",
    "\n",
    "opt.data"
   ]
  },
  {
   "cell_type": "markdown",
   "id": "059084ce",
   "metadata": {},
   "source": [
    "# 4 faces pyramid track example"
   ]
  },
  {
   "cell_type": "code",
   "execution_count": 63,
   "id": "18fbcab9",
   "metadata": {},
   "outputs": [],
   "source": [
    "%matplotlib widget\n",
    "import itertools\n",
    "import functools\n",
    "\n",
    "import numpy as np\n",
    "import matplotlib.pyplot as plt\n",
    "\n",
    "import tests.test_custom as tc\n",
    "\n",
    "\n",
    "def pyramid_faces_optimizer(start_x, radius=2, faces=4):\n",
    "    F = functools.partial(tc.pyramid_faces, center=np.zeros(2), radius=radius, height=-1, faces=faces)\n",
    "    C = ()\n",
    "    opt = GCobyla(start_x, F, C, rhobeg=0.5, rhoend=1e-12)\n",
    "    return opt"
   ]
  },
  {
   "cell_type": "code",
   "execution_count": 64,
   "id": "f52cdaa2",
   "metadata": {},
   "outputs": [],
   "source": [
    "start_x = np.array((-0.57714299498416465894479, -0.89532481179992373654386))\n",
    "opt = pyramid_faces_optimizer(start_x=start_x)\n",
    "steps_it = opt.run()"
   ]
  },
  {
   "cell_type": "code",
   "execution_count": 65,
   "id": "68a452e3",
   "metadata": {},
   "outputs": [
    {
     "data": {
      "application/vnd.jupyter.widget-view+json": {
       "model_id": "b6def9f3853c4b6281d4707c6fe823a3",
       "version_major": 2,
       "version_minor": 0
      },
      "text/plain": [
       "Canvas(toolbar=Toolbar(toolitems=[('Home', 'Reset original view', 'home', 'home'), ('Back', 'Back to previous …"
      ]
     },
     "metadata": {},
     "output_type": "display_data"
    },
    {
     "name": "stdout",
     "output_type": "stream",
     "text": [
      "nfvals: 3\n",
      "x: [-0.07714299 -0.39532481]\n",
      "optimal_vertex: [-0.07714299 -0.39532481]\n",
      "datmat: \n",
      "[[-0.2637661  0.       ]\n",
      " [-0.5137661  0.       ]\n",
      " [-0.7637661  0.       ]]\n",
      "a: \n",
      "None\n",
      "sim: \n",
      "[[-0.5 -0.5]\n",
      " [ 0.  -0.5]]\n",
      "simi: \n",
      "[[-2.  2.]\n",
      " [ 0. -2.]]\n"
     ]
    }
   ],
   "source": [
    "next(steps_it)\n",
    "plot_track(opt, target=np.zeros(2), n_points=5)\n",
    "opt.data"
   ]
  },
  {
   "cell_type": "code",
   "execution_count": 66,
   "id": "f1921b20",
   "metadata": {},
   "outputs": [
    {
     "data": {
      "application/vnd.jupyter.widget-view+json": {
       "model_id": "a51116c9278245788e4baa8793dd9d8e",
       "version_major": 2,
       "version_minor": 0
      },
      "text/plain": [
       "Canvas(toolbar=Toolbar(toolitems=[('Home', 'Reset original view', 'home', 'home'), ('Back', 'Back to previous …"
      ]
     },
     "metadata": {},
     "output_type": "display_data"
    },
    {
     "name": "stdout",
     "output_type": "stream",
     "text": [
      "nfvals: 115\n",
      "x: [-2.11503534e-12  4.76782090e-14]\n",
      "optimal_vertex: [-1.11810488e-12 -3.06138714e-14]\n",
      "datmat: \n",
      "[[-1.  0.]\n",
      " [-1.  0.]\n",
      " [-1.  0.]]\n",
      "a: \n",
      "[[-0.12118747  0.00951723]]\n",
      "sim: \n",
      "[[-9.96930464e-13  7.82920805e-14]\n",
      " [ 1.28621983e-12 -1.28621966e-12]]\n",
      "simi: \n",
      "[[-1.08856763e+12 -6.62610187e+10]\n",
      " [-1.08856778e+12 -8.43733207e+11]]\n"
     ]
    }
   ],
   "source": [
    "for _ in steps_it:\n",
    "    pass\n",
    "fig, (ax1, ax2) = plot_track(opt, target=np.zeros(2), n_points=5)\n",
    "ax2.plot(np.array((-1, 1)), np.array((1, -1)), linestyle='-.')\n",
    "ax2.plot(np.array((-1, 1)), np.array((-1, 1)), linestyle='-.')\n",
    "\n",
    "margin = 1e-1\n",
    "xmin = min((*opt.track[:, 0], 0))\n",
    "xmax = max((*opt.track[:, 0], 0))\n",
    "ymin = min((*opt.track[:, 1], 0))\n",
    "ymax = max((*opt.track[:, 1], 0))\n",
    "ax2.set(xlim=(xmin - margin, xmax + margin), ylim=(ymin - margin, ymax + margin))\n",
    "\n",
    "\n",
    "opt.data"
   ]
  },
  {
   "cell_type": "code",
   "execution_count": null,
   "id": "7491e57a",
   "metadata": {},
   "outputs": [],
   "source": []
  }
 ],
 "metadata": {
  "kernelspec": {
   "display_name": "Python 3",
   "language": "python",
   "name": "python3"
  },
  "language_info": {
   "codemirror_mode": {
    "name": "ipython",
    "version": 3
   },
   "file_extension": ".py",
   "mimetype": "text/x-python",
   "name": "python",
   "nbconvert_exporter": "python",
   "pygments_lexer": "ipython3",
   "version": "3.8.3"
  }
 },
 "nbformat": 4,
 "nbformat_minor": 5
}
