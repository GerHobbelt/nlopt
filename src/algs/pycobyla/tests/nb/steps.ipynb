{
 "cells": [
  {
   "cell_type": "code",
   "execution_count": 6,
   "id": "3aea4e8e",
   "metadata": {},
   "outputs": [],
   "source": [
    "from pycobyla.gcobyla import GCobyla\n",
    "\n",
    "\n",
    "from pycobyla.cobyla import Cobyla\n",
    "class _GCobyla(Cobyla):\n",
    "    def __init__(self, *args, **kwargs):\n",
    "        super().__init__(*args, **kwargs)\n",
    "        self.track = np.array((self.x,))\n",
    "        \n",
    "    def _add_track(self):\n",
    "        if (self.optimal_vertex != self.track[-1]).all():\n",
    "            self.track = np.vstack((self.track, self.optimal_vertex))\n",
    "        \n",
    "    def run(self):\n",
    "        self.set_initial_simplex()\n",
    "        self._add_track()\n",
    "        \n",
    "        self.ibrnch = True\n",
    "\n",
    "        while True:\n",
    "            yield 'step 1'\n",
    "            self.L140_review_current_simplex()\n",
    "            self._add_track()\n",
    "            \n",
    "            yield 'setp 2'\n",
    "            state = self.L370_generate_x_start()\n",
    "            self._add_track()\n",
    "            if state == self.FINISH:\n",
    "                break"
   ]
  },
  {
   "cell_type": "markdown",
   "id": "d0369490",
   "metadata": {
    "tags": []
   },
   "source": [
    "# Gaussian simplex example"
   ]
  },
  {
   "cell_type": "code",
   "execution_count": 13,
   "id": "90850093",
   "metadata": {},
   "outputs": [],
   "source": [
    "import numpy as np\n",
    "\n",
    "def gaussian(x, mu=None, sig=None, A=1):\n",
    "    n = len(x)\n",
    "    mu =  np.zeros(n) if mu is None else mu\n",
    "    sig = np.ones(n) if sig is None else sig\n",
    "\n",
    "    zz = ((((x - mu) / sig) ** 2) / 2).sum()\n",
    "    return A * np.exp(-zz)\n",
    "\n",
    "\n",
    "def neg_gaussian(x, mu=None, sig=None, A=1):\n",
    "    return -gaussian(x, mu=mu, sig=sig, A=A)\n",
    "\n",
    "\n",
    "def gaussian_optimizer():\n",
    "    F = neg_gaussian\n",
    "    c1 = lambda x: 1 - x[0]\n",
    "    c2 = lambda x: 1 + x[0]\n",
    "    c3 = lambda x: 1 - x[1]\n",
    "    c4 = lambda x: 1 + x[1]\n",
    "\n",
    "    C = (c1, c2, c3, c4)\n",
    "    x = np.ones(2)    \n",
    "    mu = np.array((0, 0))\n",
    "    \n",
    "    opt = GCobyla(x, F, C, rhobeg=0.5, rhoend=1e-12)\n",
    "    return opt\n"
   ]
  },
  {
   "cell_type": "code",
   "execution_count": 14,
   "id": "7b089f35",
   "metadata": {},
   "outputs": [],
   "source": [
    "%matplotlib widget\n",
    "#%matplotlib notebook\n",
    "import itertools\n",
    "\n",
    "from mpl_toolkits.mplot3d import Axes3D\n",
    "import matplotlib.pyplot as plt\n",
    "from matplotlib import cm\n",
    "from matplotlib.ticker import LinearLocator, FormatStrFormatter\n",
    "import numpy as np\n",
    "\n",
    "\n",
    "def simplex_3d_plot(opt):\n",
    "    plt.close('all')\n",
    "    fig = plt.figure()\n",
    "    ax = fig.gca(projection='3d')\n",
    "    \n",
    "    points = np.array((opt.optimal_vertex, *(opt.sim + opt.optimal_vertex), opt.optimal_vertex))\n",
    "    points = np.c_[points, np.zeros(points.shape[0])]\n",
    "    ax.plot(points[0,0], points[0,1], points[0, 2], 'go')\n",
    "    ax.plot(points[1:-1,0], points[1:-1,1], points[1:-1, 2], 'bo')\n",
    "    ax.plot(points[...,0], points[...,1], points[..., 2], 'r-', lw=2)\n",
    "    \n",
    "    # Make data.\n",
    "    max_p = points.max(axis=0)[:-1].max()\n",
    "    min_p = points.min(axis=0)[:-1].min()\n",
    "\n",
    "    X = np.linspace(min_p, max_p, 50)\n",
    "    xv, yv = np.meshgrid(X, X)\n",
    "    zv = np.array(tuple(opt.F(xy) for xy in itertools.product(X, X)))\n",
    "    zv = zv.reshape(xv.shape)\n",
    "\n",
    "    # Plot the surface.\n",
    "    surf = ax.plot_surface(xv, yv, zv, cmap=cm.plasma, linewidth=0, antialiased=False)\n",
    "\n",
    "    # Customize the z axis.\n",
    "    ax.set_zlim(-1., 0.1)\n",
    "    ax.zaxis.set_major_locator(LinearLocator(10))\n",
    "    ax.zaxis.set_major_formatter(FormatStrFormatter('%.02f'))\n",
    "\n",
    "    plt.show()"
   ]
  },
  {
   "cell_type": "code",
   "execution_count": 43,
   "id": "09beb39b",
   "metadata": {
    "tags": []
   },
   "outputs": [
    {
     "data": {
      "application/vnd.jupyter.widget-view+json": {
       "model_id": "a5c8c6a6a2f14292bd4d61594d119a09",
       "version_major": 2,
       "version_minor": 0
      },
      "text/plain": [
       "Canvas(toolbar=Toolbar(toolitems=[('Home', 'Reset original view', 'home', 'home'), ('Back', 'Back to previous …"
      ]
     },
     "metadata": {},
     "output_type": "display_data"
    }
   ],
   "source": [
    "opt = gaussian_optimizer()\n",
    "steps_it =(step for step in opt.g_run() if step in {GCobyla.BEFORE_REVIEW_CURRENT_SIMPLEX_CHECKPOINT, GCobyla.BEFORE_GENERATE_X_START_CHECKPOINT})\n",
    "\n",
    "simplex_3d_plot(opt)"
   ]
  },
  {
   "cell_type": "code",
   "execution_count": 94,
   "id": "78c54d71",
   "metadata": {},
   "outputs": [
    {
     "data": {
      "application/vnd.jupyter.widget-view+json": {
       "model_id": "25032a32f9c34049941958be25bc3e92",
       "version_major": 2,
       "version_minor": 0
      },
      "text/plain": [
       "Canvas(toolbar=Toolbar(toolitems=[('Home', 'Reset original view', 'home', 'home'), ('Back', 'Back to previous …"
      ]
     },
     "metadata": {},
     "output_type": "display_data"
    }
   ],
   "source": [
    "next(steps_it)\n",
    "simplex_3d_plot(opt)"
   ]
  },
  {
   "cell_type": "code",
   "execution_count": 442,
   "id": "a1f26d52",
   "metadata": {},
   "outputs": [],
   "source": [
    "def simplex_2d_plot(opt, target):\n",
    "    plt.close('all')\n",
    "    fig, ax = plt.subplots()\n",
    "    \n",
    "    points = np.array((opt.optimal_vertex, *(opt.sim + opt.optimal_vertex), opt.optimal_vertex))\n",
    "    ax.plot(*opt.optimal_vertex, color='orange', marker='o')\n",
    "    ax.plot(points[1:-1,0], points[1:-1,1], '.', color='blue', marker='o')\n",
    "    ax.plot(points[...,0], points[...,1], '-.', color='red', lw=2)\n",
    "    ax.plot(target[0], target[1], color='limegreen', marker='*')\n",
    "    \n",
    "    # Make data\n",
    "    all_points = np.array((*points, target))\n",
    "    max_p = all_points.max(axis=0).max()\n",
    "    min_p = all_points.min(axis=0).min()\n",
    "    diff_p = max_p - min_p\n",
    "\n",
    "    X = np.linspace(max_p + (0.1 * diff_p), min_p - (0.1 * diff_p), 50)\n",
    "    xv, yv = np.meshgrid(X, X)\n",
    "    zv = np.array(tuple(-opt.F(xy) for xy in itertools.product(X, X)))\n",
    "    zv = zv.reshape(xv.shape)\n",
    "    \n",
    "    cs = ax.contourf(xv, yv, zv, cmap=cm.PuBu_r)\n",
    "    cbar = fig.colorbar(cs)\n",
    "    \n",
    "    plt.show()\n"
   ]
  },
  {
   "cell_type": "code",
   "execution_count": 443,
   "id": "67288ff5",
   "metadata": {},
   "outputs": [
    {
     "data": {
      "application/vnd.jupyter.widget-view+json": {
       "model_id": "b8c3a98655d2477385b908a1a312d188",
       "version_major": 2,
       "version_minor": 0
      },
      "text/plain": [
       "Canvas(toolbar=Toolbar(toolitems=[('Home', 'Reset original view', 'home', 'home'), ('Back', 'Back to previous …"
      ]
     },
     "metadata": {},
     "output_type": "display_data"
    }
   ],
   "source": [
    "opt = gaussian_optimizer()\n",
    "steps_it = (step for step in opt.g_run() if step in {GCobyla.BEFORE_REVIEW_CURRENT_SIMPLEX_CHECKPOINT, GCobyla.BEFORE_GENERATE_X_START_CHECKPOINT})\n",
    "\n",
    "simplex_2d_plot(opt, target=(0,0))"
   ]
  },
  {
   "cell_type": "code",
   "execution_count": 444,
   "id": "18f0ddbc",
   "metadata": {
    "tags": []
   },
   "outputs": [
    {
     "data": {
      "application/vnd.jupyter.widget-view+json": {
       "model_id": "296142e1e610447ba990a3689bf3ff95",
       "version_major": 2,
       "version_minor": 0
      },
      "text/plain": [
       "Canvas(toolbar=Toolbar(toolitems=[('Home', 'Reset original view', 'home', 'home'), ('Back', 'Back to previous …"
      ]
     },
     "metadata": {},
     "output_type": "display_data"
    },
    {
     "name": "stdout",
     "output_type": "stream",
     "text": [
      "nfvals: 3\n",
      "x: [1. 1.]\n",
      "optimal_vertex: [1. 1.]\n",
      "datmat: \n",
      "[[-0.5         2.5         0.          2.         -0.19691168  0.5       ]\n",
      " [ 0.          2.         -0.5         2.5        -0.19691168  0.5       ]\n",
      " [ 0.          2.          0.          2.         -0.36787944  0.        ]]\n",
      "a: \n",
      "None\n",
      "sim: \n",
      "[[0.5 0. ]\n",
      " [0.  0.5]]\n",
      "simi: \n",
      "[[2. 0.]\n",
      " [0. 2.]]\n",
      "optimal vertex: \n",
      "[1. 1.]\n",
      "parmu: 0\n",
      "rho: 0.5\n"
     ]
    }
   ],
   "source": [
    "next(steps_it)\n",
    "simplex_2d_plot(opt, target=(0,0))\n",
    "opt.data"
   ]
  },
  {
   "cell_type": "code",
   "execution_count": 446,
   "id": "7b3083a6",
   "metadata": {},
   "outputs": [
    {
     "data": {
      "application/vnd.jupyter.widget-view+json": {
       "model_id": "c8e0e91f08574deba879426376196710",
       "version_major": 2,
       "version_minor": 0
      },
      "text/plain": [
       "Canvas(toolbar=Toolbar(toolitems=[('Home', 'Reset original view', 'home', 'home'), ('Back', 'Back to previous …"
      ]
     },
     "metadata": {},
     "output_type": "display_data"
    },
    {
     "name": "stdout",
     "output_type": "stream",
     "text": [
      "nfvals: 88\n",
      "x: [1.40230486e-10 8.95344630e-11]\n",
      "optimal_vertex: [1.40230486e-10 8.95344630e-11]\n",
      "datmat: \n",
      "[[ 1.  1.  1.  1. -1.  0.]\n",
      " [ 1.  1.  1.  1. -1.  0.]\n",
      " [ 1.  1.  1.  1. -1.  0.]]\n",
      "a: \n",
      "[[-1.00000002e+00 -1.16238286e-08]\n",
      " [ 9.99999908e-01  5.78209700e-09]\n",
      " [-7.92720677e-08 -9.99999987e-01]\n",
      " [-2.66223273e-08  1.00000001e+00]\n",
      " [-0.00000000e+00 -0.00000000e+00]]\n",
      "sim: \n",
      "[[-4.88351701e-13  1.07296861e-13]\n",
      " [-3.90343708e-13 -1.77661314e-12]]\n",
      "simi: \n",
      "[[-1.95340680e+12 -1.17974147e+11]\n",
      " [ 4.29187445e+11 -5.36948373e+11]]\n",
      "optimal vertex: \n",
      "[1.40230486e-10 8.95344630e-11]\n",
      "parmu: 0\n",
      "rho: 1e-12\n",
      "[-5.88750293e-23 -2.13806191e-22]\n"
     ]
    }
   ],
   "source": [
    "for _ in steps_it: pass\n",
    "simplex_2d_plot(opt, target=(0,0))\n",
    "opt.data\n",
    "print(opt.sim @ opt.optimal_vertex)"
   ]
  },
  {
   "cell_type": "markdown",
   "id": "11effe38",
   "metadata": {},
   "source": [
    "# Gaussian track examples "
   ]
  },
  {
   "cell_type": "code",
   "execution_count": 337,
   "id": "5e3ca743",
   "metadata": {},
   "outputs": [],
   "source": [
    "%matplotlib widget\n",
    "\n",
    "import matplotlib.pyplot as plt\n",
    "\n",
    "def plot_track(opt, target, n_points=5, plot_simplex=True):\n",
    "    def plot_track(ax, n_points):\n",
    "        track = opt.track[-n_points:]\n",
    "        ax.plot(track[:, 0], track[:, 1], linestyle='-', color='red', marker='o')\n",
    "        link_best = np.array((track[-1], target))\n",
    "        ax.plot(link_best[:, 0], link_best[:, 1], linestyle=':', color='red')\n",
    "        ax.plot(target[0], target[1], color='limegreen', marker='*')\n",
    "        \n",
    "        if plot_simplex:\n",
    "            points = np.array((opt.optimal_vertex, *(opt.sim + opt.optimal_vertex), opt.optimal_vertex))\n",
    "            ax.plot(*opt.optimal_vertex, color='orange', marker='o')\n",
    "            ax.plot(points[1:-1,0], points[1:-1,1], '.', color='blue', marker='o')\n",
    "            ax.plot(points[...,0], points[...,1], '-.', color='gray', lw=2)\n",
    "    ###\n",
    "    \n",
    "    plt.close('all')\n",
    "    fig, (ax1, ax2) = plt.subplots(1, 2, figsize=(12, 6))\n",
    "    \n",
    "    plot_track(ax1, n_points=n_points)\n",
    "    plot_track(ax2, n_points=0)\n",
    "\n",
    "    plt.show()\n",
    "    return fig, (ax1, ax2)"
   ]
  },
  {
   "cell_type": "code",
   "execution_count": 457,
   "id": "e816d381",
   "metadata": {},
   "outputs": [],
   "source": [
    "opt = gaussian_optimizer()\n",
    "steps_it = (step for step in opt.g_run() if step in {GCobyla.BEFORE_REVIEW_CURRENT_SIMPLEX_CHECKPOINT, GCobyla.BEFORE_GENERATE_X_START_CHECKPOINT})"
   ]
  },
  {
   "cell_type": "code",
   "execution_count": 458,
   "id": "ab3c1219",
   "metadata": {
    "tags": []
   },
   "outputs": [
    {
     "data": {
      "application/vnd.jupyter.widget-view+json": {
       "model_id": "b4925a4e8bb84f7cb0c5455a4b2269ca",
       "version_major": 2,
       "version_minor": 0
      },
      "text/plain": [
       "Canvas(toolbar=Toolbar(toolitems=[('Home', 'Reset original view', 'home', 'home'), ('Back', 'Back to previous …"
      ]
     },
     "metadata": {},
     "output_type": "display_data"
    },
    {
     "name": "stdout",
     "output_type": "stream",
     "text": [
      "nfvals: 3\n",
      "x: [1. 1.]\n",
      "optimal_vertex: [1. 1.]\n",
      "datmat: \n",
      "[[-0.5         2.5         0.          2.         -0.19691168  0.5       ]\n",
      " [ 0.          2.         -0.5         2.5        -0.19691168  0.5       ]\n",
      " [ 0.          2.          0.          2.         -0.36787944  0.        ]]\n",
      "a: \n",
      "None\n",
      "sim: \n",
      "[[0.5 0. ]\n",
      " [0.  0.5]]\n",
      "simi: \n",
      "[[2. 0.]\n",
      " [0. 2.]]\n",
      "optimal vertex: \n",
      "[1. 1.]\n",
      "parmu: 0\n",
      "rho: 0.5\n"
     ]
    }
   ],
   "source": [
    "next(steps_it)\n",
    "plot_track(opt, target=np.zeros(2), n_points=5, plot_simplex=True)\n",
    "opt.data"
   ]
  },
  {
   "cell_type": "code",
   "execution_count": 459,
   "id": "68cc26af",
   "metadata": {
    "tags": []
   },
   "outputs": [
    {
     "data": {
      "application/vnd.jupyter.widget-view+json": {
       "model_id": "2741d6783c3148c3965448166a287026",
       "version_major": 2,
       "version_minor": 0
      },
      "text/plain": [
       "Canvas(toolbar=Toolbar(toolitems=[('Home', 'Reset original view', 'home', 'home'), ('Back', 'Back to previous …"
      ]
     },
     "metadata": {},
     "output_type": "display_data"
    },
    {
     "name": "stdout",
     "output_type": "stream",
     "text": [
      "nfvals: 88\n",
      "x: [1.40230486e-10 8.95344630e-11]\n",
      "optimal_vertex: [1.40230486e-10 8.95344630e-11]\n",
      "datmat: \n",
      "[[ 1.  1.  1.  1. -1.  0.]\n",
      " [ 1.  1.  1.  1. -1.  0.]\n",
      " [ 1.  1.  1.  1. -1.  0.]]\n",
      "a: \n",
      "[[-1.00000002e+00 -1.16238286e-08]\n",
      " [ 9.99999908e-01  5.78209700e-09]\n",
      " [-7.92720677e-08 -9.99999987e-01]\n",
      " [-2.66223273e-08  1.00000001e+00]\n",
      " [-0.00000000e+00 -0.00000000e+00]]\n",
      "sim: \n",
      "[[-4.88351701e-13  1.07296861e-13]\n",
      " [-3.90343708e-13 -1.77661314e-12]]\n",
      "simi: \n",
      "[[-1.95340680e+12 -1.17974147e+11]\n",
      " [ 4.29187445e+11 -5.36948373e+11]]\n",
      "optimal vertex: \n",
      "[1.40230486e-10 8.95344630e-11]\n",
      "parmu: 0\n",
      "rho: 1e-12\n",
      "[[ 0.27487791 -0.06039405]\n",
      " [ 0.21971227  1.        ]]\n",
      "[[2.50000000e-25 0.00000000e+00]\n",
      " [0.00000000e+00 3.30872245e-24]]\n"
     ]
    }
   ],
   "source": [
    "for _ in steps_it: pass\n",
    "plot_track(opt, target=np.zeros(2), n_points=5)\n",
    "opt.data\n",
    "print(opt.sim / opt.sim.min())\n",
    "print(opt.sim @ opt.sim.T)"
   ]
  },
  {
   "cell_type": "markdown",
   "id": "51d8c4c0",
   "metadata": {
    "tags": []
   },
   "source": [
    "# Pyramid track example"
   ]
  },
  {
   "cell_type": "code",
   "execution_count": 460,
   "id": "299a2bf0",
   "metadata": {},
   "outputs": [],
   "source": [
    "%matplotlib widget\n",
    "import itertools\n",
    "import functools\n",
    "\n",
    "import numpy as np\n",
    "import matplotlib.pyplot as plt\n",
    "\n",
    "import tests.test_custom as tc\n",
    "\n",
    "\n",
    "def pyramid_optimizer(start_x=None, width=2):\n",
    "    F = functools.partial(tc.pyramid, center=np.zeros(2), width=width, height=-1)\n",
    "    C = ()\n",
    "    start_x = np.random.uniform(low=-width/2, high=width/2, size=2) if start_x is None else start_x\n",
    "    opt = GCobyla(start_x, F, C, rhobeg=0.5, rhoend=1e-12)\n",
    "    return opt"
   ]
  },
  {
   "cell_type": "code",
   "execution_count": 461,
   "id": "fc0de1f7",
   "metadata": {},
   "outputs": [],
   "source": [
    "start_x = np.array((-0.57714299498416465894479, -0.89532481179992373654386))\n",
    "opt = pyramid_optimizer(start_x=start_x)\n",
    "steps_it = (step for step in opt.g_run() if step in {GCobyla.BEFORE_REVIEW_CURRENT_SIMPLEX_CHECKPOINT, GCobyla.BEFORE_GENERATE_X_START_CHECKPOINT})"
   ]
  },
  {
   "cell_type": "code",
   "execution_count": 462,
   "id": "ee4e4ecd",
   "metadata": {},
   "outputs": [
    {
     "data": {
      "application/vnd.jupyter.widget-view+json": {
       "model_id": "bd870dcde24b49758cd1206f45629dc3",
       "version_major": 2,
       "version_minor": 0
      },
      "text/plain": [
       "Canvas(toolbar=Toolbar(toolitems=[('Home', 'Reset original view', 'home', 'home'), ('Back', 'Back to previous …"
      ]
     },
     "metadata": {},
     "output_type": "display_data"
    },
    {
     "name": "stdout",
     "output_type": "stream",
     "text": [
      "nfvals: 3\n",
      "x: [-0.57714299 -0.39532481]\n",
      "optimal_vertex: [-0.57714299 -0.39532481]\n",
      "datmat: \n",
      "[[-0.10467519  0.        ]\n",
      " [-0.10467519  0.        ]\n",
      " [-0.42285701  0.        ]]\n",
      "a: \n",
      "None\n",
      "sim: \n",
      "[[ 0.5 -0.5]\n",
      " [ 0.  -0.5]]\n",
      "simi: \n",
      "[[ 2. -2.]\n",
      " [ 0. -2.]]\n",
      "optimal vertex: \n",
      "[-0.57714299 -0.39532481]\n",
      "parmu: 0\n",
      "rho: 0.5\n"
     ]
    }
   ],
   "source": [
    "next(steps_it)\n",
    "plot_track(opt, target=np.zeros(2), n_points=5, plot_simplex=False)\n",
    "opt.data"
   ]
  },
  {
   "cell_type": "code",
   "execution_count": 463,
   "id": "40b6a5f0",
   "metadata": {},
   "outputs": [
    {
     "data": {
      "application/vnd.jupyter.widget-view+json": {
       "model_id": "eb8a727d3b8d45b98bc55d71255dc451",
       "version_major": 2,
       "version_minor": 0
      },
      "text/plain": [
       "Canvas(toolbar=Toolbar(toolitems=[('Home', 'Reset original view', 'home', 'home'), ('Back', 'Back to previous …"
      ]
     },
     "metadata": {},
     "output_type": "display_data"
    },
    {
     "name": "stdout",
     "output_type": "stream",
     "text": [
      "nfvals: 437\n",
      "x: [-0.19197598 -0.19197598]\n",
      "optimal_vertex: [-0.19197598 -0.19197598]\n",
      "datmat: \n",
      "[[-0.80802402  0.        ]\n",
      " [-0.80802402  0.        ]\n",
      " [-0.80802402  0.        ]]\n",
      "a: \n",
      "[[0.03450131 0.86683888]]\n",
      "sim: \n",
      "[[-9.68035495e-13 -1.25081297e-12]\n",
      " [ 3.97698083e-14  9.99208868e-13]]\n",
      "simi: \n",
      "[[-1.08902624e+12 -1.36324666e+12]\n",
      " [ 4.33446563e+10  1.05505074e+12]]\n",
      "optimal vertex: \n",
      "[-0.19197598 -0.19197598]\n",
      "parmu: 0\n",
      "rho: 1e-12\n",
      "[[ 0.77392505  1.        ]\n",
      " [-0.03179517 -0.79884754]]\n",
      "[[ 2.50162581e-24 -1.28832200e-24]\n",
      " [-1.28832200e-24  1.00000000e-24]]\n"
     ]
    }
   ],
   "source": [
    "for _ in steps_it: pass\n",
    "fig, (ax1, ax2) = plot_track(opt, target=np.zeros(2), n_points=5)\n",
    "ax2.plot(np.array((-1, 1)), np.array((1, -1)), linestyle='-.')\n",
    "ax2.plot(np.array((-1, 1)), np.array((-1, 1)), linestyle='-.')\n",
    "\n",
    "margin = 1e-1\n",
    "xmin = min((*opt.track[:, 0], 0))\n",
    "xmax = max((*opt.track[:, 0], 0))\n",
    "ymin = min((*opt.track[:, 1], 0))\n",
    "ymax = max((*opt.track[:, 1], 0))\n",
    "ax2.set(xlim=(xmin - margin, xmax + margin), ylim=(ymin - margin, ymax + margin))\n",
    "\n",
    "opt.data\n",
    "print(opt.sim / opt.sim.min())\n",
    "print(opt.sim @ opt.sim.T)"
   ]
  },
  {
   "cell_type": "markdown",
   "id": "1f50fabb",
   "metadata": {},
   "source": [
    "# 4 faces pyramid track example"
   ]
  },
  {
   "cell_type": "code",
   "execution_count": 467,
   "id": "b1912a09",
   "metadata": {},
   "outputs": [],
   "source": [
    "%matplotlib widget\n",
    "import itertools\n",
    "import functools\n",
    "\n",
    "import numpy as np\n",
    "import matplotlib.pyplot as plt\n",
    "\n",
    "import tests.test_custom as tc\n",
    "\n",
    "\n",
    "def pyramid_faces_optimizer(start_x, radius=2, faces=4):\n",
    "    F = functools.partial(tc.pyramid_faces, center=np.zeros(2), radius=radius, height=-1, faces=faces)\n",
    "    c1 = lambda x: 1 - sum(x ** 2)\n",
    "    C = (c1,)\n",
    "    opt = GCobyla(start_x, F, C, rhobeg=0.5, rhoend=1e-12)\n",
    "    return opt"
   ]
  },
  {
   "cell_type": "code",
   "execution_count": 468,
   "id": "81c17e75",
   "metadata": {},
   "outputs": [],
   "source": [
    "#start_x = np.array((0.29571617183264287120892, 0.06643579296841295445120))\n",
    "start_x = np.array((0.60522848317453536992616, -0.92243950619371162247262))\n",
    "opt = pyramid_faces_optimizer(start_x=start_x, faces=4)\n",
    "steps_it = (step for step in opt.g_run() if step in {GCobyla.BEFORE_REVIEW_CURRENT_SIMPLEX_CHECKPOINT, GCobyla.BEFORE_GENERATE_X_START_CHECKPOINT})"
   ]
  },
  {
   "cell_type": "code",
   "execution_count": 469,
   "id": "c0c7feba",
   "metadata": {},
   "outputs": [
    {
     "data": {
      "application/vnd.jupyter.widget-view+json": {
       "model_id": "4a933a91cf2241a0834e7c020cef0b60",
       "version_major": 2,
       "version_minor": 0
      },
      "text/plain": [
       "Canvas(toolbar=Toolbar(toolitems=[('Home', 'Reset original view', 'home', 'home'), ('Back', 'Back to previous …"
      ]
     },
     "metadata": {},
     "output_type": "display_data"
    },
    {
     "name": "stdout",
     "output_type": "stream",
     "text": [
      "nfvals: 3\n",
      "x: [ 0.60522848 -0.42243951]\n",
      "optimal_vertex: [ 0.60522848 -0.42243951]\n",
      "datmat: \n",
      "[[-1.07242464  0.          1.07242464]\n",
      " [-0.21719616 -0.23616601  0.21719616]\n",
      " [ 0.45524335 -0.48616601  0.        ]]\n",
      "a: \n",
      "None\n",
      "sim: \n",
      "[[ 0.5 -0.5]\n",
      " [ 0.  -0.5]]\n",
      "simi: \n",
      "[[ 2. -2.]\n",
      " [ 0. -2.]]\n",
      "optimal vertex: \n",
      "[ 0.60522848 -0.42243951]\n",
      "parmu: 0\n",
      "rho: 0.5\n"
     ]
    }
   ],
   "source": [
    "next(steps_it)\n",
    "fig, (ax1, ax2) = plot_track(opt, target=np.zeros(2), n_points=5)\n",
    "ax2.plot(np.array((-1, 1)), np.array((0, 0)), linestyle='-.')\n",
    "ax2.plot(np.array((0, 0)), np.array((-1, 1)), linestyle='-.')\n",
    "\n",
    "margin = 1e-2\n",
    "xmin = min((*opt.track[:, 0], 0))\n",
    "xmax = max((*opt.track[:, 0], 0))\n",
    "ymin = min((*opt.track[:, 1], 0))\n",
    "ymax = max((*opt.track[:, 1], 0))\n",
    "ax2.set(xlim=(xmin - margin, xmax + margin), ylim=(ymin - margin, ymax + margin))\n",
    "opt.data"
   ]
  },
  {
   "cell_type": "code",
   "execution_count": 473,
   "id": "7ea3006e",
   "metadata": {},
   "outputs": [
    {
     "data": {
      "application/vnd.jupyter.widget-view+json": {
       "model_id": "efcb6a24f09d4ec29271934f00f0155e",
       "version_major": 2,
       "version_minor": 0
      },
      "text/plain": [
       "Canvas(toolbar=Toolbar(toolitems=[('Home', 'Reset original view', 'home', 'home'), ('Back', 'Back to previous …"
      ]
     },
     "metadata": {},
     "output_type": "display_data"
    },
    {
     "name": "stdout",
     "output_type": "stream",
     "text": [
      "nfvals: 371\n",
      "x: [8.34524795e-02 7.67764511e-13]\n",
      "optimal_vertex: [8.34524795e-02 1.02106460e-13]\n",
      "datmat: \n",
      "[[ 0.99303568 -0.95827376  0.        ]\n",
      " [ 0.99303568 -0.95827376  0.        ]\n",
      " [ 0.99303568 -0.95827376  0.        ]]\n",
      "a: \n",
      "[[-1.66904975e-01 -1.01481399e-09]\n",
      " [-4.52220685e-01  4.03378970e-01]]\n",
      "sim: \n",
      "[[-7.46256899e-13  6.65658050e-13]\n",
      " [ 1.60349663e-12 -2.63840311e-13]]\n",
      "simi: \n",
      "[[3.03094787e+11 7.64695447e+11]\n",
      " [1.84206677e+12 8.57285889e+11]]\n",
      "optimal vertex: \n",
      "[8.34524795e-02 1.02106460e-13]\n",
      "parmu: 0\n",
      "rho: 1e-12\n",
      "[[ 1.         -0.89199584]\n",
      " [-2.14871934  0.35355159]]\n",
      "[[ 1.00000000e-24 -1.37224785e-24]\n",
      " [-1.37224785e-24  2.64081317e-24]]\n"
     ]
    }
   ],
   "source": [
    "for _ in steps_it: pass\n",
    "fig, (ax1, ax2) = plot_track(opt, target=np.zeros(2), n_points=5)\n",
    "ax2.plot(np.array((-1, 1)), np.array((0, 0)), linestyle='-.')\n",
    "ax2.plot(np.array((0, 0)), np.array((-1, 1)), linestyle='-.')\n",
    "\n",
    "margin = 1e-1\n",
    "xmin = min((*opt.track[:, 0], 0))\n",
    "xmax = max((*opt.track[:, 0], 0))\n",
    "ymin = min((*opt.track[:, 1], 0))\n",
    "ymax = max((*opt.track[:, 1], 0))\n",
    "ax2.set(xlim=(xmin - margin, xmax + margin), ylim=(ymin - margin, ymax + margin))\n",
    "\n",
    "opt.data\n",
    "print(opt.sim / opt.sim.min())\n",
    "print(opt.sim @ opt.sim.T)"
   ]
  },
  {
   "cell_type": "code",
   "execution_count": 45,
   "id": "a2129670",
   "metadata": {},
   "outputs": [
    {
     "data": {
      "text/plain": [
       "array([False, False])"
      ]
     },
     "execution_count": 45,
     "metadata": {},
     "output_type": "execute_result"
    }
   ],
   "source": [
    "((opt.sim ** 2).sum(axis=1) ** .5) < 1e-12"
   ]
  },
  {
   "cell_type": "code",
   "execution_count": null,
   "id": "f25b348d",
   "metadata": {},
   "outputs": [],
   "source": []
  }
 ],
 "metadata": {
  "kernelspec": {
   "display_name": "Python 3",
   "language": "python",
   "name": "python3"
  },
  "language_info": {
   "codemirror_mode": {
    "name": "ipython",
    "version": 3
   },
   "file_extension": ".py",
   "mimetype": "text/x-python",
   "name": "python",
   "nbconvert_exporter": "python",
   "pygments_lexer": "ipython3",
   "version": "3.8.3"
  }
 },
 "nbformat": 4,
 "nbformat_minor": 5
}
