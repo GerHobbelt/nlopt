{
 "cells": [
  {
   "cell_type": "code",
   "execution_count": 4,
   "id": "72b02412",
   "metadata": {},
   "outputs": [],
   "source": [
    "from pycobyla.cobyla import Cobyla\n",
    "\n",
    "\n",
    "class GCobyla(Cobyla):\n",
    "    def __init__(self, *args, **kwargs):\n",
    "        super().__init__(*args, **kwargs)\n",
    "        self.track = np.array((self.x,))\n",
    "        \n",
    "    def _add_track(self):\n",
    "        if (self.optimal_vertex != self.track[-1]).all():\n",
    "            self.track = np.vstack((self.track, self.optimal_vertex))\n",
    "        \n",
    "    def run(self):\n",
    "        self.set_initial_simplex()\n",
    "        self._add_track()\n",
    "        \n",
    "        self.ibrnch = True\n",
    "\n",
    "        while True:\n",
    "            yield 'step 1'\n",
    "            self.L140_review_current_simplex()\n",
    "            self._add_track()\n",
    "            \n",
    "            yield 'setp 2'\n",
    "            state = self.L370_generate_x_start()\n",
    "            self._add_track()\n",
    "            if state == self.FINISH:\n",
    "                break"
   ]
  },
  {
   "cell_type": "markdown",
   "id": "72a91d05",
   "metadata": {
    "tags": []
   },
   "source": [
    "# Gaussian simplex example"
   ]
  },
  {
   "cell_type": "code",
   "execution_count": 5,
   "id": "866e3a11",
   "metadata": {},
   "outputs": [],
   "source": [
    "import numpy as np\n",
    "\n",
    "def gaussian(x, mu=None, sig=None, A=1):\n",
    "    n = len(x)\n",
    "    mu =  np.zeros(n) if mu is None else mu\n",
    "    sig = np.ones(n) if sig is None else sig\n",
    "\n",
    "    zz = ((((x - mu) / sig) ** 2) / 2).sum()\n",
    "    return A * np.exp(-zz)\n",
    "\n",
    "\n",
    "def neg_gaussian(x, mu=None, sig=None, A=1):\n",
    "    return -gaussian(x, mu=mu, sig=sig, A=A)\n",
    "\n",
    "\n",
    "def gaussian_optimizer():\n",
    "    F = neg_gaussian\n",
    "    c1 = lambda x: 1 - x[0]\n",
    "    c2 = lambda x: 1 + x[0]\n",
    "    c3 = lambda x: 1 - x[1]\n",
    "    c4 = lambda x: 1 + x[1]\n",
    "\n",
    "    C = (c1, c2, c3, c4)\n",
    "    x = np.ones(2)    \n",
    "    mu = np.array((0, 0))\n",
    "    \n",
    "    opt = GCobyla(x, F, C, rhobeg=0.5, rhoend=1e-12)\n",
    "    return opt\n"
   ]
  },
  {
   "cell_type": "code",
   "execution_count": 125,
   "id": "5c619498",
   "metadata": {},
   "outputs": [],
   "source": [
    "%matplotlib widget\n",
    "#%matplotlib notebook\n",
    "import itertools\n",
    "\n",
    "from mpl_toolkits.mplot3d import Axes3D\n",
    "import matplotlib.pyplot as plt\n",
    "from matplotlib import cm\n",
    "from matplotlib.ticker import LinearLocator, FormatStrFormatter\n",
    "import numpy as np\n",
    "\n",
    "\n",
    "def simplex_3d_plot(opt):\n",
    "    plt.close('all')\n",
    "    fig = plt.figure()\n",
    "    ax = fig.gca(projection='3d')\n",
    "    \n",
    "    points = np.array((opt.x, *(opt.sim + opt.x), opt.x))\n",
    "    points = np.c_[points, np.zeros(points.shape[0])]\n",
    "    ax.plot(points[0,0], points[0,1], points[0, 2], 'go')\n",
    "    ax.plot(points[1:-1,0], points[1:-1,1], points[1:-1, 2], 'bo')\n",
    "    ax.plot(points[...,0], points[...,1], points[..., 2], 'r-', lw=2)\n",
    "    \n",
    "    # Make data.\n",
    "    max_p = points.max(axis=0)[:-1].max()\n",
    "    min_p = points.min(axis=0)[:-1].min()\n",
    "\n",
    "    X = np.linspace(min_p, max_p, 50)\n",
    "    xv, yv = np.meshgrid(X, X)\n",
    "    zv = np.array(tuple(opt.F(xy) for xy in itertools.product(X, X)))\n",
    "    zv = zv.reshape(xv.shape)\n",
    "\n",
    "    # Plot the surface.\n",
    "    surf = ax.plot_surface(xv, yv, zv, cmap=cm.plasma, linewidth=0, antialiased=False)\n",
    "\n",
    "    # Customize the z axis.\n",
    "    ax.set_zlim(-1., 0.1)\n",
    "    ax.zaxis.set_major_locator(LinearLocator(10))\n",
    "    ax.zaxis.set_major_formatter(FormatStrFormatter('%.02f'))\n",
    "\n",
    "    plt.show()"
   ]
  },
  {
   "cell_type": "code",
   "execution_count": 7,
   "id": "25fcc640",
   "metadata": {
    "jupyter": {
     "source_hidden": true
    },
    "tags": []
   },
   "outputs": [
    {
     "data": {
      "application/vnd.jupyter.widget-view+json": {
       "model_id": "c511f83424c644b3be9a3199a3230da5",
       "version_major": 2,
       "version_minor": 0
      },
      "text/plain": [
       "Canvas(toolbar=Toolbar(toolitems=[('Home', 'Reset original view', 'home', 'home'), ('Back', 'Back to previous …"
      ]
     },
     "metadata": {},
     "output_type": "display_data"
    }
   ],
   "source": [
    "opt = gaussian_optimizer()\n",
    "steps_it = opt.run()\n",
    "\n",
    "simplex_3d_plot(opt)"
   ]
  },
  {
   "cell_type": "code",
   "execution_count": 124,
   "id": "a32e537f",
   "metadata": {},
   "outputs": [
    {
     "data": {
      "application/vnd.jupyter.widget-view+json": {
       "model_id": "7f2a594ccff447f79600df015ba474a3",
       "version_major": 2,
       "version_minor": 0
      },
      "text/plain": [
       "Canvas(toolbar=Toolbar(toolitems=[('Home', 'Reset original view', 'home', 'home'), ('Back', 'Back to previous …"
      ]
     },
     "metadata": {},
     "output_type": "display_data"
    }
   ],
   "source": [
    "next(steps_it)\n",
    "simplex_3d_plot(opt)"
   ]
  },
  {
   "cell_type": "code",
   "execution_count": 126,
   "id": "02abc7db",
   "metadata": {},
   "outputs": [],
   "source": [
    "def simplex_2d_plot(opt, target=None):\n",
    "    plt.close('all')\n",
    "    fig, ax = plt.subplots()\n",
    "    \n",
    "    points = np.array((opt.x, *(opt.sim + opt.x), opt.x))\n",
    "    ax.plot(points[0,0], points[0,1], 'go')\n",
    "    ax.plot(points[1:-1,0], points[1:-1,1], 'bo')\n",
    "    if target:\n",
    "        ax.plot(target[0], target[1], 'r*')\n",
    "    ax.plot(points[...,0], points[...,1], 'r-', lw=2)\n",
    "    \n",
    "    # Make data\n",
    "    max_p = points.max(axis=0).max()\n",
    "    min_p = points.min(axis=0).min()\n",
    "\n",
    "    X = np.linspace(max_p + (0.1 * abs(max_p)), min_p - (0.1 * abs(min_p)), 50)\n",
    "    xv, yv = np.meshgrid(X, X)\n",
    "    zv = np.array(tuple(opt.F(xy) for xy in itertools.product(X, X)))\n",
    "    zv = zv.reshape(xv.shape)\n",
    "    \n",
    "    cs = ax.contourf(xv, yv, zv, cmap=cm.PuBu_r)\n",
    "    cbar = fig.colorbar(cs)\n",
    "    \n",
    "    plt.show()\n"
   ]
  },
  {
   "cell_type": "code",
   "execution_count": 127,
   "id": "2ece4c0b",
   "metadata": {},
   "outputs": [
    {
     "data": {
      "application/vnd.jupyter.widget-view+json": {
       "model_id": "7ffeab9256104c7c886f4d5f059e120e",
       "version_major": 2,
       "version_minor": 0
      },
      "text/plain": [
       "Canvas(toolbar=Toolbar(toolitems=[('Home', 'Reset original view', 'home', 'home'), ('Back', 'Back to previous …"
      ]
     },
     "metadata": {},
     "output_type": "display_data"
    }
   ],
   "source": [
    "opt = gaussian_optimizer()\n",
    "steps_it = opt.run()\n",
    "\n",
    "simplex_2d_plot(opt, target=(0,0))"
   ]
  },
  {
   "cell_type": "code",
   "execution_count": 224,
   "id": "925eab65",
   "metadata": {
    "tags": []
   },
   "outputs": [
    {
     "data": {
      "application/vnd.jupyter.widget-view+json": {
       "model_id": "d0d0117504f64787b4190e06adf10cf5",
       "version_major": 2,
       "version_minor": 0
      },
      "text/plain": [
       "Canvas(toolbar=Toolbar(toolitems=[('Home', 'Reset original view', 'home', 'home'), ('Back', 'Back to previous …"
      ]
     },
     "metadata": {},
     "output_type": "display_data"
    }
   ],
   "source": [
    "next(steps_it)\n",
    "simplex_2d_plot(opt, target=(0,0))"
   ]
  },
  {
   "cell_type": "markdown",
   "id": "720bffff",
   "metadata": {},
   "source": [
    "# Gaussian track examples "
   ]
  },
  {
   "cell_type": "code",
   "execution_count": 830,
   "id": "617ad928",
   "metadata": {},
   "outputs": [],
   "source": [
    "%matplotlib widget\n",
    "\n",
    "import matplotlib.pyplot as plt\n",
    "\n",
    "def plot_track(opt, target, n_points=5, plot_full_track=True):\n",
    "    def plot_track(ax, n_points):\n",
    "        track = opt.track[-n_points:]\n",
    "        ax.plot(track[:, 0], track[:, 1], 'ro:')\n",
    "        link_best = np.array((track[-1], target))\n",
    "        ax.plot(link_best[:, 0], link_best[:, 1], 'r-')\n",
    "        ax.plot(target[0], target[1], 'g*')\n",
    "    ###\n",
    "    \n",
    "    plt.close('all')\n",
    "    fig, (ax1, ax2) = plt.subplots(1, 2, figsize=(12, 6))\n",
    "    \n",
    "    plot_track(ax1, n_points=n_points)\n",
    "    plot_track(ax2, n_points=0)\n",
    "\n",
    "    plt.show()"
   ]
  },
  {
   "cell_type": "code",
   "execution_count": 831,
   "id": "df1803d6",
   "metadata": {},
   "outputs": [],
   "source": [
    "opt = gaussian_optimizer()\n",
    "steps_it = opt.run()"
   ]
  },
  {
   "cell_type": "code",
   "execution_count": 926,
   "id": "786ac066",
   "metadata": {
    "tags": []
   },
   "outputs": [
    {
     "data": {
      "application/vnd.jupyter.widget-view+json": {
       "model_id": "0adc686f0e8d4abc982139f375a2cc08",
       "version_major": 2,
       "version_minor": 0
      },
      "text/plain": [
       "Canvas(toolbar=Toolbar(toolitems=[('Home', 'Reset original view', 'home', 'home'), ('Back', 'Back to previous …"
      ]
     },
     "metadata": {},
     "output_type": "display_data"
    },
    {
     "name": "stdout",
     "output_type": "stream",
     "text": [
      "nfvals: 52\n",
      "x: [-1.36425287e-07  2.22492200e-07]\n",
      "optimal_vertex: [1.01984164e-07 2.20405889e-07]\n",
      "datmat: \n",
      "[[ 0.99999963  1.00000037  0.99999939  1.00000061 -1.          0.        ]\n",
      " [ 1.00000014  0.99999986  0.99999978  1.00000022 -1.          0.        ]\n",
      " [ 0.9999999   1.0000001   0.99999978  1.00000022 -1.          0.        ]]\n",
      "a: \n",
      "[[-1.00000000e+00 -3.49409087e-14]\n",
      " [ 1.00000000e+00 -4.33774381e-15]\n",
      " [-4.63940952e-15 -1.00000000e+00]\n",
      " [ 6.22634539e-14  1.00000000e+00]\n",
      " [-8.59671660e-07  7.52295226e-09]]\n",
      "sim: \n",
      "[[ 2.68571055e-07  3.94009218e-07]\n",
      " [-2.38409451e-07  2.08631155e-09]]\n",
      "simi: \n",
      "[[   22078.34190316 -4169593.08305998]\n",
      " [ 2522962.28497695  2842146.74147685]]\n"
     ]
    }
   ],
   "source": [
    "next(steps_it)\n",
    "plot_track(opt, target=np.zeros(2), n_points=5)\n",
    "opt.data"
   ]
  },
  {
   "cell_type": "code",
   "execution_count": 927,
   "id": "6202923d",
   "metadata": {},
   "outputs": [
    {
     "data": {
      "application/vnd.jupyter.widget-view+json": {
       "model_id": "bbce82beede341fab76ac33aafaae659",
       "version_major": 2,
       "version_minor": 0
      },
      "text/plain": [
       "Canvas(toolbar=Toolbar(toolitems=[('Home', 'Reset original view', 'home', 'home'), ('Back', 'Back to previous …"
      ]
     },
     "metadata": {},
     "output_type": "display_data"
    },
    {
     "name": "stdout",
     "output_type": "stream",
     "text": [
      "nfvals: 88\n",
      "x: [1.40230486e-10 8.95344630e-11]\n",
      "optimal_vertex: [1.40230486e-10 8.95344630e-11]\n",
      "datmat: \n",
      "[[ 1.  1.  1.  1. -1.  0.]\n",
      " [ 1.  1.  1.  1. -1.  0.]\n",
      " [ 1.  1.  1.  1. -1.  0.]]\n",
      "a: \n",
      "[[-1.00000002e+00 -1.16238286e-08]\n",
      " [ 9.99999908e-01  5.78209700e-09]\n",
      " [-7.92720677e-08 -9.99999987e-01]\n",
      " [-2.66223273e-08  1.00000001e+00]\n",
      " [-0.00000000e+00 -0.00000000e+00]]\n",
      "sim: \n",
      "[[-4.88351701e-13  1.07296861e-13]\n",
      " [-3.90343708e-13 -1.77661314e-12]]\n",
      "simi: \n",
      "[[-1.95340680e+12 -1.17974147e+11]\n",
      " [ 4.29187445e+11 -5.36948373e+11]]\n"
     ]
    }
   ],
   "source": [
    "for _ in steps_it:\n",
    "    pass\n",
    "plot_track(opt, target=np.zeros(2), n_points=5)\n",
    "opt.data"
   ]
  },
  {
   "cell_type": "markdown",
   "id": "86953622",
   "metadata": {},
   "source": [
    "# Pyramid track example"
   ]
  },
  {
   "cell_type": "code",
   "execution_count": 929,
   "id": "e0e3cca7",
   "metadata": {},
   "outputs": [],
   "source": [
    "%matplotlib widget\n",
    "import itertools\n",
    "import functools\n",
    "\n",
    "import numpy as np\n",
    "import matplotlib.pyplot as plt\n",
    "\n",
    "import tests.test_custom as tc\n",
    "\n",
    "\n",
    "def pyramid_optimizer(start_x=None, width=2):\n",
    "    F = functools.partial(tc.pyramid, center=np.zeros(2), width=width, height=-1)\n",
    "    C = ()\n",
    "    start_x = np.random.uniform(low=-width/2, high=width/2, size=2) if start_x is None else start_x\n",
    "    opt = GCobyla(start_x, F, C, rhobeg=0.5, rhoend=1e-12)\n",
    "    return opt"
   ]
  },
  {
   "cell_type": "code",
   "execution_count": 986,
   "id": "4cc39d2e",
   "metadata": {},
   "outputs": [],
   "source": [
    "start_x = np.array((-0.57714299498416465894479, -0.89532481179992373654386))\n",
    "opt = pyramid_optimizer(start_x=start_x)\n",
    "steps_it = opt.run()"
   ]
  },
  {
   "cell_type": "code",
   "execution_count": 987,
   "id": "09dac521",
   "metadata": {},
   "outputs": [
    {
     "data": {
      "application/vnd.jupyter.widget-view+json": {
       "model_id": "8cf400bf31c0464e925622217c7eee74",
       "version_major": 2,
       "version_minor": 0
      },
      "text/plain": [
       "Canvas(toolbar=Toolbar(toolitems=[('Home', 'Reset original view', 'home', 'home'), ('Back', 'Back to previous …"
      ]
     },
     "metadata": {},
     "output_type": "display_data"
    },
    {
     "name": "stdout",
     "output_type": "stream",
     "text": [
      "nfvals: 3\n",
      "x: [-0.57714299 -0.39532481]\n",
      "optimal_vertex: [-0.57714299 -0.39532481]\n",
      "datmat: \n",
      "[[-0.10467519  0.        ]\n",
      " [-0.10467519  0.        ]\n",
      " [-0.42285701  0.        ]]\n",
      "a: \n",
      "None\n",
      "sim: \n",
      "[[ 0.5 -0.5]\n",
      " [ 0.  -0.5]]\n",
      "simi: \n",
      "[[ 2. -2.]\n",
      " [ 0. -2.]]\n"
     ]
    }
   ],
   "source": [
    "next(steps_it)\n",
    "plot_track(opt, target=np.zeros(2), n_points=5)\n",
    "opt.data"
   ]
  },
  {
   "cell_type": "code",
   "execution_count": 988,
   "id": "a5bee59d",
   "metadata": {},
   "outputs": [
    {
     "data": {
      "application/vnd.jupyter.widget-view+json": {
       "model_id": "f249ad992016490d9789f55c5a65e74f",
       "version_major": 2,
       "version_minor": 0
      },
      "text/plain": [
       "Canvas(toolbar=Toolbar(toolitems=[('Home', 'Reset original view', 'home', 'home'), ('Back', 'Back to previous …"
      ]
     },
     "metadata": {},
     "output_type": "display_data"
    },
    {
     "name": "stdout",
     "output_type": "stream",
     "text": [
      "nfvals: 437\n",
      "x: [-0.19197598 -0.19197598]\n",
      "optimal_vertex: [-0.19197598 -0.19197598]\n",
      "datmat: \n",
      "[[-0.80802402  0.        ]\n",
      " [-0.80802402  0.        ]\n",
      " [-0.80802402  0.        ]]\n",
      "a: \n",
      "[[0.03450131 0.86683888]]\n",
      "sim: \n",
      "[[-9.68035495e-13 -1.25081297e-12]\n",
      " [ 3.97698083e-14  9.99208868e-13]]\n",
      "simi: \n",
      "[[-1.08902624e+12 -1.36324666e+12]\n",
      " [ 4.33446563e+10  1.05505074e+12]]\n"
     ]
    }
   ],
   "source": [
    "for _ in steps_it:\n",
    "    pass\n",
    "plot_track(opt, target=np.zeros(2), n_points=5)\n",
    "opt.data"
   ]
  },
  {
   "cell_type": "code",
   "execution_count": null,
   "id": "35a51d9c",
   "metadata": {},
   "outputs": [],
   "source": []
  }
 ],
 "metadata": {
  "kernelspec": {
   "display_name": "Python 3",
   "language": "python",
   "name": "python3"
  },
  "language_info": {
   "codemirror_mode": {
    "name": "ipython",
    "version": 3
   },
   "file_extension": ".py",
   "mimetype": "text/x-python",
   "name": "python",
   "nbconvert_exporter": "python",
   "pygments_lexer": "ipython3",
   "version": "3.8.3"
  }
 },
 "nbformat": 4,
 "nbformat_minor": 5
}
