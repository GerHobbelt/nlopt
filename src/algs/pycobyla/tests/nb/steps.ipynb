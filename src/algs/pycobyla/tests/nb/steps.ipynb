{
 "cells": [
  {
   "cell_type": "code",
   "execution_count": 22,
   "id": "d7ae2118",
   "metadata": {},
   "outputs": [],
   "source": [
    "import numpy as np\n",
    "\n",
    "from pycobyla.gcobyla import GCobyla"
   ]
  },
  {
   "cell_type": "markdown",
   "id": "4b562631",
   "metadata": {
    "tags": []
   },
   "source": [
    "# Gaussian simplex example"
   ]
  },
  {
   "cell_type": "code",
   "execution_count": 23,
   "id": "44b47ea4",
   "metadata": {},
   "outputs": [],
   "source": [
    "import tests.test_custom as tc\n",
    "\n",
    "def gaussian_optimizer():\n",
    "    F = tc.neg_gaussian\n",
    "    c1 = lambda x: 1 - x[0]\n",
    "    c2 = lambda x: 1 + x[0]\n",
    "    c3 = lambda x: 1 - x[1]\n",
    "    c4 = lambda x: 1 + x[1]\n",
    "\n",
    "    C = (c1, c2, c3, c4)\n",
    "    x = np.ones(2)    \n",
    "    mu = np.array((0, 0))\n",
    "    \n",
    "    opt = GCobyla(x, F, C, rhobeg=0.5, rhoend=1e-12)\n",
    "    return opt\n"
   ]
  },
  {
   "cell_type": "code",
   "execution_count": 24,
   "id": "ab4cff96",
   "metadata": {},
   "outputs": [],
   "source": [
    "%matplotlib widget\n",
    "#%matplotlib notebook\n",
    "import itertools\n",
    "\n",
    "from mpl_toolkits.mplot3d import Axes3D\n",
    "import matplotlib.pyplot as plt\n",
    "from matplotlib import cm\n",
    "from matplotlib.ticker import LinearLocator, FormatStrFormatter\n",
    "import numpy as np\n",
    "\n",
    "\n",
    "def simplex_3d_plot(opt):\n",
    "    plt.close('all')\n",
    "    fig = plt.figure()\n",
    "    ax = fig.gca(projection='3d')\n",
    "    \n",
    "    points = np.array((opt.optimal_vertex, *(opt.sim + opt.optimal_vertex), opt.optimal_vertex))\n",
    "    points = np.c_[points, np.zeros(points.shape[0])]\n",
    "    ax.plot(points[0,0], points[0,1], points[0, 2], 'go')\n",
    "    ax.plot(points[1:-1,0], points[1:-1,1], points[1:-1, 2], 'bo')\n",
    "    ax.plot(points[...,0], points[...,1], points[..., 2], 'r-', lw=2)\n",
    "    \n",
    "    # Make data.\n",
    "    max_p = points.max(axis=0)[:-1].max()\n",
    "    min_p = points.min(axis=0)[:-1].min()\n",
    "\n",
    "    X = np.linspace(min_p, max_p, 50)\n",
    "    xv, yv = np.meshgrid(X, X)\n",
    "    zv = np.array(tuple(opt.F(xy) for xy in itertools.product(X, X)))\n",
    "    zv = zv.reshape(xv.shape)\n",
    "\n",
    "    # Plot the surface.\n",
    "    surf = ax.plot_surface(xv, yv, zv, cmap=cm.plasma, linewidth=0, antialiased=False)\n",
    "\n",
    "    # Customize the z axis.\n",
    "    ax.set_zlim(-1., 0.1)\n",
    "    ax.zaxis.set_major_locator(LinearLocator(10))\n",
    "    ax.zaxis.set_major_formatter(FormatStrFormatter('%.02f'))\n",
    "\n",
    "    plt.show()"
   ]
  },
  {
   "cell_type": "code",
   "execution_count": 25,
   "id": "8e5252f4",
   "metadata": {
    "tags": []
   },
   "outputs": [
    {
     "data": {
      "application/vnd.jupyter.widget-view+json": {
       "model_id": "f3d02f9aa2b340c49252fbb7ead5b52f",
       "version_major": 2,
       "version_minor": 0
      },
      "text/plain": [
       "Canvas(toolbar=Toolbar(toolitems=[('Home', 'Reset original view', 'home', 'home'), ('Back', 'Back to previous …"
      ]
     },
     "metadata": {},
     "output_type": "display_data"
    }
   ],
   "source": [
    "opt = gaussian_optimizer()\n",
    "steps_it =(step for step in opt.g_run() if step in {GCobyla.BEFORE_REVIEW_CURRENT_SIMPLEX_CHECKPOINT, GCobyla.BEFORE_GENERATE_X_START_CHECKPOINT})\n",
    "\n",
    "simplex_3d_plot(opt)"
   ]
  },
  {
   "cell_type": "code",
   "execution_count": 26,
   "id": "8960c4f1",
   "metadata": {},
   "outputs": [
    {
     "data": {
      "application/vnd.jupyter.widget-view+json": {
       "model_id": "9fc995bb52114426bdf189fbe28f071c",
       "version_major": 2,
       "version_minor": 0
      },
      "text/plain": [
       "Canvas(toolbar=Toolbar(toolitems=[('Home', 'Reset original view', 'home', 'home'), ('Back', 'Back to previous …"
      ]
     },
     "metadata": {},
     "output_type": "display_data"
    }
   ],
   "source": [
    "next(steps_it)\n",
    "simplex_3d_plot(opt)"
   ]
  },
  {
   "cell_type": "code",
   "execution_count": 27,
   "id": "5a194060",
   "metadata": {},
   "outputs": [],
   "source": [
    "def simplex_2d_plot(opt, target):\n",
    "    plt.close('all')\n",
    "    fig, ax = plt.subplots()\n",
    "    \n",
    "    points = np.array((opt.optimal_vertex, *(opt.sim + opt.optimal_vertex), opt.optimal_vertex))\n",
    "    ax.plot(*opt.optimal_vertex, color='orange', marker='o')\n",
    "    ax.plot(points[1:-1,0], points[1:-1,1], '.', color='blue', marker='o')\n",
    "    ax.plot(points[...,0], points[...,1], '-.', color='red', lw=2)\n",
    "    ax.plot(target[0], target[1], color='limegreen', marker='*')\n",
    "    \n",
    "    # Make data\n",
    "    all_points = np.array((*points, target))\n",
    "    max_p = all_points.max(axis=0).max()\n",
    "    min_p = all_points.min(axis=0).min()\n",
    "    diff_p = max_p - min_p\n",
    "\n",
    "    X = np.linspace(max_p + (0.1 * diff_p), min_p - (0.1 * diff_p), 50)\n",
    "    xv, yv = np.meshgrid(X, X)\n",
    "    zv = np.array(tuple(-opt.F(xy) for xy in itertools.product(X, X)))\n",
    "    zv = zv.reshape(xv.shape)\n",
    "    \n",
    "    cs = ax.contourf(xv, yv, zv, cmap=cm.PuBu_r)\n",
    "    cbar = fig.colorbar(cs)\n",
    "    \n",
    "    plt.show()\n"
   ]
  },
  {
   "cell_type": "code",
   "execution_count": 28,
   "id": "48aec126",
   "metadata": {},
   "outputs": [
    {
     "data": {
      "application/vnd.jupyter.widget-view+json": {
       "model_id": "6e43d585e8c64deb94abfdfc405908e3",
       "version_major": 2,
       "version_minor": 0
      },
      "text/plain": [
       "Canvas(toolbar=Toolbar(toolitems=[('Home', 'Reset original view', 'home', 'home'), ('Back', 'Back to previous …"
      ]
     },
     "metadata": {},
     "output_type": "display_data"
    }
   ],
   "source": [
    "opt = gaussian_optimizer()\n",
    "steps_it = (step for step in opt.g_run() if step in {GCobyla.BEFORE_REVIEW_CURRENT_SIMPLEX_CHECKPOINT, GCobyla.BEFORE_GENERATE_X_START_CHECKPOINT})\n",
    "\n",
    "simplex_2d_plot(opt, target=(0,0))"
   ]
  },
  {
   "cell_type": "code",
   "execution_count": 29,
   "id": "eaa11b71",
   "metadata": {
    "tags": []
   },
   "outputs": [
    {
     "data": {
      "application/vnd.jupyter.widget-view+json": {
       "model_id": "ec882722010e4cca8ed590dd41f0eb60",
       "version_major": 2,
       "version_minor": 0
      },
      "text/plain": [
       "Canvas(toolbar=Toolbar(toolitems=[('Home', 'Reset original view', 'home', 'home'), ('Back', 'Back to previous …"
      ]
     },
     "metadata": {},
     "output_type": "display_data"
    },
    {
     "name": "stdout",
     "output_type": "stream",
     "text": [
      "nfvals: 3\n",
      "x: [1. 1.]\n",
      "optimal_vertex: [1. 1.]\n",
      "datmat: \n",
      "[[-0.5         2.5         0.          2.         -0.19691168  0.5       ]\n",
      " [ 0.          2.         -0.5         2.5        -0.19691168  0.5       ]\n",
      " [ 0.          2.          0.          2.         -0.36787944  0.        ]]\n",
      "a: \n",
      "None\n",
      "sim: \n",
      "[[0.5 0. ]\n",
      " [0.  0.5]]\n",
      "simi: \n",
      "[[2. 0.]\n",
      " [0. 2.]]\n",
      "optimal vertex: \n",
      "[1. 1.]\n",
      "parmu: 0\n",
      "rho: 0.5\n"
     ]
    }
   ],
   "source": [
    "next(steps_it)\n",
    "simplex_2d_plot(opt, target=(0,0))\n",
    "opt.data"
   ]
  },
  {
   "cell_type": "code",
   "execution_count": 30,
   "id": "30ee964c",
   "metadata": {},
   "outputs": [
    {
     "data": {
      "application/vnd.jupyter.widget-view+json": {
       "model_id": "07c1a29f99cd4c35ab716f56f0b2711c",
       "version_major": 2,
       "version_minor": 0
      },
      "text/plain": [
       "Canvas(toolbar=Toolbar(toolitems=[('Home', 'Reset original view', 'home', 'home'), ('Back', 'Back to previous …"
      ]
     },
     "metadata": {},
     "output_type": "display_data"
    },
    {
     "name": "stdout",
     "output_type": "stream",
     "text": [
      "nfvals: 88\n",
      "x: [1.40230486e-10 8.95344630e-11]\n",
      "optimal_vertex: [1.40230486e-10 8.95344630e-11]\n",
      "datmat: \n",
      "[[ 1.  1.  1.  1. -1.  0.]\n",
      " [ 1.  1.  1.  1. -1.  0.]\n",
      " [ 1.  1.  1.  1. -1.  0.]]\n",
      "a: \n",
      "[[-1.00000002e+00 -1.16238286e-08]\n",
      " [ 9.99999908e-01  5.78209700e-09]\n",
      " [-7.92720677e-08 -9.99999987e-01]\n",
      " [-2.66223273e-08  1.00000001e+00]\n",
      " [-0.00000000e+00 -0.00000000e+00]]\n",
      "sim: \n",
      "[[-4.88351701e-13  1.07296861e-13]\n",
      " [-3.90343708e-13 -1.77661314e-12]]\n",
      "simi: \n",
      "[[-1.95340680e+12 -1.17974147e+11]\n",
      " [ 4.29187445e+11 -5.36948373e+11]]\n",
      "optimal vertex: \n",
      "[1.40230486e-10 8.95344630e-11]\n",
      "parmu: 0\n",
      "rho: 1e-12\n",
      "[-5.88750293e-23 -2.13806191e-22]\n"
     ]
    }
   ],
   "source": [
    "for _ in steps_it: pass\n",
    "simplex_2d_plot(opt, target=(0,0))\n",
    "opt.data\n",
    "print(opt.sim @ opt.optimal_vertex)"
   ]
  },
  {
   "cell_type": "markdown",
   "id": "7f5ca481",
   "metadata": {},
   "source": [
    "# Gaussian track examples "
   ]
  },
  {
   "cell_type": "code",
   "execution_count": 31,
   "id": "5bf32651",
   "metadata": {},
   "outputs": [],
   "source": [
    "%matplotlib widget\n",
    "\n",
    "from tests.nb.utils import plot_track"
   ]
  },
  {
   "cell_type": "code",
   "execution_count": 32,
   "id": "b2c2b218",
   "metadata": {},
   "outputs": [],
   "source": [
    "opt = gaussian_optimizer()\n",
    "steps_it = (step for step in opt.g_run() if step in {GCobyla.BEFORE_REVIEW_CURRENT_SIMPLEX_CHECKPOINT, GCobyla.BEFORE_GENERATE_X_START_CHECKPOINT})"
   ]
  },
  {
   "cell_type": "code",
   "execution_count": 33,
   "id": "c1ced9f6",
   "metadata": {
    "tags": []
   },
   "outputs": [
    {
     "data": {
      "application/vnd.jupyter.widget-view+json": {
       "model_id": "7f2e923cd3094cf1bd52e34f99277273",
       "version_major": 2,
       "version_minor": 0
      },
      "text/plain": [
       "Canvas(toolbar=Toolbar(toolitems=[('Home', 'Reset original view', 'home', 'home'), ('Back', 'Back to previous …"
      ]
     },
     "metadata": {},
     "output_type": "display_data"
    },
    {
     "name": "stdout",
     "output_type": "stream",
     "text": [
      "nfvals: 3\n",
      "x: [1. 1.]\n",
      "optimal_vertex: [1. 1.]\n",
      "datmat: \n",
      "[[-0.5         2.5         0.          2.         -0.19691168  0.5       ]\n",
      " [ 0.          2.         -0.5         2.5        -0.19691168  0.5       ]\n",
      " [ 0.          2.          0.          2.         -0.36787944  0.        ]]\n",
      "a: \n",
      "None\n",
      "sim: \n",
      "[[0.5 0. ]\n",
      " [0.  0.5]]\n",
      "simi: \n",
      "[[2. 0.]\n",
      " [0. 2.]]\n",
      "optimal vertex: \n",
      "[1. 1.]\n",
      "parmu: 0\n",
      "rho: 0.5\n"
     ]
    }
   ],
   "source": [
    "next(steps_it)\n",
    "plot_track(opt, target=np.zeros(2), n_points=5, plot_simplex=False, plot_trure=False, aspect=True)\n",
    "opt.data"
   ]
  },
  {
   "cell_type": "code",
   "execution_count": 34,
   "id": "5a0a5726",
   "metadata": {
    "tags": []
   },
   "outputs": [
    {
     "data": {
      "application/vnd.jupyter.widget-view+json": {
       "model_id": "ef5a27e09f4a4d06959c838e3e916981",
       "version_major": 2,
       "version_minor": 0
      },
      "text/plain": [
       "Canvas(toolbar=Toolbar(toolitems=[('Home', 'Reset original view', 'home', 'home'), ('Back', 'Back to previous …"
      ]
     },
     "metadata": {},
     "output_type": "display_data"
    },
    {
     "name": "stdout",
     "output_type": "stream",
     "text": [
      "nfvals: 88\n",
      "x: [1.40230486e-10 8.95344630e-11]\n",
      "optimal_vertex: [1.40230486e-10 8.95344630e-11]\n",
      "datmat: \n",
      "[[ 1.  1.  1.  1. -1.  0.]\n",
      " [ 1.  1.  1.  1. -1.  0.]\n",
      " [ 1.  1.  1.  1. -1.  0.]]\n",
      "a: \n",
      "[[-1.00000002e+00 -1.16238286e-08]\n",
      " [ 9.99999908e-01  5.78209700e-09]\n",
      " [-7.92720677e-08 -9.99999987e-01]\n",
      " [-2.66223273e-08  1.00000001e+00]\n",
      " [-0.00000000e+00 -0.00000000e+00]]\n",
      "sim: \n",
      "[[-4.88351701e-13  1.07296861e-13]\n",
      " [-3.90343708e-13 -1.77661314e-12]]\n",
      "simi: \n",
      "[[-1.95340680e+12 -1.17974147e+11]\n",
      " [ 4.29187445e+11 -5.36948373e+11]]\n",
      "optimal vertex: \n",
      "[1.40230486e-10 8.95344630e-11]\n",
      "parmu: 0\n",
      "rho: 1e-12\n",
      "[[ 0.27487791 -0.06039405]\n",
      " [ 0.21971227  1.        ]]\n",
      "[[2.50000000e-25 0.00000000e+00]\n",
      " [0.00000000e+00 3.30872245e-24]]\n"
     ]
    }
   ],
   "source": [
    "for _ in steps_it: pass\n",
    "plot_track(opt, target=np.zeros(2), n_points=5, plot_simplex=True, plot_trure=True, aspect=True)\n",
    "opt.data\n",
    "print(opt.sim / opt.sim.min())\n",
    "print(opt.sim @ opt.sim.T)"
   ]
  },
  {
   "cell_type": "markdown",
   "id": "cf2275dd",
   "metadata": {
    "tags": []
   },
   "source": [
    "# Pyramid track example"
   ]
  },
  {
   "cell_type": "code",
   "execution_count": 35,
   "id": "7eef7e8d",
   "metadata": {},
   "outputs": [],
   "source": [
    "%matplotlib widget\n",
    "import functools\n",
    "\n",
    "import tests.test_custom as tc\n",
    "from tests.nb.utils import plot_track\n",
    "\n",
    "\n",
    "def pyramid_optimizer(start_x=None, width=2):\n",
    "    F = functools.partial(tc.pyramid, center=np.zeros(2), width=width, height=-1)\n",
    "    C = ()\n",
    "    start_x = np.random.uniform(low=-width/2, high=width/2, size=2) if start_x is None else start_x\n",
    "    opt = GCobyla(start_x, F, C, rhobeg=0.5, rhoend=1e-12)\n",
    "    return opt"
   ]
  },
  {
   "cell_type": "code",
   "execution_count": 36,
   "id": "37ff3af0",
   "metadata": {},
   "outputs": [],
   "source": [
    "start_x = np.array((-0.57714299498416465894479, -0.89532481179992373654386))\n",
    "opt = pyramid_optimizer(start_x=start_x)\n",
    "steps_it = (step for step in opt.g_run() if step in {GCobyla.BEFORE_REVIEW_CURRENT_SIMPLEX_CHECKPOINT, GCobyla.BEFORE_GENERATE_X_START_CHECKPOINT})"
   ]
  },
  {
   "cell_type": "code",
   "execution_count": 37,
   "id": "ec3cd8f6",
   "metadata": {},
   "outputs": [
    {
     "data": {
      "application/vnd.jupyter.widget-view+json": {
       "model_id": "99d17a113ee3413582ec60e76094cfd5",
       "version_major": 2,
       "version_minor": 0
      },
      "text/plain": [
       "Canvas(toolbar=Toolbar(toolitems=[('Home', 'Reset original view', 'home', 'home'), ('Back', 'Back to previous …"
      ]
     },
     "metadata": {},
     "output_type": "display_data"
    },
    {
     "name": "stdout",
     "output_type": "stream",
     "text": [
      "nfvals: 3\n",
      "x: [-0.57714299 -0.39532481]\n",
      "optimal_vertex: [-0.57714299 -0.39532481]\n",
      "datmat: \n",
      "[[-0.10467519  0.        ]\n",
      " [-0.10467519  0.        ]\n",
      " [-0.42285701  0.        ]]\n",
      "a: \n",
      "None\n",
      "sim: \n",
      "[[ 0.5 -0.5]\n",
      " [ 0.  -0.5]]\n",
      "simi: \n",
      "[[ 2. -2.]\n",
      " [ 0. -2.]]\n",
      "optimal vertex: \n",
      "[-0.57714299 -0.39532481]\n",
      "parmu: 0\n",
      "rho: 0.5\n"
     ]
    }
   ],
   "source": [
    "next(steps_it)\n",
    "plot_track(opt, target=np.zeros(2), n_points=5, plot_simplex=True, plot_trure=True, aspect=True)\n",
    "opt.data"
   ]
  },
  {
   "cell_type": "code",
   "execution_count": 38,
   "id": "8f3a19ab",
   "metadata": {},
   "outputs": [
    {
     "data": {
      "application/vnd.jupyter.widget-view+json": {
       "model_id": "0da662c830c64eafb8ed1f6c567f9f8c",
       "version_major": 2,
       "version_minor": 0
      },
      "text/plain": [
       "Canvas(toolbar=Toolbar(toolitems=[('Home', 'Reset original view', 'home', 'home'), ('Back', 'Back to previous …"
      ]
     },
     "metadata": {},
     "output_type": "display_data"
    },
    {
     "name": "stdout",
     "output_type": "stream",
     "text": [
      "nfvals: 437\n",
      "x: [-0.19197598 -0.19197598]\n",
      "optimal_vertex: [-0.19197598 -0.19197598]\n",
      "datmat: \n",
      "[[-0.80802402  0.        ]\n",
      " [-0.80802402  0.        ]\n",
      " [-0.80802402  0.        ]]\n",
      "a: \n",
      "[[0.03450131 0.86683888]]\n",
      "sim: \n",
      "[[-9.68035495e-13 -1.25081297e-12]\n",
      " [ 3.97698083e-14  9.99208868e-13]]\n",
      "simi: \n",
      "[[-1.08902624e+12 -1.36324666e+12]\n",
      " [ 4.33446563e+10  1.05505074e+12]]\n",
      "optimal vertex: \n",
      "[-0.19197598 -0.19197598]\n",
      "parmu: 0\n",
      "rho: 1e-12\n",
      "[[ 0.77392505  1.        ]\n",
      " [-0.03179517 -0.79884754]]\n",
      "[[ 2.50162581e-24 -1.28832200e-24]\n",
      " [-1.28832200e-24  1.00000000e-24]]\n"
     ]
    }
   ],
   "source": [
    "for _ in steps_it: pass\n",
    "fig, (ax1, ax2) = plot_track(opt, target=np.zeros(2), n_points=5, plot_simplex=True, plot_trure=True, aspect=True)\n",
    "ax2.plot(np.array((-1, 1)), np.array((1, -1)), linestyle='-.')\n",
    "ax2.plot(np.array((-1, 1)), np.array((-1, 1)), linestyle='-.')\n",
    "\n",
    "margin = 1e-1\n",
    "xmin = min((*opt.track[:, 0], 0))\n",
    "xmax = max((*opt.track[:, 0], 0))\n",
    "ymin = min((*opt.track[:, 1], 0))\n",
    "ymax = max((*opt.track[:, 1], 0))\n",
    "ax2.set(xlim=(xmin - margin, xmax + margin), ylim=(ymin - margin, ymax + margin))\n",
    "\n",
    "opt.data\n",
    "print(opt.sim / opt.sim.min())\n",
    "print(opt.sim @ opt.sim.T)"
   ]
  },
  {
   "cell_type": "markdown",
   "id": "bb359375",
   "metadata": {},
   "source": [
    "# 4 faces pyramid track example"
   ]
  },
  {
   "cell_type": "code",
   "execution_count": 39,
   "id": "cf0b1438",
   "metadata": {},
   "outputs": [],
   "source": [
    "%matplotlib widget\n",
    "\n",
    "import numpy as np\n",
    "\n",
    "import tests.test_custom as tc\n",
    "from tests.nb.utils import plot_track\n",
    "\n",
    "\n",
    "def pyramid_faces_optimizer(start_x, radius=2, faces=4):\n",
    "    F = functools.partial(tc.pyramid_faces, center=np.zeros(2), radius=radius, height=-1, faces=faces)\n",
    "    c1 = lambda x: 1 - sum(x ** 2)\n",
    "    C = (c1,)\n",
    "    opt = GCobyla(start_x, F, C, rhobeg=0.5, rhoend=1e-12)\n",
    "    return opt"
   ]
  },
  {
   "cell_type": "code",
   "execution_count": 40,
   "id": "5b775465",
   "metadata": {},
   "outputs": [],
   "source": [
    "#start_x = np.array((0.29571617183264287120892, 0.06643579296841295445120))\n",
    "start_x = np.array((0.60522848317453536992616, -0.92243950619371162247262))\n",
    "opt = pyramid_faces_optimizer(start_x=start_x, faces=4)\n",
    "steps_it = (step for step in opt.g_run() if step in {GCobyla.BEFORE_REVIEW_CURRENT_SIMPLEX_CHECKPOINT, GCobyla.BEFORE_GENERATE_X_START_CHECKPOINT})"
   ]
  },
  {
   "cell_type": "code",
   "execution_count": 41,
   "id": "a1ba66ef",
   "metadata": {},
   "outputs": [
    {
     "data": {
      "application/vnd.jupyter.widget-view+json": {
       "model_id": "e58534c04f0b4a139abd94a5ebe2daaa",
       "version_major": 2,
       "version_minor": 0
      },
      "text/plain": [
       "Canvas(toolbar=Toolbar(toolitems=[('Home', 'Reset original view', 'home', 'home'), ('Back', 'Back to previous …"
      ]
     },
     "metadata": {},
     "output_type": "display_data"
    },
    {
     "name": "stdout",
     "output_type": "stream",
     "text": [
      "nfvals: 3\n",
      "x: [ 0.60522848 -0.42243951]\n",
      "optimal_vertex: [ 0.60522848 -0.42243951]\n",
      "datmat: \n",
      "[[-1.07242464  0.          1.07242464]\n",
      " [-0.21719616 -0.23616601  0.21719616]\n",
      " [ 0.45524335 -0.48616601  0.        ]]\n",
      "a: \n",
      "None\n",
      "sim: \n",
      "[[ 0.5 -0.5]\n",
      " [ 0.  -0.5]]\n",
      "simi: \n",
      "[[ 2. -2.]\n",
      " [ 0. -2.]]\n",
      "optimal vertex: \n",
      "[ 0.60522848 -0.42243951]\n",
      "parmu: 0\n",
      "rho: 0.5\n"
     ]
    }
   ],
   "source": [
    "next(steps_it)\n",
    "fig, (ax1, ax2) = plot_track(opt, target=np.zeros(2), n_points=5, plot_simplex=True, plot_trure=True, aspect=False)\n",
    "ax2.plot(np.array((-1, 1)), np.array((0, 0)), linestyle='-.')\n",
    "ax2.plot(np.array((0, 0)), np.array((-1, 1)), linestyle='-.')\n",
    "\n",
    "margin = 1e-2\n",
    "xmin = min((*opt.track[:, 0], 0))\n",
    "xmax = max((*opt.track[:, 0], 0))\n",
    "ymin = min((*opt.track[:, 1], 0))\n",
    "ymax = max((*opt.track[:, 1], 0))\n",
    "ax2.set(xlim=(xmin - margin, xmax + margin), ylim=(ymin - margin, ymax + margin))\n",
    "opt.data"
   ]
  },
  {
   "cell_type": "code",
   "execution_count": 42,
   "id": "6555ef70",
   "metadata": {},
   "outputs": [
    {
     "data": {
      "application/vnd.jupyter.widget-view+json": {
       "model_id": "8394022523ce46689491d52b499afdaa",
       "version_major": 2,
       "version_minor": 0
      },
      "text/plain": [
       "Canvas(toolbar=Toolbar(toolitems=[('Home', 'Reset original view', 'home', 'home'), ('Back', 'Back to previous …"
      ]
     },
     "metadata": {},
     "output_type": "display_data"
    },
    {
     "name": "stdout",
     "output_type": "stream",
     "text": [
      "nfvals: 371\n",
      "x: [8.34524795e-02 7.67764511e-13]\n",
      "optimal_vertex: [8.34524795e-02 1.02106460e-13]\n",
      "datmat: \n",
      "[[ 0.99303568 -0.95827376  0.        ]\n",
      " [ 0.99303568 -0.95827376  0.        ]\n",
      " [ 0.99303568 -0.95827376  0.        ]]\n",
      "a: \n",
      "[[-1.66904975e-01 -1.01481399e-09]\n",
      " [-4.52220685e-01  4.03378970e-01]]\n",
      "sim: \n",
      "[[-7.46256899e-13  6.65658050e-13]\n",
      " [ 1.60349663e-12 -2.63840311e-13]]\n",
      "simi: \n",
      "[[3.03094787e+11 7.64695447e+11]\n",
      " [1.84206677e+12 8.57285889e+11]]\n",
      "optimal vertex: \n",
      "[8.34524795e-02 1.02106460e-13]\n",
      "parmu: 0\n",
      "rho: 1e-12\n",
      "-0.95827376022649117456\n"
     ]
    }
   ],
   "source": [
    "for _ in steps_it: pass\n",
    "fig, (ax1, ax2) = plot_track(opt, target=np.zeros(2), n_points=5, plot_simplex=True, plot_trure=True)\n",
    "ax2.plot(np.array((-1, 1)), np.array((0, 0)), linestyle='-.')\n",
    "ax2.plot(np.array((0, 0)), np.array((-1, 1)), linestyle='-.')\n",
    "\n",
    "margin = 1e-1\n",
    "xmin = min((*opt.track[:, 0], 0))\n",
    "xmax = max((*opt.track[:, 0], 0))\n",
    "ymin = min((*opt.track[:, 1], 0))\n",
    "ymax = max((*opt.track[:, 1], 0))\n",
    "ax2.set(xlim=(xmin - margin, xmax + margin), ylim=(ymin - margin, ymax + margin))\n",
    "\n",
    "opt.data\n",
    "print(opt.F(opt.optimal_vertex))"
   ]
  }
 ],
 "metadata": {
  "kernelspec": {
   "display_name": "Python 3",
   "language": "python",
   "name": "python3"
  },
  "language_info": {
   "codemirror_mode": {
    "name": "ipython",
    "version": 3
   },
   "file_extension": ".py",
   "mimetype": "text/x-python",
   "name": "python",
   "nbconvert_exporter": "python",
   "pygments_lexer": "ipython3",
   "version": "3.8.3"
  }
 },
 "nbformat": 4,
 "nbformat_minor": 5
}
