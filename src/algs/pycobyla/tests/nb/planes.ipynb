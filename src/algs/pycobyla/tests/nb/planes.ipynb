{
 "cells": [
  {
   "cell_type": "code",
   "execution_count": 213,
   "id": "be6ddb4a",
   "metadata": {},
   "outputs": [],
   "source": [
    "import numpy as np\n",
    "\n",
    "from pycobyla.gcobyla import GCobyla"
   ]
  },
  {
   "cell_type": "markdown",
   "id": "9f2b9287",
   "metadata": {},
   "source": [
    "# 2 Planes"
   ]
  },
  {
   "cell_type": "code",
   "execution_count": 309,
   "id": "b4494bb1",
   "metadata": {},
   "outputs": [],
   "source": [
    "import functools\n",
    "\n",
    "import tests.test_custom as tc\n",
    "from tests.nb.utils import plot_track\n",
    "\n",
    "\n",
    "n1 = np.array((1, 1, 1))\n",
    "n2 = np.array((-1, 1, 1))\n",
    "p = np.zeros(3)\n",
    "\n",
    "h1 = functools.partial(tc.plane, n=n1, p=p)\n",
    "h2 = functools.partial(tc.plane, n=n2, p=p)\n",
    "\n",
    "F = lambda x: -h1(x) if x[0] >= 0 else -h2(x)\n",
    "\n",
    "def planes_optimizer(start_x):\n",
    "    n1 = np.array((1, 1, 1))\n",
    "    n2 = np.array((-1, 1, 1))\n",
    "    p = np.zeros(3)\n",
    "\n",
    "    c1 = lambda x: x[1]\n",
    "    C = (c1,)\n",
    "\n",
    "    opt = GCobyla(start_x, F, C, rhobeg=.5, rhoend=1e-12, maxfun=3500)\n",
    "    return opt"
   ]
  },
  {
   "cell_type": "code",
   "execution_count": 310,
   "id": "bee2ee6e",
   "metadata": {},
   "outputs": [
    {
     "data": {
      "application/vnd.jupyter.widget-view+json": {
       "model_id": "50ee265b72c944dd85af2e15734b5590",
       "version_major": 2,
       "version_minor": 0
      },
      "text/plain": [
       "Canvas(toolbar=Toolbar(toolitems=[('Home', 'Reset original view', 'home', 'home'), ('Back', 'Back to previous …"
      ]
     },
     "metadata": {},
     "output_type": "display_data"
    }
   ],
   "source": [
    "%matplotlib widget\n",
    "#%matplotlib notebook\n",
    "import itertools\n",
    "\n",
    "from mpl_toolkits.mplot3d import Axes3D\n",
    "import matplotlib.pyplot as plt\n",
    "from matplotlib import cm\n",
    "from matplotlib.ticker import LinearLocator, FormatStrFormatter\n",
    "\n",
    "plt.close('all')\n",
    "fig = plt.figure()\n",
    "ax = fig.gca(projection='3d')\n",
    "    \n",
    "X = np.linspace(-2, 2, 200)\n",
    "Y = np.linspace(0, 4, 200)\n",
    "xv, yv = np.meshgrid(X, Y)\n",
    "zv = np.array(tuple(F(xx) for xx in zip(xv.ravel(), yv.ravel()))).reshape(xv.shape)\n",
    "\n",
    "# Plot the surface.\n",
    "surf = ax.plot_surface(xv, yv, zv, cmap=cm.inferno, linewidth=0, antialiased=True)\n",
    "\n",
    "# Customize the z axis.\n",
    "ax.zaxis.set_major_locator(LinearLocator(10))\n",
    "ax.zaxis.set_major_formatter(FormatStrFormatter('%.02f'))\n",
    "\n",
    "plt.show()"
   ]
  },
  {
   "cell_type": "code",
   "execution_count": 311,
   "id": "b2a6039d",
   "metadata": {},
   "outputs": [],
   "source": [
    "start_x = np.array((0.23243240513870577768074, 2.66331299470191806832986))\n",
    "opt = planes_optimizer(start_x=start_x)\n",
    "steps_it = (step for step in opt.g_run() if step in {GCobyla.BEFORE_REVIEW_CURRENT_SIMPLEX_CHECKPOINT, GCobyla.BEFORE_GENERATE_X_START_CHECKPOINT})"
   ]
  },
  {
   "cell_type": "code",
   "execution_count": 371,
   "id": "f3679067",
   "metadata": {},
   "outputs": [
    {
     "data": {
      "application/vnd.jupyter.widget-view+json": {
       "model_id": "de4530dd8fca48918cd80359c0774276",
       "version_major": 2,
       "version_minor": 0
      },
      "text/plain": [
       "Canvas(toolbar=Toolbar(toolitems=[('Home', 'Reset original view', 'home', 'home'), ('Back', 'Back to previous …"
      ]
     },
     "metadata": {},
     "output_type": "display_data"
    },
    {
     "name": "stdout",
     "output_type": "stream",
     "text": [
      "nfvals: 37\n",
      "x: [0.02320205 0.5137194 ]\n",
      "optimal_vertex: [0.0178866  0.50799392]\n",
      "datmat: \n",
      "[[0.5137194  0.53692145 0.        ]\n",
      " [0.49736301 0.52670058 0.        ]\n",
      " [0.50799392 0.52588052 0.        ]]\n",
      "a: \n",
      "[[ 2.22261445e-18  1.00000000e+00]\n",
      " [-1.00000000e+00 -1.00000000e+00]]\n",
      "sim: \n",
      "[[ 0.00531545  0.00572548]\n",
      " [ 0.01145096 -0.0106309 ]]\n",
      "simi: \n",
      "[[ 87.08836029  46.90313823]\n",
      " [ 93.80627646 -43.54418014]]\n",
      "optimal vertex: \n",
      "[0.0178866  0.50799392]\n",
      "parmu: 0\n",
      "rho: 0.015625\n"
     ]
    }
   ],
   "source": [
    "next(steps_it)\n",
    "plot_track(opt, target=np.zeros(2), n_points=5, plot_simplex=False, plot_trure=True, aspect=False)\n",
    "opt.data"
   ]
  },
  {
   "cell_type": "code",
   "execution_count": 308,
   "id": "7f7e7a4f",
   "metadata": {},
   "outputs": [
    {
     "data": {
      "application/vnd.jupyter.widget-view+json": {
       "model_id": "8c8ca7bcf62148e7b9ce262f09c8b529",
       "version_major": 2,
       "version_minor": 0
      },
      "text/plain": [
       "Canvas(toolbar=Toolbar(toolitems=[('Home', 'Reset original view', 'home', 'home'), ('Back', 'Back to previous …"
      ]
     },
     "metadata": {},
     "output_type": "display_data"
    },
    {
     "name": "stdout",
     "output_type": "stream",
     "text": [
      "nfvals: 442\n",
      "x: [-7.03033756e-13  4.19375047e-01]\n",
      "optimal_vertex: [4.07302057e-15 4.19375047e-01]\n",
      "datmat: \n",
      "[[0.41937505 0.41937505 0.        ]\n",
      " [0.41937505 0.41937505 0.        ]\n",
      " [0.41937505 0.41937505 0.        ]]\n",
      "a: \n",
      "[[ 1.03524662e-09  1.00000001e+00]\n",
      " [-9.99999988e-01 -1.00000000e+00]]\n",
      "sim: \n",
      "[[-7.07106777e-13 -7.07106786e-13]\n",
      " [ 1.26165393e-13  1.52105218e-12]]\n",
      "simi: \n",
      "[[-1.54212704e+12 -7.16904069e+11]\n",
      " [ 1.27913471e+11  7.16904060e+11]]\n",
      "optimal vertex: \n",
      "[4.07302057e-15 4.19375047e-01]\n",
      "parmu: 0\n",
      "rho: 1e-12\n"
     ]
    }
   ],
   "source": [
    "for _ in steps_it: pass\n",
    "fig, (ax1, ax2) = plot_track(opt, target=np.zeros(2), n_points=5, plot_simplex=False, plot_trure=True, aspect=False)\n",
    "ax2.plot(np.array((0, 0)), np.array((0, 10)), linestyle='-.')\n",
    "\n",
    "margin = 1e-1\n",
    "xmin = min((*opt.track[:, 0], 0))\n",
    "xmax = max((*opt.track[:, 0], 0))\n",
    "ymin = min((*opt.track[:, 1], 0))\n",
    "ymax = max((*opt.track[:, 1], 0))\n",
    "ax2.set(xlim=(xmin - margin, xmax + margin), ylim=(ymin - margin, ymax + margin))\n",
    "\n",
    "opt.data"
   ]
  },
  {
   "cell_type": "code",
   "execution_count": null,
   "id": "c75258c5",
   "metadata": {},
   "outputs": [],
   "source": []
  }
 ],
 "metadata": {
  "kernelspec": {
   "display_name": "Python 3",
   "language": "python",
   "name": "python3"
  },
  "language_info": {
   "codemirror_mode": {
    "name": "ipython",
    "version": 3
   },
   "file_extension": ".py",
   "mimetype": "text/x-python",
   "name": "python",
   "nbconvert_exporter": "python",
   "pygments_lexer": "ipython3",
   "version": "3.8.3"
  }
 },
 "nbformat": 4,
 "nbformat_minor": 5
}
