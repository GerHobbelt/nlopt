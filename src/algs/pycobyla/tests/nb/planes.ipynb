{
 "cells": [
  {
   "cell_type": "code",
   "execution_count": 418,
   "id": "af7b9a40",
   "metadata": {},
   "outputs": [],
   "source": [
    "import numpy as np\n",
    "\n",
    "from pycobyla.gcobyla import GCobyla"
   ]
  },
  {
   "cell_type": "markdown",
   "id": "157ad55f",
   "metadata": {},
   "source": [
    "# 2 Planes"
   ]
  },
  {
   "cell_type": "code",
   "execution_count": 419,
   "id": "9a55b324",
   "metadata": {},
   "outputs": [],
   "source": [
    "import functools\n",
    "\n",
    "import tests.test_custom as tc\n",
    "from tests.nb.utils import plot_track\n",
    "\n",
    "\n",
    "n1 = np.array((1, 1, 1))\n",
    "n2 = np.array((-1, 1, 1))\n",
    "p = np.zeros(3)\n",
    "\n",
    "h1 = functools.partial(tc.plane, n=n1, p=p)\n",
    "h2 = functools.partial(tc.plane, n=n2, p=p)\n",
    "\n",
    "F = lambda x: -h1(x) if x[0] >= 0 else -h2(x)\n",
    "\n",
    "def planes_optimizer(start_x):\n",
    "    n1 = np.array((1, 1, 1))\n",
    "    n2 = np.array((-1, 1, 1))\n",
    "    p = np.zeros(3)\n",
    "\n",
    "    c1 = lambda x: x[1]\n",
    "    C = (c1,)\n",
    "\n",
    "    opt = GCobyla(start_x, F, C, rhobeg=.5, rhoend=1e-12, maxfun=3500)\n",
    "    return opt"
   ]
  },
  {
   "cell_type": "code",
   "execution_count": 420,
   "id": "f60423ad",
   "metadata": {},
   "outputs": [
    {
     "data": {
      "application/vnd.jupyter.widget-view+json": {
       "model_id": "82c9e8963301446194e23a2533b83b30",
       "version_major": 2,
       "version_minor": 0
      },
      "text/plain": [
       "Canvas(toolbar=Toolbar(toolitems=[('Home', 'Reset original view', 'home', 'home'), ('Back', 'Back to previous …"
      ]
     },
     "metadata": {},
     "output_type": "display_data"
    }
   ],
   "source": [
    "%matplotlib widget\n",
    "#%matplotlib notebook\n",
    "import itertools\n",
    "\n",
    "from mpl_toolkits.mplot3d import Axes3D\n",
    "import matplotlib.pyplot as plt\n",
    "from matplotlib import cm\n",
    "from matplotlib.ticker import LinearLocator, FormatStrFormatter\n",
    "\n",
    "plt.close('all')\n",
    "fig = plt.figure()\n",
    "ax = fig.gca(projection='3d')\n",
    "    \n",
    "X = np.linspace(-2, 2, 200)\n",
    "Y = np.linspace(0, 4, 200)\n",
    "xv, yv = np.meshgrid(X, Y)\n",
    "zv = np.array(tuple(F(xx) for xx in zip(xv.ravel(), yv.ravel()))).reshape(xv.shape)\n",
    "\n",
    "# Plot the surface.\n",
    "surf = ax.plot_surface(xv, yv, zv, cmap=cm.inferno, linewidth=0, antialiased=True)\n",
    "\n",
    "# Customize the z axis.\n",
    "ax.zaxis.set_major_locator(LinearLocator(10))\n",
    "ax.zaxis.set_major_formatter(FormatStrFormatter('%.02f'))\n",
    "\n",
    "plt.show()"
   ]
  },
  {
   "cell_type": "code",
   "execution_count": 504,
   "id": "3b5271a7",
   "metadata": {},
   "outputs": [],
   "source": [
    "start_x = np.array((0.23243240513870577768074, 2.66331299470191806832986))\n",
    "opt = planes_optimizer(start_x=start_x)\n",
    "steps_it = (step for step in opt.g_run() if step in {GCobyla.BEFORE_REVIEW_CURRENT_SIMPLEX_CHECKPOINT, GCobyla.BEFORE_GENERATE_X_START_CHECKPOINT})"
   ]
  },
  {
   "cell_type": "code",
   "execution_count": 505,
   "id": "c19bf753",
   "metadata": {},
   "outputs": [
    {
     "data": {
      "application/vnd.jupyter.widget-view+json": {
       "model_id": "4b78e799f7eb4d13a9aab7cfcfd385c5",
       "version_major": 2,
       "version_minor": 0
      },
      "text/plain": [
       "Canvas(toolbar=Toolbar(toolitems=[('Home', 'Reset original view', 'home', 'home'), ('Back', 'Back to previous …"
      ]
     },
     "metadata": {},
     "output_type": "display_data"
    },
    {
     "name": "stdout",
     "output_type": "stream",
     "text": [
      "nfvals: 3\n",
      "x: [0.23243241 2.66331299]\n",
      "optimal_vertex: [0.23243241 2.66331299]\n",
      "datmat: \n",
      "[[2.66331299 3.3957454  0.        ]\n",
      " [3.16331299 3.3957454  0.        ]\n",
      " [2.66331299 2.8957454  0.        ]]\n",
      "a: \n",
      "None\n",
      "sim: \n",
      "[[0.5 0. ]\n",
      " [0.  0.5]]\n",
      "simi: \n",
      "[[2. 0.]\n",
      " [0. 2.]]\n",
      "optimal vertex: \n",
      "[0.23243241 2.66331299]\n",
      "parmu: 0\n",
      "rho: 0.5\n"
     ]
    }
   ],
   "source": [
    "next(steps_it)\n",
    "plot_track(opt, target=np.zeros(2), n_points=5, plot_simplex=False, plot_trure=True, aspect=False)\n",
    "opt.data"
   ]
  },
  {
   "cell_type": "code",
   "execution_count": 506,
   "id": "56bd07ec",
   "metadata": {},
   "outputs": [
    {
     "data": {
      "application/vnd.jupyter.widget-view+json": {
       "model_id": "93b1d3ebec6645a3879c60a364ded28c",
       "version_major": 2,
       "version_minor": 0
      },
      "text/plain": [
       "Canvas(toolbar=Toolbar(toolitems=[('Home', 'Reset original view', 'home', 'home'), ('Back', 'Back to previous …"
      ]
     },
     "metadata": {},
     "output_type": "display_data"
    },
    {
     "name": "stdout",
     "output_type": "stream",
     "text": [
      "nfvals: 442\n",
      "x: [-7.03033756e-13  4.19375047e-01]\n",
      "optimal_vertex: [4.07302057e-15 4.19375047e-01]\n",
      "datmat: \n",
      "[[0.41937505 0.41937505 0.        ]\n",
      " [0.41937505 0.41937505 0.        ]\n",
      " [0.41937505 0.41937505 0.        ]]\n",
      "a: \n",
      "[[ 1.03524662e-09  1.00000001e+00]\n",
      " [-9.99999988e-01 -1.00000000e+00]]\n",
      "sim: \n",
      "[[-7.07106777e-13 -7.07106786e-13]\n",
      " [ 1.26165393e-13  1.52105218e-12]]\n",
      "simi: \n",
      "[[-1.54212704e+12 -7.16904069e+11]\n",
      " [ 1.27913471e+11  7.16904060e+11]]\n",
      "optimal vertex: \n",
      "[4.07302057e-15 4.19375047e-01]\n",
      "parmu: 0\n",
      "rho: 1e-12\n"
     ]
    }
   ],
   "source": [
    "for _ in steps_it: pass\n",
    "fig, (ax1, ax2) = plot_track(opt, target=np.zeros(2), n_points=5, plot_simplex=False, plot_trure=True, aspect=False)\n",
    "ax2.plot(np.array((0, 0)), np.array((0, 10)), linestyle='-.')\n",
    "\n",
    "margin = 1e-1\n",
    "xmin = min((*opt.track[:, 0], 0))\n",
    "xmax = max((*opt.track[:, 0], 0))\n",
    "ymin = min((*opt.track[:, 1], 0))\n",
    "ymax = max((*opt.track[:, 1], 0))\n",
    "ax2.set(xlim=(xmin - margin, xmax + margin), ylim=(ymin - margin, ymax + margin))\n",
    "\n",
    "opt.data"
   ]
  },
  {
   "cell_type": "code",
   "execution_count": null,
   "id": "843c3c80",
   "metadata": {},
   "outputs": [],
   "source": []
  }
 ],
 "metadata": {
  "kernelspec": {
   "display_name": "Python 3",
   "language": "python",
   "name": "python3"
  },
  "language_info": {
   "codemirror_mode": {
    "name": "ipython",
    "version": 3
   },
   "file_extension": ".py",
   "mimetype": "text/x-python",
   "name": "python",
   "nbconvert_exporter": "python",
   "pygments_lexer": "ipython3",
   "version": "3.8.3"
  }
 },
 "nbformat": 4,
 "nbformat_minor": 5
}
