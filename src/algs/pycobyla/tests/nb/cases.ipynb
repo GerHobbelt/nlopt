{
 "cells": [
  {
   "cell_type": "code",
   "execution_count": 25,
   "id": "f7f1439b",
   "metadata": {},
   "outputs": [],
   "source": [
    "import functools\n",
    "import itertools\n",
    "\n",
    "import numpy as np\n",
    "\n",
    "from pycobyla.cobyla import Cobyla\n",
    "\n",
    "\n",
    "def gaussian(x, mu=None, sig=None, A=1):\n",
    "    n = len(x)\n",
    "    mu =  np.zeros(n) if mu is None else mu\n",
    "    sig = np.ones(n) if sig is None else sig\n",
    "\n",
    "    zz = ((((x - mu) / sig) ** 2) / 2).sum()\n",
    "    return A * np.exp(-zz)\n",
    "\n",
    "\n",
    "def neg_gaussian(x, mu=None, sig=None, A=1):\n",
    "    return -gaussian(x, mu=mu, sig=sig, A=A)"
   ]
  },
  {
   "cell_type": "code",
   "execution_count": 31,
   "id": "6624ddd9",
   "metadata": {},
   "outputs": [],
   "source": [
    "def optimization_out_of_the_boundary_circle(radius=2):\n",
    "    sig = np.random.choice((-1, 1))\n",
    "    phi = np.random.uniform(low=0, high=2*np.pi*radius) / radius\n",
    "    x_circle = radius * np.cos(phi)\n",
    "    y_circle = radius * np.sin(phi)\n",
    "    \n",
    "    mu = np.array((x_circle, y_circle))\n",
    "    \n",
    "    G = functools.partial(neg_gaussian, mu=mu)\n",
    "    c1 = lambda x: 1 - sum(x ** 2)\n",
    "\n",
    "    C = (c1,)\n",
    "    x = np.zeros(2)\n",
    "\n",
    "    opt = Cobyla(x, G, C, rhobeg=0.5, rhoend=1e-12)\n",
    "    opt.run()\n",
    "    \n",
    "    return mu, opt.x"
   ]
  },
  {
   "cell_type": "code",
   "execution_count": 39,
   "id": "17ddeaec",
   "metadata": {},
   "outputs": [
    {
     "data": {
      "application/vnd.jupyter.widget-view+json": {
       "model_id": "2cc743f3db684c8098f2eef66f270584",
       "version_major": 2,
       "version_minor": 0
      },
      "text/plain": [
       "Canvas(toolbar=Toolbar(toolitems=[('Home', 'Reset original view', 'home', 'home'), ('Back', 'Back to previous …"
      ]
     },
     "metadata": {},
     "output_type": "display_data"
    }
   ],
   "source": [
    "%matplotlib widget\n",
    "import matplotlib.pyplot as plt\n",
    "\n",
    "n_targets = 200\n",
    "data = tuple(optimization_out_of_the_boundary_circle() for _ in range(n_targets))\n",
    "v_mu = np.array(tuple(mu for mu, opt in data))\n",
    "v_opt = np.array(tuple(opt for mu, opt in data))\n",
    "\n",
    "plt.close('all')\n",
    "fig, ax = plt.subplots(figsize=(6, 6))\n",
    "ax.axis('equal');\n",
    "\n",
    "boundary = plt.Circle((0, 0), 1, color='y', fill=True)\n",
    "targets = plt.Circle((0, 0), 2, color='b', fill=False)\n",
    "ax.add_patch(boundary)\n",
    "ax.add_patch(targets)\n",
    "\n",
    "ax.plot(v_mu[:, 0], v_mu[:, 1], 'o')\n",
    "ax.plot(v_opt[:, 0], v_opt[:, 1], 'x')\n",
    "for mu, opt in zip(v_mu, v_opt):\n",
    "    mu_x, mu_y = mu\n",
    "    opt_x, opt_y = opt\n",
    "    xx = np.array((mu_x, opt_x))\n",
    "    yy = np.array((mu_y, opt_y))\n",
    "    ax.plot(xx, yy, linestyle='-.')\n"
   ]
  },
  {
   "cell_type": "code",
   "execution_count": 36,
   "id": "a2527cce",
   "metadata": {},
   "outputs": [],
   "source": [
    "def optimization_out_of_the_boundary_square(side=1):\n",
    "    radius = 2\n",
    "    phi = np.random.uniform(low=0, high=2*np.pi*radius) / radius\n",
    "    x_circle = radius * np.cos(phi)\n",
    "    y_circle = radius * np.sin(phi)\n",
    "    \n",
    "    mu = np.array((x_circle, y_circle))\n",
    "    \n",
    "    G = functools.partial(neg_gaussian, mu=mu)\n",
    "    c1 = lambda x: side/2 - x[0]\n",
    "    c2 = lambda x: side/2 + x[0]\n",
    "    c3 = lambda x: side/2 - x[1]\n",
    "    c4 = lambda x: side/2 + x[1]\n",
    "\n",
    "    C = (c1, c2, c3, c4)\n",
    "    x = np.zeros(2)\n",
    "\n",
    "    opt = Cobyla(x, G, C, rhoend=1e-12)\n",
    "    opt.run()\n",
    "    \n",
    "    return mu, opt.x"
   ]
  },
  {
   "cell_type": "code",
   "execution_count": 38,
   "id": "53977869",
   "metadata": {},
   "outputs": [
    {
     "data": {
      "application/vnd.jupyter.widget-view+json": {
       "model_id": "fec15df2393449989bf451ccca05a437",
       "version_major": 2,
       "version_minor": 0
      },
      "text/plain": [
       "Canvas(toolbar=Toolbar(toolitems=[('Home', 'Reset original view', 'home', 'home'), ('Back', 'Back to previous …"
      ]
     },
     "metadata": {},
     "output_type": "display_data"
    }
   ],
   "source": [
    "%matplotlib widget\n",
    "import matplotlib.pyplot as plt\n",
    "from matplotlib.patches import Rectangle\n",
    "\n",
    "side = 2\n",
    "n_targets = 200\n",
    "data = tuple(optimization_out_of_the_boundary_square(side=side) for _ in range(n_targets))\n",
    "v_mu = np.array(tuple(mu for mu, opt in data))\n",
    "v_opt = np.array(tuple(opt for mu, opt in data))\n",
    "\n",
    "plt.close('all')\n",
    "fig, ax = plt.subplots(figsize=(6, 6))\n",
    "ax.axis('equal')\n",
    "\n",
    "boundary = plt.Rectangle((-1, -1), side, side, color='y', fill=True)\n",
    "targets = plt.Circle((0, 0), 2, color='b', fill=False)\n",
    "ax.add_patch(boundary)\n",
    "ax.add_patch(targets)\n",
    "\n",
    "ax.plot(v_mu[:, 0], v_mu[:, 1], 'o')\n",
    "ax.plot(v_opt[:, 0], v_opt[:, 1], 'x')\n",
    "for mu, opt in zip(v_mu, v_opt):\n",
    "    mu_x, mu_y = mu\n",
    "    opt_x, opt_y = opt\n",
    "    xx = np.array((mu_x, opt_x))\n",
    "    yy = np.array((mu_y, opt_y))\n",
    "    ax.plot(xx, yy, linestyle='-.')\n"
   ]
  }
 ],
 "metadata": {
  "kernelspec": {
   "display_name": "Python 3",
   "language": "python",
   "name": "python3"
  },
  "language_info": {
   "codemirror_mode": {
    "name": "ipython",
    "version": 3
   },
   "file_extension": ".py",
   "mimetype": "text/x-python",
   "name": "python",
   "nbconvert_exporter": "python",
   "pygments_lexer": "ipython3",
   "version": "3.8.3"
  }
 },
 "nbformat": 4,
 "nbformat_minor": 5
}
