{
 "cells": [
  {
   "cell_type": "code",
   "execution_count": 11,
   "id": "92bbf54e",
   "metadata": {},
   "outputs": [],
   "source": [
    "import functools\n",
    "import itertools\n",
    "\n",
    "import numpy as np\n",
    "\n",
    "from pycobyla.cobyla import Cobyla\n",
    "\n",
    "import tests.test_custom as tc"
   ]
  },
  {
   "cell_type": "markdown",
   "id": "1394071f",
   "metadata": {},
   "source": [
    "# Optimization out of circle"
   ]
  },
  {
   "cell_type": "code",
   "execution_count": 12,
   "id": "9e61feb3",
   "metadata": {},
   "outputs": [],
   "source": [
    "def optimization_out_of_the_boundary_circle(inner_radius=1, outer_radius=2, start_x=(0,0)):\n",
    "    assert outer_radius > inner_radius\n",
    "    \n",
    "    sig = np.random.choice((-1, 1))\n",
    "    phi = np.random.uniform(low=0, high=2*np.pi*outer_radius) / outer_radius\n",
    "    x_circle = outer_radius * np.cos(phi)\n",
    "    y_circle = outer_radius * np.sin(phi)\n",
    "    \n",
    "    mu = np.array((x_circle, y_circle))\n",
    "    \n",
    "    G = functools.partial(tc.gaussian, mu=mu, A=-1)\n",
    "    c1 = lambda x: inner_radius - sum(x ** 2)\n",
    "\n",
    "    C = (c1,)\n",
    "\n",
    "    opt = Cobyla(start_x, G, C, rhobeg=0.5, rhoend=1e-15)\n",
    "    opt.run()\n",
    "    \n",
    "    return mu, opt"
   ]
  },
  {
   "cell_type": "code",
   "execution_count": 49,
   "id": "2e024415",
   "metadata": {},
   "outputs": [
    {
     "data": {
      "application/vnd.jupyter.widget-view+json": {
       "model_id": "f37cdf9d043942b883b4753acb34a761",
       "version_major": 2,
       "version_minor": 0
      },
      "text/plain": [
       "Canvas(toolbar=Toolbar(toolitems=[('Home', 'Reset original view', 'home', 'home'), ('Back', 'Back to previous …"
      ]
     },
     "metadata": {},
     "output_type": "display_data"
    }
   ],
   "source": [
    "%matplotlib widget\n",
    "import matplotlib.pyplot as plt\n",
    "\n",
    "start_x = np.random.uniform(low=-1, high=1, size=2)\n",
    "inner_radius = 1\n",
    "outer_radius = 2\n",
    "mu, opt = optimization_out_of_the_boundary_circle(inner_radius=inner_radius, outer_radius=outer_radius, start_x=start_x)\n",
    "\n",
    "plt.close('all')\n",
    "fig, ax = plt.subplots(figsize=(6, 6))\n",
    "ax.axis('equal')\n",
    "\n",
    "inner_circle = plt.Circle((0, 0), inner_radius, color='mistyrose', fill=True)  # boundary\n",
    "outer_circle = plt.Circle((0, 0), outer_radius, color='lightgrey', fill=False)\n",
    "ax.add_patch(inner_circle)\n",
    "ax.add_patch(outer_circle)\n",
    "\n",
    "ax.plot(*start_x, marker='o', color='blue')\n",
    "ax.plot(*opt.x, marker='o', color='orange')\n",
    "ax.plot(*mu, marker='*', color='limegreen')\n",
    "#ax.plot((start_x[0], opt.x[0]), (start_x[1], opt.x[1]), linestyle='-', color='red')\n",
    "ax.plot((opt.x[0], mu[0]), (opt.x[1], mu[1]), linestyle='-.', color='red')\n",
    "\n",
    "uv = (mu - opt.x)\n",
    "uv /= np.linalg.norm(uv)\n",
    "vv = (mu[1], -mu[0])\n",
    "vv /= np.linalg.norm(vv)\n",
    "\n",
    "assert abs(uv @ vv) < 1e-9"
   ]
  },
  {
   "cell_type": "code",
   "execution_count": 50,
   "id": "60c65acf",
   "metadata": {},
   "outputs": [
    {
     "data": {
      "application/vnd.jupyter.widget-view+json": {
       "model_id": "9c2c61153909441cacf86fd20156676b",
       "version_major": 2,
       "version_minor": 0
      },
      "text/plain": [
       "Canvas(toolbar=Toolbar(toolitems=[('Home', 'Reset original view', 'home', 'home'), ('Back', 'Back to previous …"
      ]
     },
     "metadata": {},
     "output_type": "display_data"
    }
   ],
   "source": [
    "%matplotlib widget\n",
    "import matplotlib.pyplot as plt\n",
    "\n",
    "inner_radius = 1\n",
    "outer_radius = 2\n",
    "start_x = np.random.uniform(low=-1, high=1, size=2)\n",
    "\n",
    "n_targets = 15\n",
    "data = tuple(optimization_out_of_the_boundary_circle(inner_radius=inner_radius, outer_radius=outer_radius, start_x=start_x) \n",
    "             for _ in range(n_targets))\n",
    "\n",
    "v_mu = np.array(tuple(mu for mu, opt in data))\n",
    "v_opt = np.array(tuple(opt.x for mu, opt in data))\n",
    "\n",
    "plt.close('all')\n",
    "fig, ax = plt.subplots(figsize=(6, 6))\n",
    "ax.axis('equal')\n",
    "\n",
    "inner_circle = plt.Circle((0, 0), inner_radius, color='mistyrose', fill=True)  # boundary\n",
    "outer_circle = plt.Circle((0, 0), outer_radius, color='lightgrey', fill=False)\n",
    "ax.add_patch(inner_circle)\n",
    "ax.add_patch(outer_circle)\n",
    "\n",
    "ax.plot(*start_x, marker='o', color='blue')\n",
    "ax.plot(v_opt[:, 0], v_opt[:, 1], linestyle='', marker='o', color='orange')\n",
    "ax.plot(v_mu[:, 0], v_mu[:, 1],  linestyle='', marker='*', color='limegreen')\n",
    "for mu, opt_x in zip(v_mu, v_opt):\n",
    "    #ax.plot((start_x[0], opt_x[0]), (start_x[1], opt_x[1]), linestyle='-', color='red')\n",
    "    ax.plot((opt_x[0], mu[0]), (opt_x[1], mu[1]), linestyle='-.', color='red')"
   ]
  },
  {
   "cell_type": "markdown",
   "id": "34065388",
   "metadata": {},
   "source": [
    "# Optimization out of square"
   ]
  },
  {
   "cell_type": "code",
   "execution_count": 51,
   "id": "ad5d454b",
   "metadata": {},
   "outputs": [],
   "source": [
    "def optimization_out_of_the_boundary_square(side=1, outer_radius=2, start_x=(0,0)):\n",
    "    phi = np.random.uniform(low=0, high=2*np.pi*outer_radius) / outer_radius\n",
    "    x_circle = outer_radius * np.cos(phi)\n",
    "    y_circle = outer_radius * np.sin(phi)\n",
    "    \n",
    "    mu = np.array((x_circle, y_circle))\n",
    "    \n",
    "    G = functools.partial(tc.gaussian, mu=mu, A=-1)\n",
    "    c1 = lambda x: side/2 - x[0]\n",
    "    c2 = lambda x: side/2 + x[0]\n",
    "    c3 = lambda x: side/2 - x[1]\n",
    "    c4 = lambda x: side/2 + x[1]\n",
    "\n",
    "    C = (c1, c2, c3, c4)\n",
    "\n",
    "    opt = Cobyla(start_x, G, C, rhoend=1e-12)\n",
    "    opt.run()\n",
    "    \n",
    "    return mu, opt"
   ]
  },
  {
   "cell_type": "code",
   "execution_count": 52,
   "id": "923ed17e",
   "metadata": {},
   "outputs": [
    {
     "data": {
      "application/vnd.jupyter.widget-view+json": {
       "model_id": "fe61f8f23bd74033ac2ed580e9bc4abe",
       "version_major": 2,
       "version_minor": 0
      },
      "text/plain": [
       "Canvas(toolbar=Toolbar(toolitems=[('Home', 'Reset original view', 'home', 'home'), ('Back', 'Back to previous …"
      ]
     },
     "metadata": {},
     "output_type": "display_data"
    }
   ],
   "source": [
    "%matplotlib widget\n",
    "import matplotlib.pyplot as plt\n",
    "from matplotlib.patches import Rectangle\n",
    "\n",
    "side = 2\n",
    "outer_radius = 2\n",
    "start_x = np.random.uniform(low=-1.5, high=1.5, size=2)\n",
    "\n",
    "mu, opt = optimization_out_of_the_boundary_square(side=side, outer_radius=outer_radius, start_x=start_x)\n",
    "\n",
    "plt.close('all')\n",
    "fig, ax = plt.subplots(figsize=(6, 6))\n",
    "ax.axis('equal')\n",
    "\n",
    "boundary = plt.Rectangle((-side/2, -side/2), side, side, color='mistyrose', fill=True)\n",
    "outer_circle = plt.Circle((0, 0), outer_radius, color='lightgrey', fill=False)\n",
    "ax.add_patch(boundary)\n",
    "ax.add_patch(outer_circle)\n",
    "\n",
    "\n",
    "ax.plot(*start_x, marker='o', color='blue')\n",
    "ax.plot(*opt.x, marker='o', color='orange')\n",
    "ax.plot(*mu, marker='*', color='limegreen')\n",
    "#ax.plot((start_x[0], opt.x[0]), (start_x[1], opt.x[1]), linestyle='-', color='red')\n",
    "ax.plot((opt.x[0], mu[0]), (opt.x[1], mu[1]), linestyle='-.', color='red')\n",
    "\n",
    "uv = (mu - opt.x)\n",
    "leftright = np.array((1,0)) @ uv\n",
    "updown = np.array((0,1)) @ uv"
   ]
  },
  {
   "cell_type": "code",
   "execution_count": 53,
   "id": "64a03fed",
   "metadata": {},
   "outputs": [
    {
     "data": {
      "application/vnd.jupyter.widget-view+json": {
       "model_id": "bc1aa1aa6c8d4a1187ae2a36e58dc7ac",
       "version_major": 2,
       "version_minor": 0
      },
      "text/plain": [
       "Canvas(toolbar=Toolbar(toolitems=[('Home', 'Reset original view', 'home', 'home'), ('Back', 'Back to previous …"
      ]
     },
     "metadata": {},
     "output_type": "display_data"
    }
   ],
   "source": [
    "%matplotlib widget\n",
    "import matplotlib.pyplot as plt\n",
    "from matplotlib.patches import Rectangle\n",
    "\n",
    "side = 2\n",
    "outer_radius = 2\n",
    "start_x = np.random.uniform(low=-1.5, high=1.5, size=2)\n",
    "\n",
    "n_targets = 15\n",
    "data = tuple(optimization_out_of_the_boundary_square(side=side, outer_radius=outer_radius, start_x=start_x) \n",
    "             for _ in range(n_targets))\n",
    "v_mu = np.array(tuple(mu for mu, opt in data))\n",
    "v_opt = np.array(tuple(opt.x for mu, opt in data))\n",
    "\n",
    "plt.close('all')\n",
    "fig, ax = plt.subplots(figsize=(6, 6))\n",
    "ax.axis('equal')\n",
    "\n",
    "boundary = plt.Rectangle((-side/2, -side/2), side, side, color='mistyrose', fill=True)\n",
    "outer_circle = plt.Circle((0, 0), outer_radius, color='lightgrey', fill=False)\n",
    "ax.add_patch(boundary)\n",
    "ax.add_patch(outer_circle)\n",
    "\n",
    "ax.plot(*start_x, marker='o', color='blue')\n",
    "ax.plot(v_opt[:, 0], v_opt[:, 1], linestyle='', marker='o', color='orange')\n",
    "ax.plot(v_mu[:, 0], v_mu[:, 1],  linestyle='', marker='*', color='limegreen')\n",
    "\n",
    "for mu, opt_x in zip(v_mu, v_opt):\n",
    "    #ax.plot((start_x[0], opt_x[0]), (start_x[1], opt_x[1]), linestyle='-', color='red')\n",
    "    ax.plot((opt_x[0], mu[0]), (opt_x[1], mu[1]), linestyle='-.', color='red')\n"
   ]
  },
  {
   "cell_type": "markdown",
   "id": "5a0e799c",
   "metadata": {},
   "source": [
    "# Two peaks"
   ]
  },
  {
   "cell_type": "code",
   "execution_count": null,
   "id": "1048b8e1",
   "metadata": {},
   "outputs": [],
   "source": []
  }
 ],
 "metadata": {
  "kernelspec": {
   "display_name": "Python 3",
   "language": "python",
   "name": "python3"
  },
  "language_info": {
   "codemirror_mode": {
    "name": "ipython",
    "version": 3
   },
   "file_extension": ".py",
   "mimetype": "text/x-python",
   "name": "python",
   "nbconvert_exporter": "python",
   "pygments_lexer": "ipython3",
   "version": "3.8.3"
  }
 },
 "nbformat": 4,
 "nbformat_minor": 5
}
