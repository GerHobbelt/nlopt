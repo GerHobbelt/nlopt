{
 "cells": [
  {
   "cell_type": "code",
   "execution_count": 102,
   "id": "b582f2d8",
   "metadata": {},
   "outputs": [],
   "source": [
    "import functools\n",
    "import itertools\n",
    "\n",
    "import numpy as np\n",
    "\n",
    "from pycobyla.cobyla import Cobyla\n",
    "\n",
    "\n",
    "def gaussian(x, mu=None, sig=None, A=1):\n",
    "    n = len(x)\n",
    "    mu =  np.zeros(n) if mu is None else mu\n",
    "    sig = np.ones(n) if sig is None else sig\n",
    "\n",
    "    zz = ((((x - mu) / sig) ** 2) / 2).sum()\n",
    "    return A * np.exp(-zz)\n",
    "\n",
    "\n",
    "def neg_gaussian(x, mu=None, sig=None, A=1):\n",
    "    return -gaussian(x, mu=mu, sig=sig, A=A)"
   ]
  },
  {
   "cell_type": "code",
   "execution_count": 111,
   "id": "ad35e17b",
   "metadata": {},
   "outputs": [],
   "source": [
    "def optimization_out_of_the_boundary_circle(radius=2):\n",
    "    r_circle = lambda x, radius, sig: sig * (((radius ** 2) - (x ** 2)) ** 0.5)\n",
    "    \n",
    "    sig = np.random.choice((-1, 1))\n",
    "    x_circle = np.random.uniform(low=-radius, high=radius)\n",
    "    y_circle = r_circle(x_circle, radius=radius, sig=sig)\n",
    "    mu = np.array((x_circle, y_circle))\n",
    "    \n",
    "    G = functools.partial(neg_gaussian, mu=mu)\n",
    "    c1 = lambda x: 1 - sum(x ** 2)\n",
    "\n",
    "    C = (c1,)\n",
    "    x = np.zeros(2)\n",
    "\n",
    "    opt = Cobyla(x, G, C, rhobeg=0.5, rhoend=1e-12)\n",
    "    opt.run()\n",
    "    \n",
    "    return mu, opt.x"
   ]
  },
  {
   "cell_type": "code",
   "execution_count": 118,
   "id": "709f4e5c",
   "metadata": {},
   "outputs": [
    {
     "data": {
      "application/vnd.jupyter.widget-view+json": {
       "model_id": "e33474a11fa447dc8dcb1c2c57947e0e",
       "version_major": 2,
       "version_minor": 0
      },
      "text/plain": [
       "Canvas(toolbar=Toolbar(toolitems=[('Home', 'Reset original view', 'home', 'home'), ('Back', 'Back to previous …"
      ]
     },
     "metadata": {},
     "output_type": "display_data"
    }
   ],
   "source": [
    "%matplotlib widget\n",
    "import matplotlib.pyplot as plt\n",
    "\n",
    "n_targets = 100\n",
    "data = tuple(optimization_out_of_the_boundary_circle() for _ in range(n_targets))\n",
    "v_mu = np.array(tuple(mu for mu, opt in data))\n",
    "v_opt = np.array(tuple(opt for mu, opt in data))\n",
    "\n",
    "plt.close('all')\n",
    "fig, ax = plt.subplots(figsize=(6, 6))\n",
    "ax.axis('equal');\n",
    "\n",
    "boundary = plt.Circle((0, 0), 1, color='y', fill=True)\n",
    "targets = plt.Circle((0, 0), 2, color='b', fill=False)\n",
    "ax.add_patch(boundary)\n",
    "ax.add_patch(targets)\n",
    "\n",
    "ax.plot(v_mu[:, 0], v_mu[:, 1], 'o')\n",
    "ax.plot(v_opt[:, 0], v_opt[:, 1], 'x')\n",
    "for mu, opt in zip(v_mu, v_opt):\n",
    "    mu_x, mu_y = mu\n",
    "    opt_x, opt_y = opt\n",
    "    xx = np.array((mu_x, opt_x))\n",
    "    yy = np.array((mu_y, opt_y))\n",
    "    ax.plot(xx, yy, linestyle='-.')\n"
   ]
  },
  {
   "cell_type": "code",
   "execution_count": 115,
   "id": "7d14a0a5",
   "metadata": {},
   "outputs": [],
   "source": [
    "def optimization_out_of_the_boundary_square(side=1):\n",
    "    r_circle = lambda x, radius, sig: sig * (((radius ** 2) - (x ** 2)) ** 0.5)\n",
    "    \n",
    "    sig = np.random.choice((-1, 1))\n",
    "    x_circle = np.random.uniform(low=-side, high=side)\n",
    "    y_circle = r_circle(x_circle, radius=side, sig=sig)\n",
    "    mu = np.array((x_circle, y_circle))\n",
    "    \n",
    "    G = functools.partial(neg_gaussian, mu=mu)\n",
    "    c1 = lambda x: side/2 - x[0]\n",
    "    c2 = lambda x: side/2 + x[0]\n",
    "    c3 = lambda x: side/2 - x[1]\n",
    "    c4 = lambda x: side/2 + x[1]\n",
    "\n",
    "    C = (c1, c2, c3, c4)\n",
    "    x = np.zeros(2)\n",
    "\n",
    "    opt = Cobyla(x, G, C, rhoend=1e-12)\n",
    "    opt.run()\n",
    "    \n",
    "    return mu, opt.x"
   ]
  },
  {
   "cell_type": "code",
   "execution_count": 117,
   "id": "f073a5d9",
   "metadata": {},
   "outputs": [
    {
     "data": {
      "application/vnd.jupyter.widget-view+json": {
       "model_id": "e2967a6f64f7434aa017c00784157709",
       "version_major": 2,
       "version_minor": 0
      },
      "text/plain": [
       "Canvas(toolbar=Toolbar(toolitems=[('Home', 'Reset original view', 'home', 'home'), ('Back', 'Back to previous …"
      ]
     },
     "metadata": {},
     "output_type": "display_data"
    }
   ],
   "source": [
    "%matplotlib widget\n",
    "import matplotlib.pyplot as plt\n",
    "from matplotlib.patches import Rectangle\n",
    "\n",
    "side = 2\n",
    "n_targets = 100\n",
    "data = tuple(optimization_out_of_the_boundary_square(side=side) for _ in range(n_targets))\n",
    "v_mu = np.array(tuple(mu for mu, opt in data))\n",
    "v_opt = np.array(tuple(opt for mu, opt in data))\n",
    "\n",
    "plt.close('all')\n",
    "fig, ax = plt.subplots(figsize=(6, 6))\n",
    "ax.axis('equal')\n",
    "\n",
    "boundary = plt.Rectangle((-1, -1), side, side, color='y', fill=True)\n",
    "targets = plt.Circle((0, 0), 2, color='b', fill=False)\n",
    "ax.add_patch(boundary)\n",
    "ax.add_patch(targets)\n",
    "\n",
    "ax.plot(v_mu[:, 0], v_mu[:, 1], 'o')\n",
    "ax.plot(v_opt[:, 0], v_opt[:, 1], 'x')\n",
    "for mu, opt in zip(v_mu, v_opt):\n",
    "    mu_x, mu_y = mu\n",
    "    opt_x, opt_y = opt\n",
    "    xx = np.array((mu_x, opt_x))\n",
    "    yy = np.array((mu_y, opt_y))\n",
    "    ax.plot(xx, yy, linestyle='-.')\n"
   ]
  },
  {
   "cell_type": "code",
   "execution_count": null,
   "id": "74e8f8a9",
   "metadata": {},
   "outputs": [],
   "source": []
  }
 ],
 "metadata": {
  "kernelspec": {
   "display_name": "Python 3",
   "language": "python",
   "name": "python3"
  },
  "language_info": {
   "codemirror_mode": {
    "name": "ipython",
    "version": 3
   },
   "file_extension": ".py",
   "mimetype": "text/x-python",
   "name": "python",
   "nbconvert_exporter": "python",
   "pygments_lexer": "ipython3",
   "version": "3.8.3"
  }
 },
 "nbformat": 4,
 "nbformat_minor": 5
}
