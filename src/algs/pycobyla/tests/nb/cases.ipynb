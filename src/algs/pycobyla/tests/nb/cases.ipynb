{
 "cells": [
  {
   "cell_type": "code",
   "execution_count": 14,
   "id": "5db30498",
   "metadata": {},
   "outputs": [],
   "source": [
    "import functools\n",
    "import itertools\n",
    "\n",
    "import numpy as np\n",
    "\n",
    "from pycobyla.cobyla import Cobyla\n",
    "\n",
    "\n",
    "def gaussian(x, mu=None, sig=None, A=1):\n",
    "    n = len(x)\n",
    "    mu =  np.zeros(n) if mu is None else mu\n",
    "    sig = np.ones(n) if sig is None else sig\n",
    "\n",
    "    zz = ((((x - mu) / sig) ** 2) / 2).sum()\n",
    "    return A * np.exp(-zz)\n",
    "\n",
    "\n",
    "def neg_gaussian(x, mu=None, sig=None, A=1):\n",
    "    return -gaussian(x, mu=mu, sig=sig, A=A)"
   ]
  },
  {
   "cell_type": "code",
   "execution_count": 15,
   "id": "43bf30b7",
   "metadata": {},
   "outputs": [],
   "source": [
    "def optimization_out_of_the_boundary_circle(inner_radius=1, outer_radius=2, start_x=(0,0)):\n",
    "    assert outer_radius > inner_radius\n",
    "    \n",
    "    sig = np.random.choice((-1, 1))\n",
    "    phi = np.random.uniform(low=0, high=2*np.pi*outer_radius) / outer_radius\n",
    "    x_circle = outer_radius * np.cos(phi)\n",
    "    y_circle = outer_radius * np.sin(phi)\n",
    "    \n",
    "    mu = np.array((x_circle, y_circle))\n",
    "    \n",
    "    G = functools.partial(neg_gaussian, mu=mu)\n",
    "    c1 = lambda x: inner_radius - sum(x ** 2)\n",
    "\n",
    "    C = (c1,)\n",
    "\n",
    "    opt = Cobyla(start_x, G, C, rhobeg=0.5, rhoend=1e-15)\n",
    "    opt.run()\n",
    "    \n",
    "    return mu, opt"
   ]
  },
  {
   "cell_type": "code",
   "execution_count": 16,
   "id": "a4ca7c14",
   "metadata": {},
   "outputs": [
    {
     "data": {
      "application/vnd.jupyter.widget-view+json": {
       "model_id": "3d492d51a595467bb6a7e93a244203ee",
       "version_major": 2,
       "version_minor": 0
      },
      "text/plain": [
       "Canvas(toolbar=Toolbar(toolitems=[('Home', 'Reset original view', 'home', 'home'), ('Back', 'Back to previous …"
      ]
     },
     "metadata": {},
     "output_type": "display_data"
    }
   ],
   "source": [
    "%matplotlib widget\n",
    "import matplotlib.pyplot as plt\n",
    "\n",
    "start_x = np.random.uniform(low=-1, high=1, size=2)\n",
    "inner_radius = 1\n",
    "outer_radius = 2\n",
    "mu, opt = optimization_out_of_the_boundary_circle(inner_radius=inner_radius, outer_radius=outer_radius, start_x=start_x)\n",
    "\n",
    "plt.close('all')\n",
    "fig, ax = plt.subplots(figsize=(6, 6))\n",
    "ax.axis('equal')\n",
    "\n",
    "inner_circle = plt.Circle((0, 0), inner_radius, color='mistyrose', fill=True)  # boundary\n",
    "outter_circle = plt.Circle((0, 0), outer_radius, color='lightgrey', fill=False)\n",
    "ax.add_patch(inner_circle)\n",
    "ax.add_patch(outter_circle)\n",
    "\n",
    "ax.plot(*start_x, marker='o', color='blue')\n",
    "ax.plot(*opt.x, marker='o', color='orange')\n",
    "ax.plot(*mu, marker='*', color='limegreen')\n",
    "#ax.plot((start_x[0], opt.x[0]), (start_x[1], opt.x[1]), linestyle='-', color='red')\n",
    "ax.plot((opt.x[0], mu[0]), (opt.x[1], mu[1]), linestyle='-.', color='red')\n",
    "\n",
    "uv = (mu - opt.x)\n",
    "uv /= np.linalg.norm(uv)\n",
    "vv = (mu[1], -mu[0])\n",
    "vv /= np.linalg.norm(vv)\n",
    "\n",
    "assert abs(uv @ vv) < 1e-9\n"
   ]
  },
  {
   "cell_type": "code",
   "execution_count": 17,
   "id": "fd06beee",
   "metadata": {},
   "outputs": [
    {
     "data": {
      "application/vnd.jupyter.widget-view+json": {
       "model_id": "5b3d1f1d31774b8a961015b477f8d40c",
       "version_major": 2,
       "version_minor": 0
      },
      "text/plain": [
       "Canvas(toolbar=Toolbar(toolitems=[('Home', 'Reset original view', 'home', 'home'), ('Back', 'Back to previous …"
      ]
     },
     "metadata": {},
     "output_type": "display_data"
    }
   ],
   "source": [
    "%matplotlib widget\n",
    "import matplotlib.pyplot as plt\n",
    "\n",
    "inner_radius = 1\n",
    "outter_radius = 2\n",
    "start_x = np.zeros(2)\n",
    "\n",
    "n_targets = 10\n",
    "data = tuple(optimization_out_of_the_boundary_circle(inner_radius=inner_radius, outer_radius=outter_radius, start_x=start_x) \n",
    "             for _ in range(n_targets))\n",
    "\n",
    "v_mu = np.array(tuple(mu for mu, opt in data))\n",
    "v_opt = np.array(tuple(opt.x for mu, opt in data))\n",
    "\n",
    "plt.close('all')\n",
    "fig, ax = plt.subplots(figsize=(6, 6))\n",
    "ax.axis('equal')\n",
    "\n",
    "inner_circle = plt.Circle((0, 0), inner_radius, color='mistyrose', fill=True)  # boundary\n",
    "outer_circle = plt.Circle((0, 0), outter_radius, color='lightgrey', fill=False)\n",
    "ax.add_patch(inner_circle)\n",
    "ax.add_patch(outer_circle)\n",
    "\n",
    "ax.plot(*start_x, marker='o', color='blue')\n",
    "ax.plot(v_opt[:, 0], v_opt[:, 1], linestyle='', marker='o', color='orange')\n",
    "ax.plot(v_mu[:, 0], v_mu[:, 1],  linestyle='', marker='*', color='limegreen')\n",
    "for mu, opt_x in zip(v_mu, v_opt):\n",
    "    #ax.plot((start_x[0], opt_x[0]), (start_x[1], opt_x[1]), linestyle='-', color='red')\n",
    "    ax.plot((opt_x[0], mu[0]), (opt_x[1], mu[1]), linestyle='-.', color='red')\n"
   ]
  },
  {
   "cell_type": "code",
   "execution_count": 18,
   "id": "ff0a30a5",
   "metadata": {},
   "outputs": [],
   "source": [
    "def optimization_out_of_the_boundary_square(side=1, outer_radius=2, start_x=(0,0)):\n",
    "    phi = np.random.uniform(low=0, high=2*np.pi*outer_radius) / outer_radius\n",
    "    x_circle = outer_radius * np.cos(phi)\n",
    "    y_circle = outer_radius * np.sin(phi)\n",
    "    \n",
    "    mu = np.array((x_circle, y_circle))\n",
    "    \n",
    "    G = functools.partial(neg_gaussian, mu=mu)\n",
    "    c1 = lambda x: side/2 - x[0]\n",
    "    c2 = lambda x: side/2 + x[0]\n",
    "    c3 = lambda x: side/2 - x[1]\n",
    "    c4 = lambda x: side/2 + x[1]\n",
    "\n",
    "    C = (c1, c2, c3, c4)\n",
    "\n",
    "    opt = Cobyla(start_x, G, C, rhoend=1e-12)\n",
    "    opt.run()\n",
    "    \n",
    "    return mu, opt"
   ]
  },
  {
   "cell_type": "code",
   "execution_count": 19,
   "id": "5186c520",
   "metadata": {},
   "outputs": [
    {
     "data": {
      "application/vnd.jupyter.widget-view+json": {
       "model_id": "ddee3ac7db624574bc6d346024cd2724",
       "version_major": 2,
       "version_minor": 0
      },
      "text/plain": [
       "Canvas(toolbar=Toolbar(toolitems=[('Home', 'Reset original view', 'home', 'home'), ('Back', 'Back to previous …"
      ]
     },
     "metadata": {},
     "output_type": "display_data"
    }
   ],
   "source": [
    "%matplotlib widget\n",
    "import matplotlib.pyplot as plt\n",
    "from matplotlib.patches import Rectangle\n",
    "\n",
    "side = 2\n",
    "outer_radius=2\n",
    "start_x = np.random.uniform(low=-1.5, high=1.5, size=2)\n",
    "\n",
    "mu, opt = optimization_out_of_the_boundary_square(side=side, outer_radius=outer_radius, start_x=start_x)\n",
    "\n",
    "plt.close('all')\n",
    "fig, ax = plt.subplots(figsize=(6, 6))\n",
    "ax.axis('equal')\n",
    "\n",
    "boundary = plt.Rectangle((-side/2, -side/2), side, side, color='mistyrose', fill=True)\n",
    "outer_circle = plt.Circle((0, 0), outter_radius, color='lightgrey', fill=False)\n",
    "ax.add_patch(boundary)\n",
    "ax.add_patch(outer_circle)\n",
    "\n",
    "\n",
    "ax.plot(*start_x, marker='o', color='blue')\n",
    "ax.plot(*opt.x, marker='o', color='orange')\n",
    "ax.plot(*mu, marker='*', color='limegreen')\n",
    "#ax.plot((start_x[0], opt.x[0]), (start_x[1], opt.x[1]), linestyle='-', color='red')\n",
    "ax.plot((opt.x[0], mu[0]), (opt.x[1], mu[1]), linestyle='-.', color='red')\n",
    "\n",
    "uv = (mu - opt.x)\n",
    "leftright = np.array((1,0)) @ uv\n",
    "updown = np.array((0,1)) @ uv"
   ]
  },
  {
   "cell_type": "code",
   "execution_count": 20,
   "id": "5cc743c7",
   "metadata": {},
   "outputs": [
    {
     "data": {
      "application/vnd.jupyter.widget-view+json": {
       "model_id": "b312b8be684c43649faf423c971bc784",
       "version_major": 2,
       "version_minor": 0
      },
      "text/plain": [
       "Canvas(toolbar=Toolbar(toolitems=[('Home', 'Reset original view', 'home', 'home'), ('Back', 'Back to previous …"
      ]
     },
     "metadata": {},
     "output_type": "display_data"
    }
   ],
   "source": [
    "%matplotlib widget\n",
    "import matplotlib.pyplot as plt\n",
    "from matplotlib.patches import Rectangle\n",
    "\n",
    "side = 2\n",
    "outer_radius=2\n",
    "start_x = np.zeros(2)\n",
    "\n",
    "n_targets = 10\n",
    "data = tuple(optimization_out_of_the_boundary_square(side=side, outer_radius=outer_radius, start_x=start_x) \n",
    "             for _ in range(n_targets))\n",
    "v_mu = np.array(tuple(mu for mu, opt in data))\n",
    "v_opt = np.array(tuple(opt.x for mu, opt in data))\n",
    "\n",
    "plt.close('all')\n",
    "fig, ax = plt.subplots(figsize=(6, 6))\n",
    "ax.axis('equal')\n",
    "\n",
    "boundary = plt.Rectangle((-side/2, -side/2), side, side, color='mistyrose', fill=True)\n",
    "outer_circle = plt.Circle((0, 0), outter_radius, color='lightgrey', fill=False)\n",
    "ax.add_patch(boundary)\n",
    "ax.add_patch(outer_circle)\n",
    "\n",
    "ax.plot(*start_x, marker='o', color='blue')\n",
    "ax.plot(v_opt[:, 0], v_opt[:, 1], linestyle='', marker='o', color='orange')\n",
    "ax.plot(v_mu[:, 0], v_mu[:, 1],  linestyle='', marker='*', color='limegreen')\n",
    "\n",
    "for mu, opt_x in zip(v_mu, v_opt):\n",
    "    #ax.plot((start_x[0], opt_x[0]), (start_x[1], opt_x[1]), linestyle='-', color='red')\n",
    "    ax.plot((opt_x[0], mu[0]), (opt_x[1], mu[1]), linestyle='-.', color='red')\n"
   ]
  }
 ],
 "metadata": {
  "kernelspec": {
   "display_name": "Python 3",
   "language": "python",
   "name": "python3"
  },
  "language_info": {
   "codemirror_mode": {
    "name": "ipython",
    "version": 3
   },
   "file_extension": ".py",
   "mimetype": "text/x-python",
   "name": "python",
   "nbconvert_exporter": "python",
   "pygments_lexer": "ipython3",
   "version": "3.8.3"
  }
 },
 "nbformat": 4,
 "nbformat_minor": 5
}
